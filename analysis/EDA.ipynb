{
 "cells": [
  {
   "cell_type": "markdown",
   "metadata": {},
   "source": [
    "# EDA for UFC Data"
   ]
  },
  {
   "cell_type": "markdown",
   "metadata": {},
   "source": [
    "#### EDA Steps\n",
    "1. Question (complete in project proposal)\n",
    "2. Read in data (complete)\n",
    "3. Check packaging (complete)\n",
    "4. Look at the Bottom and Top of your data (looked at head and tail)\n",
    "5. Check your \"n\"s (complete_\n",
    "6. Validate with at least one external data source (complete)\n",
    "7. Make a plot (complete)\n",
    "8. Try the easy solution first (complete)\n",
    "9. Follow up\n"
   ]
  },
  {
   "cell_type": "code",
   "execution_count": 1,
   "metadata": {},
   "outputs": [
    {
     "name": "stderr",
     "output_type": "stream",
     "text": [
      "-- \u001b[1mAttaching packages\u001b[22m --------------------------------------- tidyverse 1.2.1 --\n",
      "\n",
      "\u001b[32mv\u001b[39m \u001b[34mggplot2\u001b[39m 3.2.1     \u001b[32mv\u001b[39m \u001b[34mpurrr  \u001b[39m 0.3.2\n",
      "\u001b[32mv\u001b[39m \u001b[34mtibble \u001b[39m 2.1.3     \u001b[32mv\u001b[39m \u001b[34mdplyr  \u001b[39m 0.8.3\n",
      "\u001b[32mv\u001b[39m \u001b[34mtidyr  \u001b[39m 0.8.3     \u001b[32mv\u001b[39m \u001b[34mstringr\u001b[39m 1.4.0\n",
      "\u001b[32mv\u001b[39m \u001b[34mreadr  \u001b[39m 1.3.1     \u001b[32mv\u001b[39m \u001b[34mforcats\u001b[39m 0.4.0\n",
      "\n",
      "-- \u001b[1mConflicts\u001b[22m ------------------------------------------ tidyverse_conflicts() --\n",
      "\u001b[31mx\u001b[39m \u001b[34mdplyr\u001b[39m::\u001b[32mfilter()\u001b[39m masks \u001b[34mstats\u001b[39m::filter()\n",
      "\u001b[31mx\u001b[39m \u001b[34mdplyr\u001b[39m::\u001b[32mlag()\u001b[39m    masks \u001b[34mstats\u001b[39m::lag()\n",
      "\n",
      "\n",
      "Attaching package: 'lubridate'\n",
      "\n",
      "\n",
      "The following object is masked from 'package:base':\n",
      "\n",
      "    date\n",
      "\n",
      "\n"
     ]
    }
   ],
   "source": [
    "# Load the necessary packages\n",
    "library(tidyverse)\n",
    "library(lubridate)"
   ]
  },
  {
   "cell_type": "markdown",
   "metadata": {},
   "source": [
    "### 1. Question\n",
    "\n",
    "Predictive main question:\n",
    "\n",
    "For fights that do not end in submission or TKO, what are the strongest predictors of who will win?\n",
    "\n",
    "This is a predictive question.\n",
    "\n",
    "Some natural questions that stem from the main research question are:\n",
    "\n",
    "Do judges award higher scores for striking (e.g. punching and kicking) over grappling (e.g. wrestling and submission attempts)?\n",
    "Do judges consistnely value the same criteria?\n",
    "Do judges consider other factors such as the fighters win streak or size?\n",
    "\n",
    "Read the [README](https://github.com/UBC-MDS/DSCI522_group315) of the Project repo for a further explanation."
   ]
  },
  {
   "cell_type": "markdown",
   "metadata": {},
   "source": [
    "### 2. Read in Data"
   ]
  },
  {
   "cell_type": "code",
   "execution_count": 2,
   "metadata": {},
   "outputs": [],
   "source": [
    "# 2. Read in data into jupyter\n",
    "read_data <- read.csv(\"https://github.com/SamEdwardes/ufc-data/raw/master/data.csv\")"
   ]
  },
  {
   "cell_type": "markdown",
   "metadata": {},
   "source": [
    "### 3. Check Packaging"
   ]
  },
  {
   "cell_type": "code",
   "execution_count": 3,
   "metadata": {},
   "outputs": [
    {
     "name": "stdout",
     "output_type": "stream",
     "text": [
      "[1] 5144\n",
      "[1] 145\n"
     ]
    }
   ],
   "source": [
    "# 3. Check initial rows and columns (\"n's\"). These match what is in the csv file. \n",
    "print(nrow(read_data))\n",
    "print(ncol(read_data))"
   ]
  },
  {
   "cell_type": "markdown",
   "metadata": {},
   "source": [
    "**Insights:**\n",
    "- This matches what I expect from the csv as the number of rows and columns match when I check the csv document. "
   ]
  },
  {
   "cell_type": "markdown",
   "metadata": {},
   "source": [
    "### 4 Look at the Bottom and Top of your data"
   ]
  },
  {
   "cell_type": "code",
   "execution_count": 4,
   "metadata": {},
   "outputs": [
    {
     "data": {
      "text/html": [
       "<table>\n",
       "<caption>A data.frame: 6 × 145</caption>\n",
       "<thead>\n",
       "\t<tr><th scope=col>R_fighter</th><th scope=col>B_fighter</th><th scope=col>Referee</th><th scope=col>date</th><th scope=col>location</th><th scope=col>Winner</th><th scope=col>title_bout</th><th scope=col>weight_class</th><th scope=col>no_of_rounds</th><th scope=col>B_current_lose_streak</th><th scope=col>...</th><th scope=col>R_win_by_KO.TKO</th><th scope=col>R_win_by_Submission</th><th scope=col>R_win_by_TKO_Doctor_Stoppage</th><th scope=col>R_wins</th><th scope=col>R_Stance</th><th scope=col>R_Height_cms</th><th scope=col>R_Reach_cms</th><th scope=col>R_Weight_lbs</th><th scope=col>B_age</th><th scope=col>R_age</th></tr>\n",
       "\t<tr><th scope=col>&lt;fct&gt;</th><th scope=col>&lt;fct&gt;</th><th scope=col>&lt;fct&gt;</th><th scope=col>&lt;fct&gt;</th><th scope=col>&lt;fct&gt;</th><th scope=col>&lt;fct&gt;</th><th scope=col>&lt;fct&gt;</th><th scope=col>&lt;fct&gt;</th><th scope=col>&lt;int&gt;</th><th scope=col>&lt;dbl&gt;</th><th scope=col>...</th><th scope=col>&lt;dbl&gt;</th><th scope=col>&lt;dbl&gt;</th><th scope=col>&lt;dbl&gt;</th><th scope=col>&lt;dbl&gt;</th><th scope=col>&lt;fct&gt;</th><th scope=col>&lt;dbl&gt;</th><th scope=col>&lt;dbl&gt;</th><th scope=col>&lt;dbl&gt;</th><th scope=col>&lt;dbl&gt;</th><th scope=col>&lt;dbl&gt;</th></tr>\n",
       "</thead>\n",
       "<tbody>\n",
       "\t<tr><td>Henry Cejudo        </td><td>Marlon Moraes </td><td>Marc Goddard   </td><td>2019-06-08</td><td>Chicago, Illinois, USA</td><td>Red </td><td>True </td><td>Bantamweight       </td><td>5</td><td>0</td><td>...</td><td>2</td><td>0</td><td>0</td><td> 8</td><td>Orthodox</td><td>162.56</td><td>162.56</td><td>135</td><td>31</td><td>32</td></tr>\n",
       "\t<tr><td>Valentina Shevchenko</td><td>Jessica Eye   </td><td>Robert Madrigal</td><td>2019-06-08</td><td>Chicago, Illinois, USA</td><td>Red </td><td>True </td><td>Women's Flyweight  </td><td>5</td><td>0</td><td>...</td><td>0</td><td>2</td><td>0</td><td> 5</td><td>Southpaw</td><td>165.10</td><td>167.64</td><td>125</td><td>32</td><td>31</td></tr>\n",
       "\t<tr><td>Tony Ferguson       </td><td>Donald Cerrone</td><td>Dan Miragliotta</td><td>2019-06-08</td><td>Chicago, Illinois, USA</td><td>Red </td><td>False</td><td>Lightweight        </td><td>3</td><td>0</td><td>...</td><td>3</td><td>6</td><td>1</td><td>14</td><td>Orthodox</td><td>180.34</td><td>193.04</td><td>155</td><td>36</td><td>35</td></tr>\n",
       "\t<tr><td>Jimmie Rivera       </td><td>Petr Yan      </td><td>Kevin MacDonald</td><td>2019-06-08</td><td>Chicago, Illinois, USA</td><td>Blue</td><td>False</td><td>Bantamweight       </td><td>3</td><td>0</td><td>...</td><td>1</td><td>0</td><td>0</td><td> 6</td><td>Orthodox</td><td>162.56</td><td>172.72</td><td>135</td><td>26</td><td>29</td></tr>\n",
       "\t<tr><td>Tai Tuivasa         </td><td>Blagoy Ivanov </td><td>Dan Miragliotta</td><td>2019-06-08</td><td>Chicago, Illinois, USA</td><td>Blue</td><td>False</td><td>Heavyweight        </td><td>3</td><td>0</td><td>...</td><td>2</td><td>0</td><td>0</td><td> 3</td><td>Southpaw</td><td>187.96</td><td>190.50</td><td>264</td><td>32</td><td>26</td></tr>\n",
       "\t<tr><td>Tatiana Suarez      </td><td>Nina Ansaroff </td><td>Robert Madrigal</td><td>2019-06-08</td><td>Chicago, Illinois, USA</td><td>Red </td><td>False</td><td>Women's Strawweight</td><td>3</td><td>0</td><td>...</td><td>1</td><td>2</td><td>0</td><td> 4</td><td>        </td><td>165.10</td><td>167.64</td><td>115</td><td>33</td><td>28</td></tr>\n",
       "</tbody>\n",
       "</table>\n"
      ],
      "text/latex": [
       "A data.frame: 6 × 145\n",
       "\\begin{tabular}{r|lllllllllllllllllllllllllllllllllllllllllllllllllllllllllllllllllllllllllllllllllllllllllllllllllllllllllllllllllllllllllllllllllllllllllllllllll}\n",
       " R\\_fighter & B\\_fighter & Referee & date & location & Winner & title\\_bout & weight\\_class & no\\_of\\_rounds & B\\_current\\_lose\\_streak & B\\_current\\_win\\_streak & B\\_draw & B\\_avg\\_BODY\\_att & B\\_avg\\_BODY\\_landed & B\\_avg\\_CLINCH\\_att & B\\_avg\\_CLINCH\\_landed & B\\_avg\\_DISTANCE\\_att & B\\_avg\\_DISTANCE\\_landed & B\\_avg\\_GROUND\\_att & B\\_avg\\_GROUND\\_landed & B\\_avg\\_HEAD\\_att & B\\_avg\\_HEAD\\_landed & B\\_avg\\_KD & B\\_avg\\_LEG\\_att & B\\_avg\\_LEG\\_landed & B\\_avg\\_PASS & B\\_avg\\_REV & B\\_avg\\_SIG\\_STR\\_att & B\\_avg\\_SIG\\_STR\\_landed & B\\_avg\\_SIG\\_STR\\_pct & B\\_avg\\_SUB\\_ATT & B\\_avg\\_TD\\_att & B\\_avg\\_TD\\_landed & B\\_avg\\_TD\\_pct & B\\_avg\\_TOTAL\\_STR\\_att & B\\_avg\\_TOTAL\\_STR\\_landed & B\\_longest\\_win\\_streak & B\\_losses & B\\_avg\\_opp\\_BODY\\_att & B\\_avg\\_opp\\_BODY\\_landed & B\\_avg\\_opp\\_CLINCH\\_att & B\\_avg\\_opp\\_CLINCH\\_landed & B\\_avg\\_opp\\_DISTANCE\\_att & B\\_avg\\_opp\\_DISTANCE\\_landed & B\\_avg\\_opp\\_GROUND\\_att & B\\_avg\\_opp\\_GROUND\\_landed & B\\_avg\\_opp\\_HEAD\\_att & B\\_avg\\_opp\\_HEAD\\_landed & B\\_avg\\_opp\\_KD & B\\_avg\\_opp\\_LEG\\_att & B\\_avg\\_opp\\_LEG\\_landed & B\\_avg\\_opp\\_PASS & B\\_avg\\_opp\\_REV & B\\_avg\\_opp\\_SIG\\_STR\\_att & B\\_avg\\_opp\\_SIG\\_STR\\_landed & B\\_avg\\_opp\\_SIG\\_STR\\_pct & B\\_avg\\_opp\\_SUB\\_ATT & B\\_avg\\_opp\\_TD\\_att & B\\_avg\\_opp\\_TD\\_landed & B\\_avg\\_opp\\_TD\\_pct & B\\_avg\\_opp\\_TOTAL\\_STR\\_att & B\\_avg\\_opp\\_TOTAL\\_STR\\_landed & B\\_total\\_rounds\\_fought & B\\_total\\_time\\_fought.seconds. & B\\_total\\_title\\_bouts & B\\_win\\_by\\_Decision\\_Majority & B\\_win\\_by\\_Decision\\_Split & B\\_win\\_by\\_Decision\\_Unanimous & B\\_win\\_by\\_KO.TKO & B\\_win\\_by\\_Submission & B\\_win\\_by\\_TKO\\_Doctor\\_Stoppage & B\\_wins & B\\_Stance & B\\_Height\\_cms & B\\_Reach\\_cms & B\\_Weight\\_lbs & R\\_current\\_lose\\_streak & R\\_current\\_win\\_streak & R\\_draw & R\\_avg\\_BODY\\_att & R\\_avg\\_BODY\\_landed & R\\_avg\\_CLINCH\\_att & R\\_avg\\_CLINCH\\_landed & R\\_avg\\_DISTANCE\\_att & R\\_avg\\_DISTANCE\\_landed & R\\_avg\\_GROUND\\_att & R\\_avg\\_GROUND\\_landed & R\\_avg\\_HEAD\\_att & R\\_avg\\_HEAD\\_landed & R\\_avg\\_KD & R\\_avg\\_LEG\\_att & R\\_avg\\_LEG\\_landed & R\\_avg\\_PASS & R\\_avg\\_REV & R\\_avg\\_SIG\\_STR\\_att & R\\_avg\\_SIG\\_STR\\_landed & R\\_avg\\_SIG\\_STR\\_pct & R\\_avg\\_SUB\\_ATT & R\\_avg\\_TD\\_att & R\\_avg\\_TD\\_landed & R\\_avg\\_TD\\_pct & R\\_avg\\_TOTAL\\_STR\\_att & R\\_avg\\_TOTAL\\_STR\\_landed & R\\_longest\\_win\\_streak & R\\_losses & R\\_avg\\_opp\\_BODY\\_att & R\\_avg\\_opp\\_BODY\\_landed & R\\_avg\\_opp\\_CLINCH\\_att & R\\_avg\\_opp\\_CLINCH\\_landed & R\\_avg\\_opp\\_DISTANCE\\_att & R\\_avg\\_opp\\_DISTANCE\\_landed & R\\_avg\\_opp\\_GROUND\\_att & R\\_avg\\_opp\\_GROUND\\_landed & R\\_avg\\_opp\\_HEAD\\_att & R\\_avg\\_opp\\_HEAD\\_landed & R\\_avg\\_opp\\_KD & R\\_avg\\_opp\\_LEG\\_att & R\\_avg\\_opp\\_LEG\\_landed & R\\_avg\\_opp\\_PASS & R\\_avg\\_opp\\_REV & R\\_avg\\_opp\\_SIG\\_STR\\_att & R\\_avg\\_opp\\_SIG\\_STR\\_landed & R\\_avg\\_opp\\_SIG\\_STR\\_pct & R\\_avg\\_opp\\_SUB\\_ATT & R\\_avg\\_opp\\_TD\\_att & R\\_avg\\_opp\\_TD\\_landed & R\\_avg\\_opp\\_TD\\_pct & R\\_avg\\_opp\\_TOTAL\\_STR\\_att & R\\_avg\\_opp\\_TOTAL\\_STR\\_landed & R\\_total\\_rounds\\_fought & R\\_total\\_time\\_fought.seconds. & R\\_total\\_title\\_bouts & R\\_win\\_by\\_Decision\\_Majority & R\\_win\\_by\\_Decision\\_Split & R\\_win\\_by\\_Decision\\_Unanimous & R\\_win\\_by\\_KO.TKO & R\\_win\\_by\\_Submission & R\\_win\\_by\\_TKO\\_Doctor\\_Stoppage & R\\_wins & R\\_Stance & R\\_Height\\_cms & R\\_Reach\\_cms & R\\_Weight\\_lbs & B\\_age & R\\_age\\\\\n",
       " <fct> & <fct> & <fct> & <fct> & <fct> & <fct> & <fct> & <fct> & <int> & <dbl> & <dbl> & <dbl> & <dbl> & <dbl> & <dbl> & <dbl> & <dbl> & <dbl> & <dbl> & <dbl> & <dbl> & <dbl> & <dbl> & <dbl> & <dbl> & <dbl> & <dbl> & <dbl> & <dbl> & <dbl> & <dbl> & <dbl> & <dbl> & <dbl> & <dbl> & <dbl> & <dbl> & <dbl> & <dbl> & <dbl> & <dbl> & <dbl> & <dbl> & <dbl> & <dbl> & <dbl> & <dbl> & <dbl> & <dbl> & <dbl> & <dbl> & <dbl> & <dbl> & <dbl> & <dbl> & <dbl> & <dbl> & <dbl> & <dbl> & <dbl> & <dbl> & <dbl> & <dbl> & <dbl> & <dbl> & <dbl> & <dbl> & <dbl> & <dbl> & <dbl> & <dbl> & <dbl> & <fct> & <dbl> & <dbl> & <dbl> & <dbl> & <dbl> & <dbl> & <dbl> & <dbl> & <dbl> & <dbl> & <dbl> & <dbl> & <dbl> & <dbl> & <dbl> & <dbl> & <dbl> & <dbl> & <dbl> & <dbl> & <dbl> & <dbl> & <dbl> & <dbl> & <dbl> & <dbl> & <dbl> & <dbl> & <dbl> & <dbl> & <dbl> & <dbl> & <dbl> & <dbl> & <dbl> & <dbl> & <dbl> & <dbl> & <dbl> & <dbl> & <dbl> & <dbl> & <dbl> & <dbl> & <dbl> & <dbl> & <dbl> & <dbl> & <dbl> & <dbl> & <dbl> & <dbl> & <dbl> & <dbl> & <dbl> & <dbl> & <dbl> & <dbl> & <dbl> & <dbl> & <dbl> & <dbl> & <dbl> & <dbl> & <dbl> & <dbl> & <fct> & <dbl> & <dbl> & <dbl> & <dbl> & <dbl>\\\\\n",
       "\\hline\n",
       "\t Henry Cejudo         & Marlon Moraes  & Marc Goddard    & 2019-06-08 & Chicago, Illinois, USA & Red  & True  & Bantamweight        & 5 & 0 & 4 & 0 &  9.20000 &  6.00000 &  0.200000 &  0.000000 &  62.60000 & 20.60000 &  2.600000 &  2.000000 &  48.60000 & 11.20000 & 0.8000000 &  7.60000 &  5.40000 & 0.4000000 & 0.00000000 &  65.4000 & 22.60000 & 0.466000 & 0.4000000 & 0.8000000 & 0.2000000 & 0.1000000 &  66.4000 & 23.60000 & 4 & 1 &  6.40000 &  4.000000 &  1.000000 & 0.60000 &  51.20000 & 17.40000 & 0.600000 & 0.2000000 &  39.60000 &  9.40000 & 0.2000000 &  6.80000 &  4.800000 & 0.00000000 & 0.00000000 &  52.80000 & 18.20000 & 0.2360000 & 0.00000000 & 1.000000 & 0.4000000 & 0.10000000 &  53.8000 & 19.20000 &  9 &  419.400 & 0 & 0 & 1 & 0 &  2 & 1 & 0 &  4 & Orthodox & 167.64 & 170.18 & 135 & 0 &  4 & 0 & 21.90000 & 16.400000 & 17.000000 & 11.000000 &  75.00000 & 26.50000 &  9.400000 &  6.500000 & 74.20000 & 23.90 & 0.400 &  5.30000 &  3.70000 & 1.2000000 & 0.0000000 & 101.4000 & 44.00000 & 0.4660000 & 0.1000000 & 5.3000000 & 1.900000 & 0.4580000 & 129.9000 &  69.1000 &  4 & 2 & 13.30000 &  8.800000 &  7.50000 & 5.1000000 &  90.50000 & 26.80000 & 0.800000 & 0.300000 & 76.10000 & 17.30000 & 0.1000000 &  9.40000 &  6.10000 & 0.0000000 & 0.0000000 &  98.80000 & 32.20000 & 0.3360000 & 0.00000000 & 0.900000 & 0.1000000 & 0.0500000 & 110.5000 & 43.30000 & 27 &  742.60 & 3 & 0 & 2 & 4 & 2 & 0 & 0 &  8 & Orthodox & 162.56 & 162.56 & 135 & 31 & 32\\\\\n",
       "\t Valentina Shevchenko & Jessica Eye    & Robert Madrigal & 2019-06-08 & Chicago, Illinois, USA & Red  & True  & Women's Flyweight   & 5 & 0 & 3 & 0 & 14.60000 &  9.10000 & 11.800000 &  7.300000 & 124.70000 & 42.10000 &  2.400000 &  1.900000 & 112.00000 & 32.00000 & 0.0000000 & 12.30000 & 10.20000 & 0.8000000 & 0.00000000 & 138.9000 & 51.30000 & 0.399000 & 0.7000000 & 1.0000000 & 0.5000000 & 0.2250000 & 158.7000 & 69.60000 & 3 & 6 & 13.00000 &  9.300000 & 12.800000 & 9.60000 & 101.70000 & 32.00000 & 8.100000 & 6.9000000 &  97.70000 & 30.80000 & 0.1000000 & 11.90000 &  8.400000 & 1.40000000 & 0.00000000 & 122.60000 & 48.50000 & 0.4080000 & 0.70000000 & 2.300000 & 0.9000000 & 0.23100000 & 151.5000 & 75.40000 & 29 &  849.000 & 0 & 0 & 2 & 1 &  0 & 0 & 1 &  4 & Orthodox & 167.64 & 167.64 & 125 & 0 &  2 & 0 & 12.00000 &  7.714286 &  9.285714 &  6.857143 &  88.14286 & 36.14286 & 18.428571 & 16.428571 & 84.57143 & 37.00 & 0.000 & 19.28571 & 14.71429 & 1.7142857 & 0.1428571 & 115.8571 & 59.42857 & 0.5757143 & 0.4285714 & 5.1428571 & 2.428571 & 0.6014286 & 161.5714 & 102.8571 &  2 & 2 & 24.57143 & 14.142857 & 10.57143 & 7.8571429 &  98.57143 & 32.57143 & 6.428571 & 4.285714 & 61.85714 & 12.42857 & 0.0000000 & 29.14286 & 18.14286 & 1.1428571 & 0.0000000 & 115.57143 & 44.71429 & 0.4371429 & 0.28571429 & 3.285714 & 0.8571429 & 0.1471429 & 158.1429 & 82.28571 & 25 & 1062.00 & 2 & 0 & 1 & 2 & 0 & 2 & 0 &  5 & Southpaw & 165.10 & 167.64 & 125 & 32 & 31\\\\\n",
       "\t Tony Ferguson        & Donald Cerrone & Dan Miragliotta & 2019-06-08 & Chicago, Illinois, USA & Red  & False & Lightweight         & 3 & 0 & 3 & 0 & 15.35484 & 11.32258 &  6.741935 &  4.387097 &  84.74194 & 38.58065 &  5.516129 &  3.806452 &  67.64516 & 23.25806 & 0.6451613 & 14.00000 & 12.19355 & 0.9354839 & 0.09677419 &  97.0000 & 46.77419 & 0.496129 & 0.3548387 & 2.1612903 & 0.6774194 & 0.2954839 & 103.7097 & 52.54839 & 8 & 8 & 17.90323 & 11.870968 &  8.419355 & 5.83871 &  84.54839 & 38.06452 & 1.741935 & 0.9354839 &  67.64516 & 25.48387 & 0.2258065 &  9.16129 &  7.483871 & 0.03225806 & 0.03225806 &  94.70968 & 44.83871 & 0.4532258 & 0.09677419 & 2.096774 & 0.2258065 & 0.06354839 & 100.3871 & 49.77419 & 68 &  581.871 & 1 & 0 & 0 & 7 & 10 & 6 & 0 & 23 & Orthodox & 185.42 & 185.42 & 155 & 0 & 11 & 0 & 13.86667 &  8.666667 &  2.866667 &  1.733333 & 116.13333 & 49.46667 &  5.333333 &  4.266667 & 96.73333 & 35.60 & 0.200 & 13.73333 & 11.20000 & 0.3333333 & 0.1333333 & 124.3333 & 55.46667 & 0.4300000 & 1.0000000 & 0.9333333 & 0.400000 & 0.2773333 & 133.0000 &  63.4000 & 11 & 1 & 14.46667 &  8.133333 &  2.80000 & 0.7333333 &  91.06667 & 32.20000 & 4.866667 & 2.800000 & 78.26667 & 23.20000 & 0.2666667 &  6.00000 &  4.40000 & 0.3333333 & 0.1333333 &  98.73333 & 35.73333 & 0.3400000 & 0.06666667 & 2.866667 & 0.6666667 & 0.1313333 & 102.1333 & 38.60000 & 33 &  604.40 & 2 & 0 & 1 & 3 & 3 & 6 & 1 & 14 & Orthodox & 180.34 & 193.04 & 155 & 36 & 35\\\\\n",
       "\t Jimmie Rivera        & Petr Yan       & Kevin MacDonald & 2019-06-08 & Chicago, Illinois, USA & Blue & False & Bantamweight        & 3 & 0 & 4 & 0 & 17.00000 & 14.00000 & 13.750000 & 11.000000 & 109.50000 & 48.75000 & 13.000000 & 10.500000 & 116.25000 & 53.75000 & 0.5000000 &  3.00000 &  2.50000 & 0.5000000 & 0.25000000 & 136.2500 & 70.25000 & 0.550000 & 0.2500000 & 2.5000000 & 1.2500000 & 0.2875000 & 154.7500 & 86.75000 & 4 & 0 & 12.25000 &  6.000000 &  6.000000 & 3.75000 &  94.25000 & 26.75000 & 1.750000 & 1.2500000 &  82.50000 & 21.50000 & 0.2500000 &  7.25000 &  4.250000 & 0.00000000 & 0.00000000 & 102.00000 & 31.75000 & 0.3375000 & 0.00000000 & 4.500000 & 0.7500000 & 0.09750000 & 104.7500 & 34.25000 &  9 &  652.000 & 0 & 0 & 0 & 2 &  2 & 0 & 0 &  4 & Switch   & 170.18 & 170.18 & 135 & 1 &  0 & 0 & 18.25000 & 10.250000 &  5.875000 &  4.125000 & 104.87500 & 41.00000 &  1.000000 &  0.625000 & 80.50000 & 24.00 & 0.375 & 13.00000 & 11.50000 & 0.1250000 & 0.0000000 & 111.7500 & 45.75000 & 0.3662500 & 0.0000000 & 2.2500000 & 0.625000 & 0.1037500 & 117.3750 &  50.7500 &  5 & 2 & 20.25000 & 13.375000 &  6.87500 & 5.6250000 & 103.12500 & 38.50000 & 0.875000 & 0.750000 & 77.37500 & 20.37500 & 0.1250000 & 13.25000 & 11.12500 & 0.0000000 & 0.0000000 & 110.87500 & 44.87500 & 0.4462500 & 0.00000000 & 2.375000 & 0.0000000 & 0.0000000 & 115.1250 & 48.87500 & 20 &  690.25 & 0 & 0 & 1 & 4 & 1 & 0 & 0 &  6 & Orthodox & 162.56 & 172.72 & 135 & 26 & 29\\\\\n",
       "\t Tai Tuivasa          & Blagoy Ivanov  & Dan Miragliotta & 2019-06-08 & Chicago, Illinois, USA & Blue & False & Heavyweight         & 3 & 0 & 1 & 0 & 17.00000 & 14.50000 &  2.500000 &  2.000000 & 201.00000 & 59.50000 &  0.000000 &  0.000000 & 184.50000 & 45.00000 & 0.0000000 &  2.00000 &  2.00000 & 0.0000000 & 0.00000000 & 203.5000 & 61.50000 & 0.310000 & 0.0000000 & 0.0000000 & 0.0000000 & 0.0000000 & 204.0000 & 62.00000 & 1 & 1 & 42.50000 & 23.500000 &  0.500000 & 0.50000 & 205.00000 & 89.50000 & 0.000000 & 0.0000000 & 152.50000 & 56.50000 & 0.0000000 & 10.50000 & 10.000000 & 0.00000000 & 0.00000000 & 205.50000 & 90.00000 & 0.4300000 & 0.00000000 & 0.500000 & 0.0000000 & 0.00000000 & 205.5000 & 90.00000 &  8 & 1200.000 & 0 & 0 & 0 & 1 &  0 & 0 & 0 &  1 & Southpaw & 180.34 & 185.42 & 250 & 1 &  0 & 0 &  7.75000 &  6.750000 & 11.000000 &  7.250000 &  50.75000 & 24.75000 &  0.500000 &  0.500000 & 50.75000 & 22.75 & 0.500 &  3.75000 &  3.00000 & 0.2500000 & 0.0000000 &  62.2500 & 32.50000 & 0.5450000 & 0.0000000 & 0.5000000 & 0.000000 & 0.0000000 &  63.5000 &  32.7500 &  3 & 1 &  6.25000 &  4.750000 &  4.50000 & 3.5000000 &  42.75000 & 16.25000 & 7.750000 & 2.750000 & 43.25000 & 14.00000 & 0.2500000 &  5.50000 &  3.75000 & 0.7500000 & 0.0000000 &  55.00000 & 22.50000 & 0.3975000 & 0.00000000 & 1.000000 & 0.0000000 & 0.0000000 &  60.5000 & 27.75000 &  7 &  440.75 & 0 & 0 & 0 & 1 & 2 & 0 & 0 &  3 & Southpaw & 187.96 & 190.50 & 264 & 32 & 26\\\\\n",
       "\t Tatiana Suarez       & Nina Ansaroff  & Robert Madrigal & 2019-06-08 & Chicago, Illinois, USA & Red  & False & Women's Strawweight & 3 & 0 & 4 & 0 & 19.50000 & 12.33333 & 11.833333 &  7.166667 & 142.33333 & 63.83333 &  6.000000 &  4.166667 & 117.83333 & 42.66667 & 0.0000000 & 22.83333 & 20.16667 & 1.3333333 & 0.16666667 & 160.1667 & 75.16667 & 0.470000 & 0.6666667 & 0.8333333 & 0.3333333 & 0.2500000 & 183.5000 & 95.66667 & 4 & 2 & 12.00000 &  7.333333 &  9.666667 & 7.00000 &  95.16667 & 38.33333 & 5.166667 & 3.5000000 &  86.66667 & 33.16667 & 0.0000000 & 11.33333 &  8.333333 & 1.50000000 & 0.16666667 & 110.00000 & 48.83333 & 0.4266667 & 0.00000000 & 6.000000 & 1.1666667 & 0.14000000 & 131.5000 & 68.66667 & 18 &  886.500 & 0 & 0 & 0 & 3 &  0 & 1 & 0 &  4 & Orthodox & 165.10 & 162.56 & 115 & 0 &  4 & 0 &  8.75000 &  7.500000 &  3.000000 &  2.250000 &  12.75000 &  4.75000 & 42.250000 & 35.750000 & 44.75000 & 31.25 & 0.000 &  4.50000 &  4.00000 & 7.7500000 & 0.0000000 &  58.0000 & 42.75000 & 0.6375000 & 0.5000000 & 5.5000000 & 4.500000 & 0.8175000 & 101.5000 &  80.5000 &  4 & 0 &  3.00000 &  2.250000 &  3.50000 & 3.0000000 &   5.75000 &  2.00000 & 2.000000 & 1.500000 &  8.00000 &  4.00000 & 0.0000000 &  0.25000 &  0.25000 & 0.0000000 & 0.5000000 &  11.25000 &  6.50000 & 0.5400000 & 0.75000000 & 0.500000 & 0.0000000 & 0.0000000 &  38.0000 & 26.50000 &  8 &  540.00 & 1 & 0 & 0 & 1 & 1 & 2 & 0 &  4 &          & 165.10 & 167.64 & 115 & 33 & 28\\\\\n",
       "\\end{tabular}\n"
      ],
      "text/markdown": [
       "\n",
       "A data.frame: 6 × 145\n",
       "\n",
       "| R_fighter &lt;fct&gt; | B_fighter &lt;fct&gt; | Referee &lt;fct&gt; | date &lt;fct&gt; | location &lt;fct&gt; | Winner &lt;fct&gt; | title_bout &lt;fct&gt; | weight_class &lt;fct&gt; | no_of_rounds &lt;int&gt; | B_current_lose_streak &lt;dbl&gt; | ... ... | R_win_by_KO.TKO &lt;dbl&gt; | R_win_by_Submission &lt;dbl&gt; | R_win_by_TKO_Doctor_Stoppage &lt;dbl&gt; | R_wins &lt;dbl&gt; | R_Stance &lt;fct&gt; | R_Height_cms &lt;dbl&gt; | R_Reach_cms &lt;dbl&gt; | R_Weight_lbs &lt;dbl&gt; | B_age &lt;dbl&gt; | R_age &lt;dbl&gt; |\n",
       "|---|---|---|---|---|---|---|---|---|---|---|---|---|---|---|---|---|---|---|---|---|\n",
       "| Henry Cejudo         | Marlon Moraes  | Marc Goddard    | 2019-06-08 | Chicago, Illinois, USA | Red  | True  | Bantamweight        | 5 | 0 | ... | 2 | 0 | 0 |  8 | Orthodox | 162.56 | 162.56 | 135 | 31 | 32 |\n",
       "| Valentina Shevchenko | Jessica Eye    | Robert Madrigal | 2019-06-08 | Chicago, Illinois, USA | Red  | True  | Women's Flyweight   | 5 | 0 | ... | 0 | 2 | 0 |  5 | Southpaw | 165.10 | 167.64 | 125 | 32 | 31 |\n",
       "| Tony Ferguson        | Donald Cerrone | Dan Miragliotta | 2019-06-08 | Chicago, Illinois, USA | Red  | False | Lightweight         | 3 | 0 | ... | 3 | 6 | 1 | 14 | Orthodox | 180.34 | 193.04 | 155 | 36 | 35 |\n",
       "| Jimmie Rivera        | Petr Yan       | Kevin MacDonald | 2019-06-08 | Chicago, Illinois, USA | Blue | False | Bantamweight        | 3 | 0 | ... | 1 | 0 | 0 |  6 | Orthodox | 162.56 | 172.72 | 135 | 26 | 29 |\n",
       "| Tai Tuivasa          | Blagoy Ivanov  | Dan Miragliotta | 2019-06-08 | Chicago, Illinois, USA | Blue | False | Heavyweight         | 3 | 0 | ... | 2 | 0 | 0 |  3 | Southpaw | 187.96 | 190.50 | 264 | 32 | 26 |\n",
       "| Tatiana Suarez       | Nina Ansaroff  | Robert Madrigal | 2019-06-08 | Chicago, Illinois, USA | Red  | False | Women's Strawweight | 3 | 0 | ... | 1 | 2 | 0 |  4 | <!----> | 165.10 | 167.64 | 115 | 33 | 28 |\n",
       "\n"
      ],
      "text/plain": [
       "  R_fighter            B_fighter      Referee         date      \n",
       "1 Henry Cejudo         Marlon Moraes  Marc Goddard    2019-06-08\n",
       "2 Valentina Shevchenko Jessica Eye    Robert Madrigal 2019-06-08\n",
       "3 Tony Ferguson        Donald Cerrone Dan Miragliotta 2019-06-08\n",
       "4 Jimmie Rivera        Petr Yan       Kevin MacDonald 2019-06-08\n",
       "5 Tai Tuivasa          Blagoy Ivanov  Dan Miragliotta 2019-06-08\n",
       "6 Tatiana Suarez       Nina Ansaroff  Robert Madrigal 2019-06-08\n",
       "  location               Winner title_bout weight_class        no_of_rounds\n",
       "1 Chicago, Illinois, USA Red    True       Bantamweight        5           \n",
       "2 Chicago, Illinois, USA Red    True       Women's Flyweight   5           \n",
       "3 Chicago, Illinois, USA Red    False      Lightweight         3           \n",
       "4 Chicago, Illinois, USA Blue   False      Bantamweight        3           \n",
       "5 Chicago, Illinois, USA Blue   False      Heavyweight         3           \n",
       "6 Chicago, Illinois, USA Red    False      Women's Strawweight 3           \n",
       "  B_current_lose_streak ... R_win_by_KO.TKO R_win_by_Submission\n",
       "1 0                     ... 2               0                  \n",
       "2 0                     ... 0               2                  \n",
       "3 0                     ... 3               6                  \n",
       "4 0                     ... 1               0                  \n",
       "5 0                     ... 2               0                  \n",
       "6 0                     ... 1               2                  \n",
       "  R_win_by_TKO_Doctor_Stoppage R_wins R_Stance R_Height_cms R_Reach_cms\n",
       "1 0                             8     Orthodox 162.56       162.56     \n",
       "2 0                             5     Southpaw 165.10       167.64     \n",
       "3 1                            14     Orthodox 180.34       193.04     \n",
       "4 0                             6     Orthodox 162.56       172.72     \n",
       "5 0                             3     Southpaw 187.96       190.50     \n",
       "6 0                             4              165.10       167.64     \n",
       "  R_Weight_lbs B_age R_age\n",
       "1 135          31    32   \n",
       "2 125          32    31   \n",
       "3 155          36    35   \n",
       "4 135          26    29   \n",
       "5 264          32    26   \n",
       "6 115          33    28   "
      ]
     },
     "metadata": {},
     "output_type": "display_data"
    }
   ],
   "source": [
    "# 4. Inspect head of data to see if it reading in properly. \n",
    "head(read_data)"
   ]
  },
  {
   "cell_type": "code",
   "execution_count": 5,
   "metadata": {},
   "outputs": [
    {
     "data": {
      "text/html": [
       "<table>\n",
       "<caption>A data.frame: 6 × 145</caption>\n",
       "<thead>\n",
       "\t<tr><th></th><th scope=col>R_fighter</th><th scope=col>B_fighter</th><th scope=col>Referee</th><th scope=col>date</th><th scope=col>location</th><th scope=col>Winner</th><th scope=col>title_bout</th><th scope=col>weight_class</th><th scope=col>no_of_rounds</th><th scope=col>B_current_lose_streak</th><th scope=col>...</th><th scope=col>R_win_by_KO.TKO</th><th scope=col>R_win_by_Submission</th><th scope=col>R_win_by_TKO_Doctor_Stoppage</th><th scope=col>R_wins</th><th scope=col>R_Stance</th><th scope=col>R_Height_cms</th><th scope=col>R_Reach_cms</th><th scope=col>R_Weight_lbs</th><th scope=col>B_age</th><th scope=col>R_age</th></tr>\n",
       "\t<tr><th></th><th scope=col>&lt;fct&gt;</th><th scope=col>&lt;fct&gt;</th><th scope=col>&lt;fct&gt;</th><th scope=col>&lt;fct&gt;</th><th scope=col>&lt;fct&gt;</th><th scope=col>&lt;fct&gt;</th><th scope=col>&lt;fct&gt;</th><th scope=col>&lt;fct&gt;</th><th scope=col>&lt;int&gt;</th><th scope=col>&lt;dbl&gt;</th><th scope=col>...</th><th scope=col>&lt;dbl&gt;</th><th scope=col>&lt;dbl&gt;</th><th scope=col>&lt;dbl&gt;</th><th scope=col>&lt;dbl&gt;</th><th scope=col>&lt;fct&gt;</th><th scope=col>&lt;dbl&gt;</th><th scope=col>&lt;dbl&gt;</th><th scope=col>&lt;dbl&gt;</th><th scope=col>&lt;dbl&gt;</th><th scope=col>&lt;dbl&gt;</th></tr>\n",
       "</thead>\n",
       "<tbody>\n",
       "\t<tr><th scope=row>5139</th><td>Royce Gracie  </td><td>Ken Shamrock </td><td>Joao Alberto Barreto</td><td>1993-11-12</td><td>Denver, Colorado, USA</td><td>Red</td><td>False</td><td>Open Weight</td><td>1</td><td>0</td><td>...</td><td>0</td><td>1</td><td>0</td><td>1</td><td>Southpaw</td><td>185.42</td><td>    NA</td><td>175</td><td>29</td><td>26</td></tr>\n",
       "\t<tr><th scope=row>5140</th><td>Gerard Gordeau</td><td>Kevin Rosier </td><td>Joao Alberto Barreto</td><td>1993-11-12</td><td>Denver, Colorado, USA</td><td>Red</td><td>False</td><td>Open Weight</td><td>1</td><td>0</td><td>...</td><td>1</td><td>0</td><td>0</td><td>1</td><td>Orthodox</td><td>195.58</td><td>    NA</td><td>216</td><td>NA</td><td>34</td></tr>\n",
       "\t<tr><th scope=row>5141</th><td>Ken Shamrock  </td><td>Patrick Smith</td><td>Joao Alberto Barreto</td><td>1993-11-12</td><td>Denver, Colorado, USA</td><td>Red</td><td>False</td><td>Open Weight</td><td>1</td><td>0</td><td>...</td><td>0</td><td>0</td><td>0</td><td>0</td><td>Orthodox</td><td>185.42</td><td>182.88</td><td>205</td><td>30</td><td>29</td></tr>\n",
       "\t<tr><th scope=row>5142</th><td>Royce Gracie  </td><td>Art Jimmerson</td><td>Joao Alberto Barreto</td><td>1993-11-12</td><td>Denver, Colorado, USA</td><td>Red</td><td>False</td><td>Open Weight</td><td>1</td><td>0</td><td>...</td><td>0</td><td>0</td><td>0</td><td>0</td><td>Southpaw</td><td>185.42</td><td>    NA</td><td>175</td><td>30</td><td>26</td></tr>\n",
       "\t<tr><th scope=row>5143</th><td>Kevin Rosier  </td><td>Zane Frazier </td><td>Joao Alberto Barreto</td><td>1993-11-12</td><td>Denver, Colorado, USA</td><td>Red</td><td>False</td><td>Open Weight</td><td>1</td><td>0</td><td>...</td><td>0</td><td>0</td><td>0</td><td>0</td><td>Orthodox</td><td>193.04</td><td>    NA</td><td>275</td><td>NA</td><td>NA</td></tr>\n",
       "\t<tr><th scope=row>5144</th><td>Gerard Gordeau</td><td>Teila Tuli   </td><td>Joao Alberto Barreto</td><td>1993-11-12</td><td>Denver, Colorado, USA</td><td>Red</td><td>False</td><td>Open Weight</td><td>1</td><td>0</td><td>...</td><td>0</td><td>0</td><td>0</td><td>0</td><td>Orthodox</td><td>195.58</td><td>    NA</td><td>216</td><td>24</td><td>34</td></tr>\n",
       "</tbody>\n",
       "</table>\n"
      ],
      "text/latex": [
       "A data.frame: 6 × 145\n",
       "\\begin{tabular}{r|lllllllllllllllllllllllllllllllllllllllllllllllllllllllllllllllllllllllllllllllllllllllllllllllllllllllllllllllllllllllllllllllllllllllllllllllll}\n",
       "  & R\\_fighter & B\\_fighter & Referee & date & location & Winner & title\\_bout & weight\\_class & no\\_of\\_rounds & B\\_current\\_lose\\_streak & B\\_current\\_win\\_streak & B\\_draw & B\\_avg\\_BODY\\_att & B\\_avg\\_BODY\\_landed & B\\_avg\\_CLINCH\\_att & B\\_avg\\_CLINCH\\_landed & B\\_avg\\_DISTANCE\\_att & B\\_avg\\_DISTANCE\\_landed & B\\_avg\\_GROUND\\_att & B\\_avg\\_GROUND\\_landed & B\\_avg\\_HEAD\\_att & B\\_avg\\_HEAD\\_landed & B\\_avg\\_KD & B\\_avg\\_LEG\\_att & B\\_avg\\_LEG\\_landed & B\\_avg\\_PASS & B\\_avg\\_REV & B\\_avg\\_SIG\\_STR\\_att & B\\_avg\\_SIG\\_STR\\_landed & B\\_avg\\_SIG\\_STR\\_pct & B\\_avg\\_SUB\\_ATT & B\\_avg\\_TD\\_att & B\\_avg\\_TD\\_landed & B\\_avg\\_TD\\_pct & B\\_avg\\_TOTAL\\_STR\\_att & B\\_avg\\_TOTAL\\_STR\\_landed & B\\_longest\\_win\\_streak & B\\_losses & B\\_avg\\_opp\\_BODY\\_att & B\\_avg\\_opp\\_BODY\\_landed & B\\_avg\\_opp\\_CLINCH\\_att & B\\_avg\\_opp\\_CLINCH\\_landed & B\\_avg\\_opp\\_DISTANCE\\_att & B\\_avg\\_opp\\_DISTANCE\\_landed & B\\_avg\\_opp\\_GROUND\\_att & B\\_avg\\_opp\\_GROUND\\_landed & B\\_avg\\_opp\\_HEAD\\_att & B\\_avg\\_opp\\_HEAD\\_landed & B\\_avg\\_opp\\_KD & B\\_avg\\_opp\\_LEG\\_att & B\\_avg\\_opp\\_LEG\\_landed & B\\_avg\\_opp\\_PASS & B\\_avg\\_opp\\_REV & B\\_avg\\_opp\\_SIG\\_STR\\_att & B\\_avg\\_opp\\_SIG\\_STR\\_landed & B\\_avg\\_opp\\_SIG\\_STR\\_pct & B\\_avg\\_opp\\_SUB\\_ATT & B\\_avg\\_opp\\_TD\\_att & B\\_avg\\_opp\\_TD\\_landed & B\\_avg\\_opp\\_TD\\_pct & B\\_avg\\_opp\\_TOTAL\\_STR\\_att & B\\_avg\\_opp\\_TOTAL\\_STR\\_landed & B\\_total\\_rounds\\_fought & B\\_total\\_time\\_fought.seconds. & B\\_total\\_title\\_bouts & B\\_win\\_by\\_Decision\\_Majority & B\\_win\\_by\\_Decision\\_Split & B\\_win\\_by\\_Decision\\_Unanimous & B\\_win\\_by\\_KO.TKO & B\\_win\\_by\\_Submission & B\\_win\\_by\\_TKO\\_Doctor\\_Stoppage & B\\_wins & B\\_Stance & B\\_Height\\_cms & B\\_Reach\\_cms & B\\_Weight\\_lbs & R\\_current\\_lose\\_streak & R\\_current\\_win\\_streak & R\\_draw & R\\_avg\\_BODY\\_att & R\\_avg\\_BODY\\_landed & R\\_avg\\_CLINCH\\_att & R\\_avg\\_CLINCH\\_landed & R\\_avg\\_DISTANCE\\_att & R\\_avg\\_DISTANCE\\_landed & R\\_avg\\_GROUND\\_att & R\\_avg\\_GROUND\\_landed & R\\_avg\\_HEAD\\_att & R\\_avg\\_HEAD\\_landed & R\\_avg\\_KD & R\\_avg\\_LEG\\_att & R\\_avg\\_LEG\\_landed & R\\_avg\\_PASS & R\\_avg\\_REV & R\\_avg\\_SIG\\_STR\\_att & R\\_avg\\_SIG\\_STR\\_landed & R\\_avg\\_SIG\\_STR\\_pct & R\\_avg\\_SUB\\_ATT & R\\_avg\\_TD\\_att & R\\_avg\\_TD\\_landed & R\\_avg\\_TD\\_pct & R\\_avg\\_TOTAL\\_STR\\_att & R\\_avg\\_TOTAL\\_STR\\_landed & R\\_longest\\_win\\_streak & R\\_losses & R\\_avg\\_opp\\_BODY\\_att & R\\_avg\\_opp\\_BODY\\_landed & R\\_avg\\_opp\\_CLINCH\\_att & R\\_avg\\_opp\\_CLINCH\\_landed & R\\_avg\\_opp\\_DISTANCE\\_att & R\\_avg\\_opp\\_DISTANCE\\_landed & R\\_avg\\_opp\\_GROUND\\_att & R\\_avg\\_opp\\_GROUND\\_landed & R\\_avg\\_opp\\_HEAD\\_att & R\\_avg\\_opp\\_HEAD\\_landed & R\\_avg\\_opp\\_KD & R\\_avg\\_opp\\_LEG\\_att & R\\_avg\\_opp\\_LEG\\_landed & R\\_avg\\_opp\\_PASS & R\\_avg\\_opp\\_REV & R\\_avg\\_opp\\_SIG\\_STR\\_att & R\\_avg\\_opp\\_SIG\\_STR\\_landed & R\\_avg\\_opp\\_SIG\\_STR\\_pct & R\\_avg\\_opp\\_SUB\\_ATT & R\\_avg\\_opp\\_TD\\_att & R\\_avg\\_opp\\_TD\\_landed & R\\_avg\\_opp\\_TD\\_pct & R\\_avg\\_opp\\_TOTAL\\_STR\\_att & R\\_avg\\_opp\\_TOTAL\\_STR\\_landed & R\\_total\\_rounds\\_fought & R\\_total\\_time\\_fought.seconds. & R\\_total\\_title\\_bouts & R\\_win\\_by\\_Decision\\_Majority & R\\_win\\_by\\_Decision\\_Split & R\\_win\\_by\\_Decision\\_Unanimous & R\\_win\\_by\\_KO.TKO & R\\_win\\_by\\_Submission & R\\_win\\_by\\_TKO\\_Doctor\\_Stoppage & R\\_wins & R\\_Stance & R\\_Height\\_cms & R\\_Reach\\_cms & R\\_Weight\\_lbs & B\\_age & R\\_age\\\\\n",
       "  & <fct> & <fct> & <fct> & <fct> & <fct> & <fct> & <fct> & <fct> & <int> & <dbl> & <dbl> & <dbl> & <dbl> & <dbl> & <dbl> & <dbl> & <dbl> & <dbl> & <dbl> & <dbl> & <dbl> & <dbl> & <dbl> & <dbl> & <dbl> & <dbl> & <dbl> & <dbl> & <dbl> & <dbl> & <dbl> & <dbl> & <dbl> & <dbl> & <dbl> & <dbl> & <dbl> & <dbl> & <dbl> & <dbl> & <dbl> & <dbl> & <dbl> & <dbl> & <dbl> & <dbl> & <dbl> & <dbl> & <dbl> & <dbl> & <dbl> & <dbl> & <dbl> & <dbl> & <dbl> & <dbl> & <dbl> & <dbl> & <dbl> & <dbl> & <dbl> & <dbl> & <dbl> & <dbl> & <dbl> & <dbl> & <dbl> & <dbl> & <dbl> & <dbl> & <dbl> & <dbl> & <fct> & <dbl> & <dbl> & <dbl> & <dbl> & <dbl> & <dbl> & <dbl> & <dbl> & <dbl> & <dbl> & <dbl> & <dbl> & <dbl> & <dbl> & <dbl> & <dbl> & <dbl> & <dbl> & <dbl> & <dbl> & <dbl> & <dbl> & <dbl> & <dbl> & <dbl> & <dbl> & <dbl> & <dbl> & <dbl> & <dbl> & <dbl> & <dbl> & <dbl> & <dbl> & <dbl> & <dbl> & <dbl> & <dbl> & <dbl> & <dbl> & <dbl> & <dbl> & <dbl> & <dbl> & <dbl> & <dbl> & <dbl> & <dbl> & <dbl> & <dbl> & <dbl> & <dbl> & <dbl> & <dbl> & <dbl> & <dbl> & <dbl> & <dbl> & <dbl> & <dbl> & <dbl> & <dbl> & <dbl> & <dbl> & <dbl> & <dbl> & <fct> & <dbl> & <dbl> & <dbl> & <dbl> & <dbl>\\\\\n",
       "\\hline\n",
       "\t5139 & Royce Gracie   & Ken Shamrock  & Joao Alberto Barreto & 1993-11-12 & Denver, Colorado, USA & Red & False & Open Weight & 1 & 0 & 1 & 0 &  0 &  0 &  0 &  0 &  0 &  0 &  1 &  1 &  1 &  1 &  0 &  0 &  0 &  0 &  0 &  1 &  1 & 1.00 &  2 &  2 &  1 & 0.5 &  4 &  4 & 1 & 0 &  1 &  1 &  1 &  1 &  1 &  1 &  6 &  2 &  4 &  1 &  0 &  3 &  2 &  0 &  0 &  8 &  4 & 0.50 &  0 &  0 &  0 &  0 & 20 & 16 & 1 & 109 & 0 & 0 & 0 & 0 & 0 & 1 & 0 & 1 & Orthodox & 185.42 & 182.88 & 205 & 0 & 1 & 0 &  0 &  0 &  0 &  0 &  3 &  0 &  0 &  0 &  1 &  0 &  0 &  2 &  0 &  2 &  0 &  3 &  0 & 0.0 &  0 &  1 &  1 &  1 &  7 &  4 & 1 & 0 &  0 &  0 &  0 &  0 &  0 &  0 &  0 &  0 &  0 &  0 &  0 &  0 &  0 &  0 &  0 &  0 &  0 &  0 &  0 &  0 &  0 &  0 &  0 &  0 & 1 & 138 & 0 & 0 & 0 & 0 & 0 & 1 & 0 & 1 & Southpaw & 185.42 &     NA & 175 & 29 & 26\\\\\n",
       "\t5140 & Gerard Gordeau & Kevin Rosier  & Joao Alberto Barreto & 1993-11-12 & Denver, Colorado, USA & Red & False & Open Weight & 1 & 0 & 1 & 0 &  4 &  3 &  9 &  4 & 10 &  4 &  8 &  7 & 23 & 12 &  2 &  0 &  0 &  0 &  0 & 27 & 15 & 0.55 &  0 &  0 &  0 & 0.0 & 53 & 38 & 1 & 0 &  6 &  3 & 19 & 10 &  7 &  0 &  2 &  2 & 19 &  7 &  0 &  3 &  2 &  0 &  0 & 28 & 12 & 0.42 &  0 &  0 &  0 &  0 & 29 & 13 & 1 & 260 & 0 & 0 & 0 & 0 & 1 & 0 & 0 & 1 & Orthodox & 193.04 &     NA & 275 & 0 & 1 & 0 &  0 &  0 &  0 &  0 &  3 &  1 &  2 &  2 &  5 &  3 &  0 &  0 &  0 &  0 &  0 &  5 &  3 & 0.6 &  0 &  0 &  0 &  0 &  5 &  3 & 1 & 0 &  0 &  0 &  0 &  0 &  1 &  0 &  0 &  0 &  1 &  0 &  0 &  0 &  0 &  0 &  0 &  1 &  0 &  0 &  0 &  1 &  0 &  0 &  1 &  0 & 1 &  26 & 0 & 0 & 0 & 0 & 1 & 0 & 0 & 1 & Orthodox & 195.58 &     NA & 216 & NA & 34\\\\\n",
       "\t5141 & Ken Shamrock   & Patrick Smith & Joao Alberto Barreto & 1993-11-12 & Denver, Colorado, USA & Red & False & Open Weight & 1 & 0 & 0 & 0 & NA & NA & NA & NA & NA & NA & NA & NA & NA & NA & NA & NA & NA & NA & NA & NA & NA &   NA & NA & NA & NA &  NA & NA & NA & 0 & 0 & NA & NA & NA & NA & NA & NA & NA & NA & NA & NA & NA & NA & NA & NA & NA & NA & NA &   NA & NA & NA & NA & NA & NA & NA & 0 &  NA & 0 & 0 & 0 & 0 & 0 & 0 & 0 & 0 & Orthodox & 187.96 &     NA & 225 & 0 & 0 & 0 & NA & NA & NA & NA & NA & NA & NA & NA & NA & NA & NA & NA & NA & NA & NA & NA & NA &  NA & NA & NA & NA & NA & NA & NA & 0 & 0 & NA & NA & NA & NA & NA & NA & NA & NA & NA & NA & NA & NA & NA & NA & NA & NA & NA & NA & NA & NA & NA & NA & NA & NA & 0 &  NA & 0 & 0 & 0 & 0 & 0 & 0 & 0 & 0 & Orthodox & 185.42 & 182.88 & 205 & 30 & 29\\\\\n",
       "\t5142 & Royce Gracie   & Art Jimmerson & Joao Alberto Barreto & 1993-11-12 & Denver, Colorado, USA & Red & False & Open Weight & 1 & 0 & 0 & 0 & NA & NA & NA & NA & NA & NA & NA & NA & NA & NA & NA & NA & NA & NA & NA & NA & NA &   NA & NA & NA & NA &  NA & NA & NA & 0 & 0 & NA & NA & NA & NA & NA & NA & NA & NA & NA & NA & NA & NA & NA & NA & NA & NA & NA &   NA & NA & NA & NA & NA & NA & NA & 0 &  NA & 0 & 0 & 0 & 0 & 0 & 0 & 0 & 0 & Orthodox & 185.42 &     NA & 196 & 0 & 0 & 0 & NA & NA & NA & NA & NA & NA & NA & NA & NA & NA & NA & NA & NA & NA & NA & NA & NA &  NA & NA & NA & NA & NA & NA & NA & 0 & 0 & NA & NA & NA & NA & NA & NA & NA & NA & NA & NA & NA & NA & NA & NA & NA & NA & NA & NA & NA & NA & NA & NA & NA & NA & 0 &  NA & 0 & 0 & 0 & 0 & 0 & 0 & 0 & 0 & Southpaw & 185.42 &     NA & 175 & 30 & 26\\\\\n",
       "\t5143 & Kevin Rosier   & Zane Frazier  & Joao Alberto Barreto & 1993-11-12 & Denver, Colorado, USA & Red & False & Open Weight & 1 & 0 & 0 & 0 & NA & NA & NA & NA & NA & NA & NA & NA & NA & NA & NA & NA & NA & NA & NA & NA & NA &   NA & NA & NA & NA &  NA & NA & NA & 0 & 0 & NA & NA & NA & NA & NA & NA & NA & NA & NA & NA & NA & NA & NA & NA & NA & NA & NA &   NA & NA & NA & NA & NA & NA & NA & 0 &  NA & 0 & 0 & 0 & 0 & 0 & 0 & 0 & 0 & Orthodox & 195.58 &     NA & 250 & 0 & 0 & 0 & NA & NA & NA & NA & NA & NA & NA & NA & NA & NA & NA & NA & NA & NA & NA & NA & NA &  NA & NA & NA & NA & NA & NA & NA & 0 & 0 & NA & NA & NA & NA & NA & NA & NA & NA & NA & NA & NA & NA & NA & NA & NA & NA & NA & NA & NA & NA & NA & NA & NA & NA & 0 &  NA & 0 & 0 & 0 & 0 & 0 & 0 & 0 & 0 & Orthodox & 193.04 &     NA & 275 & NA & NA\\\\\n",
       "\t5144 & Gerard Gordeau & Teila Tuli    & Joao Alberto Barreto & 1993-11-12 & Denver, Colorado, USA & Red & False & Open Weight & 1 & 0 & 0 & 0 & NA & NA & NA & NA & NA & NA & NA & NA & NA & NA & NA & NA & NA & NA & NA & NA & NA &   NA & NA & NA & NA &  NA & NA & NA & 0 & 0 & NA & NA & NA & NA & NA & NA & NA & NA & NA & NA & NA & NA & NA & NA & NA & NA & NA &   NA & NA & NA & NA & NA & NA & NA & 0 &  NA & 0 & 0 & 0 & 0 & 0 & 0 & 0 & 0 & Orthodox & 182.88 &     NA & 430 & 0 & 0 & 0 & NA & NA & NA & NA & NA & NA & NA & NA & NA & NA & NA & NA & NA & NA & NA & NA & NA &  NA & NA & NA & NA & NA & NA & NA & 0 & 0 & NA & NA & NA & NA & NA & NA & NA & NA & NA & NA & NA & NA & NA & NA & NA & NA & NA & NA & NA & NA & NA & NA & NA & NA & 0 &  NA & 0 & 0 & 0 & 0 & 0 & 0 & 0 & 0 & Orthodox & 195.58 &     NA & 216 & 24 & 34\\\\\n",
       "\\end{tabular}\n"
      ],
      "text/markdown": [
       "\n",
       "A data.frame: 6 × 145\n",
       "\n",
       "| <!--/--> | R_fighter &lt;fct&gt; | B_fighter &lt;fct&gt; | Referee &lt;fct&gt; | date &lt;fct&gt; | location &lt;fct&gt; | Winner &lt;fct&gt; | title_bout &lt;fct&gt; | weight_class &lt;fct&gt; | no_of_rounds &lt;int&gt; | B_current_lose_streak &lt;dbl&gt; | ... ... | R_win_by_KO.TKO &lt;dbl&gt; | R_win_by_Submission &lt;dbl&gt; | R_win_by_TKO_Doctor_Stoppage &lt;dbl&gt; | R_wins &lt;dbl&gt; | R_Stance &lt;fct&gt; | R_Height_cms &lt;dbl&gt; | R_Reach_cms &lt;dbl&gt; | R_Weight_lbs &lt;dbl&gt; | B_age &lt;dbl&gt; | R_age &lt;dbl&gt; |\n",
       "|---|---|---|---|---|---|---|---|---|---|---|---|---|---|---|---|---|---|---|---|---|---|\n",
       "| 5139 | Royce Gracie   | Ken Shamrock  | Joao Alberto Barreto | 1993-11-12 | Denver, Colorado, USA | Red | False | Open Weight | 1 | 0 | ... | 0 | 1 | 0 | 1 | Southpaw | 185.42 |     NA | 175 | 29 | 26 |\n",
       "| 5140 | Gerard Gordeau | Kevin Rosier  | Joao Alberto Barreto | 1993-11-12 | Denver, Colorado, USA | Red | False | Open Weight | 1 | 0 | ... | 1 | 0 | 0 | 1 | Orthodox | 195.58 |     NA | 216 | NA | 34 |\n",
       "| 5141 | Ken Shamrock   | Patrick Smith | Joao Alberto Barreto | 1993-11-12 | Denver, Colorado, USA | Red | False | Open Weight | 1 | 0 | ... | 0 | 0 | 0 | 0 | Orthodox | 185.42 | 182.88 | 205 | 30 | 29 |\n",
       "| 5142 | Royce Gracie   | Art Jimmerson | Joao Alberto Barreto | 1993-11-12 | Denver, Colorado, USA | Red | False | Open Weight | 1 | 0 | ... | 0 | 0 | 0 | 0 | Southpaw | 185.42 |     NA | 175 | 30 | 26 |\n",
       "| 5143 | Kevin Rosier   | Zane Frazier  | Joao Alberto Barreto | 1993-11-12 | Denver, Colorado, USA | Red | False | Open Weight | 1 | 0 | ... | 0 | 0 | 0 | 0 | Orthodox | 193.04 |     NA | 275 | NA | NA |\n",
       "| 5144 | Gerard Gordeau | Teila Tuli    | Joao Alberto Barreto | 1993-11-12 | Denver, Colorado, USA | Red | False | Open Weight | 1 | 0 | ... | 0 | 0 | 0 | 0 | Orthodox | 195.58 |     NA | 216 | 24 | 34 |\n",
       "\n"
      ],
      "text/plain": [
       "     R_fighter      B_fighter     Referee              date      \n",
       "5139 Royce Gracie   Ken Shamrock  Joao Alberto Barreto 1993-11-12\n",
       "5140 Gerard Gordeau Kevin Rosier  Joao Alberto Barreto 1993-11-12\n",
       "5141 Ken Shamrock   Patrick Smith Joao Alberto Barreto 1993-11-12\n",
       "5142 Royce Gracie   Art Jimmerson Joao Alberto Barreto 1993-11-12\n",
       "5143 Kevin Rosier   Zane Frazier  Joao Alberto Barreto 1993-11-12\n",
       "5144 Gerard Gordeau Teila Tuli    Joao Alberto Barreto 1993-11-12\n",
       "     location              Winner title_bout weight_class no_of_rounds\n",
       "5139 Denver, Colorado, USA Red    False      Open Weight  1           \n",
       "5140 Denver, Colorado, USA Red    False      Open Weight  1           \n",
       "5141 Denver, Colorado, USA Red    False      Open Weight  1           \n",
       "5142 Denver, Colorado, USA Red    False      Open Weight  1           \n",
       "5143 Denver, Colorado, USA Red    False      Open Weight  1           \n",
       "5144 Denver, Colorado, USA Red    False      Open Weight  1           \n",
       "     B_current_lose_streak ... R_win_by_KO.TKO R_win_by_Submission\n",
       "5139 0                     ... 0               1                  \n",
       "5140 0                     ... 1               0                  \n",
       "5141 0                     ... 0               0                  \n",
       "5142 0                     ... 0               0                  \n",
       "5143 0                     ... 0               0                  \n",
       "5144 0                     ... 0               0                  \n",
       "     R_win_by_TKO_Doctor_Stoppage R_wins R_Stance R_Height_cms R_Reach_cms\n",
       "5139 0                            1      Southpaw 185.42           NA     \n",
       "5140 0                            1      Orthodox 195.58           NA     \n",
       "5141 0                            0      Orthodox 185.42       182.88     \n",
       "5142 0                            0      Southpaw 185.42           NA     \n",
       "5143 0                            0      Orthodox 193.04           NA     \n",
       "5144 0                            0      Orthodox 195.58           NA     \n",
       "     R_Weight_lbs B_age R_age\n",
       "5139 175          29    26   \n",
       "5140 216          NA    34   \n",
       "5141 205          30    29   \n",
       "5142 175          30    26   \n",
       "5143 275          NA    NA   \n",
       "5144 216          24    34   "
      ]
     },
     "metadata": {},
     "output_type": "display_data"
    }
   ],
   "source": [
    "# 4. Inspect tail of data to make sure everything is correct.\n",
    "tail(read_data)"
   ]
  },
  {
   "cell_type": "markdown",
   "metadata": {},
   "source": [
    "**Insights**\n",
    "\n",
    " - Data structure looks good. The first and last column look the same as the csv meaning there is no missing data and the columns are correctly labeled. There is no hidden metadata in the csv either. "
   ]
  },
  {
   "cell_type": "markdown",
   "metadata": {},
   "source": [
    "### 5. Check your \"n\"s"
   ]
  },
  {
   "cell_type": "code",
   "execution_count": 6,
   "metadata": {},
   "outputs": [
    {
     "ename": "ERROR",
     "evalue": "Error in tidy(summary(read_data)): could not find function \"tidy\"\n",
     "output_type": "error",
     "traceback": [
      "Error in tidy(summary(read_data)): could not find function \"tidy\"\nTraceback:\n"
     ]
    }
   ],
   "source": [
    "# 5. Find summary statistics to see the different column descriptions & find number of NAs\n",
    "tidy(summary(read_data))"
   ]
  },
  {
   "cell_type": "markdown",
   "metadata": {},
   "source": [
    "**Observations:**\n",
    "> Note the data above looks good in the ranges, however, there are a lot of NAs. There are also some columns that should be removed like R_draw and B_draw which never have a value other than 0. Most of the data seems like it has appropriate highs and lows for each column. \n",
    "\n",
    ">I also noticed there seem to be a lot of columns on the same statistic:\n",
    "- B_avg_BODY_att\n",
    "- R_avg_BODY_att\n",
    "- B_avg_opp_BODY_att \n",
    "- R_avg_opp_BODY_att \n",
    "\n",
    "> I did a bit further digging to understand what makes them different. \n",
    "\n",
    "> Definitions for reference:\n",
    "- _opp_ containing columns is the average of damage done by the opponent on the fighter [Source: Original Kaggle Source](https://www.kaggle.com/rajeevw/ufcdata). Therefore, it is not usually the case the R_avg_BODY_att would be reflected in B_avg_opp_BODY_att if it didn't do any damage. \n",
    "\n",
    "> Other definitions:\n",
    "- att: attempt\n",
    "- landed: attempt connected with the opponent\n",
    "- kd: knockdown\n",
    "\n"
   ]
  },
  {
   "cell_type": "code",
   "execution_count": 53,
   "metadata": {},
   "outputs": [],
   "source": [
    "# There are a lot of NA, so I removed NAs\n",
    "na_data <- read_data %>% \n",
    "    drop_na() "
   ]
  },
  {
   "cell_type": "code",
   "execution_count": 54,
   "metadata": {},
   "outputs": [
    {
     "data": {
      "text/html": [
       "3355"
      ],
      "text/latex": [
       "3355"
      ],
      "text/markdown": [
       "3355"
      ],
      "text/plain": [
       "[1] 3355"
      ]
     },
     "metadata": {},
     "output_type": "display_data"
    },
    {
     "data": {
      "text/html": [
       "145"
      ],
      "text/latex": [
       "145"
      ],
      "text/markdown": [
       "145"
      ],
      "text/plain": [
       "[1] 145"
      ]
     },
     "metadata": {},
     "output_type": "display_data"
    }
   ],
   "source": [
    "# 5. Check n's again\n",
    "nrow(na_data)\n",
    "ncol(na_data)"
   ]
  },
  {
   "cell_type": "markdown",
   "metadata": {},
   "source": [
    "**Observations:**\n",
    "- The number of rows although reduced by about 2000, will be large enough to conduct an analysis. The number of columns didn't change. "
   ]
  },
  {
   "cell_type": "code",
   "execution_count": 55,
   "metadata": {},
   "outputs": [
    {
     "data": {
      "image/png": "[encoded data removed]",
      "text/plain": [
       "plot without title"
      ]
     },
     "metadata": {
      "image/png": {
       "height": 420,
       "width": 420
      },
      "text/plain": {
       "height": 420,
       "width": 420
      }
     },
     "output_type": "display_data"
    }
   ],
   "source": [
    "# 5/7. Inital graph to find out if we can use the wins column.\n",
    "na_data %>%\n",
    "    ggplot(aes(na_data$R_win_by_Submission)) +\n",
    "    geom_bar() +\n",
    "    labs(title=\"Submission Wins\", x = \"Wins by Submission\")"
   ]
  },
  {
   "cell_type": "markdown",
   "metadata": {},
   "source": [
    "**Observations:**\n",
    "\n",
    "- This is not what I expected at all. I was expecting a binary response 1 for yes and 0 for no. These statistics show that the win columns for submission, decision, KO, etc.. are all for lifetime stats. \n",
    "\n",
    "- For our analysis we need to have the stat for how a fight ends/ how the winner wins the match to answer our research question. I can do this with another dataset that was published in the same repository as our original dataset. "
   ]
  },
  {
   "cell_type": "code",
   "execution_count": 56,
   "metadata": {},
   "outputs": [
    {
     "data": {
      "text/html": [
       "<table>\n",
       "<caption>A data.frame: 6 × 145</caption>\n",
       "<thead>\n",
       "\t<tr><th></th><th scope=col>R_fighter</th><th scope=col>B_fighter</th><th scope=col>Referee</th><th scope=col>date</th><th scope=col>location</th><th scope=col>Winner</th><th scope=col>title_bout</th><th scope=col>weight_class</th><th scope=col>no_of_rounds</th><th scope=col>B_current_lose_streak</th><th scope=col>...</th><th scope=col>R_win_by_KO.TKO</th><th scope=col>R_win_by_Submission</th><th scope=col>R_win_by_TKO_Doctor_Stoppage</th><th scope=col>R_wins</th><th scope=col>R_Stance</th><th scope=col>R_Height_cms</th><th scope=col>R_Reach_cms</th><th scope=col>R_Weight_lbs</th><th scope=col>B_age</th><th scope=col>R_age</th></tr>\n",
       "\t<tr><th></th><th scope=col>&lt;fct&gt;</th><th scope=col>&lt;fct&gt;</th><th scope=col>&lt;fct&gt;</th><th scope=col>&lt;date&gt;</th><th scope=col>&lt;fct&gt;</th><th scope=col>&lt;fct&gt;</th><th scope=col>&lt;fct&gt;</th><th scope=col>&lt;fct&gt;</th><th scope=col>&lt;int&gt;</th><th scope=col>&lt;dbl&gt;</th><th scope=col>...</th><th scope=col>&lt;dbl&gt;</th><th scope=col>&lt;dbl&gt;</th><th scope=col>&lt;dbl&gt;</th><th scope=col>&lt;dbl&gt;</th><th scope=col>&lt;fct&gt;</th><th scope=col>&lt;dbl&gt;</th><th scope=col>&lt;dbl&gt;</th><th scope=col>&lt;dbl&gt;</th><th scope=col>&lt;dbl&gt;</th><th scope=col>&lt;dbl&gt;</th></tr>\n",
       "</thead>\n",
       "<tbody>\n",
       "\t<tr><th scope=row>3350</th><td>Tito Ortiz   </td><td>Elvis Sinosic  </td><td>John McCarthy </td><td>2001-06-29</td><td>East Rutherford, New Jersey, USA</td><td>Red</td><td>True </td><td>Light Heavyweight</td><td>5</td><td>0</td><td>...</td><td>3</td><td>1</td><td>1</td><td>6</td><td>Orthodox</td><td>190.50</td><td>187.96</td><td>205</td><td>30</td><td>26</td></tr>\n",
       "\t<tr><th scope=row>3351</th><td>Tito Ortiz   </td><td>Evan Tanner    </td><td>John McCarthy </td><td>2001-02-23</td><td>Atlantic City, New Jersey, USA  </td><td>Red</td><td>True </td><td>Light Heavyweight</td><td>5</td><td>0</td><td>...</td><td>2</td><td>1</td><td>1</td><td>5</td><td>Orthodox</td><td>190.50</td><td>187.96</td><td>205</td><td>30</td><td>26</td></tr>\n",
       "\t<tr><th scope=row>3352</th><td>Chuck Liddell</td><td>Jeff Monson    </td><td>Mario Yamasaki</td><td>2000-12-16</td><td>Tokyo, Japan                    </td><td>Red</td><td>False</td><td>Middleweight     </td><td>3</td><td>0</td><td>...</td><td>0</td><td>0</td><td>1</td><td>2</td><td>Orthodox</td><td>187.96</td><td>193.04</td><td>205</td><td>29</td><td>30</td></tr>\n",
       "\t<tr><th scope=row>3353</th><td>Tito Ortiz   </td><td>Wanderlei Silva</td><td>John McCarthy </td><td>2000-04-14</td><td>Tokyo, Japan                    </td><td>Red</td><td>True </td><td>Light Heavyweight</td><td>5</td><td>0</td><td>...</td><td>2</td><td>0</td><td>1</td><td>3</td><td>Orthodox</td><td>190.50</td><td>187.96</td><td>205</td><td>23</td><td>25</td></tr>\n",
       "\t<tr><th scope=row>3354</th><td>Jeremy Horn  </td><td>Chuck Liddell  </td><td>John McCarthy </td><td>1999-03-05</td><td>Bay St. Louis, Mississippi, USA </td><td>Red</td><td>False</td><td>Middleweight     </td><td>2</td><td>0</td><td>...</td><td>0</td><td>0</td><td>0</td><td>0</td><td>Orthodox</td><td>185.42</td><td>187.96</td><td>185</td><td>29</td><td>23</td></tr>\n",
       "\t<tr><th scope=row>3355</th><td>Randy Couture</td><td>Vitor Belfort  </td><td>John McCarthy </td><td>1997-10-17</td><td>Bay St. Louis, Mississippi, USA </td><td>Red</td><td>False</td><td>Heavyweight      </td><td>2</td><td>0</td><td>...</td><td>1</td><td>1</td><td>0</td><td>2</td><td>Orthodox</td><td>185.42</td><td>190.50</td><td>205</td><td>20</td><td>34</td></tr>\n",
       "</tbody>\n",
       "</table>\n"
      ],
      "text/latex": [
       "A data.frame: 6 × 145\n",
       "\\begin{tabular}{r|lllllllllllllllllllllllllllllllllllllllllllllllllllllllllllllllllllllllllllllllllllllllllllllllllllllllllllllllllllllllllllllllllllllllllllllllll}\n",
       "  & R\\_fighter & B\\_fighter & Referee & date & location & Winner & title\\_bout & weight\\_class & no\\_of\\_rounds & B\\_current\\_lose\\_streak & B\\_current\\_win\\_streak & B\\_draw & B\\_avg\\_BODY\\_att & B\\_avg\\_BODY\\_landed & B\\_avg\\_CLINCH\\_att & B\\_avg\\_CLINCH\\_landed & B\\_avg\\_DISTANCE\\_att & B\\_avg\\_DISTANCE\\_landed & B\\_avg\\_GROUND\\_att & B\\_avg\\_GROUND\\_landed & B\\_avg\\_HEAD\\_att & B\\_avg\\_HEAD\\_landed & B\\_avg\\_KD & B\\_avg\\_LEG\\_att & B\\_avg\\_LEG\\_landed & B\\_avg\\_PASS & B\\_avg\\_REV & B\\_avg\\_SIG\\_STR\\_att & B\\_avg\\_SIG\\_STR\\_landed & B\\_avg\\_SIG\\_STR\\_pct & B\\_avg\\_SUB\\_ATT & B\\_avg\\_TD\\_att & B\\_avg\\_TD\\_landed & B\\_avg\\_TD\\_pct & B\\_avg\\_TOTAL\\_STR\\_att & B\\_avg\\_TOTAL\\_STR\\_landed & B\\_longest\\_win\\_streak & B\\_losses & B\\_avg\\_opp\\_BODY\\_att & B\\_avg\\_opp\\_BODY\\_landed & B\\_avg\\_opp\\_CLINCH\\_att & B\\_avg\\_opp\\_CLINCH\\_landed & B\\_avg\\_opp\\_DISTANCE\\_att & B\\_avg\\_opp\\_DISTANCE\\_landed & B\\_avg\\_opp\\_GROUND\\_att & B\\_avg\\_opp\\_GROUND\\_landed & B\\_avg\\_opp\\_HEAD\\_att & B\\_avg\\_opp\\_HEAD\\_landed & B\\_avg\\_opp\\_KD & B\\_avg\\_opp\\_LEG\\_att & B\\_avg\\_opp\\_LEG\\_landed & B\\_avg\\_opp\\_PASS & B\\_avg\\_opp\\_REV & B\\_avg\\_opp\\_SIG\\_STR\\_att & B\\_avg\\_opp\\_SIG\\_STR\\_landed & B\\_avg\\_opp\\_SIG\\_STR\\_pct & B\\_avg\\_opp\\_SUB\\_ATT & B\\_avg\\_opp\\_TD\\_att & B\\_avg\\_opp\\_TD\\_landed & B\\_avg\\_opp\\_TD\\_pct & B\\_avg\\_opp\\_TOTAL\\_STR\\_att & B\\_avg\\_opp\\_TOTAL\\_STR\\_landed & B\\_total\\_rounds\\_fought & B\\_total\\_time\\_fought.seconds. & B\\_total\\_title\\_bouts & B\\_win\\_by\\_Decision\\_Majority & B\\_win\\_by\\_Decision\\_Split & B\\_win\\_by\\_Decision\\_Unanimous & B\\_win\\_by\\_KO.TKO & B\\_win\\_by\\_Submission & B\\_win\\_by\\_TKO\\_Doctor\\_Stoppage & B\\_wins & B\\_Stance & B\\_Height\\_cms & B\\_Reach\\_cms & B\\_Weight\\_lbs & R\\_current\\_lose\\_streak & R\\_current\\_win\\_streak & R\\_draw & R\\_avg\\_BODY\\_att & R\\_avg\\_BODY\\_landed & R\\_avg\\_CLINCH\\_att & R\\_avg\\_CLINCH\\_landed & R\\_avg\\_DISTANCE\\_att & R\\_avg\\_DISTANCE\\_landed & R\\_avg\\_GROUND\\_att & R\\_avg\\_GROUND\\_landed & R\\_avg\\_HEAD\\_att & R\\_avg\\_HEAD\\_landed & R\\_avg\\_KD & R\\_avg\\_LEG\\_att & R\\_avg\\_LEG\\_landed & R\\_avg\\_PASS & R\\_avg\\_REV & R\\_avg\\_SIG\\_STR\\_att & R\\_avg\\_SIG\\_STR\\_landed & R\\_avg\\_SIG\\_STR\\_pct & R\\_avg\\_SUB\\_ATT & R\\_avg\\_TD\\_att & R\\_avg\\_TD\\_landed & R\\_avg\\_TD\\_pct & R\\_avg\\_TOTAL\\_STR\\_att & R\\_avg\\_TOTAL\\_STR\\_landed & R\\_longest\\_win\\_streak & R\\_losses & R\\_avg\\_opp\\_BODY\\_att & R\\_avg\\_opp\\_BODY\\_landed & R\\_avg\\_opp\\_CLINCH\\_att & R\\_avg\\_opp\\_CLINCH\\_landed & R\\_avg\\_opp\\_DISTANCE\\_att & R\\_avg\\_opp\\_DISTANCE\\_landed & R\\_avg\\_opp\\_GROUND\\_att & R\\_avg\\_opp\\_GROUND\\_landed & R\\_avg\\_opp\\_HEAD\\_att & R\\_avg\\_opp\\_HEAD\\_landed & R\\_avg\\_opp\\_KD & R\\_avg\\_opp\\_LEG\\_att & R\\_avg\\_opp\\_LEG\\_landed & R\\_avg\\_opp\\_PASS & R\\_avg\\_opp\\_REV & R\\_avg\\_opp\\_SIG\\_STR\\_att & R\\_avg\\_opp\\_SIG\\_STR\\_landed & R\\_avg\\_opp\\_SIG\\_STR\\_pct & R\\_avg\\_opp\\_SUB\\_ATT & R\\_avg\\_opp\\_TD\\_att & R\\_avg\\_opp\\_TD\\_landed & R\\_avg\\_opp\\_TD\\_pct & R\\_avg\\_opp\\_TOTAL\\_STR\\_att & R\\_avg\\_opp\\_TOTAL\\_STR\\_landed & R\\_total\\_rounds\\_fought & R\\_total\\_time\\_fought.seconds. & R\\_total\\_title\\_bouts & R\\_win\\_by\\_Decision\\_Majority & R\\_win\\_by\\_Decision\\_Split & R\\_win\\_by\\_Decision\\_Unanimous & R\\_win\\_by\\_KO.TKO & R\\_win\\_by\\_Submission & R\\_win\\_by\\_TKO\\_Doctor\\_Stoppage & R\\_wins & R\\_Stance & R\\_Height\\_cms & R\\_Reach\\_cms & R\\_Weight\\_lbs & B\\_age & R\\_age\\\\\n",
       "  & <fct> & <fct> & <fct> & <date> & <fct> & <fct> & <fct> & <fct> & <int> & <dbl> & <dbl> & <dbl> & <dbl> & <dbl> & <dbl> & <dbl> & <dbl> & <dbl> & <dbl> & <dbl> & <dbl> & <dbl> & <dbl> & <dbl> & <dbl> & <dbl> & <dbl> & <dbl> & <dbl> & <dbl> & <dbl> & <dbl> & <dbl> & <dbl> & <dbl> & <dbl> & <dbl> & <dbl> & <dbl> & <dbl> & <dbl> & <dbl> & <dbl> & <dbl> & <dbl> & <dbl> & <dbl> & <dbl> & <dbl> & <dbl> & <dbl> & <dbl> & <dbl> & <dbl> & <dbl> & <dbl> & <dbl> & <dbl> & <dbl> & <dbl> & <dbl> & <dbl> & <dbl> & <dbl> & <dbl> & <dbl> & <dbl> & <dbl> & <dbl> & <dbl> & <dbl> & <dbl> & <fct> & <dbl> & <dbl> & <dbl> & <dbl> & <dbl> & <dbl> & <dbl> & <dbl> & <dbl> & <dbl> & <dbl> & <dbl> & <dbl> & <dbl> & <dbl> & <dbl> & <dbl> & <dbl> & <dbl> & <dbl> & <dbl> & <dbl> & <dbl> & <dbl> & <dbl> & <dbl> & <dbl> & <dbl> & <dbl> & <dbl> & <dbl> & <dbl> & <dbl> & <dbl> & <dbl> & <dbl> & <dbl> & <dbl> & <dbl> & <dbl> & <dbl> & <dbl> & <dbl> & <dbl> & <dbl> & <dbl> & <dbl> & <dbl> & <dbl> & <dbl> & <dbl> & <dbl> & <dbl> & <dbl> & <dbl> & <dbl> & <dbl> & <dbl> & <dbl> & <dbl> & <dbl> & <dbl> & <dbl> & <dbl> & <dbl> & <dbl> & <fct> & <dbl> & <dbl> & <dbl> & <dbl> & <dbl>\\\\\n",
       "\\hline\n",
       "\t3350 & Tito Ortiz    & Elvis Sinosic   & John McCarthy  & 2001-06-29 & East Rutherford, New Jersey, USA & Red & True  & Light Heavyweight & 5 & 0 & 1 & 0 &  1.0000000 &  1.0000000 &  0.000000 &  0 &  5.000000 &  2.000000 &  0.00000 &  0.00000 &  3 &  0.00000 & 0.0000000 &  1.000000 &  1.0 & 0.0000000 & 0 &  5.00000 &  2.00000 & 0.4000000 & 2.000000 & 0.0000000 & 0.0000000 & 0.0000000 &  24.0 &  21.00000 & 1 & 0 & 2.0000000 & 1.0000000 &  0.0 & 0.000000 &  8.000000 & 2.0000000 & 2.000000 & 2.000000 &  8.000000 & 3.000000 & 0.0 & 0.0 & 0.0 & 0.0000000 & 0 & 10.000000 & 4.0 & 0.4000000 & 0 & 0.0000000 & 0.0000000 & 0.0000000 & 37.000000 & 28.00000 & 1 & 172.00000 & 0 & 0 & 0 & 0 & 0 & 1 & 0 & 1 & Orthodox & 190.50 & 195.58 & 205 & 0 & 3 & 0 & 2.125000 & 1.500000 &  4.250000 & 1.625000 &  9.12500 & 2.500000 & 25.000000 & 14.875000 & 36.00000 & 17.25000 & 0.1250000 &  0.2500000 & 0.2500000 & 1.375000 & 0.0000000 & 38.37500 & 19.00000 & 0.5837500 & 0.2500000 & 4.0000000 & 3.1250000 & 0.8487500 & 76.25000 & 54.25 & 3 & 2 & 1.750000 & 1.125000 & 2.875000 & 1.375000 & 12.25000 & 4.625000 & 0.7500000 & 0.7500000 & 10.12500 & 2.875000 & 0.1250000 & 4.000000 & 2.750000 & 0.0000000 & 0.1250000 & 15.87500 &  6.750000 & 0.2787500 & 0.6250000 & 0.2500000 & 0.000000 & 0.0000000 & 61.75000 & 51.625 & 16 & 555.5000 & 5 & 0 & 0 & 1 & 3 & 1 & 1 & 6 & Orthodox & 190.50 & 187.96 & 205 & 30 & 26\\\\\n",
       "\t3351 & Tito Ortiz    & Evan Tanner     & John McCarthy  & 2001-02-23 & Atlantic City, New Jersey, USA   & Red & True  & Light Heavyweight & 5 & 0 & 3 & 0 &  7.6666667 &  6.6666667 & 10.000000 &  7 &  8.666667 &  5.000000 & 17.66667 & 14.33333 & 24 & 15.66667 & 0.0000000 &  4.666667 &  4.0 & 2.0000000 & 0 & 36.33333 & 26.33333 & 0.7166667 & 1.666667 & 1.0000000 & 1.0000000 & 1.0000000 &  43.0 &  32.33333 & 3 & 0 & 0.3333333 & 0.3333333 &  2.0 & 1.666667 &  7.333333 & 0.6666667 & 4.666667 & 1.666667 & 13.666667 & 3.666667 & 0.0 & 0.0 & 0.0 & 0.6666667 & 0 & 14.000000 & 4.0 & 0.3833333 & 0 & 0.3333333 & 0.3333333 & 0.3333333 & 31.333333 & 18.33333 & 3 & 317.66667 & 0 & 0 & 0 & 0 & 2 & 1 & 0 & 3 & Orthodox & 182.88 & 187.96 & 185 & 0 & 2 & 0 & 2.142857 & 1.428571 &  4.285714 & 1.285714 & 10.28571 & 2.714286 & 28.285714 & 16.714286 & 40.57143 & 19.14286 & 0.1428571 &  0.1428571 & 0.1428571 & 1.571429 & 0.0000000 & 42.85714 & 20.71429 & 0.5242857 & 0.2857143 & 4.4285714 & 3.4285714 & 0.8271429 & 86.14286 & 61.00 & 2 & 2 & 1.857143 & 1.285714 & 3.285714 & 1.571429 & 13.85714 & 5.285714 & 0.8571429 & 0.8571429 & 11.57143 & 3.285714 & 0.1428571 & 4.571429 & 3.142857 & 0.0000000 & 0.1428571 & 18.00000 &  7.714286 & 0.3185714 & 0.7142857 & 0.2857143 & 0.000000 & 0.0000000 & 70.42857 & 59.000 & 15 & 630.2857 & 4 & 0 & 0 & 1 & 2 & 1 & 1 & 5 & Orthodox & 190.50 & 187.96 & 205 & 30 & 26\\\\\n",
       "\t3352 & Chuck Liddell & Jeff Monson     & Mario Yamasaki & 2000-12-16 & Tokyo, Japan                     & Red & False & Middleweight      & 3 & 0 & 1 & 0 & 12.0000000 & 10.0000000 &  6.000000 &  3 &  3.000000 &  0.000000 & 53.00000 & 28.00000 & 49 & 20.00000 & 0.0000000 &  1.000000 &  1.0 & 2.0000000 & 0 & 62.00000 & 31.00000 & 0.5000000 & 0.000000 & 4.0000000 & 1.0000000 & 0.2500000 & 160.0 & 122.00000 & 1 & 0 & 0.0000000 & 0.0000000 &  1.0 & 0.000000 &  6.000000 & 1.0000000 & 7.000000 & 4.000000 & 14.000000 & 5.000000 & 0.0 & 0.0 & 0.0 & 0.0000000 & 0 & 14.000000 & 5.0 & 0.3500000 & 0 & 1.0000000 & 0.0000000 & 0.0000000 & 54.000000 & 40.00000 & 2 & 600.00000 & 0 & 0 & 0 & 1 & 0 & 0 & 0 & 1 & Orthodox & 175.26 & 187.96 & 247 & 0 & 1 & 0 & 3.666667 & 2.000000 & 16.666667 & 9.333333 & 25.00000 & 8.666667 &  8.333333 &  5.666667 & 32.00000 & 12.66667 & 0.0000000 & 14.3333333 & 9.0000000 & 1.000000 & 0.3333333 & 50.00000 & 23.66667 & 0.4733333 & 0.0000000 & 0.6666667 & 0.6666667 & 0.3333333 & 73.66667 & 46.00 & 1 & 1 & 2.333333 & 2.000000 & 6.333333 & 2.666667 & 12.00000 & 4.333333 & 0.3333333 & 0.3333333 & 14.00000 & 3.000000 & 0.0000000 & 2.333333 & 2.333333 & 0.6666667 & 0.0000000 & 18.66667 &  7.333333 & 0.5533333 & 1.0000000 & 4.3333333 & 1.333333 & 0.4733333 & 21.33333 & 10.000 &  3 & 557.6667 & 0 & 0 & 0 & 1 & 0 & 0 & 1 & 2 & Orthodox & 187.96 & 193.04 & 205 & 29 & 30\\\\\n",
       "\t3353 & Tito Ortiz    & Wanderlei Silva & John McCarthy  & 2000-04-14 & Tokyo, Japan                     & Red & True  & Light Heavyweight & 5 & 0 & 1 & 0 &  7.0000000 &  6.5000000 & 14.500000 & 12 &  2.000000 &  0.500000 &  0.50000 &  0.50000 &  9 &  6.00000 & 0.5000000 &  1.000000 &  0.5 & 0.0000000 & 0 & 17.00000 & 13.00000 & 0.6400000 & 0.000000 & 0.0000000 & 0.0000000 & 0.0000000 &  20.5 &  16.50000 & 1 & 1 & 0.5000000 & 0.0000000 &  2.5 & 2.000000 &  6.500000 & 3.5000000 & 0.000000 & 0.000000 &  8.000000 & 5.000000 & 0.5 & 0.5 & 0.5 & 0.0000000 & 0 &  9.000000 & 5.5 & 0.6650000 & 0 & 1.0000000 & 0.0000000 & 0.0000000 & 10.000000 &  6.50000 & 2 & 108.50000 & 0 & 0 & 0 & 0 & 1 & 0 & 0 & 1 & Orthodox & 180.34 & 187.96 & 205 & 1 & 0 & 0 & 2.600000 & 1.600000 &  5.800000 & 1.800000 & 13.60000 & 3.400000 & 27.600000 & 16.600000 & 44.20000 & 20.00000 & 0.0000000 &  0.2000000 & 0.2000000 & 1.800000 & 0.0000000 & 47.00000 & 21.80000 & 0.4980000 & 0.0000000 & 4.6000000 & 3.6000000 & 0.8260000 & 80.00000 & 53.00 & 2 & 2 & 2.200000 & 1.600000 & 3.000000 & 1.400000 & 14.80000 & 5.800000 & 1.2000000 & 1.2000000 & 11.80000 & 3.200000 & 0.0000000 & 5.000000 & 3.600000 & 0.0000000 & 0.2000000 & 19.00000 &  8.400000 & 0.2720000 & 1.0000000 & 0.2000000 & 0.000000 & 0.0000000 & 59.60000 & 48.200 &  9 & 560.0000 & 2 & 0 & 0 & 0 & 2 & 0 & 1 & 3 & Orthodox & 190.50 & 187.96 & 205 & 23 & 25\\\\\n",
       "\t3354 & Jeremy Horn   & Chuck Liddell   & John McCarthy  & 1999-03-05 & Bay St. Louis, Mississippi, USA  & Red & False & Middleweight      & 2 & 0 & 1 & 0 &  9.0000000 &  6.0000000 & 36.000000 & 21 & 52.000000 & 20.000000 & 10.00000 &  5.00000 & 47 & 13.00000 & 0.0000000 & 42.000000 & 27.0 & 2.0000000 & 0 & 98.00000 & 46.00000 & 0.4600000 & 0.000000 & 2.0000000 & 2.0000000 & 1.0000000 & 117.0 &  61.00000 & 1 & 0 & 0.0000000 & 0.0000000 & 12.0 & 3.000000 & 25.000000 & 5.0000000 & 1.000000 & 1.000000 & 37.000000 & 8.000000 & 0.0 & 1.0 & 1.0 & 0.0000000 & 0 & 38.000000 & 9.0 & 0.2300000 & 0 & 1.0000000 & 1.0000000 & 1.0000000 & 40.000000 & 11.00000 & 1 & 720.00000 & 0 & 0 & 0 & 1 & 0 & 0 & 0 & 1 & Orthodox & 187.96 & 193.04 & 205 & 2 & 0 & 0 & 2.500000 & 2.000000 &  2.500000 & 1.500000 &  6.50000 & 2.000000 &  6.000000 &  5.000000 & 10.00000 &  5.00000 & 0.0000000 &  2.5000000 & 1.5000000 & 3.000000 & 0.0000000 & 15.00000 &  8.50000 & 0.5800000 & 0.0000000 & 5.0000000 & 2.5000000 & 0.2500000 & 35.50000 & 28.00 & 0 & 2 & 9.000000 & 7.500000 & 9.000000 & 6.500000 &  7.00000 & 3.000000 & 6.0000000 & 5.0000000 &  9.50000 & 4.500000 & 0.0000000 & 3.500000 & 2.500000 & 0.0000000 & 1.0000000 & 22.00000 & 14.500000 & 0.6350000 & 2.0000000 & 0.5000000 & 0.500000 & 0.5000000 & 77.50000 & 69.000 &  3 & 597.5000 & 1 & 0 & 0 & 0 & 0 & 0 & 0 & 0 & Orthodox & 185.42 & 187.96 & 185 & 29 & 23\\\\\n",
       "\t3355 & Randy Couture & Vitor Belfort   & John McCarthy  & 1997-10-17 & Bay St. Louis, Mississippi, USA  & Red & False & Heavyweight       & 2 & 0 & 3 & 0 &  0.6666667 &  0.6666667 &  8.666667 &  4 &  2.666667 &  1.666667 & 10.33333 &  8.00000 & 21 & 13.00000 & 0.6666667 &  0.000000 &  0.0 & 0.3333333 & 0 & 21.66667 & 13.66667 & 0.6500000 & 0.000000 & 0.3333333 & 0.3333333 & 0.3333333 &  24.0 &  16.00000 & 3 & 0 & 1.0000000 & 1.0000000 &  3.0 & 1.000000 &  1.666667 & 0.0000000 & 0.000000 & 0.000000 &  3.666667 & 0.000000 & 0.0 & 0.0 & 0.0 & 0.0000000 & 0 &  4.666667 & 1.0 & 0.1800000 & 0 & 0.3333333 & 0.0000000 & 0.0000000 &  4.666667 &  1.00000 & 3 &  57.33333 & 1 & 0 & 0 & 0 & 3 & 0 & 0 & 3 & Southpaw & 182.88 & 187.96 & 185 & 0 & 2 & 0 & 0.500000 & 0.500000 &  0.000000 & 0.000000 &  0.00000 & 0.000000 & 10.000000 &  8.500000 &  9.50000 &  8.00000 & 0.0000000 &  0.0000000 & 0.0000000 & 3.000000 & 0.0000000 & 10.00000 &  8.50000 & 0.9200000 & 0.5000000 & 1.0000000 & 1.0000000 & 1.0000000 & 14.50000 & 13.00 & 2 & 0 & 0.000000 & 0.000000 & 0.000000 & 0.000000 &  0.00000 & 0.000000 & 0.0000000 & 0.0000000 &  0.00000 & 0.000000 & 0.0000000 & 0.000000 & 0.000000 & 0.0000000 & 0.0000000 &  0.00000 &  0.000000 & 0.0000000 & 0.0000000 & 0.0000000 & 0.000000 & 0.0000000 &  0.50000 &  0.500 &  2 & 124.5000 & 1 & 0 & 0 & 0 & 1 & 1 & 0 & 2 & Orthodox & 185.42 & 190.50 & 205 & 20 & 34\\\\\n",
       "\\end{tabular}\n"
      ],
      "text/markdown": [
       "\n",
       "A data.frame: 6 × 145\n",
       "\n",
       "| <!--/--> | R_fighter &lt;fct&gt; | B_fighter &lt;fct&gt; | Referee &lt;fct&gt; | date &lt;date&gt; | location &lt;fct&gt; | Winner &lt;fct&gt; | title_bout &lt;fct&gt; | weight_class &lt;fct&gt; | no_of_rounds &lt;int&gt; | B_current_lose_streak &lt;dbl&gt; | ... ... | R_win_by_KO.TKO &lt;dbl&gt; | R_win_by_Submission &lt;dbl&gt; | R_win_by_TKO_Doctor_Stoppage &lt;dbl&gt; | R_wins &lt;dbl&gt; | R_Stance &lt;fct&gt; | R_Height_cms &lt;dbl&gt; | R_Reach_cms &lt;dbl&gt; | R_Weight_lbs &lt;dbl&gt; | B_age &lt;dbl&gt; | R_age &lt;dbl&gt; |\n",
       "|---|---|---|---|---|---|---|---|---|---|---|---|---|---|---|---|---|---|---|---|---|---|\n",
       "| 3350 | Tito Ortiz    | Elvis Sinosic   | John McCarthy  | 2001-06-29 | East Rutherford, New Jersey, USA | Red | True  | Light Heavyweight | 5 | 0 | ... | 3 | 1 | 1 | 6 | Orthodox | 190.50 | 187.96 | 205 | 30 | 26 |\n",
       "| 3351 | Tito Ortiz    | Evan Tanner     | John McCarthy  | 2001-02-23 | Atlantic City, New Jersey, USA   | Red | True  | Light Heavyweight | 5 | 0 | ... | 2 | 1 | 1 | 5 | Orthodox | 190.50 | 187.96 | 205 | 30 | 26 |\n",
       "| 3352 | Chuck Liddell | Jeff Monson     | Mario Yamasaki | 2000-12-16 | Tokyo, Japan                     | Red | False | Middleweight      | 3 | 0 | ... | 0 | 0 | 1 | 2 | Orthodox | 187.96 | 193.04 | 205 | 29 | 30 |\n",
       "| 3353 | Tito Ortiz    | Wanderlei Silva | John McCarthy  | 2000-04-14 | Tokyo, Japan                     | Red | True  | Light Heavyweight | 5 | 0 | ... | 2 | 0 | 1 | 3 | Orthodox | 190.50 | 187.96 | 205 | 23 | 25 |\n",
       "| 3354 | Jeremy Horn   | Chuck Liddell   | John McCarthy  | 1999-03-05 | Bay St. Louis, Mississippi, USA  | Red | False | Middleweight      | 2 | 0 | ... | 0 | 0 | 0 | 0 | Orthodox | 185.42 | 187.96 | 185 | 29 | 23 |\n",
       "| 3355 | Randy Couture | Vitor Belfort   | John McCarthy  | 1997-10-17 | Bay St. Louis, Mississippi, USA  | Red | False | Heavyweight       | 2 | 0 | ... | 1 | 1 | 0 | 2 | Orthodox | 185.42 | 190.50 | 205 | 20 | 34 |\n",
       "\n"
      ],
      "text/plain": [
       "     R_fighter     B_fighter       Referee        date      \n",
       "3350 Tito Ortiz    Elvis Sinosic   John McCarthy  2001-06-29\n",
       "3351 Tito Ortiz    Evan Tanner     John McCarthy  2001-02-23\n",
       "3352 Chuck Liddell Jeff Monson     Mario Yamasaki 2000-12-16\n",
       "3353 Tito Ortiz    Wanderlei Silva John McCarthy  2000-04-14\n",
       "3354 Jeremy Horn   Chuck Liddell   John McCarthy  1999-03-05\n",
       "3355 Randy Couture Vitor Belfort   John McCarthy  1997-10-17\n",
       "     location                         Winner title_bout weight_class     \n",
       "3350 East Rutherford, New Jersey, USA Red    True       Light Heavyweight\n",
       "3351 Atlantic City, New Jersey, USA   Red    True       Light Heavyweight\n",
       "3352 Tokyo, Japan                     Red    False      Middleweight     \n",
       "3353 Tokyo, Japan                     Red    True       Light Heavyweight\n",
       "3354 Bay St. Louis, Mississippi, USA  Red    False      Middleweight     \n",
       "3355 Bay St. Louis, Mississippi, USA  Red    False      Heavyweight      \n",
       "     no_of_rounds B_current_lose_streak ... R_win_by_KO.TKO R_win_by_Submission\n",
       "3350 5            0                     ... 3               1                  \n",
       "3351 5            0                     ... 2               1                  \n",
       "3352 3            0                     ... 0               0                  \n",
       "3353 5            0                     ... 2               0                  \n",
       "3354 2            0                     ... 0               0                  \n",
       "3355 2            0                     ... 1               1                  \n",
       "     R_win_by_TKO_Doctor_Stoppage R_wins R_Stance R_Height_cms R_Reach_cms\n",
       "3350 1                            6      Orthodox 190.50       187.96     \n",
       "3351 1                            5      Orthodox 190.50       187.96     \n",
       "3352 1                            2      Orthodox 187.96       193.04     \n",
       "3353 1                            3      Orthodox 190.50       187.96     \n",
       "3354 0                            0      Orthodox 185.42       187.96     \n",
       "3355 0                            2      Orthodox 185.42       190.50     \n",
       "     R_Weight_lbs B_age R_age\n",
       "3350 205          30    26   \n",
       "3351 205          30    26   \n",
       "3352 205          29    30   \n",
       "3353 205          23    25   \n",
       "3354 185          29    23   \n",
       "3355 205          20    34   "
      ]
     },
     "metadata": {},
     "output_type": "display_data"
    }
   ],
   "source": [
    "# We need the 'win by' column from the read_fight data because our current win data doesn't have this column to answer our research question\n",
    "# as we need to filter by the fights that went to judges' decision.\n",
    "\n",
    "# import the new data file from the same source as our original\n",
    "read_fight <- read.csv(\"https://raw.githubusercontent.com/SamEdwardes/ufc-data/master/raw_total_fight_data.csv\", \n",
    "                       header = TRUE, sep = \";\") %>% \n",
    "        mutate(date = mdy(date)) %>%\n",
    "        select(\"R_fighter\", \"B_fighter\", \"win_by\", \"date\")\n",
    "\n",
    "# reformat the date on the initial data to be able to left join on date and fighter\n",
    "\n",
    "na_data <- na_data %>%\n",
    "        mutate(date = ymd(date))\n",
    "# merge together the old and new dataframes\n",
    "merge_data <- left_join(na_data, read_fight, by = c(\"R_fighter\", \"B_fighter\", \"date\"))\n",
    "\n",
    "tail(na_data)"
   ]
  },
  {
   "cell_type": "code",
   "execution_count": 57,
   "metadata": {},
   "outputs": [
    {
     "data": {
      "text/html": [
       "<table>\n",
       "<caption>A data.frame: 6 × 146</caption>\n",
       "<thead>\n",
       "\t<tr><th></th><th scope=col>R_fighter</th><th scope=col>B_fighter</th><th scope=col>Referee</th><th scope=col>date</th><th scope=col>location</th><th scope=col>Winner</th><th scope=col>title_bout</th><th scope=col>weight_class</th><th scope=col>no_of_rounds</th><th scope=col>B_current_lose_streak</th><th scope=col>...</th><th scope=col>R_win_by_Submission</th><th scope=col>R_win_by_TKO_Doctor_Stoppage</th><th scope=col>R_wins</th><th scope=col>R_Stance</th><th scope=col>R_Height_cms</th><th scope=col>R_Reach_cms</th><th scope=col>R_Weight_lbs</th><th scope=col>B_age</th><th scope=col>R_age</th><th scope=col>win_by</th></tr>\n",
       "\t<tr><th></th><th scope=col>&lt;fct&gt;</th><th scope=col>&lt;fct&gt;</th><th scope=col>&lt;fct&gt;</th><th scope=col>&lt;date&gt;</th><th scope=col>&lt;fct&gt;</th><th scope=col>&lt;fct&gt;</th><th scope=col>&lt;fct&gt;</th><th scope=col>&lt;fct&gt;</th><th scope=col>&lt;int&gt;</th><th scope=col>&lt;dbl&gt;</th><th scope=col>...</th><th scope=col>&lt;dbl&gt;</th><th scope=col>&lt;dbl&gt;</th><th scope=col>&lt;dbl&gt;</th><th scope=col>&lt;fct&gt;</th><th scope=col>&lt;dbl&gt;</th><th scope=col>&lt;dbl&gt;</th><th scope=col>&lt;dbl&gt;</th><th scope=col>&lt;dbl&gt;</th><th scope=col>&lt;dbl&gt;</th><th scope=col>&lt;fct&gt;</th></tr>\n",
       "</thead>\n",
       "<tbody>\n",
       "\t<tr><th scope=row>3350</th><td>Tito Ortiz   </td><td>Elvis Sinosic  </td><td>John McCarthy </td><td>2001-06-29</td><td>East Rutherford, New Jersey, USA</td><td>Red</td><td>True </td><td>Light Heavyweight</td><td>5</td><td>0</td><td>...</td><td>1</td><td>1</td><td>6</td><td>Orthodox</td><td>190.50</td><td>187.96</td><td>205</td><td>30</td><td>26</td><td>KO/TKO              </td></tr>\n",
       "\t<tr><th scope=row>3351</th><td>Tito Ortiz   </td><td>Evan Tanner    </td><td>John McCarthy </td><td>2001-02-23</td><td>Atlantic City, New Jersey, USA  </td><td>Red</td><td>True </td><td>Light Heavyweight</td><td>5</td><td>0</td><td>...</td><td>1</td><td>1</td><td>5</td><td>Orthodox</td><td>190.50</td><td>187.96</td><td>205</td><td>30</td><td>26</td><td>KO/TKO              </td></tr>\n",
       "\t<tr><th scope=row>3352</th><td>Chuck Liddell</td><td>Jeff Monson    </td><td>Mario Yamasaki</td><td>2000-12-16</td><td>Tokyo, Japan                    </td><td>Red</td><td>False</td><td>Middleweight     </td><td>3</td><td>0</td><td>...</td><td>0</td><td>1</td><td>2</td><td>Orthodox</td><td>187.96</td><td>193.04</td><td>205</td><td>29</td><td>30</td><td>Decision - Unanimous</td></tr>\n",
       "\t<tr><th scope=row>3353</th><td>Tito Ortiz   </td><td>Wanderlei Silva</td><td>John McCarthy </td><td>2000-04-14</td><td>Tokyo, Japan                    </td><td>Red</td><td>True </td><td>Light Heavyweight</td><td>5</td><td>0</td><td>...</td><td>0</td><td>1</td><td>3</td><td>Orthodox</td><td>190.50</td><td>187.96</td><td>205</td><td>23</td><td>25</td><td>Decision - Unanimous</td></tr>\n",
       "\t<tr><th scope=row>3354</th><td>Jeremy Horn  </td><td>Chuck Liddell  </td><td>John McCarthy </td><td>1999-03-05</td><td>Bay St. Louis, Mississippi, USA </td><td>Red</td><td>False</td><td>Middleweight     </td><td>2</td><td>0</td><td>...</td><td>0</td><td>0</td><td>0</td><td>Orthodox</td><td>185.42</td><td>187.96</td><td>185</td><td>29</td><td>23</td><td>Submission          </td></tr>\n",
       "\t<tr><th scope=row>3355</th><td>Randy Couture</td><td>Vitor Belfort  </td><td>John McCarthy </td><td>1997-10-17</td><td>Bay St. Louis, Mississippi, USA </td><td>Red</td><td>False</td><td>Heavyweight      </td><td>2</td><td>0</td><td>...</td><td>1</td><td>0</td><td>2</td><td>Orthodox</td><td>185.42</td><td>190.50</td><td>205</td><td>20</td><td>34</td><td>KO/TKO              </td></tr>\n",
       "</tbody>\n",
       "</table>\n"
      ],
      "text/latex": [
       "A data.frame: 6 × 146\n",
       "\\begin{tabular}{r|llllllllllllllllllllllllllllllllllllllllllllllllllllllllllllllllllllllllllllllllllllllllllllllllllllllllllllllllllllllllllllllllllllllllllllllllll}\n",
       "  & R\\_fighter & B\\_fighter & Referee & date & location & Winner & title\\_bout & weight\\_class & no\\_of\\_rounds & B\\_current\\_lose\\_streak & B\\_current\\_win\\_streak & B\\_draw & B\\_avg\\_BODY\\_att & B\\_avg\\_BODY\\_landed & B\\_avg\\_CLINCH\\_att & B\\_avg\\_CLINCH\\_landed & B\\_avg\\_DISTANCE\\_att & B\\_avg\\_DISTANCE\\_landed & B\\_avg\\_GROUND\\_att & B\\_avg\\_GROUND\\_landed & B\\_avg\\_HEAD\\_att & B\\_avg\\_HEAD\\_landed & B\\_avg\\_KD & B\\_avg\\_LEG\\_att & B\\_avg\\_LEG\\_landed & B\\_avg\\_PASS & B\\_avg\\_REV & B\\_avg\\_SIG\\_STR\\_att & B\\_avg\\_SIG\\_STR\\_landed & B\\_avg\\_SIG\\_STR\\_pct & B\\_avg\\_SUB\\_ATT & B\\_avg\\_TD\\_att & B\\_avg\\_TD\\_landed & B\\_avg\\_TD\\_pct & B\\_avg\\_TOTAL\\_STR\\_att & B\\_avg\\_TOTAL\\_STR\\_landed & B\\_longest\\_win\\_streak & B\\_losses & B\\_avg\\_opp\\_BODY\\_att & B\\_avg\\_opp\\_BODY\\_landed & B\\_avg\\_opp\\_CLINCH\\_att & B\\_avg\\_opp\\_CLINCH\\_landed & B\\_avg\\_opp\\_DISTANCE\\_att & B\\_avg\\_opp\\_DISTANCE\\_landed & B\\_avg\\_opp\\_GROUND\\_att & B\\_avg\\_opp\\_GROUND\\_landed & B\\_avg\\_opp\\_HEAD\\_att & B\\_avg\\_opp\\_HEAD\\_landed & B\\_avg\\_opp\\_KD & B\\_avg\\_opp\\_LEG\\_att & B\\_avg\\_opp\\_LEG\\_landed & B\\_avg\\_opp\\_PASS & B\\_avg\\_opp\\_REV & B\\_avg\\_opp\\_SIG\\_STR\\_att & B\\_avg\\_opp\\_SIG\\_STR\\_landed & B\\_avg\\_opp\\_SIG\\_STR\\_pct & B\\_avg\\_opp\\_SUB\\_ATT & B\\_avg\\_opp\\_TD\\_att & B\\_avg\\_opp\\_TD\\_landed & B\\_avg\\_opp\\_TD\\_pct & B\\_avg\\_opp\\_TOTAL\\_STR\\_att & B\\_avg\\_opp\\_TOTAL\\_STR\\_landed & B\\_total\\_rounds\\_fought & B\\_total\\_time\\_fought.seconds. & B\\_total\\_title\\_bouts & B\\_win\\_by\\_Decision\\_Majority & B\\_win\\_by\\_Decision\\_Split & B\\_win\\_by\\_Decision\\_Unanimous & B\\_win\\_by\\_KO.TKO & B\\_win\\_by\\_Submission & B\\_win\\_by\\_TKO\\_Doctor\\_Stoppage & B\\_wins & B\\_Stance & B\\_Height\\_cms & B\\_Reach\\_cms & B\\_Weight\\_lbs & R\\_current\\_lose\\_streak & R\\_current\\_win\\_streak & R\\_draw & R\\_avg\\_BODY\\_att & R\\_avg\\_BODY\\_landed & R\\_avg\\_CLINCH\\_att & R\\_avg\\_CLINCH\\_landed & R\\_avg\\_DISTANCE\\_att & R\\_avg\\_DISTANCE\\_landed & R\\_avg\\_GROUND\\_att & R\\_avg\\_GROUND\\_landed & R\\_avg\\_HEAD\\_att & R\\_avg\\_HEAD\\_landed & R\\_avg\\_KD & R\\_avg\\_LEG\\_att & R\\_avg\\_LEG\\_landed & R\\_avg\\_PASS & R\\_avg\\_REV & R\\_avg\\_SIG\\_STR\\_att & R\\_avg\\_SIG\\_STR\\_landed & R\\_avg\\_SIG\\_STR\\_pct & R\\_avg\\_SUB\\_ATT & R\\_avg\\_TD\\_att & R\\_avg\\_TD\\_landed & R\\_avg\\_TD\\_pct & R\\_avg\\_TOTAL\\_STR\\_att & R\\_avg\\_TOTAL\\_STR\\_landed & R\\_longest\\_win\\_streak & R\\_losses & R\\_avg\\_opp\\_BODY\\_att & R\\_avg\\_opp\\_BODY\\_landed & R\\_avg\\_opp\\_CLINCH\\_att & R\\_avg\\_opp\\_CLINCH\\_landed & R\\_avg\\_opp\\_DISTANCE\\_att & R\\_avg\\_opp\\_DISTANCE\\_landed & R\\_avg\\_opp\\_GROUND\\_att & R\\_avg\\_opp\\_GROUND\\_landed & R\\_avg\\_opp\\_HEAD\\_att & R\\_avg\\_opp\\_HEAD\\_landed & R\\_avg\\_opp\\_KD & R\\_avg\\_opp\\_LEG\\_att & R\\_avg\\_opp\\_LEG\\_landed & R\\_avg\\_opp\\_PASS & R\\_avg\\_opp\\_REV & R\\_avg\\_opp\\_SIG\\_STR\\_att & R\\_avg\\_opp\\_SIG\\_STR\\_landed & R\\_avg\\_opp\\_SIG\\_STR\\_pct & R\\_avg\\_opp\\_SUB\\_ATT & R\\_avg\\_opp\\_TD\\_att & R\\_avg\\_opp\\_TD\\_landed & R\\_avg\\_opp\\_TD\\_pct & R\\_avg\\_opp\\_TOTAL\\_STR\\_att & R\\_avg\\_opp\\_TOTAL\\_STR\\_landed & R\\_total\\_rounds\\_fought & R\\_total\\_time\\_fought.seconds. & R\\_total\\_title\\_bouts & R\\_win\\_by\\_Decision\\_Majority & R\\_win\\_by\\_Decision\\_Split & R\\_win\\_by\\_Decision\\_Unanimous & R\\_win\\_by\\_KO.TKO & R\\_win\\_by\\_Submission & R\\_win\\_by\\_TKO\\_Doctor\\_Stoppage & R\\_wins & R\\_Stance & R\\_Height\\_cms & R\\_Reach\\_cms & R\\_Weight\\_lbs & B\\_age & R\\_age & win\\_by\\\\\n",
       "  & <fct> & <fct> & <fct> & <date> & <fct> & <fct> & <fct> & <fct> & <int> & <dbl> & <dbl> & <dbl> & <dbl> & <dbl> & <dbl> & <dbl> & <dbl> & <dbl> & <dbl> & <dbl> & <dbl> & <dbl> & <dbl> & <dbl> & <dbl> & <dbl> & <dbl> & <dbl> & <dbl> & <dbl> & <dbl> & <dbl> & <dbl> & <dbl> & <dbl> & <dbl> & <dbl> & <dbl> & <dbl> & <dbl> & <dbl> & <dbl> & <dbl> & <dbl> & <dbl> & <dbl> & <dbl> & <dbl> & <dbl> & <dbl> & <dbl> & <dbl> & <dbl> & <dbl> & <dbl> & <dbl> & <dbl> & <dbl> & <dbl> & <dbl> & <dbl> & <dbl> & <dbl> & <dbl> & <dbl> & <dbl> & <dbl> & <dbl> & <dbl> & <dbl> & <dbl> & <dbl> & <fct> & <dbl> & <dbl> & <dbl> & <dbl> & <dbl> & <dbl> & <dbl> & <dbl> & <dbl> & <dbl> & <dbl> & <dbl> & <dbl> & <dbl> & <dbl> & <dbl> & <dbl> & <dbl> & <dbl> & <dbl> & <dbl> & <dbl> & <dbl> & <dbl> & <dbl> & <dbl> & <dbl> & <dbl> & <dbl> & <dbl> & <dbl> & <dbl> & <dbl> & <dbl> & <dbl> & <dbl> & <dbl> & <dbl> & <dbl> & <dbl> & <dbl> & <dbl> & <dbl> & <dbl> & <dbl> & <dbl> & <dbl> & <dbl> & <dbl> & <dbl> & <dbl> & <dbl> & <dbl> & <dbl> & <dbl> & <dbl> & <dbl> & <dbl> & <dbl> & <dbl> & <dbl> & <dbl> & <dbl> & <dbl> & <dbl> & <dbl> & <fct> & <dbl> & <dbl> & <dbl> & <dbl> & <dbl> & <fct>\\\\\n",
       "\\hline\n",
       "\t3350 & Tito Ortiz    & Elvis Sinosic   & John McCarthy  & 2001-06-29 & East Rutherford, New Jersey, USA & Red & True  & Light Heavyweight & 5 & 0 & 1 & 0 &  1.0000000 &  1.0000000 &  0.000000 &  0 &  5.000000 &  2.000000 &  0.00000 &  0.00000 &  3 &  0.00000 & 0.0000000 &  1.000000 &  1.0 & 0.0000000 & 0 &  5.00000 &  2.00000 & 0.4000000 & 2.000000 & 0.0000000 & 0.0000000 & 0.0000000 &  24.0 &  21.00000 & 1 & 0 & 2.0000000 & 1.0000000 &  0.0 & 0.000000 &  8.000000 & 2.0000000 & 2.000000 & 2.000000 &  8.000000 & 3.000000 & 0.0 & 0.0 & 0.0 & 0.0000000 & 0 & 10.000000 & 4.0 & 0.4000000 & 0 & 0.0000000 & 0.0000000 & 0.0000000 & 37.000000 & 28.00000 & 1 & 172.00000 & 0 & 0 & 0 & 0 & 0 & 1 & 0 & 1 & Orthodox & 190.50 & 195.58 & 205 & 0 & 3 & 0 & 2.125000 & 1.500000 &  4.250000 & 1.625000 &  9.12500 & 2.500000 & 25.000000 & 14.875000 & 36.00000 & 17.25000 & 0.1250000 &  0.2500000 & 0.2500000 & 1.375000 & 0.0000000 & 38.37500 & 19.00000 & 0.5837500 & 0.2500000 & 4.0000000 & 3.1250000 & 0.8487500 & 76.25000 & 54.25 & 3 & 2 & 1.750000 & 1.125000 & 2.875000 & 1.375000 & 12.25000 & 4.625000 & 0.7500000 & 0.7500000 & 10.12500 & 2.875000 & 0.1250000 & 4.000000 & 2.750000 & 0.0000000 & 0.1250000 & 15.87500 &  6.750000 & 0.2787500 & 0.6250000 & 0.2500000 & 0.000000 & 0.0000000 & 61.75000 & 51.625 & 16 & 555.5000 & 5 & 0 & 0 & 1 & 3 & 1 & 1 & 6 & Orthodox & 190.50 & 187.96 & 205 & 30 & 26 & KO/TKO              \\\\\n",
       "\t3351 & Tito Ortiz    & Evan Tanner     & John McCarthy  & 2001-02-23 & Atlantic City, New Jersey, USA   & Red & True  & Light Heavyweight & 5 & 0 & 3 & 0 &  7.6666667 &  6.6666667 & 10.000000 &  7 &  8.666667 &  5.000000 & 17.66667 & 14.33333 & 24 & 15.66667 & 0.0000000 &  4.666667 &  4.0 & 2.0000000 & 0 & 36.33333 & 26.33333 & 0.7166667 & 1.666667 & 1.0000000 & 1.0000000 & 1.0000000 &  43.0 &  32.33333 & 3 & 0 & 0.3333333 & 0.3333333 &  2.0 & 1.666667 &  7.333333 & 0.6666667 & 4.666667 & 1.666667 & 13.666667 & 3.666667 & 0.0 & 0.0 & 0.0 & 0.6666667 & 0 & 14.000000 & 4.0 & 0.3833333 & 0 & 0.3333333 & 0.3333333 & 0.3333333 & 31.333333 & 18.33333 & 3 & 317.66667 & 0 & 0 & 0 & 0 & 2 & 1 & 0 & 3 & Orthodox & 182.88 & 187.96 & 185 & 0 & 2 & 0 & 2.142857 & 1.428571 &  4.285714 & 1.285714 & 10.28571 & 2.714286 & 28.285714 & 16.714286 & 40.57143 & 19.14286 & 0.1428571 &  0.1428571 & 0.1428571 & 1.571429 & 0.0000000 & 42.85714 & 20.71429 & 0.5242857 & 0.2857143 & 4.4285714 & 3.4285714 & 0.8271429 & 86.14286 & 61.00 & 2 & 2 & 1.857143 & 1.285714 & 3.285714 & 1.571429 & 13.85714 & 5.285714 & 0.8571429 & 0.8571429 & 11.57143 & 3.285714 & 0.1428571 & 4.571429 & 3.142857 & 0.0000000 & 0.1428571 & 18.00000 &  7.714286 & 0.3185714 & 0.7142857 & 0.2857143 & 0.000000 & 0.0000000 & 70.42857 & 59.000 & 15 & 630.2857 & 4 & 0 & 0 & 1 & 2 & 1 & 1 & 5 & Orthodox & 190.50 & 187.96 & 205 & 30 & 26 & KO/TKO              \\\\\n",
       "\t3352 & Chuck Liddell & Jeff Monson     & Mario Yamasaki & 2000-12-16 & Tokyo, Japan                     & Red & False & Middleweight      & 3 & 0 & 1 & 0 & 12.0000000 & 10.0000000 &  6.000000 &  3 &  3.000000 &  0.000000 & 53.00000 & 28.00000 & 49 & 20.00000 & 0.0000000 &  1.000000 &  1.0 & 2.0000000 & 0 & 62.00000 & 31.00000 & 0.5000000 & 0.000000 & 4.0000000 & 1.0000000 & 0.2500000 & 160.0 & 122.00000 & 1 & 0 & 0.0000000 & 0.0000000 &  1.0 & 0.000000 &  6.000000 & 1.0000000 & 7.000000 & 4.000000 & 14.000000 & 5.000000 & 0.0 & 0.0 & 0.0 & 0.0000000 & 0 & 14.000000 & 5.0 & 0.3500000 & 0 & 1.0000000 & 0.0000000 & 0.0000000 & 54.000000 & 40.00000 & 2 & 600.00000 & 0 & 0 & 0 & 1 & 0 & 0 & 0 & 1 & Orthodox & 175.26 & 187.96 & 247 & 0 & 1 & 0 & 3.666667 & 2.000000 & 16.666667 & 9.333333 & 25.00000 & 8.666667 &  8.333333 &  5.666667 & 32.00000 & 12.66667 & 0.0000000 & 14.3333333 & 9.0000000 & 1.000000 & 0.3333333 & 50.00000 & 23.66667 & 0.4733333 & 0.0000000 & 0.6666667 & 0.6666667 & 0.3333333 & 73.66667 & 46.00 & 1 & 1 & 2.333333 & 2.000000 & 6.333333 & 2.666667 & 12.00000 & 4.333333 & 0.3333333 & 0.3333333 & 14.00000 & 3.000000 & 0.0000000 & 2.333333 & 2.333333 & 0.6666667 & 0.0000000 & 18.66667 &  7.333333 & 0.5533333 & 1.0000000 & 4.3333333 & 1.333333 & 0.4733333 & 21.33333 & 10.000 &  3 & 557.6667 & 0 & 0 & 0 & 1 & 0 & 0 & 1 & 2 & Orthodox & 187.96 & 193.04 & 205 & 29 & 30 & Decision - Unanimous\\\\\n",
       "\t3353 & Tito Ortiz    & Wanderlei Silva & John McCarthy  & 2000-04-14 & Tokyo, Japan                     & Red & True  & Light Heavyweight & 5 & 0 & 1 & 0 &  7.0000000 &  6.5000000 & 14.500000 & 12 &  2.000000 &  0.500000 &  0.50000 &  0.50000 &  9 &  6.00000 & 0.5000000 &  1.000000 &  0.5 & 0.0000000 & 0 & 17.00000 & 13.00000 & 0.6400000 & 0.000000 & 0.0000000 & 0.0000000 & 0.0000000 &  20.5 &  16.50000 & 1 & 1 & 0.5000000 & 0.0000000 &  2.5 & 2.000000 &  6.500000 & 3.5000000 & 0.000000 & 0.000000 &  8.000000 & 5.000000 & 0.5 & 0.5 & 0.5 & 0.0000000 & 0 &  9.000000 & 5.5 & 0.6650000 & 0 & 1.0000000 & 0.0000000 & 0.0000000 & 10.000000 &  6.50000 & 2 & 108.50000 & 0 & 0 & 0 & 0 & 1 & 0 & 0 & 1 & Orthodox & 180.34 & 187.96 & 205 & 1 & 0 & 0 & 2.600000 & 1.600000 &  5.800000 & 1.800000 & 13.60000 & 3.400000 & 27.600000 & 16.600000 & 44.20000 & 20.00000 & 0.0000000 &  0.2000000 & 0.2000000 & 1.800000 & 0.0000000 & 47.00000 & 21.80000 & 0.4980000 & 0.0000000 & 4.6000000 & 3.6000000 & 0.8260000 & 80.00000 & 53.00 & 2 & 2 & 2.200000 & 1.600000 & 3.000000 & 1.400000 & 14.80000 & 5.800000 & 1.2000000 & 1.2000000 & 11.80000 & 3.200000 & 0.0000000 & 5.000000 & 3.600000 & 0.0000000 & 0.2000000 & 19.00000 &  8.400000 & 0.2720000 & 1.0000000 & 0.2000000 & 0.000000 & 0.0000000 & 59.60000 & 48.200 &  9 & 560.0000 & 2 & 0 & 0 & 0 & 2 & 0 & 1 & 3 & Orthodox & 190.50 & 187.96 & 205 & 23 & 25 & Decision - Unanimous\\\\\n",
       "\t3354 & Jeremy Horn   & Chuck Liddell   & John McCarthy  & 1999-03-05 & Bay St. Louis, Mississippi, USA  & Red & False & Middleweight      & 2 & 0 & 1 & 0 &  9.0000000 &  6.0000000 & 36.000000 & 21 & 52.000000 & 20.000000 & 10.00000 &  5.00000 & 47 & 13.00000 & 0.0000000 & 42.000000 & 27.0 & 2.0000000 & 0 & 98.00000 & 46.00000 & 0.4600000 & 0.000000 & 2.0000000 & 2.0000000 & 1.0000000 & 117.0 &  61.00000 & 1 & 0 & 0.0000000 & 0.0000000 & 12.0 & 3.000000 & 25.000000 & 5.0000000 & 1.000000 & 1.000000 & 37.000000 & 8.000000 & 0.0 & 1.0 & 1.0 & 0.0000000 & 0 & 38.000000 & 9.0 & 0.2300000 & 0 & 1.0000000 & 1.0000000 & 1.0000000 & 40.000000 & 11.00000 & 1 & 720.00000 & 0 & 0 & 0 & 1 & 0 & 0 & 0 & 1 & Orthodox & 187.96 & 193.04 & 205 & 2 & 0 & 0 & 2.500000 & 2.000000 &  2.500000 & 1.500000 &  6.50000 & 2.000000 &  6.000000 &  5.000000 & 10.00000 &  5.00000 & 0.0000000 &  2.5000000 & 1.5000000 & 3.000000 & 0.0000000 & 15.00000 &  8.50000 & 0.5800000 & 0.0000000 & 5.0000000 & 2.5000000 & 0.2500000 & 35.50000 & 28.00 & 0 & 2 & 9.000000 & 7.500000 & 9.000000 & 6.500000 &  7.00000 & 3.000000 & 6.0000000 & 5.0000000 &  9.50000 & 4.500000 & 0.0000000 & 3.500000 & 2.500000 & 0.0000000 & 1.0000000 & 22.00000 & 14.500000 & 0.6350000 & 2.0000000 & 0.5000000 & 0.500000 & 0.5000000 & 77.50000 & 69.000 &  3 & 597.5000 & 1 & 0 & 0 & 0 & 0 & 0 & 0 & 0 & Orthodox & 185.42 & 187.96 & 185 & 29 & 23 & Submission          \\\\\n",
       "\t3355 & Randy Couture & Vitor Belfort   & John McCarthy  & 1997-10-17 & Bay St. Louis, Mississippi, USA  & Red & False & Heavyweight       & 2 & 0 & 3 & 0 &  0.6666667 &  0.6666667 &  8.666667 &  4 &  2.666667 &  1.666667 & 10.33333 &  8.00000 & 21 & 13.00000 & 0.6666667 &  0.000000 &  0.0 & 0.3333333 & 0 & 21.66667 & 13.66667 & 0.6500000 & 0.000000 & 0.3333333 & 0.3333333 & 0.3333333 &  24.0 &  16.00000 & 3 & 0 & 1.0000000 & 1.0000000 &  3.0 & 1.000000 &  1.666667 & 0.0000000 & 0.000000 & 0.000000 &  3.666667 & 0.000000 & 0.0 & 0.0 & 0.0 & 0.0000000 & 0 &  4.666667 & 1.0 & 0.1800000 & 0 & 0.3333333 & 0.0000000 & 0.0000000 &  4.666667 &  1.00000 & 3 &  57.33333 & 1 & 0 & 0 & 0 & 3 & 0 & 0 & 3 & Southpaw & 182.88 & 187.96 & 185 & 0 & 2 & 0 & 0.500000 & 0.500000 &  0.000000 & 0.000000 &  0.00000 & 0.000000 & 10.000000 &  8.500000 &  9.50000 &  8.00000 & 0.0000000 &  0.0000000 & 0.0000000 & 3.000000 & 0.0000000 & 10.00000 &  8.50000 & 0.9200000 & 0.5000000 & 1.0000000 & 1.0000000 & 1.0000000 & 14.50000 & 13.00 & 2 & 0 & 0.000000 & 0.000000 & 0.000000 & 0.000000 &  0.00000 & 0.000000 & 0.0000000 & 0.0000000 &  0.00000 & 0.000000 & 0.0000000 & 0.000000 & 0.000000 & 0.0000000 & 0.0000000 &  0.00000 &  0.000000 & 0.0000000 & 0.0000000 & 0.0000000 & 0.000000 & 0.0000000 &  0.50000 &  0.500 &  2 & 124.5000 & 1 & 0 & 0 & 0 & 1 & 1 & 0 & 2 & Orthodox & 185.42 & 190.50 & 205 & 20 & 34 & KO/TKO              \\\\\n",
       "\\end{tabular}\n"
      ],
      "text/markdown": [
       "\n",
       "A data.frame: 6 × 146\n",
       "\n",
       "| <!--/--> | R_fighter &lt;fct&gt; | B_fighter &lt;fct&gt; | Referee &lt;fct&gt; | date &lt;date&gt; | location &lt;fct&gt; | Winner &lt;fct&gt; | title_bout &lt;fct&gt; | weight_class &lt;fct&gt; | no_of_rounds &lt;int&gt; | B_current_lose_streak &lt;dbl&gt; | ... ... | R_win_by_Submission &lt;dbl&gt; | R_win_by_TKO_Doctor_Stoppage &lt;dbl&gt; | R_wins &lt;dbl&gt; | R_Stance &lt;fct&gt; | R_Height_cms &lt;dbl&gt; | R_Reach_cms &lt;dbl&gt; | R_Weight_lbs &lt;dbl&gt; | B_age &lt;dbl&gt; | R_age &lt;dbl&gt; | win_by &lt;fct&gt; |\n",
       "|---|---|---|---|---|---|---|---|---|---|---|---|---|---|---|---|---|---|---|---|---|---|\n",
       "| 3350 | Tito Ortiz    | Elvis Sinosic   | John McCarthy  | 2001-06-29 | East Rutherford, New Jersey, USA | Red | True  | Light Heavyweight | 5 | 0 | ... | 1 | 1 | 6 | Orthodox | 190.50 | 187.96 | 205 | 30 | 26 | KO/TKO               |\n",
       "| 3351 | Tito Ortiz    | Evan Tanner     | John McCarthy  | 2001-02-23 | Atlantic City, New Jersey, USA   | Red | True  | Light Heavyweight | 5 | 0 | ... | 1 | 1 | 5 | Orthodox | 190.50 | 187.96 | 205 | 30 | 26 | KO/TKO               |\n",
       "| 3352 | Chuck Liddell | Jeff Monson     | Mario Yamasaki | 2000-12-16 | Tokyo, Japan                     | Red | False | Middleweight      | 3 | 0 | ... | 0 | 1 | 2 | Orthodox | 187.96 | 193.04 | 205 | 29 | 30 | Decision - Unanimous |\n",
       "| 3353 | Tito Ortiz    | Wanderlei Silva | John McCarthy  | 2000-04-14 | Tokyo, Japan                     | Red | True  | Light Heavyweight | 5 | 0 | ... | 0 | 1 | 3 | Orthodox | 190.50 | 187.96 | 205 | 23 | 25 | Decision - Unanimous |\n",
       "| 3354 | Jeremy Horn   | Chuck Liddell   | John McCarthy  | 1999-03-05 | Bay St. Louis, Mississippi, USA  | Red | False | Middleweight      | 2 | 0 | ... | 0 | 0 | 0 | Orthodox | 185.42 | 187.96 | 185 | 29 | 23 | Submission           |\n",
       "| 3355 | Randy Couture | Vitor Belfort   | John McCarthy  | 1997-10-17 | Bay St. Louis, Mississippi, USA  | Red | False | Heavyweight       | 2 | 0 | ... | 1 | 0 | 2 | Orthodox | 185.42 | 190.50 | 205 | 20 | 34 | KO/TKO               |\n",
       "\n"
      ],
      "text/plain": [
       "     R_fighter     B_fighter       Referee        date      \n",
       "3350 Tito Ortiz    Elvis Sinosic   John McCarthy  2001-06-29\n",
       "3351 Tito Ortiz    Evan Tanner     John McCarthy  2001-02-23\n",
       "3352 Chuck Liddell Jeff Monson     Mario Yamasaki 2000-12-16\n",
       "3353 Tito Ortiz    Wanderlei Silva John McCarthy  2000-04-14\n",
       "3354 Jeremy Horn   Chuck Liddell   John McCarthy  1999-03-05\n",
       "3355 Randy Couture Vitor Belfort   John McCarthy  1997-10-17\n",
       "     location                         Winner title_bout weight_class     \n",
       "3350 East Rutherford, New Jersey, USA Red    True       Light Heavyweight\n",
       "3351 Atlantic City, New Jersey, USA   Red    True       Light Heavyweight\n",
       "3352 Tokyo, Japan                     Red    False      Middleweight     \n",
       "3353 Tokyo, Japan                     Red    True       Light Heavyweight\n",
       "3354 Bay St. Louis, Mississippi, USA  Red    False      Middleweight     \n",
       "3355 Bay St. Louis, Mississippi, USA  Red    False      Heavyweight      \n",
       "     no_of_rounds B_current_lose_streak ... R_win_by_Submission\n",
       "3350 5            0                     ... 1                  \n",
       "3351 5            0                     ... 1                  \n",
       "3352 3            0                     ... 0                  \n",
       "3353 5            0                     ... 0                  \n",
       "3354 2            0                     ... 0                  \n",
       "3355 2            0                     ... 1                  \n",
       "     R_win_by_TKO_Doctor_Stoppage R_wins R_Stance R_Height_cms R_Reach_cms\n",
       "3350 1                            6      Orthodox 190.50       187.96     \n",
       "3351 1                            5      Orthodox 190.50       187.96     \n",
       "3352 1                            2      Orthodox 187.96       193.04     \n",
       "3353 1                            3      Orthodox 190.50       187.96     \n",
       "3354 0                            0      Orthodox 185.42       187.96     \n",
       "3355 0                            2      Orthodox 185.42       190.50     \n",
       "     R_Weight_lbs B_age R_age win_by              \n",
       "3350 205          30    26    KO/TKO              \n",
       "3351 205          30    26    KO/TKO              \n",
       "3352 205          29    30    Decision - Unanimous\n",
       "3353 205          23    25    Decision - Unanimous\n",
       "3354 185          29    23    Submission          \n",
       "3355 205          20    34    KO/TKO              "
      ]
     },
     "metadata": {},
     "output_type": "display_data"
    }
   ],
   "source": [
    "tail(merge_data)"
   ]
  },
  {
   "cell_type": "code",
   "execution_count": 58,
   "metadata": {},
   "outputs": [
    {
     "data": {
      "text/html": [
       "<ol class=list-inline>\n",
       "\t<li>KO/TKO</li>\n",
       "\t<li>TKO - Doctor's Stoppage</li>\n",
       "\t<li>Decision - Unanimous</li>\n",
       "\t<li>Submission</li>\n",
       "\t<li>Decision - Split</li>\n",
       "\t<li>Overturned</li>\n",
       "\t<li>Decision - Majority</li>\n",
       "\t<li>DQ</li>\n",
       "\t<li>Could Not Continue</li>\n",
       "</ol>\n",
       "\n",
       "<details>\n",
       "\t<summary style=display:list-item;cursor:pointer>\n",
       "\t\t<strong>Levels</strong>:\n",
       "\t</summary>\n",
       "\t<ol class=list-inline>\n",
       "\t\t<li>'Could Not Continue'</li>\n",
       "\t\t<li>'Decision - Majority'</li>\n",
       "\t\t<li>'Decision - Split'</li>\n",
       "\t\t<li>'Decision - Unanimous'</li>\n",
       "\t\t<li>'DQ'</li>\n",
       "\t\t<li>'KO/TKO'</li>\n",
       "\t\t<li>'Other'</li>\n",
       "\t\t<li>'Overturned'</li>\n",
       "\t\t<li>'Submission'</li>\n",
       "\t\t<li>'TKO - Doctor\\'s Stoppage'</li>\n",
       "\t</ol>\n",
       "</details>"
      ],
      "text/latex": [
       "\\begin{enumerate*}\n",
       "\\item KO/TKO\n",
       "\\item TKO - Doctor's Stoppage\n",
       "\\item Decision - Unanimous\n",
       "\\item Submission\n",
       "\\item Decision - Split\n",
       "\\item Overturned\n",
       "\\item Decision - Majority\n",
       "\\item DQ\n",
       "\\item Could Not Continue\n",
       "\\end{enumerate*}\n",
       "\n",
       "\\emph{Levels}: \\begin{enumerate*}\n",
       "\\item 'Could Not Continue'\n",
       "\\item 'Decision - Majority'\n",
       "\\item 'Decision - Split'\n",
       "\\item 'Decision - Unanimous'\n",
       "\\item 'DQ'\n",
       "\\item 'KO/TKO'\n",
       "\\item 'Other'\n",
       "\\item 'Overturned'\n",
       "\\item 'Submission'\n",
       "\\item 'TKO - Doctor\\textbackslash{}'s Stoppage'\n",
       "\\end{enumerate*}\n"
      ],
      "text/markdown": [
       "1. KO/TKO\n",
       "2. TKO - Doctor's Stoppage\n",
       "3. Decision - Unanimous\n",
       "4. Submission\n",
       "5. Decision - Split\n",
       "6. Overturned\n",
       "7. Decision - Majority\n",
       "8. DQ\n",
       "9. Could Not Continue\n",
       "\n",
       "\n",
       "\n",
       "**Levels**: 1. 'Could Not Continue'\n",
       "2. 'Decision - Majority'\n",
       "3. 'Decision - Split'\n",
       "4. 'Decision - Unanimous'\n",
       "5. 'DQ'\n",
       "6. 'KO/TKO'\n",
       "7. 'Other'\n",
       "8. 'Overturned'\n",
       "9. 'Submission'\n",
       "10. 'TKO - Doctor\\'s Stoppage'\n",
       "\n",
       "\n"
      ],
      "text/plain": [
       "[1] KO/TKO                  TKO - Doctor's Stoppage Decision - Unanimous   \n",
       "[4] Submission              Decision - Split        Overturned             \n",
       "[7] Decision - Majority     DQ                      Could Not Continue     \n",
       "10 Levels: Could Not Continue Decision - Majority ... TKO - Doctor's Stoppage"
      ]
     },
     "metadata": {},
     "output_type": "display_data"
    }
   ],
   "source": [
    "# Find the different values we need to answer the question we have. Since we are only looking at judge's choice, we can only keep decsions. \n",
    "unique(merge_data$win_by)"
   ]
  },
  {
   "cell_type": "code",
   "execution_count": 59,
   "metadata": {},
   "outputs": [
    {
     "data": {
      "text/html": [
       "3355"
      ],
      "text/latex": [
       "3355"
      ],
      "text/markdown": [
       "3355"
      ],
      "text/plain": [
       "[1] 3355"
      ]
     },
     "metadata": {},
     "output_type": "display_data"
    }
   ],
   "source": [
    "nrow(merge_data)"
   ]
  },
  {
   "cell_type": "markdown",
   "metadata": {},
   "source": [
    "**Observations:**\n",
    "\n",
    "- The win by column was able to join to our data with the correct win by column. The values were what I expected for the column win by. There is no null values which means everything mapped. \n",
    "\n",
    "- The nrows match our initial number of rows of 2,693 on the data after we dropped NAs"
   ]
  },
  {
   "cell_type": "markdown",
   "metadata": {},
   "source": [
    "### Extra Wrangling"
   ]
  },
  {
   "cell_type": "code",
   "execution_count": 60,
   "metadata": {},
   "outputs": [
    {
     "data": {
      "text/plain": [
       "           R_fighter               B_fighter     Winner     B_avg_BODY_att  \n",
       " Jim Miller     :  20   Jeremy Stephens :  17   Blue:1202   Min.   : 0.000  \n",
       " Michael Bisping:  20   Charles Oliveira:  16   Draw:  53   1st Qu.: 4.000  \n",
       " Anderson Silva :  19   Nik Lentz       :  13   Red :2100   Median : 7.600  \n",
       " Demian Maia    :  19   Evan Dunham     :  12               Mean   : 9.248  \n",
       " Donald Cerrone :  19   Rafael Dos Anjos:  12               3rd Qu.:12.667  \n",
       " Diego Sanchez  :  17   Dan Henderson   :  11               Max.   :49.000  \n",
       " (Other)        :3241   (Other)         :3274                               \n",
       " B_avg_BODY_landed B_avg_CLINCH_att B_avg_CLINCH_landed B_avg_DISTANCE_att\n",
       " Min.   : 0.000    Min.   : 0.000   Min.   : 0.000      Min.   :  0.00    \n",
       " 1st Qu.: 2.875    1st Qu.: 3.500   1st Qu.: 2.000      1st Qu.: 26.33    \n",
       " Median : 5.200    Median : 6.750   Median : 4.500      Median : 48.33    \n",
       " Mean   : 6.459    Mean   : 8.574   Mean   : 5.819      Mean   : 56.75    \n",
       " 3rd Qu.: 9.000    3rd Qu.:11.925   3rd Qu.: 8.000      3rd Qu.: 77.65    \n",
       " Max.   :39.000    Max.   :87.000   Max.   :68.000      Max.   :271.00    \n",
       "                                                                          \n",
       " B_avg_DISTANCE_landed B_avg_GROUND_att B_avg_GROUND_landed B_avg_HEAD_att  \n",
       " Min.   :  0.00        Min.   : 0.000   Min.   : 0.000      Min.   :  0.00  \n",
       " 1st Qu.:  9.00        1st Qu.: 3.000   1st Qu.: 2.000      1st Qu.: 33.33  \n",
       " Median : 16.67        Median : 7.000   Median : 4.636      Median : 53.00  \n",
       " Mean   : 20.74        Mean   : 8.933   Mean   : 5.931      Mean   : 58.69  \n",
       " 3rd Qu.: 28.83        3rd Qu.:12.333   3rd Qu.: 8.000      3rd Qu.: 77.00  \n",
       " Max.   :130.00        Max.   :88.000   Max.   :47.000      Max.   :277.00  \n",
       "                                                                            \n",
       " B_avg_HEAD_landed    B_avg_KD      B_avg_LEG_att    B_avg_LEG_landed\n",
       " Min.   :  0.00    Min.   :0.0000   Min.   : 0.000   Min.   : 0.000  \n",
       " 1st Qu.: 12.33    1st Qu.:0.0000   1st Qu.: 2.000   1st Qu.: 1.778  \n",
       " Median : 18.90    Median :0.1538   Median : 4.875   Median : 4.000  \n",
       " Mean   : 21.01    Mean   :0.2575   Mean   : 6.327   Mean   : 5.020  \n",
       " 3rd Qu.: 27.00    3rd Qu.:0.4286   3rd Qu.: 8.857   3rd Qu.: 7.000  \n",
       " Max.   :137.00    Max.   :5.0000   Max.   :61.000   Max.   :47.000  \n",
       "                                                                     \n",
       "   B_avg_PASS       B_avg_REV      B_avg_SIG_STR_att B_avg_SIG_STR_landed\n",
       " Min.   : 0.000   Min.   :0.0000   Min.   :  0.00    Min.   :  0.00      \n",
       " 1st Qu.: 0.250   1st Qu.:0.0000   1st Qu.: 43.59    1st Qu.: 19.36      \n",
       " Median : 1.000   Median :0.0000   Median : 67.20    Median : 29.80      \n",
       " Mean   : 1.324   Mean   :0.1692   Mean   : 74.26    Mean   : 32.49      \n",
       " 3rd Qu.: 2.000   3rd Qu.:0.2500   3rd Qu.: 98.00    3rd Qu.: 42.49      \n",
       " Max.   :15.000   Max.   :3.0000   Max.   :299.00    Max.   :154.00      \n",
       "                                                                         \n",
       " B_avg_SIG_STR_pct B_avg_SUB_ATT     B_avg_TD_att   B_avg_TD_landed  \n",
       " Min.   :0.0000    Min.   :0.0000   Min.   : 0.00   Min.   : 0.0000  \n",
       " 1st Qu.:0.3900    1st Qu.:0.0000   1st Qu.: 1.00   1st Qu.: 0.3038  \n",
       " Median :0.4550    Median :0.3333   Median : 2.20   Median : 1.0000  \n",
       " Mean   :0.4564    Mean   :0.5408   Mean   : 2.92   Mean   : 1.2378  \n",
       " 3rd Qu.:0.5200    3rd Qu.:0.8571   3rd Qu.: 4.25   3rd Qu.: 1.8333  \n",
       " Max.   :1.0000    Max.   :8.0000   Max.   :19.00   Max.   :10.0000  \n",
       "                                                                     \n",
       "  B_avg_TD_pct    B_avg_TOTAL_STR_att B_avg_TOTAL_STR_landed B_avg_opp_BODY_att\n",
       " Min.   :0.0000   Min.   :  0.00      Min.   :  0.00         Min.   : 0.000    \n",
       " 1st Qu.:0.1250   1st Qu.: 63.68      1st Qu.: 34.05         1st Qu.: 4.000    \n",
       " Median :0.3056   Median : 91.33      Median : 49.64         Median : 7.400    \n",
       " Mean   :0.3152   Mean   : 97.12      Mean   : 52.83         Mean   : 8.788    \n",
       " 3rd Qu.:0.4730   3rd Qu.:126.00      3rd Qu.: 67.76         3rd Qu.:12.000    \n",
       " Max.   :1.0000   Max.   :360.00      Max.   :230.00         Max.   :61.000    \n",
       "                                                                               \n",
       " B_avg_opp_BODY_landed B_avg_opp_CLINCH_att B_avg_opp_CLINCH_landed\n",
       " Min.   : 0.000        Min.   :  0.000      Min.   : 0.000         \n",
       " 1st Qu.: 2.667        1st Qu.:  3.000      1st Qu.: 2.000         \n",
       " Median : 5.000        Median :  6.000      Median : 3.833         \n",
       " Mean   : 5.914        Mean   :  7.575      Mean   : 5.007         \n",
       " 3rd Qu.: 8.000        3rd Qu.: 10.286      3rd Qu.: 6.828         \n",
       " Max.   :48.000        Max.   :105.000      Max.   :84.000         \n",
       "                                                                   \n",
       " B_avg_opp_DISTANCE_att B_avg_opp_DISTANCE_landed B_avg_opp_GROUND_att\n",
       " Min.   :  0.00         Min.   :  0.000           Min.   : 0.000      \n",
       " 1st Qu.: 26.67         1st Qu.:  8.667           1st Qu.: 1.750      \n",
       " Median : 47.50         Median : 15.923           Median : 4.667      \n",
       " Mean   : 55.36         Mean   : 19.396           Mean   : 6.939      \n",
       " 3rd Qu.: 74.46         3rd Qu.: 26.149           3rd Qu.: 9.277      \n",
       " Max.   :361.00         Max.   :150.000           Max.   :94.000      \n",
       "                                                                      \n",
       " B_avg_opp_GROUND_landed B_avg_opp_HEAD_att B_avg_opp_HEAD_landed\n",
       " Min.   : 0.000          Min.   :  0.00     Min.   :  0.000      \n",
       " 1st Qu.: 1.000          1st Qu.: 30.52     1st Qu.:  9.667      \n",
       " Median : 3.000          Median : 49.25     Median : 15.692      \n",
       " Mean   : 4.545          Mean   : 54.74     Mean   : 18.020      \n",
       " 3rd Qu.: 6.000          3rd Qu.: 71.00     3rd Qu.: 23.600      \n",
       " Max.   :84.000          Max.   :335.00     Max.   :126.000      \n",
       "                                                                 \n",
       "  B_avg_opp_KD    B_avg_opp_LEG_att B_avg_opp_LEG_landed B_avg_opp_PASS   \n",
       " Min.   :0.0000   Min.   : 0.000    Min.   : 0.000       Min.   : 0.0000  \n",
       " 1st Qu.:0.0000   1st Qu.: 2.667    1st Qu.: 2.000       1st Qu.: 0.1623  \n",
       " Median :0.0000   Median : 5.000    Median : 4.000       Median : 0.7143  \n",
       " Mean   :0.1547   Mean   : 6.347    Mean   : 5.013       Mean   : 1.0853  \n",
       " 3rd Qu.:0.2500   3rd Qu.: 8.500    3rd Qu.: 6.800       3rd Qu.: 1.5000  \n",
       " Max.   :3.0000   Max.   :57.000    Max.   :50.000       Max.   :19.0000  \n",
       "                                                                          \n",
       " B_avg_opp_REV    B_avg_opp_SIG_STR_att B_avg_opp_SIG_STR_landed\n",
       " Min.   :0.0000   Min.   :  0.50        Min.   :  0.00          \n",
       " 1st Qu.:0.0000   1st Qu.: 39.50        1st Qu.: 16.75          \n",
       " Median :0.0000   Median : 63.90        Median : 26.45          \n",
       " Mean   :0.1535   Mean   : 69.87        Mean   : 28.95          \n",
       " 3rd Qu.:0.2000   3rd Qu.: 90.06        3rd Qu.: 37.30          \n",
       " Max.   :3.0000   Max.   :401.00        Max.   :202.00          \n",
       "                                                                \n",
       " B_avg_opp_SIG_STR_pct B_avg_opp_SUB_ATT B_avg_opp_TD_att B_avg_opp_TD_landed\n",
       " Min.   :0.0000        Min.   :0.0000    Min.   : 0.000   Min.   : 0.0000    \n",
       " 1st Qu.:0.3527        1st Qu.:0.0000    1st Qu.: 1.178   1st Qu.: 0.3333    \n",
       " Median :0.4117        Median :0.2500    Median : 2.500   Median : 0.8667    \n",
       " Mean   :0.4226        Mean   :0.4418    Mean   : 3.005   Mean   : 1.1089    \n",
       " 3rd Qu.:0.4840        3rd Qu.:0.6667    3rd Qu.: 4.000   3rd Qu.: 1.5000    \n",
       " Max.   :1.0000        Max.   :7.0000    Max.   :20.000   Max.   :11.5000    \n",
       "                                                                             \n",
       " B_avg_opp_TD_pct B_avg_opp_TOTAL_STR_att B_avg_opp_TOTAL_STR_landed\n",
       " Min.   :0.0000   Min.   :  0.50          Min.   :  0.00            \n",
       " 1st Qu.:0.0975   1st Qu.: 57.84          1st Qu.: 30.65            \n",
       " Median :0.2387   Median : 86.20          Median : 44.00            \n",
       " Mean   :0.2709   Mean   : 90.31          Mean   : 47.18            \n",
       " 3rd Qu.:0.3750   3rd Qu.:115.21          3rd Qu.: 59.50            \n",
       " Max.   :1.0000   Max.   :404.00          Max.   :232.00            \n",
       "                                                                    \n",
       "  B_Height_cms    B_Reach_cms     B_Weight_lbs   R_avg_BODY_att  \n",
       " Min.   :152.4   Min.   :152.4   Min.   :115.0   Min.   : 0.000  \n",
       " 1st Qu.:172.7   1st Qu.:177.8   1st Qu.:145.0   1st Qu.: 4.500  \n",
       " Median :180.3   Median :182.9   Median :170.0   Median : 7.750  \n",
       " Mean   :179.1   Mean   :183.6   Mean   :169.3   Mean   : 9.318  \n",
       " 3rd Qu.:185.4   3rd Qu.:190.5   3rd Qu.:185.0   3rd Qu.:12.500  \n",
       " Max.   :210.8   Max.   :213.4   Max.   :265.0   Max.   :51.000  \n",
       "                                                                 \n",
       " R_avg_BODY_landed R_avg_CLINCH_att R_avg_CLINCH_landed R_avg_DISTANCE_att\n",
       " Min.   : 0.000    Min.   : 0.000   Min.   : 0.000      Min.   :  0.00    \n",
       " 1st Qu.: 3.000    1st Qu.: 4.000   1st Qu.: 2.333      1st Qu.: 29.31    \n",
       " Median : 5.333    Median : 6.850   Median : 4.579      Median : 49.75    \n",
       " Mean   : 6.450    Mean   : 8.336   Mean   : 5.640      Mean   : 57.11    \n",
       " 3rd Qu.: 8.845    3rd Qu.:11.000   3rd Qu.: 7.500      3rd Qu.: 78.00    \n",
       " Max.   :39.000    Max.   :72.000   Max.   :52.000      Max.   :287.50    \n",
       "                                                                          \n",
       " R_avg_DISTANCE_landed R_avg_GROUND_att R_avg_GROUND_landed R_avg_HEAD_att  \n",
       " Min.   :  0.00        Min.   : 0.000   Min.   : 0.000      Min.   :  0.00  \n",
       " 1st Qu.: 10.18        1st Qu.: 3.767   1st Qu.: 2.500      1st Qu.: 36.25  \n",
       " Median : 17.33        Median : 7.833   Median : 5.167      Median : 54.00  \n",
       " Mean   : 20.90        Mean   : 9.697   Mean   : 6.445      Mean   : 59.22  \n",
       " 3rd Qu.: 29.06        3rd Qu.:13.000   3rd Qu.: 8.737      3rd Qu.: 77.25  \n",
       " Max.   :131.00        Max.   :83.000   Max.   :53.000      Max.   :264.00  \n",
       "                                                                            \n",
       " R_avg_HEAD_landed    R_avg_KD      R_avg_LEG_att    R_avg_LEG_landed\n",
       " Min.   :  0.00    Min.   :0.0000   Min.   : 0.000   Min.   : 0.000  \n",
       " 1st Qu.: 13.67    1st Qu.:0.0000   1st Qu.: 2.375   1st Qu.: 2.000  \n",
       " Median : 19.25    Median :0.2000   Median : 5.222   Median : 4.158  \n",
       " Mean   : 21.32    Mean   :0.2767   Mean   : 6.603   Mean   : 5.216  \n",
       " 3rd Qu.: 27.25    3rd Qu.:0.4286   3rd Qu.: 9.200   3rd Qu.: 7.333  \n",
       " Max.   :119.00    Max.   :4.0000   Max.   :48.000   Max.   :41.000  \n",
       "                                                                     \n",
       "   R_avg_PASS       R_avg_REV      R_avg_SIG_STR_att R_avg_SIG_STR_landed\n",
       " Min.   : 0.000   Min.   :0.0000   Min.   :  0.00    Min.   :  0.00      \n",
       " 1st Qu.: 0.400   1st Qu.:0.0000   1st Qu.: 46.96    1st Qu.: 21.25      \n",
       " Median : 1.000   Median :0.0000   Median : 68.40    Median : 30.31      \n",
       " Mean   : 1.444   Mean   :0.1510   Mean   : 75.15    Mean   : 32.98      \n",
       " 3rd Qu.: 2.077   3rd Qu.:0.2105   3rd Qu.: 98.50    3rd Qu.: 43.04      \n",
       " Max.   :14.000   Max.   :3.0000   Max.   :298.50    Max.   :141.00      \n",
       "                                                                         \n",
       " R_avg_SIG_STR_pct R_avg_SUB_ATT     R_avg_TD_att    R_avg_TD_landed  \n",
       " Min.   :0.0000    Min.   :0.0000   Min.   : 0.000   Min.   : 0.0000  \n",
       " 1st Qu.:0.3955    1st Qu.:0.0000   1st Qu.: 1.000   1st Qu.: 0.4444  \n",
       " Median :0.4550    Median :0.4000   Median : 2.500   Median : 1.0000  \n",
       " Mean   :0.4622    Mean   :0.5404   Mean   : 3.095   Mean   : 1.3362  \n",
       " 3rd Qu.:0.5240    3rd Qu.:0.8333   3rd Qu.: 4.500   3rd Qu.: 2.0000  \n",
       " Max.   :1.0000    Max.   :9.0000   Max.   :22.500   Max.   :11.0000  \n",
       "                                                                      \n",
       "  R_avg_TD_pct    R_avg_TOTAL_STR_att R_avg_TOTAL_STR_landed R_avg_opp_BODY_att\n",
       " Min.   :0.0000   Min.   :  0.00      Min.   :  0.00         Min.   : 0.000    \n",
       " 1st Qu.:0.1760   1st Qu.: 66.00      1st Qu.: 36.21         1st Qu.: 4.236    \n",
       " Median :0.3212   Median : 92.92      Median : 49.93         Median : 7.571    \n",
       " Mean   :0.3312   Mean   : 97.39      Mean   : 52.80         Mean   : 8.586    \n",
       " 3rd Qu.:0.4672   3rd Qu.:123.00      3rd Qu.: 65.60         3rd Qu.:11.826    \n",
       " Max.   :1.0000   Max.   :325.50      Max.   :201.00         Max.   :75.000    \n",
       "                                                                               \n",
       " R_avg_opp_BODY_landed R_avg_opp_CLINCH_att R_avg_opp_CLINCH_landed\n",
       " Min.   : 0.000        Min.   : 0.000       Min.   : 0.000         \n",
       " 1st Qu.: 3.000        1st Qu.: 3.333       1st Qu.: 2.000         \n",
       " Median : 5.000        Median : 6.200       Median : 4.000         \n",
       " Mean   : 5.728        Mean   : 7.395       Mean   : 4.843         \n",
       " 3rd Qu.: 7.710        3rd Qu.: 9.800       3rd Qu.: 6.400         \n",
       " Max.   :41.000        Max.   :82.000       Max.   :51.000         \n",
       "                                                                   \n",
       " R_avg_opp_DISTANCE_att R_avg_opp_DISTANCE_landed R_avg_opp_GROUND_att\n",
       " Min.   :  0.00         Min.   :  0.000           Min.   :  0.000     \n",
       " 1st Qu.: 28.00         1st Qu.:  8.923           1st Qu.:  1.920     \n",
       " Median : 48.92         Median : 16.308           Median :  4.733     \n",
       " Mean   : 55.48         Mean   : 18.937           Mean   :  6.531     \n",
       " 3rd Qu.: 75.28         3rd Qu.: 25.750           3rd Qu.:  9.000     \n",
       " Max.   :440.00         Max.   :144.000           Max.   :104.000     \n",
       "                                                                      \n",
       " R_avg_opp_GROUND_landed R_avg_opp_HEAD_att R_avg_opp_HEAD_landed\n",
       " Min.   : 0.000          Min.   :  0.00     Min.   :  0.00       \n",
       " 1st Qu.: 1.167          1st Qu.: 31.75     1st Qu.: 10.00       \n",
       " Median : 3.000          Median : 49.47     Median : 15.33       \n",
       " Mean   : 4.237          Mean   : 54.55     Mean   : 17.44       \n",
       " 3rd Qu.: 5.800          3rd Qu.: 71.50     3rd Qu.: 23.00       \n",
       " Max.   :52.000          Max.   :400.00     Max.   :132.00       \n",
       "                                                                 \n",
       "  R_avg_opp_KD     R_avg_opp_LEG_att R_avg_opp_LEG_landed R_avg_opp_PASS   \n",
       " Min.   :0.00000   Min.   : 0.000    Min.   : 0.000       Min.   : 0.0000  \n",
       " 1st Qu.:0.00000   1st Qu.: 3.000    1st Qu.: 2.222       1st Qu.: 0.2158  \n",
       " Median :0.07143   Median : 5.200    Median : 4.000       Median : 0.6667  \n",
       " Mean   :0.15360   Mean   : 6.268    Mean   : 4.845       Mean   : 0.9883  \n",
       " 3rd Qu.:0.25000   3rd Qu.: 8.333    3rd Qu.: 6.500       3rd Qu.: 1.3333  \n",
       " Max.   :2.00000   Max.   :63.000    Max.   :41.000       Max.   :15.0000  \n",
       "                                                                           \n",
       " R_avg_opp_REV    R_avg_opp_SIG_STR_att R_avg_opp_SIG_STR_landed\n",
       " Min.   :0.0000   Min.   :  0.00        Min.   :  0.00          \n",
       " 1st Qu.:0.0000   1st Qu.: 41.32        1st Qu.: 17.32          \n",
       " Median :0.0000   Median : 64.25        Median : 25.94          \n",
       " Mean   :0.1562   Mean   : 69.40        Mean   : 28.02          \n",
       " 3rd Qu.:0.2222   3rd Qu.: 90.00        3rd Qu.: 36.00          \n",
       " Max.   :3.0000   Max.   :454.00        Max.   :151.00          \n",
       "                                                                \n",
       " R_avg_opp_SIG_STR_pct R_avg_opp_SUB_ATT R_avg_opp_TD_att R_avg_opp_TD_landed\n",
       " Min.   :0.0000        Min.   :0.0000    Min.   : 0.000   Min.   : 0.0000    \n",
       " 1st Qu.:0.3448        1st Qu.:0.0000    1st Qu.: 1.333   1st Qu.: 0.3333    \n",
       " Median :0.4050        Median :0.2857    Median : 2.500   Median : 0.8182    \n",
       " Mean   :0.4116        Mean   :0.4362    Mean   : 2.928   Mean   : 1.0310    \n",
       " 3rd Qu.:0.4653        3rd Qu.:0.6250    3rd Qu.: 4.000   3rd Qu.: 1.5000    \n",
       " Max.   :1.0000        Max.   :8.0000    Max.   :20.000   Max.   :11.0000    \n",
       "                                                                             \n",
       " R_avg_opp_TD_pct R_avg_opp_TOTAL_STR_att R_avg_opp_TOTAL_STR_landed\n",
       " Min.   :0.0000   Min.   :  0.00          Min.   :  0.00            \n",
       " 1st Qu.:0.1069   1st Qu.: 59.21          1st Qu.: 31.33            \n",
       " Median :0.2273   Median : 85.67          Median : 43.21            \n",
       " Mean   :0.2535   Mean   : 88.86          Mean   : 45.39            \n",
       " 3rd Qu.:0.3533   3rd Qu.:111.95          3rd Qu.: 56.42            \n",
       " Max.   :1.0000   Max.   :461.00          Max.   :202.00            \n",
       "                                                                    \n",
       "  R_Height_cms    R_Reach_cms     R_Weight_lbs       B_age      \n",
       " Min.   :152.4   Min.   :152.4   Min.   :115.0   Min.   :20.00  \n",
       " 1st Qu.:172.7   1st Qu.:177.8   1st Qu.:145.0   1st Qu.:27.00  \n",
       " Median :180.3   Median :182.9   Median :170.0   Median :29.00  \n",
       " Mean   :179.0   Mean   :183.7   Mean   :169.6   Mean   :29.67  \n",
       " 3rd Qu.:185.4   3rd Qu.:190.5   3rd Qu.:185.0   3rd Qu.:32.00  \n",
       " Max.   :210.8   Max.   :213.4   Max.   :265.0   Max.   :47.00  \n",
       "                                                                \n",
       "     R_age                           win_by    \n",
       " Min.   :19.00   Decision - Unanimous   :1227  \n",
       " 1st Qu.:27.00   KO/TKO                 :1059  \n",
       " Median :30.00   Submission             : 608  \n",
       " Mean   :30.04   Decision - Split       : 347  \n",
       " 3rd Qu.:33.00   TKO - Doctor's Stoppage:  39  \n",
       " Max.   :46.00   Decision - Majority    :  33  \n",
       "                 (Other)                :  42  "
      ]
     },
     "metadata": {},
     "output_type": "display_data"
    }
   ],
   "source": [
    "# removed the columns that are not important to our question and columns that have no values\n",
    "data <- merge_data %>% \n",
    "    select(-c(\"date\", \"Referee\", \"title_bout\", \"weight_class\", \"no_of_rounds\", \n",
    "              \"location\", \"B_win_by_TKO_Doctor_Stoppage\", \"B_win_by_Submission\", \"B_win_by_KO.TKO\", \n",
    "              \"R_win_by_TKO_Doctor_Stoppage\", \"R_win_by_Submission\", \"R_win_by_KO.TKO\", \n",
    "              \"R_win_by_Submission\", \"R_win_by_KO.TKO\", \n",
    "              \"R_win_by_TKO_Doctor_Stoppage\", \"R_win_by_Submission\", \"R_win_by_KO.TKO\", \"B_draw\", \"R_draw\", \n",
    "              \"B_current_lose_streak\", \"B_current_win_streak\", \"R_current_lose_streak\", \"R_current_win_streak\",\n",
    "             \"B_longest_win_streak\", \"B_losses\", \"B_total_rounds_fought\", \"B_total_time_fought.seconds.\", \"B_total_title_bouts\",\n",
    "             \"B_win_by_Decision_Majority\", \"B_win_by_Decision_Unanimous\", \"B_win_by_Decision_Split\", \"B_wins\", \"B_Stance\",\n",
    "             \"R_longest_win_streak\", \"R_losses\", \"B_total_rounds_fought\", \"R_total_time_fought.seconds.\", \"R_total_title_bouts\",\n",
    "             \"R_win_by_Decision_Majority\", \"R_win_by_Decision_Unanimous\", \"R_win_by_Decision_Split\", \"R_wins\", \"R_Stance\", \n",
    "              \"R_total_rounds_fought\"))\n",
    "\n",
    "summary(data)"
   ]
  },
  {
   "cell_type": "code",
   "execution_count": 61,
   "metadata": {},
   "outputs": [],
   "source": [
    "# filter the data by matches that ended in a decision\n",
    "data <- data %>%\n",
    "    filter(win_by == \"Decision - Split\" | win_by ==  \"Decision - Unanimous\" | win_by ==  \"Decision - Majority\")"
   ]
  },
  {
   "cell_type": "code",
   "execution_count": 62,
   "metadata": {},
   "outputs": [
    {
     "data": {
      "text/html": [
       "1607"
      ],
      "text/latex": [
       "1607"
      ],
      "text/markdown": [
       "1607"
      ],
      "text/plain": [
       "[1] 1607"
      ]
     },
     "metadata": {},
     "output_type": "display_data"
    },
    {
     "data": {
      "text/html": [
       "108"
      ],
      "text/latex": [
       "108"
      ],
      "text/markdown": [
       "108"
      ],
      "text/plain": [
       "[1] 108"
      ]
     },
     "metadata": {},
     "output_type": "display_data"
    }
   ],
   "source": [
    "# make sure we are getting an adequate data sample.\n",
    "nrow(data)\n",
    "ncol(data)"
   ]
  },
  {
   "cell_type": "markdown",
   "metadata": {},
   "source": [
    "### Split Data into Train and Test"
   ]
  },
  {
   "cell_type": "code",
   "execution_count": 66,
   "metadata": {},
   "outputs": [
    {
     "data": {
      "text/html": [
       "1285"
      ],
      "text/latex": [
       "1285"
      ],
      "text/markdown": [
       "1285"
      ],
      "text/plain": [
       "[1] 1285"
      ]
     },
     "metadata": {},
     "output_type": "display_data"
    },
    {
     "data": {
      "text/html": [
       "108"
      ],
      "text/latex": [
       "108"
      ],
      "text/markdown": [
       "108"
      ],
      "text/plain": [
       "[1] 108"
      ]
     },
     "metadata": {},
     "output_type": "display_data"
    }
   ],
   "source": [
    "## set the seed and split data into train and test sets\n",
    "set.seed(1)\n",
    "split_data <- sample(seq_len(nrow(data)), size = 0.8 * nrow(data))\n",
    "\n",
    "train <- data[split_data, ]\n",
    "test <- data[-split_data, ]\n",
    "\n",
    "nrow(train)\n",
    "ncol(train)"
   ]
  },
  {
   "cell_type": "code",
   "execution_count": 67,
   "metadata": {},
   "outputs": [
    {
     "data": {
      "text/html": [
       "<table>\n",
       "<caption>A data.frame: 1 × 6</caption>\n",
       "<thead>\n",
       "\t<tr><th scope=col>R_fighter</th><th scope=col>B_fighter</th><th scope=col>R_avg_BODY_att</th><th scope=col>B_avg_BODY_att</th><th scope=col>R_avg_opp_BODY_att</th><th scope=col>B_avg_opp_BODY_att</th></tr>\n",
       "\t<tr><th scope=col>&lt;fct&gt;</th><th scope=col>&lt;fct&gt;</th><th scope=col>&lt;dbl&gt;</th><th scope=col>&lt;dbl&gt;</th><th scope=col>&lt;dbl&gt;</th><th scope=col>&lt;dbl&gt;</th></tr>\n",
       "</thead>\n",
       "<tbody>\n",
       "\t<tr><td>Zak Cummings</td><td>Michel Prazeres</td><td>7.125</td><td>9.5</td><td>6.375</td><td>10.9</td></tr>\n",
       "</tbody>\n",
       "</table>\n"
      ],
      "text/latex": [
       "A data.frame: 1 × 6\n",
       "\\begin{tabular}{r|llllll}\n",
       " R\\_fighter & B\\_fighter & R\\_avg\\_BODY\\_att & B\\_avg\\_BODY\\_att & R\\_avg\\_opp\\_BODY\\_att & B\\_avg\\_opp\\_BODY\\_att\\\\\n",
       " <fct> & <fct> & <dbl> & <dbl> & <dbl> & <dbl>\\\\\n",
       "\\hline\n",
       "\t Zak Cummings & Michel Prazeres & 7.125 & 9.5 & 6.375 & 10.9\\\\\n",
       "\\end{tabular}\n"
      ],
      "text/markdown": [
       "\n",
       "A data.frame: 1 × 6\n",
       "\n",
       "| R_fighter &lt;fct&gt; | B_fighter &lt;fct&gt; | R_avg_BODY_att &lt;dbl&gt; | B_avg_BODY_att &lt;dbl&gt; | R_avg_opp_BODY_att &lt;dbl&gt; | B_avg_opp_BODY_att &lt;dbl&gt; |\n",
       "|---|---|---|---|---|---|\n",
       "| Zak Cummings | Michel Prazeres | 7.125 | 9.5 | 6.375 | 10.9 |\n",
       "\n"
      ],
      "text/plain": [
       "  R_fighter    B_fighter       R_avg_BODY_att B_avg_BODY_att R_avg_opp_BODY_att\n",
       "1 Zak Cummings Michel Prazeres 7.125          9.5            6.375             \n",
       "  B_avg_opp_BODY_att\n",
       "1 10.9              "
      ]
     },
     "metadata": {},
     "output_type": "display_data"
    }
   ],
   "source": [
    "# 5. Compare when a fighter is in the R_fighter and B_fighter columns to see are unique values for each appearence. For example, if a \n",
    "# fighter shows up in the red column for a fight they will not show up in the blue column for the same fight. \n",
    "\n",
    "train %>%\n",
    "    filter(R_fighter == \"Zak Cummings\") %>%\n",
    "    select(R_fighter, B_fighter, R_avg_BODY_att, B_avg_BODY_att, R_avg_opp_BODY_att, B_avg_opp_BODY_att)"
   ]
  },
  {
   "cell_type": "code",
   "execution_count": 68,
   "metadata": {},
   "outputs": [
    {
     "data": {
      "text/html": [
       "<table>\n",
       "<caption>A data.frame: 4 × 6</caption>\n",
       "<thead>\n",
       "\t<tr><th scope=col>R_fighter</th><th scope=col>B_fighter</th><th scope=col>R_avg_BODY_att</th><th scope=col>B_avg_BODY_att</th><th scope=col>R_avg_opp_BODY_att</th><th scope=col>B_avg_opp_BODY_att</th></tr>\n",
       "\t<tr><th scope=col>&lt;fct&gt;</th><th scope=col>&lt;fct&gt;</th><th scope=col>&lt;dbl&gt;</th><th scope=col>&lt;dbl&gt;</th><th scope=col>&lt;dbl&gt;</th><th scope=col>&lt;dbl&gt;</th></tr>\n",
       "</thead>\n",
       "<tbody>\n",
       "\t<tr><td>Yan Cabral          </td><td>Zak Cummings</td><td> 0.0</td><td>0.000000</td><td> 1.00000</td><td>6.000000</td></tr>\n",
       "\t<tr><td>Santiago Ponzinibbio</td><td>Zak Cummings</td><td>10.0</td><td>7.200000</td><td>11.16667</td><td>7.000000</td></tr>\n",
       "\t<tr><td>Trevor Smith        </td><td>Zak Cummings</td><td>13.8</td><td>8.666667</td><td>13.70000</td><td>6.444444</td></tr>\n",
       "\t<tr><td>Nicolas Dalby       </td><td>Zak Cummings</td><td>19.0</td><td>4.250000</td><td>17.50000</td><td>2.750000</td></tr>\n",
       "</tbody>\n",
       "</table>\n"
      ],
      "text/latex": [
       "A data.frame: 4 × 6\n",
       "\\begin{tabular}{r|llllll}\n",
       " R\\_fighter & B\\_fighter & R\\_avg\\_BODY\\_att & B\\_avg\\_BODY\\_att & R\\_avg\\_opp\\_BODY\\_att & B\\_avg\\_opp\\_BODY\\_att\\\\\n",
       " <fct> & <fct> & <dbl> & <dbl> & <dbl> & <dbl>\\\\\n",
       "\\hline\n",
       "\t Yan Cabral           & Zak Cummings &  0.0 & 0.000000 &  1.00000 & 6.000000\\\\\n",
       "\t Santiago Ponzinibbio & Zak Cummings & 10.0 & 7.200000 & 11.16667 & 7.000000\\\\\n",
       "\t Trevor Smith         & Zak Cummings & 13.8 & 8.666667 & 13.70000 & 6.444444\\\\\n",
       "\t Nicolas Dalby        & Zak Cummings & 19.0 & 4.250000 & 17.50000 & 2.750000\\\\\n",
       "\\end{tabular}\n"
      ],
      "text/markdown": [
       "\n",
       "A data.frame: 4 × 6\n",
       "\n",
       "| R_fighter &lt;fct&gt; | B_fighter &lt;fct&gt; | R_avg_BODY_att &lt;dbl&gt; | B_avg_BODY_att &lt;dbl&gt; | R_avg_opp_BODY_att &lt;dbl&gt; | B_avg_opp_BODY_att &lt;dbl&gt; |\n",
       "|---|---|---|---|---|---|\n",
       "| Yan Cabral           | Zak Cummings |  0.0 | 0.000000 |  1.00000 | 6.000000 |\n",
       "| Santiago Ponzinibbio | Zak Cummings | 10.0 | 7.200000 | 11.16667 | 7.000000 |\n",
       "| Trevor Smith         | Zak Cummings | 13.8 | 8.666667 | 13.70000 | 6.444444 |\n",
       "| Nicolas Dalby        | Zak Cummings | 19.0 | 4.250000 | 17.50000 | 2.750000 |\n",
       "\n"
      ],
      "text/plain": [
       "  R_fighter            B_fighter    R_avg_BODY_att B_avg_BODY_att\n",
       "1 Yan Cabral           Zak Cummings  0.0           0.000000      \n",
       "2 Santiago Ponzinibbio Zak Cummings 10.0           7.200000      \n",
       "3 Trevor Smith         Zak Cummings 13.8           8.666667      \n",
       "4 Nicolas Dalby        Zak Cummings 19.0           4.250000      \n",
       "  R_avg_opp_BODY_att B_avg_opp_BODY_att\n",
       "1  1.00000           6.000000          \n",
       "2 11.16667           7.000000          \n",
       "3 13.70000           6.444444          \n",
       "4 17.50000           2.750000          "
      ]
     },
     "metadata": {},
     "output_type": "display_data"
    }
   ],
   "source": [
    "train %>%\n",
    "    filter(B_fighter == \"Zak Cummings\") %>%\n",
    "    select(R_fighter, B_fighter, R_avg_BODY_att, B_avg_BODY_att, R_avg_opp_BODY_att, B_avg_opp_BODY_att)"
   ]
  },
  {
   "cell_type": "markdown",
   "metadata": {},
   "source": [
    "**Observations**\n",
    "\n",
    "- Each fight is unique which means each row has unique data. \n",
    "- The values for the same stat across R_avg, B_avg, R_avg_opp, B_avg_opp are all reporting unique values. This shows that these columns do not duplicate. "
   ]
  },
  {
   "cell_type": "markdown",
   "metadata": {},
   "source": [
    "### 6. Validate with at least one external data source"
   ]
  },
  {
   "cell_type": "code",
   "execution_count": 69,
   "metadata": {},
   "outputs": [
    {
     "data": {
      "text/html": [
       "<table>\n",
       "<caption>A data.frame: 1 × 5</caption>\n",
       "<thead>\n",
       "\t<tr><th scope=col>R_Height_cms</th><th scope=col>R_Reach_cms</th><th scope=col>R_Weight_lbs</th><th scope=col>win_by</th><th scope=col>Winner</th></tr>\n",
       "\t<tr><th scope=col>&lt;dbl&gt;</th><th scope=col>&lt;dbl&gt;</th><th scope=col>&lt;dbl&gt;</th><th scope=col>&lt;fct&gt;</th><th scope=col>&lt;fct&gt;</th></tr>\n",
       "</thead>\n",
       "<tbody>\n",
       "\t<tr><td>175.26</td><td>177.8</td><td>135</td><td>Decision - Unanimous</td><td>Blue</td></tr>\n",
       "</tbody>\n",
       "</table>\n"
      ],
      "text/latex": [
       "A data.frame: 1 × 5\n",
       "\\begin{tabular}{r|lllll}\n",
       " R\\_Height\\_cms & R\\_Reach\\_cms & R\\_Weight\\_lbs & win\\_by & Winner\\\\\n",
       " <dbl> & <dbl> & <dbl> & <fct> & <fct>\\\\\n",
       "\\hline\n",
       "\t 175.26 & 177.8 & 135 & Decision - Unanimous & Blue\\\\\n",
       "\\end{tabular}\n"
      ],
      "text/markdown": [
       "\n",
       "A data.frame: 1 × 5\n",
       "\n",
       "| R_Height_cms &lt;dbl&gt; | R_Reach_cms &lt;dbl&gt; | R_Weight_lbs &lt;dbl&gt; | win_by &lt;fct&gt; | Winner &lt;fct&gt; |\n",
       "|---|---|---|---|---|\n",
       "| 175.26 | 177.8 | 135 | Decision - Unanimous | Blue |\n",
       "\n"
      ],
      "text/plain": [
       "  R_Height_cms R_Reach_cms R_Weight_lbs win_by               Winner\n",
       "1 175.26       177.8       135          Decision - Unanimous Blue  "
      ]
     },
     "metadata": {},
     "output_type": "display_data"
    }
   ],
   "source": [
    "# 6. Validate with at least one external data source\n",
    "\n",
    "train %>%\n",
    "    filter(R_fighter == \"Aaron Phillips\") %>%\n",
    "    select(c(R_Height_cms, R_Reach_cms, R_Weight_lbs, win_by, Winner))"
   ]
  },
  {
   "cell_type": "markdown",
   "metadata": {},
   "source": [
    "**Observations:**\n",
    "- Verified the Aaron Philips and Matt Hobar match happened ended in an Unanimous Decsion with Hobar winning [Source: Tapout]((https://www.tapology.com/fightcenter/bouts/146806-ufc-fight-night-49-matt-the-crowbar-hobar-vs-aaron-the-model-phillips). The characteristics for Aaron matched his profile including his weight and reach. "
   ]
  },
  {
   "cell_type": "markdown",
   "metadata": {},
   "source": [
    "### 7/8. Make a plot/ try the easy solution"
   ]
  },
  {
   "cell_type": "code",
   "execution_count": 45,
   "metadata": {},
   "outputs": [
    {
     "data": {
      "image/png": "[encoded data removed]",
      "text/plain": [
       "plot without title"
      ]
     },
     "metadata": {
      "image/png": {
       "height": 420,
       "width": 420
      },
      "text/plain": {
       "height": 420,
       "width": 420
      }
     },
     "output_type": "display_data"
    }
   ],
   "source": [
    "# 7/8 Make a plot/ easy solution\n",
    "\n",
    "strike_scatterplot <- train %>% ggplot(aes(R_avg_SIG_STR_landed, B_avg_SIG_STR_landed, color=Winner)) +\n",
    "    geom_point(alpha=0.6) + \n",
    "    labs(title=\"Strikes Landed by Side\", x = \"Red Strikes Landed\", y = \"Blue Strikes Landed\") +\n",
    "    scale_color_manual(values = c(\"blue\", \"#56ddc5\", \"red\"))\n",
    "\n",
    "strike_scatterplot"
   ]
  },
  {
   "cell_type": "markdown",
   "metadata": {},
   "source": [
    "**Observations**\n",
    "\n",
    "- One of the first thoughts was that strikes would decide the outcome. I plotted the number of strikes landed from Red versus Blue \n",
    "and plotted with the colour of the winner. Surprisingly, there doesn't seem to be a correlation with the number and strikes and \n",
    "winner. This also validates that the spread of values is reasonable for the columns. "
   ]
  },
  {
   "cell_type": "markdown",
   "metadata": {},
   "source": [
    "### 8. Easy Solution/ 7. Make a Plot\n",
    "**The all the stats together at an equal value will predict a winner**"
   ]
  },
  {
   "cell_type": "code",
   "execution_count": 46,
   "metadata": {},
   "outputs": [
    {
     "data": {
      "text/plain": [
       " B_avg_BODY_att    B_avg_BODY_landed B_avg_CLINCH_att  B_avg_CLINCH_landed\n",
       " Min.   :-1.2931   Min.   :-1.2565   Min.   :-1.1590   Min.   :-1.0772    \n",
       " 1st Qu.:-0.7333   1st Qu.:-0.7025   1st Qu.:-0.6857   1st Qu.:-0.6967    \n",
       " Median :-0.2481   Median :-0.2592   Median :-0.2387   Median :-0.2161    \n",
       " Mean   : 0.0000   Mean   : 0.0000   Mean   : 0.0000   Mean   : 0.0000    \n",
       " 3rd Qu.: 0.4922   3rd Qu.: 0.4979   3rd Qu.: 0.4187   3rd Qu.: 0.3826    \n",
       " Max.   : 5.1079   Max.   : 5.9460   Max.   :10.2790   Max.   :11.1779    \n",
       " B_avg_DISTANCE_att B_avg_DISTANCE_landed B_avg_GROUND_att  B_avg_GROUND_landed\n",
       " Min.   :-1.4340    Min.   :-1.3314       Min.   :-1.0674   Min.   :-1.0496    \n",
       " 1st Qu.:-0.7522    1st Qu.:-0.7300       1st Qu.:-0.7319   1st Qu.:-0.6996    \n",
       " Median :-0.2097    Median :-0.2654       Median :-0.2386   Median :-0.2446    \n",
       " Mean   : 0.0000    Mean   : 0.0000       Mean   : 0.0000   Mean   : 0.0000    \n",
       " 3rd Qu.: 0.5192    3rd Qu.: 0.5035       3rd Qu.: 0.4210   3rd Qu.: 0.3941    \n",
       " Max.   : 4.9972    Max.   : 4.7851       Max.   : 6.5692   Max.   : 5.6004    \n",
       " B_avg_HEAD_att    B_avg_HEAD_landed    B_avg_KD       B_avg_LEG_att    \n",
       " Min.   :-1.6830   Min.   :-1.6383   Min.   :-0.7492   Min.   :-1.1331  \n",
       " 1st Qu.:-0.6992   1st Qu.:-0.6842   1st Qu.:-0.7492   1st Qu.:-0.7639  \n",
       " Median :-0.1527   Median :-0.1729   Median :-0.3556   Median :-0.2677  \n",
       " Mean   : 0.0000   Mean   : 0.0000   Mean   : 0.0000   Mean   : 0.0000  \n",
       " 3rd Qu.: 0.5031   3rd Qu.: 0.4708   3rd Qu.: 0.5103   3rd Qu.: 0.4247  \n",
       " Max.   : 5.0393   Max.   : 5.2162   Max.   : 8.6967   Max.   : 5.1297  \n",
       " B_avg_LEG_landed    B_avg_PASS        B_avg_REV       B_avg_SIG_STR_att\n",
       " Min.   :-1.1444   Min.   :-0.9055   Min.   :-0.5551   Min.   :-1.7643  \n",
       " 1st Qu.:-0.7033   1st Qu.:-0.7415   1st Qu.:-0.5551   1st Qu.:-0.6904  \n",
       " Median :-0.2622   Median :-0.2496   Median :-0.5551   Median :-0.1703  \n",
       " Mean   : 0.0000   Mean   : 0.0000   Mean   : 0.0000   Mean   : 0.0000  \n",
       " 3rd Qu.: 0.3994   3rd Qu.: 0.4062   3rd Qu.: 0.2150   3rd Qu.: 0.5494  \n",
       " Max.   : 5.5922   Max.   : 7.6207   Max.   : 8.6860   Max.   : 4.4533  \n",
       " B_avg_SIG_STR_landed B_avg_SIG_STR_pct B_avg_SUB_ATT      B_avg_TD_att    \n",
       " Min.   :-1.7972      Min.   :-4.0384   Min.   :-0.7903   Min.   :-1.1099  \n",
       " 1st Qu.:-0.7142      1st Qu.:-0.6116   1st Qu.:-0.7903   1st Qu.:-0.7515  \n",
       " Median :-0.1461      Median :-0.0135   Median :-0.3101   Median :-0.2396  \n",
       " Mean   : 0.0000      Mean   : 0.0000   Mean   : 0.0000   Mean   : 0.0000  \n",
       " 3rd Qu.: 0.5321      3rd Qu.: 0.5435   3rd Qu.: 0.4446   3rd Qu.: 0.5028  \n",
       " Max.   : 4.4758      Max.   : 3.8677   Max.   : 7.8541   Max.   : 5.6990  \n",
       " B_avg_TD_landed    B_avg_TD_pct       B_avg_TOTAL_STR_att\n",
       " Min.   :-0.9970   Min.   :-1.319607   Min.   :-2.05585   \n",
       " 1st Qu.:-0.7421   1st Qu.:-0.801231   1st Qu.:-0.68204   \n",
       " Median :-0.2323   Median :-0.006389   Median :-0.09393   \n",
       " Mean   : 0.0000   Mean   : 0.000000   Mean   : 0.00000   \n",
       " 3rd Qu.: 0.5324   3rd Qu.: 0.726940   3rd Qu.: 0.57242   \n",
       " Max.   : 6.6499   Max.   : 2.827398   Max.   : 3.77731   \n",
       " B_avg_TOTAL_STR_landed  B_Height_cms       B_Reach_cms        B_Weight_lbs    \n",
       " Min.   :-1.9483        Min.   :-2.96368   Min.   :-2.96077   Min.   :-1.5831  \n",
       " 1st Qu.:-0.6593        1st Qu.:-0.57919   1st Qu.:-0.67863   1st Qu.:-0.6006  \n",
       " Median :-0.1355        Median : 0.01693   Median : 0.08209   Median :-0.2730  \n",
       " Mean   : 0.0000        Mean   : 0.00000   Mean   : 0.00000   Mean   : 0.0000  \n",
       " 3rd Qu.: 0.5454        3rd Qu.: 0.61306   3rd Qu.: 0.84281   3rd Qu.: 0.7095  \n",
       " Max.   : 6.1738        Max.   : 2.99755   Max.   : 2.87138   Max.   : 3.3296  \n",
       "     B_age        \n",
       " Min.   :-2.4817  \n",
       " 1st Qu.:-0.6393  \n",
       " Median :-0.1129  \n",
       " Mean   : 0.0000  \n",
       " 3rd Qu.: 0.6767  \n",
       " Max.   : 4.3616  "
      ]
     },
     "metadata": {},
     "output_type": "display_data"
    }
   ],
   "source": [
    "# Extract the stats for each match and the winner\n",
    "numer_values <- data.frame(scale(train[4:107]), train[108], train[3])\n",
    "\n",
    "B_value <- numer_values %>%\n",
    "    select(., starts_with(\"B\")) %>%\n",
    "    select(., -contains(\"opp\"))\n",
    "\n",
    "summary(B_value)"
   ]
  },
  {
   "cell_type": "code",
   "execution_count": 39,
   "metadata": {},
   "outputs": [
    {
     "data": {
      "text/html": [
       "<table>\n",
       "<caption>A data.frame: 6 × 108</caption>\n",
       "<thead>\n",
       "\t<tr><th scope=col>B_avg_BODY_att</th><th scope=col>B_avg_BODY_landed</th><th scope=col>B_avg_CLINCH_att</th><th scope=col>B_avg_CLINCH_landed</th><th scope=col>B_avg_DISTANCE_att</th><th scope=col>B_avg_DISTANCE_landed</th><th scope=col>B_avg_GROUND_att</th><th scope=col>B_avg_GROUND_landed</th><th scope=col>B_avg_HEAD_att</th><th scope=col>B_avg_HEAD_landed</th><th scope=col>...</th><th scope=col>R_avg_opp_TOTAL_STR_landed</th><th scope=col>R_Height_cms</th><th scope=col>R_Reach_cms</th><th scope=col>R_Weight_lbs</th><th scope=col>B_age</th><th scope=col>R_age</th><th scope=col>win_by</th><th scope=col>Winner</th><th scope=col>B_avg</th><th scope=col>R_avg</th></tr>\n",
       "\t<tr><th scope=col>&lt;dbl&gt;</th><th scope=col>&lt;dbl&gt;</th><th scope=col>&lt;dbl&gt;</th><th scope=col>&lt;dbl&gt;</th><th scope=col>&lt;dbl&gt;</th><th scope=col>&lt;dbl&gt;</th><th scope=col>&lt;dbl&gt;</th><th scope=col>&lt;dbl&gt;</th><th scope=col>&lt;dbl&gt;</th><th scope=col>&lt;dbl&gt;</th><th scope=col>...</th><th scope=col>&lt;dbl&gt;</th><th scope=col>&lt;dbl&gt;</th><th scope=col>&lt;dbl&gt;</th><th scope=col>&lt;dbl&gt;</th><th scope=col>&lt;dbl&gt;</th><th scope=col>&lt;dbl&gt;</th><th scope=col>&lt;fct&gt;</th><th scope=col>&lt;fct&gt;</th><th scope=col>&lt;dbl&gt;</th><th scope=col>&lt;dbl&gt;</th></tr>\n",
       "</thead>\n",
       "<tbody>\n",
       "\t<tr><td>-0.6399795</td><td>-1.071844112</td><td>-0.8960098</td><td>-0.8969343</td><td> 0.5191888</td><td>-0.6586201</td><td>-1.0673843</td><td>-1.0496479</td><td> 0.4484743</td><td>-0.8097301</td><td>...</td><td> 3.47371230</td><td> 0.6181231</td><td> 0.3440340</td><td> 0.2053297</td><td>-0.9024657</td><td>-1.9783319</td><td>Decision - Split    </td><td>Blue</td><td>-20.061653</td><td>14.1134241</td></tr>\n",
       "\t<tr><td> 0.6141045</td><td> 0.294796405</td><td>-0.5278927</td><td>-0.4644033</td><td> 1.9340464</td><td> 1.9103475</td><td>-0.4043656</td><td>-0.3846404</td><td> 1.8202544</td><td> 1.6759761</td><td>...</td><td> 0.44388458</td><td>-1.9956224</td><td>-2.0863328</td><td>-1.2686854</td><td>-1.9552740</td><td> 1.0573809</td><td>Decision - Unanimous</td><td>Blue</td><td>  6.015788</td><td> 1.0803594</td></tr>\n",
       "\t<tr><td> 0.1438230</td><td> 0.005462602</td><td>-0.7864511</td><td>-0.6566393</td><td>-0.2509637</td><td>-0.1794872</td><td> 0.2152411</td><td> 0.2628669</td><td>-0.4669566</td><td>-0.4331080</td><td>...</td><td>-0.72961942</td><td>-0.5435415</td><td> 0.3440340</td><td>-0.2860086</td><td> 1.2031510</td><td> 0.2984527</td><td>Decision - Split    </td><td>Red </td><td> -2.515505</td><td>-4.1645759</td></tr>\n",
       "\t<tr><td>-0.8577024</td><td>-0.702481810</td><td>-0.9836567</td><td>-0.8969343</td><td>-0.6717687</td><td>-0.8421178</td><td>-0.7121957</td><td>-0.7579780</td><td>-0.8814054</td><td>-1.2114604</td><td>...</td><td>-0.10000644</td><td> 0.9085393</td><td> 0.1009973</td><td>-0.9411265</td><td>-1.4288698</td><td> 0.5514288</td><td>Decision - Unanimous</td><td>Red </td><td>-21.117179</td><td> 0.2915316</td></tr>\n",
       "\t<tr><td>-1.0318808</td><td>-0.887162961</td><td>-0.9617450</td><td>-0.9870450</td><td>-1.0886038</td><td>-0.9338666</td><td>-0.4754033</td><td>-0.4371410</td><td>-1.1911034</td><td>-1.0357034</td><td>...</td><td>-0.08448781</td><td> 1.7797878</td><td> 2.5313642</td><td> 2.4982422</td><td> 0.6767468</td><td> 0.5514288</td><td>Decision - Unanimous</td><td>Red </td><td>-16.403026</td><td> 4.6235810</td></tr>\n",
       "\t<tr><td> 0.7679620</td><td> 0.774967397</td><td>-0.2532656</td><td>-0.1560247</td><td> 0.6621038</td><td> 1.0812098</td><td>-0.4885585</td><td>-0.4274187</td><td> 0.4515106</td><td> 0.7469748</td><td>...</td><td>-0.16762333</td><td>-0.2531254</td><td> 0.5870707</td><td> 0.2053297</td><td> 0.9399489</td><td> 1.0573809</td><td>Decision - Majority </td><td>Draw</td><td>  6.391627</td><td>-8.2656813</td></tr>\n",
       "</tbody>\n",
       "</table>\n"
      ],
      "text/latex": [
       "A data.frame: 6 × 108\n",
       "\\begin{tabular}{r|llllllllllllllllllllllllllllllllllllllllllllllllllllllllllllllllllllllllllllllllllllllllllllllllllllllllllll}\n",
       " B\\_avg\\_BODY\\_att & B\\_avg\\_BODY\\_landed & B\\_avg\\_CLINCH\\_att & B\\_avg\\_CLINCH\\_landed & B\\_avg\\_DISTANCE\\_att & B\\_avg\\_DISTANCE\\_landed & B\\_avg\\_GROUND\\_att & B\\_avg\\_GROUND\\_landed & B\\_avg\\_HEAD\\_att & B\\_avg\\_HEAD\\_landed & B\\_avg\\_KD & B\\_avg\\_LEG\\_att & B\\_avg\\_LEG\\_landed & B\\_avg\\_PASS & B\\_avg\\_REV & B\\_avg\\_SIG\\_STR\\_att & B\\_avg\\_SIG\\_STR\\_landed & B\\_avg\\_SIG\\_STR\\_pct & B\\_avg\\_SUB\\_ATT & B\\_avg\\_TD\\_att & B\\_avg\\_TD\\_landed & B\\_avg\\_TD\\_pct & B\\_avg\\_TOTAL\\_STR\\_att & B\\_avg\\_TOTAL\\_STR\\_landed & B\\_avg\\_opp\\_BODY\\_att & B\\_avg\\_opp\\_BODY\\_landed & B\\_avg\\_opp\\_CLINCH\\_att & B\\_avg\\_opp\\_CLINCH\\_landed & B\\_avg\\_opp\\_DISTANCE\\_att & B\\_avg\\_opp\\_DISTANCE\\_landed & B\\_avg\\_opp\\_GROUND\\_att & B\\_avg\\_opp\\_GROUND\\_landed & B\\_avg\\_opp\\_HEAD\\_att & B\\_avg\\_opp\\_HEAD\\_landed & B\\_avg\\_opp\\_KD & B\\_avg\\_opp\\_LEG\\_att & B\\_avg\\_opp\\_LEG\\_landed & B\\_avg\\_opp\\_PASS & B\\_avg\\_opp\\_REV & B\\_avg\\_opp\\_SIG\\_STR\\_att & B\\_avg\\_opp\\_SIG\\_STR\\_landed & B\\_avg\\_opp\\_SIG\\_STR\\_pct & B\\_avg\\_opp\\_SUB\\_ATT & B\\_avg\\_opp\\_TD\\_att & B\\_avg\\_opp\\_TD\\_landed & B\\_avg\\_opp\\_TD\\_pct & B\\_avg\\_opp\\_TOTAL\\_STR\\_att & B\\_avg\\_opp\\_TOTAL\\_STR\\_landed & B\\_Height\\_cms & B\\_Reach\\_cms & B\\_Weight\\_lbs & R\\_avg\\_BODY\\_att & R\\_avg\\_BODY\\_landed & R\\_avg\\_CLINCH\\_att & R\\_avg\\_CLINCH\\_landed & R\\_avg\\_DISTANCE\\_att & R\\_avg\\_DISTANCE\\_landed & R\\_avg\\_GROUND\\_att & R\\_avg\\_GROUND\\_landed & R\\_avg\\_HEAD\\_att & R\\_avg\\_HEAD\\_landed & R\\_avg\\_KD & R\\_avg\\_LEG\\_att & R\\_avg\\_LEG\\_landed & R\\_avg\\_PASS & R\\_avg\\_REV & R\\_avg\\_SIG\\_STR\\_att & R\\_avg\\_SIG\\_STR\\_landed & R\\_avg\\_SIG\\_STR\\_pct & R\\_avg\\_SUB\\_ATT & R\\_avg\\_TD\\_att & R\\_avg\\_TD\\_landed & R\\_avg\\_TD\\_pct & R\\_avg\\_TOTAL\\_STR\\_att & R\\_avg\\_TOTAL\\_STR\\_landed & R\\_avg\\_opp\\_BODY\\_att & R\\_avg\\_opp\\_BODY\\_landed & R\\_avg\\_opp\\_CLINCH\\_att & R\\_avg\\_opp\\_CLINCH\\_landed & R\\_avg\\_opp\\_DISTANCE\\_att & R\\_avg\\_opp\\_DISTANCE\\_landed & R\\_avg\\_opp\\_GROUND\\_att & R\\_avg\\_opp\\_GROUND\\_landed & R\\_avg\\_opp\\_HEAD\\_att & R\\_avg\\_opp\\_HEAD\\_landed & R\\_avg\\_opp\\_KD & R\\_avg\\_opp\\_LEG\\_att & R\\_avg\\_opp\\_LEG\\_landed & R\\_avg\\_opp\\_PASS & R\\_avg\\_opp\\_REV & R\\_avg\\_opp\\_SIG\\_STR\\_att & R\\_avg\\_opp\\_SIG\\_STR\\_landed & R\\_avg\\_opp\\_SIG\\_STR\\_pct & R\\_avg\\_opp\\_SUB\\_ATT & R\\_avg\\_opp\\_TD\\_att & R\\_avg\\_opp\\_TD\\_landed & R\\_avg\\_opp\\_TD\\_pct & R\\_avg\\_opp\\_TOTAL\\_STR\\_att & R\\_avg\\_opp\\_TOTAL\\_STR\\_landed & R\\_Height\\_cms & R\\_Reach\\_cms & R\\_Weight\\_lbs & B\\_age & R\\_age & win\\_by & Winner & B\\_avg & R\\_avg\\\\\n",
       " <dbl> & <dbl> & <dbl> & <dbl> & <dbl> & <dbl> & <dbl> & <dbl> & <dbl> & <dbl> & <dbl> & <dbl> & <dbl> & <dbl> & <dbl> & <dbl> & <dbl> & <dbl> & <dbl> & <dbl> & <dbl> & <dbl> & <dbl> & <dbl> & <dbl> & <dbl> & <dbl> & <dbl> & <dbl> & <dbl> & <dbl> & <dbl> & <dbl> & <dbl> & <dbl> & <dbl> & <dbl> & <dbl> & <dbl> & <dbl> & <dbl> & <dbl> & <dbl> & <dbl> & <dbl> & <dbl> & <dbl> & <dbl> & <dbl> & <dbl> & <dbl> & <dbl> & <dbl> & <dbl> & <dbl> & <dbl> & <dbl> & <dbl> & <dbl> & <dbl> & <dbl> & <dbl> & <dbl> & <dbl> & <dbl> & <dbl> & <dbl> & <dbl> & <dbl> & <dbl> & <dbl> & <dbl> & <dbl> & <dbl> & <dbl> & <dbl> & <dbl> & <dbl> & <dbl> & <dbl> & <dbl> & <dbl> & <dbl> & <dbl> & <dbl> & <dbl> & <dbl> & <dbl> & <dbl> & <dbl> & <dbl> & <dbl> & <dbl> & <dbl> & <dbl> & <dbl> & <dbl> & <dbl> & <dbl> & <dbl> & <dbl> & <dbl> & <dbl> & <dbl> & <fct> & <fct> & <dbl> & <dbl>\\\\\n",
       "\\hline\n",
       "\t -0.6399795 & -1.071844112 & -0.8960098 & -0.8969343 &  0.5191888 & -0.6586201 & -1.0673843 & -1.0496479 &  0.4484743 & -0.8097301 & -0.7491624 & -0.9600235 & -1.14437795 & -0.9054738 & -0.55513411 &  0.1348995 & -1.1580264 & -2.78062983 & -0.7903209 & -1.1098694 & -0.9970335 & -1.3196071 & -0.3260165 & -1.45388537 & -0.1822434 & -0.02127754 & -0.8828709 & -0.8634530 &  0.02724163 &  0.29124120 &  4.76815103 &  5.373772426 &  0.9210570 &  2.1269034 & -0.5828219 &  0.75172585 &  1.2646381 &  2.11548791 & -0.5152986 &  0.83444617 &  1.82840613 &  1.2762798 &  5.9043117 &  1.10006104 &  2.5042552 &  1.5757786 &  1.5309752 &  2.7442237 &  0.01693267 &  0.8428053 &  0.2182235 &  0.2723683 &  0.2320923 &  0.03830363 & -0.7889660 &  0.93109842 &  1.30669366 & -0.79413785 & -0.6110189 &  0.53793622 &  0.12180989 & -0.78732353 &  1.82247487 &  2.19529014 &  2.36121580 &  3.2976875 &  0.7444138 &  0.74475622 & -0.3165355 &  0.75355201 &  0.9747150 &  1.2339065 &  0.72497307 &  0.2042487 & -0.27528502 &  1.7201839 &  2.35487710 &  0.8381641 &  1.8353015 &  2.89093304 &  4.25698662 &  3.4466838 &  4.95889754 &  3.84793468 &  6.63595176 & -0.6345187 &  0.59247082 &  1.149022221 & -0.02000566 &  3.1449682 &  3.50732502 &  5.5850789 &  1.49668517 &  1.01679554 & -1.3766989 & -1.1280865 & -1.25395513 &  2.92837650 &  3.47371230 &  0.6181231 &  0.3440340 &  0.2053297 & -0.9024657 & -1.9783319 & Decision - Split     & Blue & -20.061653 & 14.1134241\\\\\n",
       "\t  0.6141045 &  0.294796405 & -0.5278927 & -0.4644033 &  1.9340464 &  1.9103475 & -0.4043656 & -0.3846404 &  1.8202544 &  1.6759761 & -0.7491624 &  0.4247111 &  0.57586685 & -0.1184451 &  0.06094232 &  1.6678327 &  1.4091474 & -0.37286602 &  0.6504174 & -0.3931449 & -0.3852794 & -0.2165038 &  1.2147429 &  0.51659232 &  1.1504708 &  0.88737781 & -0.8233794 & -0.7006342 &  1.09540422 &  0.85985663 &  0.26201938 & -0.003459912 &  0.9697755 &  0.5043085 &  1.7198865 & -0.08989252 & -0.2021395 & -0.07532172 &  0.1054798 &  0.96484888 &  0.53495161 & -0.6818306 & -0.3832933 &  0.71301742 &  0.5568057 &  1.2279506 &  0.7272866 &  0.1119421 & -1.17531288 & -0.6786250 & -0.9280743 &  1.1995437 &  1.3050429 &  0.92762312 &  0.9917009 &  0.57726935 &  0.54912355 & -0.37563111 & -0.3963204 &  0.53298860 &  0.39006593 & -0.78732353 & -0.02337979 &  0.03225147 & -0.09547346 & -0.2665530 &  0.6344320 &  0.63953541 & -0.3324180 & -0.04717081 & -0.4403213 & -0.4557133 & -0.05227442 &  0.5067868 &  0.35983440 &  0.9016551 &  1.07556811 &  0.5774978 &  0.5449367 &  0.03334376 & -0.02030623 &  0.1359168 &  0.20067146 &  0.06135084 & -0.01444344 & -0.6345187 & -0.33689902 & -0.318275672 &  0.74062972 & -0.2587514 &  0.14361706 &  0.1836515 &  0.06296212 &  0.10402296 &  1.2741320 &  1.4327866 &  1.12223216 &  0.30389878 &  0.44388458 & -1.9956224 & -2.0863328 & -1.2686854 & -1.9552740 &  1.0573809 & Decision - Unanimous & Blue &   6.015788 &  1.0803594\\\\\n",
       "\t  0.1438230 &  0.005462602 & -0.7864511 & -0.6566393 & -0.2509637 & -0.1794872 &  0.2152411 &  0.2628669 & -0.4669566 & -0.4331080 &  0.3003810 &  0.2227707 &  0.14212992 & -0.2496166 & -0.04173709 & -0.3323663 & -0.2703453 & -0.04045087 & -0.5501979 &  0.3235796 &  0.1500055 & -0.4832945 & -0.7450655 & -0.88298831 & -0.8385042 & -0.95877909 & -0.8332946 & -0.8295324 & -0.36046183 & -0.37645117 &  0.02685089 & -0.019559410 & -0.3826152 & -0.3625919 &  0.6964606 & -0.15418282 & -0.1799156 &  0.04638993 &  0.5193320 & -0.46208650 & -0.54473872 & -0.2389247 &  0.1130966 & -0.19008436 & -0.1513577 &  0.4784642 & -0.4952447 & -0.4709203 &  0.31499406 &  0.8428053 & -0.2730470 & -0.4925515 & -0.6875796 & -0.69264389 & -0.7482651 & -0.05880013 & -0.37063059 &  0.05048484 &  0.1962475 & -0.05281032 & -0.23398233 & -0.48073752 & -0.22600745 & -0.46366472 & -0.45281008 & -0.2017487 & -0.1602363 & -0.47771826 & -0.8025407 & -0.68774906 &  1.5527723 &  1.6238188 &  0.60001845 & -0.2435802 & -0.46679795 &  0.1743721 &  0.02813386 & -0.4788865 & -0.4873551 & -0.13137508 & -0.16902991 & -0.6482716 & -0.77188904 & -0.49971773 & -0.87661194 &  0.2017442 &  0.50105739 &  0.449543226 & -0.10298406 &  0.1744493 & -0.31576579 & -0.4984191 & -1.09390406 & -0.44364059 & -0.5587282 & -0.3863164 & -0.08127021 & -0.50375072 & -0.72961942 & -0.5435415 &  0.3440340 & -0.2860086 &  1.2031510 &  0.2984527 & Decision - Split     & Red  &  -2.515505 & -4.1645759\\\\\n",
       "\t -0.8577024 & -0.702481810 & -0.9836567 & -0.8969343 & -0.6717687 & -0.8421178 & -0.7121957 & -0.7579780 & -0.8814054 & -1.2114604 & -0.7491624 & -0.4984453 & -0.70328954 & -0.2496166 &  0.47165993 & -0.9428264 & -1.2290409 & -1.85226318 &  2.5714019 & -0.9904153 & -0.9970335 & -1.3196071 & -1.2512767 & -1.45388537 & -0.6870594 & -0.67031707 & -0.5358371 & -0.3885649 & -0.68486677 & -0.48414348 &  0.10271169 & -0.207386887 & -0.6668067 & -0.4510512 &  0.6964606 & -0.41718856 & -0.3651148 & -0.56216830 &  0.5193320 & -0.70940198 & -0.58096994 &  0.1981535 & -0.1626756 & -0.44811344 & -0.1513577 &  1.3687381 & -0.9508042 & -0.9535052 & -0.87725150 & -0.1714816 & -0.9280743 &  0.6339667 &  0.4569010 &  0.33068264 &  0.1675065 &  0.27445749 & -0.06973655 &  0.17603687 &  0.2305993 &  0.31529305 & -0.02220124 & -0.17415152 & -0.04280984 & -0.18932811 & -0.92181439 & -0.2017487 &  0.3580778 &  0.06177752 & -0.8978358 & -0.68774906 & -0.7594571 & -0.6376724 & -0.20772392 &  0.7259910 &  0.75263134 & -0.5985339 & -0.47559406 & -0.4130340 & -0.4404327 & -0.55382022 & -0.29752716 &  0.2873308 &  0.08563742 & -0.55406339 & -0.40870140 &  1.4561386 &  0.08055563 &  0.256583503 &  0.97573520 & -0.1968656 & -0.53656727 & -0.3452596 &  0.40903320 & -0.07853156 &  0.8954419 &  0.9912567 &  0.44424834 & -0.43248753 & -0.10000644 &  0.9085393 &  0.1009973 & -0.9411265 & -1.4288698 &  0.5514288 & Decision - Unanimous & Red  & -21.117179 &  0.2915316\\\\\n",
       "\t -1.0318808 & -0.887162961 & -0.9617450 & -0.9870450 & -1.0886038 & -0.9338666 & -0.4754033 & -0.4371410 & -1.1911034 & -1.0357034 &  0.8251526 & -0.9600235 & -1.03410585 & -0.2496166 & -0.55513411 & -1.2895075 & -1.2379177 & -0.26505570 & -0.7903209 & -1.1098694 & -0.9970335 & -1.3196071 & -1.4825918 & -1.31263248 & -1.2423570 & -1.21118335 & -0.9572352 & -0.8634530 & -0.74420913 & -1.16260508 &  0.78545891 &  0.624420511 & -0.4593018 & -0.6026955 &  1.3361018 & -1.00164577 & -1.0688718 & -0.80559160 & -0.5152986 & -0.69441317 & -0.99762896 & -1.3898973 & -0.7142199 & -1.02867887 & -0.5939598 &  0.9132492 & -0.9372054 & -1.1665947 &  1.20917822 &  0.3356619 &  2.1833055 & -0.1448607 &  0.1809994 &  1.31746180 &  1.9583487 & -0.77838972 & -0.58189663 & -0.82267240 & -0.8257174 & -0.87213719 & -0.40764281 & -0.02085851 &  0.11540627 & -0.07326262 & -0.65381193 &  0.3814907 & -0.7133447 & -0.24527593 &  1.8752525 &  0.35319060 & -0.9220357 & -0.9106110 & -0.39069319 & -0.5837997 &  0.02761809 & -0.9366802 & -0.70347097 & -1.0962540 & -1.1559986 & -1.41174892 & -1.25768720 &  0.4297050 &  0.30524785 & -1.42057467 & -1.27086990 & -0.6345187 & -0.87014401 & -0.840874922 &  2.05445446 & -0.5681804 & -1.42969686 & -1.2917857 &  0.40903320 & -0.35236333 &  1.9179053 &  2.8456820 &  1.19116592 & -0.87615836 & -0.08448781 &  1.7797878 &  2.5313642 &  2.4982422 &  0.6767468 &  0.5514288 & Decision - Unanimous & Red  & -16.403026 &  4.6235810\\\\\n",
       "\t  0.7679620 &  0.774967397 & -0.2532656 & -0.1560247 &  0.6621038 &  1.0812098 & -0.4885585 & -0.4274187 &  0.4515106 &  0.7469748 &  2.0496199 & -0.1137968 &  0.05636272 & -0.5411087 & -0.21286943 &  0.4916293 &  0.7652827 &  0.53353926 & -0.7903209 & -0.7515071 & -0.5722042 & -0.4763828 &  0.1388486 &  0.04104096 &  0.3225726 &  0.14699197 &  0.4061118 &  0.5159839 & -0.04660665 & -0.08209217 & -0.47888779 & -0.404158529 & -0.2367603 & -0.3499549 & -0.1563944 &  0.55690678 &  0.5979210 & -0.39988611 & -0.1704217 & -0.07737353 & -0.06769433 & -0.2486375 & -0.5303718 & -0.06106982 & -0.5447818 & -0.9823211 & -0.2278018 & -0.3267715 &  0.61305545 &  0.8428053 &  0.2182235 &  0.1854456 &  0.3598245 &  0.16621945 &  0.4829390 & -0.70741819 & -0.74194665 & -0.53732690 & -0.4607299 & -0.89811223 & -0.94768458 &  1.51207152 & -0.55076684 & -0.52169746 & -0.98881501 & -0.5905749 & -0.7733347 & -0.68289883 &  1.1367153 & -0.84789363 & -0.9671965 & -0.8131329 & -0.94852632 & -0.9343454 & -0.79315162 &  1.4786508 &  1.18550872 &  0.6529538 &  0.6329162 & -0.01989650 & -0.37426858 & -0.8245446 & -0.84509252 & -0.39404562 & -1.00008834 & -0.6345187 &  0.18111040 &  0.003323866 & -0.74606670 & -0.5681804 & -0.07139561 & -0.4034602 & -0.88873334 & -0.58055648 & -0.2406285 & -0.9956275 & -0.94983560 & -0.01697715 & -0.16762333 & -0.2531254 &  0.5870707 &  0.2053297 &  0.9399489 &  1.0573809 & Decision - Majority  & Draw &   6.391627 & -8.2656813\\\\\n",
       "\\end{tabular}\n"
      ],
      "text/markdown": [
       "\n",
       "A data.frame: 6 × 108\n",
       "\n",
       "| B_avg_BODY_att &lt;dbl&gt; | B_avg_BODY_landed &lt;dbl&gt; | B_avg_CLINCH_att &lt;dbl&gt; | B_avg_CLINCH_landed &lt;dbl&gt; | B_avg_DISTANCE_att &lt;dbl&gt; | B_avg_DISTANCE_landed &lt;dbl&gt; | B_avg_GROUND_att &lt;dbl&gt; | B_avg_GROUND_landed &lt;dbl&gt; | B_avg_HEAD_att &lt;dbl&gt; | B_avg_HEAD_landed &lt;dbl&gt; | ... ... | R_avg_opp_TOTAL_STR_landed &lt;dbl&gt; | R_Height_cms &lt;dbl&gt; | R_Reach_cms &lt;dbl&gt; | R_Weight_lbs &lt;dbl&gt; | B_age &lt;dbl&gt; | R_age &lt;dbl&gt; | win_by &lt;fct&gt; | Winner &lt;fct&gt; | B_avg &lt;dbl&gt; | R_avg &lt;dbl&gt; |\n",
       "|---|---|---|---|---|---|---|---|---|---|---|---|---|---|---|---|---|---|---|---|---|\n",
       "| -0.6399795 | -1.071844112 | -0.8960098 | -0.8969343 |  0.5191888 | -0.6586201 | -1.0673843 | -1.0496479 |  0.4484743 | -0.8097301 | ... |  3.47371230 |  0.6181231 |  0.3440340 |  0.2053297 | -0.9024657 | -1.9783319 | Decision - Split     | Blue | -20.061653 | 14.1134241 |\n",
       "|  0.6141045 |  0.294796405 | -0.5278927 | -0.4644033 |  1.9340464 |  1.9103475 | -0.4043656 | -0.3846404 |  1.8202544 |  1.6759761 | ... |  0.44388458 | -1.9956224 | -2.0863328 | -1.2686854 | -1.9552740 |  1.0573809 | Decision - Unanimous | Blue |   6.015788 |  1.0803594 |\n",
       "|  0.1438230 |  0.005462602 | -0.7864511 | -0.6566393 | -0.2509637 | -0.1794872 |  0.2152411 |  0.2628669 | -0.4669566 | -0.4331080 | ... | -0.72961942 | -0.5435415 |  0.3440340 | -0.2860086 |  1.2031510 |  0.2984527 | Decision - Split     | Red  |  -2.515505 | -4.1645759 |\n",
       "| -0.8577024 | -0.702481810 | -0.9836567 | -0.8969343 | -0.6717687 | -0.8421178 | -0.7121957 | -0.7579780 | -0.8814054 | -1.2114604 | ... | -0.10000644 |  0.9085393 |  0.1009973 | -0.9411265 | -1.4288698 |  0.5514288 | Decision - Unanimous | Red  | -21.117179 |  0.2915316 |\n",
       "| -1.0318808 | -0.887162961 | -0.9617450 | -0.9870450 | -1.0886038 | -0.9338666 | -0.4754033 | -0.4371410 | -1.1911034 | -1.0357034 | ... | -0.08448781 |  1.7797878 |  2.5313642 |  2.4982422 |  0.6767468 |  0.5514288 | Decision - Unanimous | Red  | -16.403026 |  4.6235810 |\n",
       "|  0.7679620 |  0.774967397 | -0.2532656 | -0.1560247 |  0.6621038 |  1.0812098 | -0.4885585 | -0.4274187 |  0.4515106 |  0.7469748 | ... | -0.16762333 | -0.2531254 |  0.5870707 |  0.2053297 |  0.9399489 |  1.0573809 | Decision - Majority  | Draw |   6.391627 | -8.2656813 |\n",
       "\n"
      ],
      "text/plain": [
       "  B_avg_BODY_att B_avg_BODY_landed B_avg_CLINCH_att B_avg_CLINCH_landed\n",
       "1 -0.6399795     -1.071844112      -0.8960098       -0.8969343         \n",
       "2  0.6141045      0.294796405      -0.5278927       -0.4644033         \n",
       "3  0.1438230      0.005462602      -0.7864511       -0.6566393         \n",
       "4 -0.8577024     -0.702481810      -0.9836567       -0.8969343         \n",
       "5 -1.0318808     -0.887162961      -0.9617450       -0.9870450         \n",
       "6  0.7679620      0.774967397      -0.2532656       -0.1560247         \n",
       "  B_avg_DISTANCE_att B_avg_DISTANCE_landed B_avg_GROUND_att B_avg_GROUND_landed\n",
       "1  0.5191888         -0.6586201            -1.0673843       -1.0496479         \n",
       "2  1.9340464          1.9103475            -0.4043656       -0.3846404         \n",
       "3 -0.2509637         -0.1794872             0.2152411        0.2628669         \n",
       "4 -0.6717687         -0.8421178            -0.7121957       -0.7579780         \n",
       "5 -1.0886038         -0.9338666            -0.4754033       -0.4371410         \n",
       "6  0.6621038          1.0812098            -0.4885585       -0.4274187         \n",
       "  B_avg_HEAD_att B_avg_HEAD_landed ... R_avg_opp_TOTAL_STR_landed R_Height_cms\n",
       "1  0.4484743     -0.8097301        ...  3.47371230                 0.6181231  \n",
       "2  1.8202544      1.6759761        ...  0.44388458                -1.9956224  \n",
       "3 -0.4669566     -0.4331080        ... -0.72961942                -0.5435415  \n",
       "4 -0.8814054     -1.2114604        ... -0.10000644                 0.9085393  \n",
       "5 -1.1911034     -1.0357034        ... -0.08448781                 1.7797878  \n",
       "6  0.4515106      0.7469748        ... -0.16762333                -0.2531254  \n",
       "  R_Reach_cms R_Weight_lbs B_age      R_age      win_by               Winner\n",
       "1  0.3440340   0.2053297   -0.9024657 -1.9783319 Decision - Split     Blue  \n",
       "2 -2.0863328  -1.2686854   -1.9552740  1.0573809 Decision - Unanimous Blue  \n",
       "3  0.3440340  -0.2860086    1.2031510  0.2984527 Decision - Split     Red   \n",
       "4  0.1009973  -0.9411265   -1.4288698  0.5514288 Decision - Unanimous Red   \n",
       "5  2.5313642   2.4982422    0.6767468  0.5514288 Decision - Unanimous Red   \n",
       "6  0.5870707   0.2053297    0.9399489  1.0573809 Decision - Majority  Draw  \n",
       "  B_avg      R_avg     \n",
       "1 -20.061653 14.1134241\n",
       "2   6.015788  1.0803594\n",
       "3  -2.515505 -4.1645759\n",
       "4 -21.117179  0.2915316\n",
       "5 -16.403026  4.6235810\n",
       "6   6.391627 -8.2656813"
      ]
     },
     "metadata": {},
     "output_type": "display_data"
    }
   ],
   "source": [
    "# Calculate a total score for the B fighter and R fighter\n",
    "\n",
    "B_data <- numer_values %>%\n",
    "    mutate(B_avg = select(., c(starts_with(\"B\"))) %>%\n",
    "                    select(., -contains(\"opp\")) %>%\n",
    "                    rowSums) %>%\n",
    "    mutate(R_avg = select(., c(starts_with(\"R\"))) %>%\n",
    "                    select(., -contains(\"opp\")) %>%\n",
    "                    rowSums)\n",
    "head(B_data)"
   ]
  },
  {
   "cell_type": "code",
   "execution_count": 40,
   "metadata": {},
   "outputs": [
    {
     "data": {
      "image/png": "[encoded data removed]",
      "text/plain": [
       "plot without title"
      ]
     },
     "metadata": {
      "image/png": {
       "height": 420,
       "width": 420
      },
      "text/plain": {
       "height": 420,
       "width": 420
      }
     },
     "output_type": "display_data"
    }
   ],
   "source": [
    "# plot the data for the total score of the blue and red fighter when they landed a punch\n",
    "B_data %>%\n",
    " ggplot(aes(x=R_avg, y=B_avg, color=Winner)) +\n",
    "   geom_point(alpha=0.6)+\n",
    "    labs(title=\"Scaled Total Score by Fighter\", x = \"Red Total Score\", y = \"Blue Total Score\") +\n",
    "     scale_color_manual(values = c(\"blue\", \"green\", \"red\"))"
   ]
  },
  {
   "cell_type": "markdown",
   "metadata": {},
   "source": [
    "**Observations**\n",
    "\n",
    "- I find this chart very interesting as the total score (not including damage (ex. any column with opp) meaning having a higher overall stat did not predict the winner. The score was calculated using a scale to adjust all values in a column to the mean. We can try other measures, but this was meant to be the \"easy solution\". \n",
    "- There seems to be no relationship between the total score and the winner. For example, the red dot at (0, 50) is predicting the red person to win although they are behind by 50 points.  \n",
    "- I think that this does end up weighting certain attributes in a match to getting a higher score. This also makes me excited for the project!"
   ]
  },
  {
   "cell_type": "code",
   "execution_count": null,
   "metadata": {},
   "outputs": [],
   "source": []
  }
 ],
 "metadata": {
  "kernelspec": {
   "display_name": "R",
   "language": "R",
   "name": "ir"
  },
  "language_info": {
   "codemirror_mode": "r",
   "file_extension": ".r",
   "mimetype": "text/x-r-source",
   "name": "R",
   "pygments_lexer": "r",
   "version": "3.6.1"
  }
 },
 "nbformat": 4,
 "nbformat_minor": 4
}
