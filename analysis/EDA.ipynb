{
 "cells": [
  {
   "cell_type": "markdown",
   "metadata": {},
   "source": [
    "# EDA for UFC Data"
   ]
  },
  {
   "cell_type": "markdown",
   "metadata": {},
   "source": [
    "#### EDA Steps\n",
    "1. Question (complete in project proposal)\n",
    "2. Read in data (complete)\n",
    "3. Check packaging (complete)\n",
    "4. Look at the Bottom and Top of your data (looked at head and tail)\n",
    "5. Check your \"n\"s (complete_\n",
    "6. Validate with at least one external data source (complete)\n",
    "7. Make a plot (complete)\n",
    "8. Try the easy solution first (complete)\n",
    "9. Follow up\n"
   ]
  },
  {
   "cell_type": "code",
   "execution_count": 178,
   "metadata": {},
   "outputs": [],
   "source": [
    "# Load the necessary packages\n",
    "library(tidyverse)\n",
    "library(lubridate)\n",
    "library(janitor)"
   ]
  },
  {
   "cell_type": "markdown",
   "metadata": {},
   "source": [
    "### 1. Question\n",
    "\n",
    "Predictive main question:\n",
    "\n",
    "For fights that do not end in submission or TKO, what are the strongest predictors of who will win?\n",
    "\n",
    "This is a predictive question.\n",
    "\n",
    "Some natural questions that stem from the main research question are:\n",
    "\n",
    "Do judges award higher scores for striking (e.g. punching and kicking) over grappling (e.g. wrestling and submission attempts)?\n",
    "Do judges consistnely value the same criteria?\n",
    "Do judges consider other factors such as the fighters win streak or size?\n",
    "\n",
    "Read the [README](https://github.com/UBC-MDS/DSCI522_group315) of the Project repo for a further explanation."
   ]
  },
  {
   "cell_type": "markdown",
   "metadata": {},
   "source": [
    "### 2. Read in Data"
   ]
  },
  {
   "cell_type": "code",
   "execution_count": 179,
   "metadata": {},
   "outputs": [],
   "source": [
    "# 2. Read in data into jupyter\n",
    "read_data <- read.csv(\"https://github.com/SamEdwardes/ufc-data/raw/master/data.csv\")"
   ]
  },
  {
   "cell_type": "markdown",
   "metadata": {},
   "source": [
    "### 3. Check Packaging"
   ]
  },
  {
   "cell_type": "code",
   "execution_count": 180,
   "metadata": {},
   "outputs": [
    {
     "name": "stdout",
     "output_type": "stream",
     "text": [
      "[1] 5144\n",
      "[1] 145\n"
     ]
    }
   ],
   "source": [
    "# 3. Check initial rows and columns (\"n's\"). These match what is in the csv file. \n",
    "print(nrow(read_data))\n",
    "print(ncol(read_data))"
   ]
  },
  {
   "cell_type": "markdown",
   "metadata": {},
   "source": [
    "**Insights:**\n",
    "- This matches what I expect from the csv as the number of rows and columns match when I check the csv document. "
   ]
  },
  {
   "cell_type": "code",
   "execution_count": 181,
   "metadata": {},
   "outputs": [],
   "source": [
    "read_data <- read_data %>% \n",
    "    drop_na()"
   ]
  },
  {
   "cell_type": "markdown",
   "metadata": {},
   "source": [
    "### Split X_train and X_test"
   ]
  },
  {
   "cell_type": "code",
   "execution_count": 182,
   "metadata": {},
   "outputs": [
    {
     "data": {
      "text/html": [
       "2684"
      ],
      "text/latex": [
       "2684"
      ],
      "text/markdown": [
       "2684"
      ],
      "text/plain": [
       "[1] 2684"
      ]
     },
     "metadata": {},
     "output_type": "display_data"
    },
    {
     "data": {
      "text/html": [
       "144"
      ],
      "text/latex": [
       "144"
      ],
      "text/markdown": [
       "144"
      ],
      "text/plain": [
       "[1] 144"
      ]
     },
     "metadata": {},
     "output_type": "display_data"
    }
   ],
   "source": [
    "## set the seed and split data into train and test sets\n",
    "set.seed(12)\n",
    "split_data <- sample(seq_len(nrow(read_data)), size = 0.8 * nrow(read_data))\n",
    "y <- c(\"Winner\")\n",
    "\n",
    "X_train <- read_data[split_data, -(6)]\n",
    "y_train <- read_data[split_data, (6)]\n",
    "X_test <- read_data[-split_data, -(6)]\n",
    "y_test <- read_data[-split_data, (6)]\n",
    "\n",
    "nrow(X_train)\n",
    "ncol(X_train)"
   ]
  },
  {
   "cell_type": "markdown",
   "metadata": {},
   "source": [
    "### 4 Look at the Bottom and Top of your data"
   ]
  },
  {
   "cell_type": "code",
   "execution_count": 183,
   "metadata": {},
   "outputs": [
    {
     "data": {
      "text/html": [
       "<table>\n",
       "<caption>A data.frame: 6 × 144</caption>\n",
       "<thead>\n",
       "\t<tr><th></th><th scope=col>R_fighter</th><th scope=col>B_fighter</th><th scope=col>Referee</th><th scope=col>date</th><th scope=col>location</th><th scope=col>title_bout</th><th scope=col>weight_class</th><th scope=col>no_of_rounds</th><th scope=col>B_current_lose_streak</th><th scope=col>B_current_win_streak</th><th scope=col>...</th><th scope=col>R_win_by_KO.TKO</th><th scope=col>R_win_by_Submission</th><th scope=col>R_win_by_TKO_Doctor_Stoppage</th><th scope=col>R_wins</th><th scope=col>R_Stance</th><th scope=col>R_Height_cms</th><th scope=col>R_Reach_cms</th><th scope=col>R_Weight_lbs</th><th scope=col>B_age</th><th scope=col>R_age</th></tr>\n",
       "\t<tr><th></th><th scope=col>&lt;fct&gt;</th><th scope=col>&lt;fct&gt;</th><th scope=col>&lt;fct&gt;</th><th scope=col>&lt;fct&gt;</th><th scope=col>&lt;fct&gt;</th><th scope=col>&lt;fct&gt;</th><th scope=col>&lt;fct&gt;</th><th scope=col>&lt;int&gt;</th><th scope=col>&lt;dbl&gt;</th><th scope=col>&lt;dbl&gt;</th><th scope=col>...</th><th scope=col>&lt;dbl&gt;</th><th scope=col>&lt;dbl&gt;</th><th scope=col>&lt;dbl&gt;</th><th scope=col>&lt;dbl&gt;</th><th scope=col>&lt;fct&gt;</th><th scope=col>&lt;dbl&gt;</th><th scope=col>&lt;dbl&gt;</th><th scope=col>&lt;dbl&gt;</th><th scope=col>&lt;dbl&gt;</th><th scope=col>&lt;dbl&gt;</th></tr>\n",
       "</thead>\n",
       "<tbody>\n",
       "\t<tr><th scope=row>598</th><td>Leon Edwards    </td><td>Peter Sobotta        </td><td>Rich Mitchell  </td><td>2018-03-17</td><td>London, England, United Kingdom    </td><td>False</td><td>Welterweight </td><td>3</td><td>0</td><td>2</td><td>...</td><td>1</td><td>1</td><td>0</td><td> 6</td><td>Southpaw</td><td>182.88</td><td>187.96</td><td>170</td><td>31</td><td>26</td></tr>\n",
       "\t<tr><th scope=row>471</th><td>Curtis Millender</td><td>Max Griffin          </td><td>Jason Herzog   </td><td>2018-07-07</td><td>Las Vegas, Nevada, USA             </td><td>False</td><td>Welterweight </td><td>3</td><td>0</td><td>1</td><td>...</td><td>1</td><td>0</td><td>0</td><td> 1</td><td>Orthodox</td><td>187.96</td><td>193.04</td><td>170</td><td>32</td><td>30</td></tr>\n",
       "\t<tr><th scope=row>457</th><td>Darren Elkins   </td><td>Alexander Volkanovski</td><td>Jason Herzog   </td><td>2018-07-14</td><td>Boise, Idaho, USA                  </td><td>False</td><td>Featherweight</td><td>3</td><td>0</td><td>4</td><td>...</td><td>3</td><td>1</td><td>0</td><td>14</td><td>Orthodox</td><td>177.80</td><td>180.34</td><td>145</td><td>29</td><td>34</td></tr>\n",
       "\t<tr><th scope=row>1653</th><td>Hayder Hassan   </td><td>Vicente Luque        </td><td>Jorge Alonso   </td><td>2015-12-19</td><td>Orlando, Florida, USA              </td><td>False</td><td>Welterweight </td><td>3</td><td>1</td><td>0</td><td>...</td><td>0</td><td>0</td><td>0</td><td> 0</td><td>        </td><td>177.80</td><td>177.80</td><td>170</td><td>24</td><td>33</td></tr>\n",
       "\t<tr><th scope=row>3937</th><td>Dennis Siver    </td><td>Paul Kelly           </td><td>Dan Miragliotta</td><td>2009-11-14</td><td>Manchester, England, United Kingdom</td><td>False</td><td>Lightweight  </td><td>3</td><td>0</td><td>2</td><td>...</td><td>2</td><td>1</td><td>0</td><td> 3</td><td>Orthodox</td><td>167.64</td><td>177.80</td><td>145</td><td>25</td><td>30</td></tr>\n",
       "\t<tr><th scope=row>2949</th><td>Urijah Faber    </td><td>Ivan Menjivar        </td><td>Jason Herzog   </td><td>2013-02-23</td><td>Anaheim, California, USA           </td><td>False</td><td>Bantamweight </td><td>3</td><td>0</td><td>1</td><td>...</td><td>0</td><td>1</td><td>0</td><td> 2</td><td>Orthodox</td><td>167.64</td><td>170.18</td><td>135</td><td>30</td><td>33</td></tr>\n",
       "</tbody>\n",
       "</table>\n"
      ],
      "text/latex": [
       "A data.frame: 6 × 144\n",
       "\\begin{tabular}{r|llllllllllllllllllllllllllllllllllllllllllllllllllllllllllllllllllllllllllllllllllllllllllllllllllllllllllllllllllllllllllllllllllllllllllllllll}\n",
       "  & R\\_fighter & B\\_fighter & Referee & date & location & title\\_bout & weight\\_class & no\\_of\\_rounds & B\\_current\\_lose\\_streak & B\\_current\\_win\\_streak & B\\_draw & B\\_avg\\_BODY\\_att & B\\_avg\\_BODY\\_landed & B\\_avg\\_CLINCH\\_att & B\\_avg\\_CLINCH\\_landed & B\\_avg\\_DISTANCE\\_att & B\\_avg\\_DISTANCE\\_landed & B\\_avg\\_GROUND\\_att & B\\_avg\\_GROUND\\_landed & B\\_avg\\_HEAD\\_att & B\\_avg\\_HEAD\\_landed & B\\_avg\\_KD & B\\_avg\\_LEG\\_att & B\\_avg\\_LEG\\_landed & B\\_avg\\_PASS & B\\_avg\\_REV & B\\_avg\\_SIG\\_STR\\_att & B\\_avg\\_SIG\\_STR\\_landed & B\\_avg\\_SIG\\_STR\\_pct & B\\_avg\\_SUB\\_ATT & B\\_avg\\_TD\\_att & B\\_avg\\_TD\\_landed & B\\_avg\\_TD\\_pct & B\\_avg\\_TOTAL\\_STR\\_att & B\\_avg\\_TOTAL\\_STR\\_landed & B\\_longest\\_win\\_streak & B\\_losses & B\\_avg\\_opp\\_BODY\\_att & B\\_avg\\_opp\\_BODY\\_landed & B\\_avg\\_opp\\_CLINCH\\_att & B\\_avg\\_opp\\_CLINCH\\_landed & B\\_avg\\_opp\\_DISTANCE\\_att & B\\_avg\\_opp\\_DISTANCE\\_landed & B\\_avg\\_opp\\_GROUND\\_att & B\\_avg\\_opp\\_GROUND\\_landed & B\\_avg\\_opp\\_HEAD\\_att & B\\_avg\\_opp\\_HEAD\\_landed & B\\_avg\\_opp\\_KD & B\\_avg\\_opp\\_LEG\\_att & B\\_avg\\_opp\\_LEG\\_landed & B\\_avg\\_opp\\_PASS & B\\_avg\\_opp\\_REV & B\\_avg\\_opp\\_SIG\\_STR\\_att & B\\_avg\\_opp\\_SIG\\_STR\\_landed & B\\_avg\\_opp\\_SIG\\_STR\\_pct & B\\_avg\\_opp\\_SUB\\_ATT & B\\_avg\\_opp\\_TD\\_att & B\\_avg\\_opp\\_TD\\_landed & B\\_avg\\_opp\\_TD\\_pct & B\\_avg\\_opp\\_TOTAL\\_STR\\_att & B\\_avg\\_opp\\_TOTAL\\_STR\\_landed & B\\_total\\_rounds\\_fought & B\\_total\\_time\\_fought.seconds. & B\\_total\\_title\\_bouts & B\\_win\\_by\\_Decision\\_Majority & B\\_win\\_by\\_Decision\\_Split & B\\_win\\_by\\_Decision\\_Unanimous & B\\_win\\_by\\_KO.TKO & B\\_win\\_by\\_Submission & B\\_win\\_by\\_TKO\\_Doctor\\_Stoppage & B\\_wins & B\\_Stance & B\\_Height\\_cms & B\\_Reach\\_cms & B\\_Weight\\_lbs & R\\_current\\_lose\\_streak & R\\_current\\_win\\_streak & R\\_draw & R\\_avg\\_BODY\\_att & R\\_avg\\_BODY\\_landed & R\\_avg\\_CLINCH\\_att & R\\_avg\\_CLINCH\\_landed & R\\_avg\\_DISTANCE\\_att & R\\_avg\\_DISTANCE\\_landed & R\\_avg\\_GROUND\\_att & R\\_avg\\_GROUND\\_landed & R\\_avg\\_HEAD\\_att & R\\_avg\\_HEAD\\_landed & R\\_avg\\_KD & R\\_avg\\_LEG\\_att & R\\_avg\\_LEG\\_landed & R\\_avg\\_PASS & R\\_avg\\_REV & R\\_avg\\_SIG\\_STR\\_att & R\\_avg\\_SIG\\_STR\\_landed & R\\_avg\\_SIG\\_STR\\_pct & R\\_avg\\_SUB\\_ATT & R\\_avg\\_TD\\_att & R\\_avg\\_TD\\_landed & R\\_avg\\_TD\\_pct & R\\_avg\\_TOTAL\\_STR\\_att & R\\_avg\\_TOTAL\\_STR\\_landed & R\\_longest\\_win\\_streak & R\\_losses & R\\_avg\\_opp\\_BODY\\_att & R\\_avg\\_opp\\_BODY\\_landed & R\\_avg\\_opp\\_CLINCH\\_att & R\\_avg\\_opp\\_CLINCH\\_landed & R\\_avg\\_opp\\_DISTANCE\\_att & R\\_avg\\_opp\\_DISTANCE\\_landed & R\\_avg\\_opp\\_GROUND\\_att & R\\_avg\\_opp\\_GROUND\\_landed & R\\_avg\\_opp\\_HEAD\\_att & R\\_avg\\_opp\\_HEAD\\_landed & R\\_avg\\_opp\\_KD & R\\_avg\\_opp\\_LEG\\_att & R\\_avg\\_opp\\_LEG\\_landed & R\\_avg\\_opp\\_PASS & R\\_avg\\_opp\\_REV & R\\_avg\\_opp\\_SIG\\_STR\\_att & R\\_avg\\_opp\\_SIG\\_STR\\_landed & R\\_avg\\_opp\\_SIG\\_STR\\_pct & R\\_avg\\_opp\\_SUB\\_ATT & R\\_avg\\_opp\\_TD\\_att & R\\_avg\\_opp\\_TD\\_landed & R\\_avg\\_opp\\_TD\\_pct & R\\_avg\\_opp\\_TOTAL\\_STR\\_att & R\\_avg\\_opp\\_TOTAL\\_STR\\_landed & R\\_total\\_rounds\\_fought & R\\_total\\_time\\_fought.seconds. & R\\_total\\_title\\_bouts & R\\_win\\_by\\_Decision\\_Majority & R\\_win\\_by\\_Decision\\_Split & R\\_win\\_by\\_Decision\\_Unanimous & R\\_win\\_by\\_KO.TKO & R\\_win\\_by\\_Submission & R\\_win\\_by\\_TKO\\_Doctor\\_Stoppage & R\\_wins & R\\_Stance & R\\_Height\\_cms & R\\_Reach\\_cms & R\\_Weight\\_lbs & B\\_age & R\\_age\\\\\n",
       "  & <fct> & <fct> & <fct> & <fct> & <fct> & <fct> & <fct> & <int> & <dbl> & <dbl> & <dbl> & <dbl> & <dbl> & <dbl> & <dbl> & <dbl> & <dbl> & <dbl> & <dbl> & <dbl> & <dbl> & <dbl> & <dbl> & <dbl> & <dbl> & <dbl> & <dbl> & <dbl> & <dbl> & <dbl> & <dbl> & <dbl> & <dbl> & <dbl> & <dbl> & <dbl> & <dbl> & <dbl> & <dbl> & <dbl> & <dbl> & <dbl> & <dbl> & <dbl> & <dbl> & <dbl> & <dbl> & <dbl> & <dbl> & <dbl> & <dbl> & <dbl> & <dbl> & <dbl> & <dbl> & <dbl> & <dbl> & <dbl> & <dbl> & <dbl> & <dbl> & <dbl> & <dbl> & <dbl> & <dbl> & <dbl> & <dbl> & <dbl> & <dbl> & <dbl> & <dbl> & <fct> & <dbl> & <dbl> & <dbl> & <dbl> & <dbl> & <dbl> & <dbl> & <dbl> & <dbl> & <dbl> & <dbl> & <dbl> & <dbl> & <dbl> & <dbl> & <dbl> & <dbl> & <dbl> & <dbl> & <dbl> & <dbl> & <dbl> & <dbl> & <dbl> & <dbl> & <dbl> & <dbl> & <dbl> & <dbl> & <dbl> & <dbl> & <dbl> & <dbl> & <dbl> & <dbl> & <dbl> & <dbl> & <dbl> & <dbl> & <dbl> & <dbl> & <dbl> & <dbl> & <dbl> & <dbl> & <dbl> & <dbl> & <dbl> & <dbl> & <dbl> & <dbl> & <dbl> & <dbl> & <dbl> & <dbl> & <dbl> & <dbl> & <dbl> & <dbl> & <dbl> & <dbl> & <dbl> & <dbl> & <dbl> & <dbl> & <dbl> & <fct> & <dbl> & <dbl> & <dbl> & <dbl> & <dbl>\\\\\n",
       "\\hline\n",
       "\t598 & Leon Edwards     & Peter Sobotta         & Rich Mitchell   & 2018-03-17 & London, England, United Kingdom     & False & Welterweight  & 3 & 0 & 2 & 0 &  6.75000 &  4.375 &  3.50 &  1.625000 & 53.625 & 19.75000 &  7.25 &  4.375000 &  51.75000 & 16.00000 & 0.5000000 &  5.875 &  5.375 & 1.8750000 & 0.125 &  64.375 & 25.75000 & 0.4000000 & 0.5000000 & 3.7500000 & 1.3750000 & 0.3300000 &  86.125 &  45.375 & 2 & 4 & 10.25 & 5.125000 &  5.875000 & 3.875000 & 69.00000 & 23.87500 &  6.375000 & 4.00 & 54.25 & 13.12500 & 0.125 & 16.750000 & 13.500000 & 0.500000 & 0.25 & 81.25000 & 31.75000 & 0.3637500 & 0.1250000 &  0.875000 & 0.125000 & 0.0250 & 104.25000 & 53.75 & 19 & 655.8750 & 0 & 0 & 0 & 2 & 1 & 1 & 0 & 4 & Southpaw & 182.88 & 190.50 & 170 & 0 & 4 & 0 &  8.375000 & 6.125000 &  4.75000 & 3.625000 &  46.50000 & 18.75000 &  5.250000 &  4.375000 &  45.75000 & 18.50000 & 0.2500000 &  2.375000 & 2.125000 & 2.750000 & 0.25000000 &  56.50000 & 26.75000 & 0.5437500 & 0.6250000 & 4.375000 & 1.3750000 & 0.2137500 &  78.7500 & 46.87500 & 4 & 2 &  9.125000 &  6.750000 & 7.250000 & 5.6250000 &  42.62500 & 14.87500 &  9.250000 & 5.625000 &  44.62500 & 15.750000 & 0.12500000 &  5.375000 &  3.625000 & 2.125000 & 0.0000000 &  59.12500 & 26.12500 & 0.3637500 & 0.2500000 & 5.6250000 & 1.8750000 & 0.1750000 & 102.00000 & 65.12500 & 22 &  773.6250 & 0 & 0 & 0 & 4 & 1 & 1 & 0 &  6 & Southpaw & 182.88 & 187.96 & 170 & 31 & 26\\\\\n",
       "\t471 & Curtis Millender & Max Griffin           & Jason Herzog    & 2018-07-07 & Las Vegas, Nevada, USA              & False & Welterweight  & 3 & 0 & 1 & 0 &  9.50000 &  4.500 &  7.00 &  3.750000 & 75.500 & 30.25000 &  9.00 &  5.250000 &  77.00000 & 30.50000 & 0.7500000 &  5.000 &  4.250 & 0.0000000 & 0.250 &  91.500 & 39.25000 & 0.4275000 & 0.2500000 & 0.5000000 & 0.0000000 & 0.0000000 & 100.750 &  47.500 & 1 & 2 & 13.50 & 8.250000 & 12.500000 & 8.750000 & 63.75000 & 25.75000 &  8.500000 & 5.00 & 64.25 & 25.00000 & 0.000 &  7.000000 &  6.250000 & 3.500000 & 0.00 & 84.75000 & 39.50000 & 0.4625000 & 0.0000000 &  4.500000 & 1.750000 & 0.2275 & 129.75000 & 75.75 & 10 & 648.0000 & 0 & 0 & 0 & 1 & 1 & 0 & 0 & 2 & Orthodox & 180.34 & 193.04 & 170 & 0 & 1 & 0 & 10.000000 & 7.000000 &  0.00000 & 0.000000 & 100.00000 & 44.00000 &  6.000000 &  3.000000 &  85.00000 & 31.00000 & 2.0000000 & 11.000000 & 9.000000 & 0.000000 & 0.00000000 & 106.00000 & 47.00000 & 0.4400000 & 0.0000000 & 0.000000 & 0.0000000 & 0.0000000 & 106.0000 & 47.00000 & 1 & 0 &  3.000000 &  3.000000 & 0.000000 & 0.0000000 & 106.00000 & 33.00000 &  0.000000 & 0.000000 &  63.00000 &  3.000000 & 0.00000000 & 40.000000 & 27.000000 & 1.000000 & 0.0000000 & 106.00000 & 33.00000 & 0.3100000 & 0.0000000 & 1.0000000 & 1.0000000 & 1.0000000 & 110.00000 & 37.00000 &  2 &  557.0000 & 0 & 0 & 0 & 0 & 1 & 0 & 0 &  1 & Orthodox & 187.96 & 193.04 & 170 & 32 & 30\\\\\n",
       "\t457 & Darren Elkins    & Alexander Volkanovski & Jason Herzog    & 2018-07-14 & Boise, Idaho, USA                   & False & Featherweight & 3 & 0 & 4 & 0 &  9.75000 &  8.000 & 14.00 & 10.000000 & 45.000 & 23.00000 & 53.25 & 36.500000 &  87.25000 & 48.75000 & 0.2500000 & 15.250 & 12.750 & 3.5000000 & 0.250 & 112.250 & 69.50000 & 0.6150000 & 0.0000000 & 6.7500000 & 3.5000000 & 0.6450000 & 128.000 &  83.000 & 4 & 0 &  5.00 & 2.500000 &  3.250000 & 1.500000 & 60.75000 & 15.25000 &  2.250000 & 2.25 & 59.00 & 14.75000 & 0.000 &  2.250000 &  1.750000 & 0.500000 & 0.25 & 66.25000 & 19.00000 & 0.3100000 & 0.0000000 &  2.750000 & 0.500000 & 0.3750 &  70.00000 & 22.25 & 10 & 705.7500 & 0 & 0 & 0 & 2 & 2 & 0 & 0 & 4 & Orthodox & 167.64 & 180.34 & 145 & 0 & 6 & 0 & 12.222222 & 7.888889 & 11.72222 & 7.888889 &  69.33333 & 16.16667 & 16.388889 & 11.888889 &  83.55556 & 26.44444 & 0.1111111 &  1.666667 & 1.611111 & 2.111111 & 0.05555556 &  97.44444 & 35.94444 & 0.3283333 & 1.1666667 & 5.833333 & 2.1111111 & 0.3438889 & 156.3333 & 86.94444 & 6 & 4 &  6.611111 &  4.833333 & 5.000000 & 3.4444444 &  52.77778 & 19.44444 &  6.277778 & 4.666667 &  53.66667 & 19.833333 & 0.05555556 &  3.777778 &  2.888889 & 1.055556 & 0.1111111 &  64.05556 & 27.55556 & 0.4188889 & 0.6111111 & 1.5555556 & 0.7777778 & 0.2716667 &  87.72222 & 47.88889 & 45 &  687.7778 & 0 & 0 & 2 & 8 & 3 & 1 & 0 & 14 & Orthodox & 177.80 & 180.34 & 145 & 29 & 34\\\\\n",
       "\t1653 & Hayder Hassan    & Vicente Luque         & Jorge Alonso    & 2015-12-19 & Orlando, Florida, USA               & False & Welterweight  & 3 & 1 & 0 & 0 & 18.00000 & 12.000 &  4.00 &  3.000000 & 40.000 & 16.00000 & 13.00 &  9.000000 &  35.00000 & 13.00000 & 0.0000000 &  4.000 &  3.000 & 0.0000000 & 0.000 &  57.000 & 28.00000 & 0.4900000 & 1.0000000 & 0.0000000 & 0.0000000 & 0.0000000 &  79.000 &  50.000 & 0 & 1 &  6.00 & 3.000000 & 13.000000 & 7.000000 & 22.00000 & 12.00000 & 10.000000 & 8.00 & 35.00 & 22.00000 & 0.000 &  4.000000 &  2.000000 & 4.000000 & 1.00 & 45.00000 & 27.00000 & 0.6000000 & 0.0000000 & 10.000000 & 7.000000 & 0.7000 &  72.00000 & 53.00 &  3 & 900.0000 & 0 & 0 & 0 & 0 & 0 & 0 & 0 & 0 & Orthodox & 180.34 & 190.50 & 170 & 1 & 0 & 0 &  1.000000 & 0.000000 &  3.00000 & 2.000000 &   8.00000 &  1.00000 &  0.000000 &  0.000000 &  10.00000 &  3.00000 & 0.0000000 &  0.000000 & 0.000000 & 0.000000 & 0.00000000 &  11.00000 &  3.00000 & 0.2700000 & 0.0000000 & 0.000000 & 0.0000000 & 0.0000000 &  15.0000 &  7.00000 & 0 & 1 &  5.000000 &  5.000000 & 4.000000 & 4.0000000 &   9.00000 &  4.00000 & 13.000000 & 7.000000 &  21.00000 & 10.000000 & 0.00000000 &  0.000000 &  0.000000 & 5.000000 & 0.0000000 &  26.00000 & 15.00000 & 0.5700000 & 1.0000000 & 8.0000000 & 6.0000000 & 0.7500000 &  43.00000 & 31.00000 &  2 &  379.0000 & 1 & 0 & 0 & 0 & 0 & 0 & 0 &  0 &          & 177.80 & 177.80 & 170 & 24 & 33\\\\\n",
       "\t3937 & Dennis Siver     & Paul Kelly            & Dan Miragliotta & 2009-11-14 & Manchester, England, United Kingdom & False & Lightweight   & 3 & 0 & 2 & 0 &  9.00000 &  8.000 & 14.25 &  8.250000 & 56.500 & 13.00000 & 44.00 & 22.750000 & 101.25000 & 32.25000 & 0.0000000 &  4.500 &  3.750 & 2.0000000 & 1.000 & 114.750 & 44.00000 & 0.3375000 & 0.7500000 & 2.7500000 & 1.7500000 & 0.8325000 & 187.750 & 109.750 & 2 & 1 &  7.00 & 5.000000 & 10.250000 & 7.000000 & 45.50000 & 18.25000 &  7.750000 & 4.75 & 50.00 & 19.50000 & 0.250 &  6.500000 &  5.500000 & 2.750000 & 0.25 & 63.50000 & 30.00000 & 0.4700000 & 1.7500000 &  2.750000 & 1.750000 & 0.8000 & 105.75000 & 67.75 & 11 & 784.0000 & 0 & 0 & 0 & 3 & 0 & 0 & 0 & 3 & Orthodox & 175.26 & 177.80 & 155 & 0 & 2 & 0 &  2.666667 & 1.166667 &  3.50000 & 1.500000 &  44.00000 & 12.33333 &  6.333333 &  3.166667 &  45.16667 & 11.33333 & 0.3333333 &  6.000000 & 4.500000 & 1.000000 & 0.16666667 &  53.83333 & 17.00000 & 0.3450000 & 0.3333333 & 1.000000 & 0.3333333 & 0.2500000 &  87.0000 & 46.50000 & 2 & 3 &  3.000000 &  2.166667 & 1.666667 & 0.6666667 &  26.66667 & 10.83333 & 10.666667 & 5.000000 &  29.50000 &  9.166667 & 0.50000000 &  6.500000 &  5.166667 & 2.166667 & 0.3333333 &  39.00000 & 16.50000 & 0.3883333 & 1.0000000 & 0.8333333 & 0.6666667 & 0.4166667 &  54.33333 & 29.50000 & 11 &  411.5000 & 0 & 0 & 0 & 0 & 2 & 1 & 0 &  3 & Orthodox & 167.64 & 177.80 & 145 & 25 & 30\\\\\n",
       "\t2949 & Urijah Faber     & Ivan Menjivar         & Jason Herzog    & 2013-02-23 & Anaheim, California, USA            & False & Bantamweight  & 3 & 0 & 1 & 0 & 12.16667 &  7.000 &  4.00 &  2.666667 & 59.000 & 17.16667 &  6.00 &  4.833333 &  46.33333 & 11.16667 & 0.1666667 & 10.500 &  6.500 & 0.1666667 & 0.000 &  69.000 & 24.66667 & 0.4566667 & 0.8333333 & 0.8333333 & 0.1666667 & 0.1666667 &  88.500 &  43.000 & 3 & 2 & 10.50 & 5.833333 &  4.666667 & 3.666667 & 54.83333 & 15.66667 &  7.666667 & 2.50 & 50.00 & 11.16667 & 0.000 &  6.666667 &  4.833333 & 3.166667 & 0.00 & 67.16667 & 21.83333 & 0.3733333 & 0.6666667 &  2.333333 & 1.666667 & 0.4750 &  84.83333 & 36.00 & 12 & 529.8333 & 0 & 0 & 0 & 1 & 1 & 2 & 0 & 4 & Orthodox & 167.64 & 162.56 & 145 & 1 & 0 & 0 & 19.000000 & 9.750000 & 10.00000 & 6.000000 & 101.75000 & 33.50000 & 18.000000 &  9.250000 & 103.75000 & 34.00000 & 0.2500000 &  7.000000 & 5.000000 & 0.500000 & 0.25000000 & 129.75000 & 48.75000 & 0.4125000 & 0.2500000 & 5.750000 & 1.0000000 & 0.3450000 & 138.0000 & 56.25000 & 1 & 2 & 19.750000 & 10.750000 & 6.750000 & 4.0000000 & 159.25000 & 45.50000 &  0.750000 & 0.250000 & 133.25000 & 30.000000 & 0.00000000 & 13.750000 &  9.000000 & 0.000000 & 0.2500000 & 166.75000 & 49.75000 & 0.2500000 & 0.0000000 & 4.0000000 & 1.2500000 & 0.1575000 & 171.50000 & 54.25000 & 15 & 1071.7500 & 2 & 0 & 0 & 1 & 0 & 1 & 0 &  2 & Orthodox & 167.64 & 170.18 & 135 & 30 & 33\\\\\n",
       "\\end{tabular}\n"
      ],
      "text/markdown": [
       "\n",
       "A data.frame: 6 × 144\n",
       "\n",
       "| <!--/--> | R_fighter &lt;fct&gt; | B_fighter &lt;fct&gt; | Referee &lt;fct&gt; | date &lt;fct&gt; | location &lt;fct&gt; | title_bout &lt;fct&gt; | weight_class &lt;fct&gt; | no_of_rounds &lt;int&gt; | B_current_lose_streak &lt;dbl&gt; | B_current_win_streak &lt;dbl&gt; | ... ... | R_win_by_KO.TKO &lt;dbl&gt; | R_win_by_Submission &lt;dbl&gt; | R_win_by_TKO_Doctor_Stoppage &lt;dbl&gt; | R_wins &lt;dbl&gt; | R_Stance &lt;fct&gt; | R_Height_cms &lt;dbl&gt; | R_Reach_cms &lt;dbl&gt; | R_Weight_lbs &lt;dbl&gt; | B_age &lt;dbl&gt; | R_age &lt;dbl&gt; |\n",
       "|---|---|---|---|---|---|---|---|---|---|---|---|---|---|---|---|---|---|---|---|---|---|\n",
       "| 598 | Leon Edwards     | Peter Sobotta         | Rich Mitchell   | 2018-03-17 | London, England, United Kingdom     | False | Welterweight  | 3 | 0 | 2 | ... | 1 | 1 | 0 |  6 | Southpaw | 182.88 | 187.96 | 170 | 31 | 26 |\n",
       "| 471 | Curtis Millender | Max Griffin           | Jason Herzog    | 2018-07-07 | Las Vegas, Nevada, USA              | False | Welterweight  | 3 | 0 | 1 | ... | 1 | 0 | 0 |  1 | Orthodox | 187.96 | 193.04 | 170 | 32 | 30 |\n",
       "| 457 | Darren Elkins    | Alexander Volkanovski | Jason Herzog    | 2018-07-14 | Boise, Idaho, USA                   | False | Featherweight | 3 | 0 | 4 | ... | 3 | 1 | 0 | 14 | Orthodox | 177.80 | 180.34 | 145 | 29 | 34 |\n",
       "| 1653 | Hayder Hassan    | Vicente Luque         | Jorge Alonso    | 2015-12-19 | Orlando, Florida, USA               | False | Welterweight  | 3 | 1 | 0 | ... | 0 | 0 | 0 |  0 | <!----> | 177.80 | 177.80 | 170 | 24 | 33 |\n",
       "| 3937 | Dennis Siver     | Paul Kelly            | Dan Miragliotta | 2009-11-14 | Manchester, England, United Kingdom | False | Lightweight   | 3 | 0 | 2 | ... | 2 | 1 | 0 |  3 | Orthodox | 167.64 | 177.80 | 145 | 25 | 30 |\n",
       "| 2949 | Urijah Faber     | Ivan Menjivar         | Jason Herzog    | 2013-02-23 | Anaheim, California, USA            | False | Bantamweight  | 3 | 0 | 1 | ... | 0 | 1 | 0 |  2 | Orthodox | 167.64 | 170.18 | 135 | 30 | 33 |\n",
       "\n"
      ],
      "text/plain": [
       "     R_fighter        B_fighter             Referee         date      \n",
       "598  Leon Edwards     Peter Sobotta         Rich Mitchell   2018-03-17\n",
       "471  Curtis Millender Max Griffin           Jason Herzog    2018-07-07\n",
       "457  Darren Elkins    Alexander Volkanovski Jason Herzog    2018-07-14\n",
       "1653 Hayder Hassan    Vicente Luque         Jorge Alonso    2015-12-19\n",
       "3937 Dennis Siver     Paul Kelly            Dan Miragliotta 2009-11-14\n",
       "2949 Urijah Faber     Ivan Menjivar         Jason Herzog    2013-02-23\n",
       "     location                            title_bout weight_class  no_of_rounds\n",
       "598  London, England, United Kingdom     False      Welterweight  3           \n",
       "471  Las Vegas, Nevada, USA              False      Welterweight  3           \n",
       "457  Boise, Idaho, USA                   False      Featherweight 3           \n",
       "1653 Orlando, Florida, USA               False      Welterweight  3           \n",
       "3937 Manchester, England, United Kingdom False      Lightweight   3           \n",
       "2949 Anaheim, California, USA            False      Bantamweight  3           \n",
       "     B_current_lose_streak B_current_win_streak ... R_win_by_KO.TKO\n",
       "598  0                     2                    ... 1              \n",
       "471  0                     1                    ... 1              \n",
       "457  0                     4                    ... 3              \n",
       "1653 1                     0                    ... 0              \n",
       "3937 0                     2                    ... 2              \n",
       "2949 0                     1                    ... 0              \n",
       "     R_win_by_Submission R_win_by_TKO_Doctor_Stoppage R_wins R_Stance\n",
       "598  1                   0                             6     Southpaw\n",
       "471  0                   0                             1     Orthodox\n",
       "457  1                   0                            14     Orthodox\n",
       "1653 0                   0                             0             \n",
       "3937 1                   0                             3     Orthodox\n",
       "2949 1                   0                             2     Orthodox\n",
       "     R_Height_cms R_Reach_cms R_Weight_lbs B_age R_age\n",
       "598  182.88       187.96      170          31    26   \n",
       "471  187.96       193.04      170          32    30   \n",
       "457  177.80       180.34      145          29    34   \n",
       "1653 177.80       177.80      170          24    33   \n",
       "3937 167.64       177.80      145          25    30   \n",
       "2949 167.64       170.18      135          30    33   "
      ]
     },
     "metadata": {},
     "output_type": "display_data"
    }
   ],
   "source": [
    "head(X_train)"
   ]
  },
  {
   "cell_type": "code",
   "execution_count": 184,
   "metadata": {},
   "outputs": [
    {
     "data": {
      "text/html": [
       "<ol class=list-inline>\n",
       "\t<li>Red</li>\n",
       "\t<li>Red</li>\n",
       "\t<li>Blue</li>\n",
       "\t<li>Blue</li>\n",
       "\t<li>Red</li>\n",
       "\t<li>Red</li>\n",
       "</ol>\n",
       "\n",
       "<details>\n",
       "\t<summary style=display:list-item;cursor:pointer>\n",
       "\t\t<strong>Levels</strong>:\n",
       "\t</summary>\n",
       "\t<ol class=list-inline>\n",
       "\t\t<li>'Blue'</li>\n",
       "\t\t<li>'Draw'</li>\n",
       "\t\t<li>'Red'</li>\n",
       "\t</ol>\n",
       "</details>"
      ],
      "text/latex": [
       "\\begin{enumerate*}\n",
       "\\item Red\n",
       "\\item Red\n",
       "\\item Blue\n",
       "\\item Blue\n",
       "\\item Red\n",
       "\\item Red\n",
       "\\end{enumerate*}\n",
       "\n",
       "\\emph{Levels}: \\begin{enumerate*}\n",
       "\\item 'Blue'\n",
       "\\item 'Draw'\n",
       "\\item 'Red'\n",
       "\\end{enumerate*}\n"
      ],
      "text/markdown": [
       "1. Red\n",
       "2. Red\n",
       "3. Blue\n",
       "4. Blue\n",
       "5. Red\n",
       "6. Red\n",
       "\n",
       "\n",
       "\n",
       "**Levels**: 1. 'Blue'\n",
       "2. 'Draw'\n",
       "3. 'Red'\n",
       "\n",
       "\n"
      ],
      "text/plain": [
       "[1] Red  Red  Blue Blue Red  Red \n",
       "Levels: Blue Draw Red"
      ]
     },
     "metadata": {},
     "output_type": "display_data"
    }
   ],
   "source": [
    "# 4. Inspect head of data to see if it reading in properly. \n",
    "head(y_train)"
   ]
  },
  {
   "cell_type": "code",
   "execution_count": 185,
   "metadata": {},
   "outputs": [
    {
     "data": {
      "text/html": [
       "<table>\n",
       "<caption>A data.frame: 6 × 144</caption>\n",
       "<thead>\n",
       "\t<tr><th></th><th scope=col>R_fighter</th><th scope=col>B_fighter</th><th scope=col>Referee</th><th scope=col>date</th><th scope=col>location</th><th scope=col>title_bout</th><th scope=col>weight_class</th><th scope=col>no_of_rounds</th><th scope=col>B_current_lose_streak</th><th scope=col>B_current_win_streak</th><th scope=col>...</th><th scope=col>R_win_by_KO.TKO</th><th scope=col>R_win_by_Submission</th><th scope=col>R_win_by_TKO_Doctor_Stoppage</th><th scope=col>R_wins</th><th scope=col>R_Stance</th><th scope=col>R_Height_cms</th><th scope=col>R_Reach_cms</th><th scope=col>R_Weight_lbs</th><th scope=col>B_age</th><th scope=col>R_age</th></tr>\n",
       "\t<tr><th></th><th scope=col>&lt;fct&gt;</th><th scope=col>&lt;fct&gt;</th><th scope=col>&lt;fct&gt;</th><th scope=col>&lt;fct&gt;</th><th scope=col>&lt;fct&gt;</th><th scope=col>&lt;fct&gt;</th><th scope=col>&lt;fct&gt;</th><th scope=col>&lt;int&gt;</th><th scope=col>&lt;dbl&gt;</th><th scope=col>&lt;dbl&gt;</th><th scope=col>...</th><th scope=col>&lt;dbl&gt;</th><th scope=col>&lt;dbl&gt;</th><th scope=col>&lt;dbl&gt;</th><th scope=col>&lt;dbl&gt;</th><th scope=col>&lt;fct&gt;</th><th scope=col>&lt;dbl&gt;</th><th scope=col>&lt;dbl&gt;</th><th scope=col>&lt;dbl&gt;</th><th scope=col>&lt;dbl&gt;</th><th scope=col>&lt;dbl&gt;</th></tr>\n",
       "</thead>\n",
       "<tbody>\n",
       "\t<tr><th scope=row>3402</th><td>Cyrille Diabate</td><td>Anthony Perosh  </td><td>Marc Goddard  </td><td>2011-11-05</td><td>Birmingham, England, United Kingdom</td><td>False</td><td>Light Heavyweight</td><td>3</td><td>0</td><td>1</td><td>...</td><td>1</td><td>0</td><td>0</td><td> 2</td><td>Southpaw</td><td>198.12</td><td>205.74</td><td>205</td><td>39</td><td>38</td></tr>\n",
       "\t<tr><th scope=row>3724</th><td>Yves Edwards   </td><td>John Gunderson  </td><td>Kerry Hatley  </td><td>2010-09-15</td><td>Austin, Texas, USA                 </td><td>False</td><td>Lightweight      </td><td>3</td><td>0</td><td>1</td><td>...</td><td>3</td><td>1</td><td>0</td><td> 6</td><td>Southpaw</td><td>175.26</td><td>185.42</td><td>155</td><td>31</td><td>33</td></tr>\n",
       "\t<tr><th scope=row>708</th><td>Robbie Lawler  </td><td>Rafael Dos Anjos</td><td>Herb Dean     </td><td>2017-12-16</td><td>Winnipeg, Manitoba, Canada         </td><td>False</td><td>Welterweight     </td><td>5</td><td>0</td><td>2</td><td>...</td><td>6</td><td>0</td><td>0</td><td>13</td><td>Southpaw</td><td>180.34</td><td>187.96</td><td>170</td><td>33</td><td>35</td></tr>\n",
       "\t<tr><th scope=row>4460</th><td>Martin Kampmann</td><td>Drew McFedries  </td><td>Herb Dean     </td><td>2007-03-03</td><td>Columbus, Ohio, USA                </td><td>False</td><td>Middleweight     </td><td>3</td><td>0</td><td>1</td><td>...</td><td>0</td><td>1</td><td>0</td><td> 2</td><td>Orthodox</td><td>182.88</td><td>182.88</td><td>170</td><td>28</td><td>24</td></tr>\n",
       "\t<tr><th scope=row>4227</th><td>Dustin Hazelett</td><td>Joshua Burkman  </td><td>Josh Rosenthal</td><td>2008-06-21</td><td>Las Vegas, Nevada, USA             </td><td>False</td><td>Welterweight     </td><td>3</td><td>1</td><td>0</td><td>...</td><td>0</td><td>2</td><td>0</td><td> 3</td><td>Orthodox</td><td>185.42</td><td>193.04</td><td>170</td><td>28</td><td>22</td></tr>\n",
       "\t<tr><th scope=row>1399</th><td>Kyle Noke      </td><td>Keita Nakamura  </td><td>Herb Dean     </td><td>2016-07-13</td><td>Sioux Falls, South Dakota, USA     </td><td>False</td><td>Welterweight     </td><td>3</td><td>1</td><td>0</td><td>...</td><td>3</td><td>2</td><td>0</td><td> 6</td><td>Southpaw</td><td>185.42</td><td>193.04</td><td>170</td><td>32</td><td>36</td></tr>\n",
       "</tbody>\n",
       "</table>\n"
      ],
      "text/latex": [
       "A data.frame: 6 × 144\n",
       "\\begin{tabular}{r|llllllllllllllllllllllllllllllllllllllllllllllllllllllllllllllllllllllllllllllllllllllllllllllllllllllllllllllllllllllllllllllllllllllllllllllll}\n",
       "  & R\\_fighter & B\\_fighter & Referee & date & location & title\\_bout & weight\\_class & no\\_of\\_rounds & B\\_current\\_lose\\_streak & B\\_current\\_win\\_streak & B\\_draw & B\\_avg\\_BODY\\_att & B\\_avg\\_BODY\\_landed & B\\_avg\\_CLINCH\\_att & B\\_avg\\_CLINCH\\_landed & B\\_avg\\_DISTANCE\\_att & B\\_avg\\_DISTANCE\\_landed & B\\_avg\\_GROUND\\_att & B\\_avg\\_GROUND\\_landed & B\\_avg\\_HEAD\\_att & B\\_avg\\_HEAD\\_landed & B\\_avg\\_KD & B\\_avg\\_LEG\\_att & B\\_avg\\_LEG\\_landed & B\\_avg\\_PASS & B\\_avg\\_REV & B\\_avg\\_SIG\\_STR\\_att & B\\_avg\\_SIG\\_STR\\_landed & B\\_avg\\_SIG\\_STR\\_pct & B\\_avg\\_SUB\\_ATT & B\\_avg\\_TD\\_att & B\\_avg\\_TD\\_landed & B\\_avg\\_TD\\_pct & B\\_avg\\_TOTAL\\_STR\\_att & B\\_avg\\_TOTAL\\_STR\\_landed & B\\_longest\\_win\\_streak & B\\_losses & B\\_avg\\_opp\\_BODY\\_att & B\\_avg\\_opp\\_BODY\\_landed & B\\_avg\\_opp\\_CLINCH\\_att & B\\_avg\\_opp\\_CLINCH\\_landed & B\\_avg\\_opp\\_DISTANCE\\_att & B\\_avg\\_opp\\_DISTANCE\\_landed & B\\_avg\\_opp\\_GROUND\\_att & B\\_avg\\_opp\\_GROUND\\_landed & B\\_avg\\_opp\\_HEAD\\_att & B\\_avg\\_opp\\_HEAD\\_landed & B\\_avg\\_opp\\_KD & B\\_avg\\_opp\\_LEG\\_att & B\\_avg\\_opp\\_LEG\\_landed & B\\_avg\\_opp\\_PASS & B\\_avg\\_opp\\_REV & B\\_avg\\_opp\\_SIG\\_STR\\_att & B\\_avg\\_opp\\_SIG\\_STR\\_landed & B\\_avg\\_opp\\_SIG\\_STR\\_pct & B\\_avg\\_opp\\_SUB\\_ATT & B\\_avg\\_opp\\_TD\\_att & B\\_avg\\_opp\\_TD\\_landed & B\\_avg\\_opp\\_TD\\_pct & B\\_avg\\_opp\\_TOTAL\\_STR\\_att & B\\_avg\\_opp\\_TOTAL\\_STR\\_landed & B\\_total\\_rounds\\_fought & B\\_total\\_time\\_fought.seconds. & B\\_total\\_title\\_bouts & B\\_win\\_by\\_Decision\\_Majority & B\\_win\\_by\\_Decision\\_Split & B\\_win\\_by\\_Decision\\_Unanimous & B\\_win\\_by\\_KO.TKO & B\\_win\\_by\\_Submission & B\\_win\\_by\\_TKO\\_Doctor\\_Stoppage & B\\_wins & B\\_Stance & B\\_Height\\_cms & B\\_Reach\\_cms & B\\_Weight\\_lbs & R\\_current\\_lose\\_streak & R\\_current\\_win\\_streak & R\\_draw & R\\_avg\\_BODY\\_att & R\\_avg\\_BODY\\_landed & R\\_avg\\_CLINCH\\_att & R\\_avg\\_CLINCH\\_landed & R\\_avg\\_DISTANCE\\_att & R\\_avg\\_DISTANCE\\_landed & R\\_avg\\_GROUND\\_att & R\\_avg\\_GROUND\\_landed & R\\_avg\\_HEAD\\_att & R\\_avg\\_HEAD\\_landed & R\\_avg\\_KD & R\\_avg\\_LEG\\_att & R\\_avg\\_LEG\\_landed & R\\_avg\\_PASS & R\\_avg\\_REV & R\\_avg\\_SIG\\_STR\\_att & R\\_avg\\_SIG\\_STR\\_landed & R\\_avg\\_SIG\\_STR\\_pct & R\\_avg\\_SUB\\_ATT & R\\_avg\\_TD\\_att & R\\_avg\\_TD\\_landed & R\\_avg\\_TD\\_pct & R\\_avg\\_TOTAL\\_STR\\_att & R\\_avg\\_TOTAL\\_STR\\_landed & R\\_longest\\_win\\_streak & R\\_losses & R\\_avg\\_opp\\_BODY\\_att & R\\_avg\\_opp\\_BODY\\_landed & R\\_avg\\_opp\\_CLINCH\\_att & R\\_avg\\_opp\\_CLINCH\\_landed & R\\_avg\\_opp\\_DISTANCE\\_att & R\\_avg\\_opp\\_DISTANCE\\_landed & R\\_avg\\_opp\\_GROUND\\_att & R\\_avg\\_opp\\_GROUND\\_landed & R\\_avg\\_opp\\_HEAD\\_att & R\\_avg\\_opp\\_HEAD\\_landed & R\\_avg\\_opp\\_KD & R\\_avg\\_opp\\_LEG\\_att & R\\_avg\\_opp\\_LEG\\_landed & R\\_avg\\_opp\\_PASS & R\\_avg\\_opp\\_REV & R\\_avg\\_opp\\_SIG\\_STR\\_att & R\\_avg\\_opp\\_SIG\\_STR\\_landed & R\\_avg\\_opp\\_SIG\\_STR\\_pct & R\\_avg\\_opp\\_SUB\\_ATT & R\\_avg\\_opp\\_TD\\_att & R\\_avg\\_opp\\_TD\\_landed & R\\_avg\\_opp\\_TD\\_pct & R\\_avg\\_opp\\_TOTAL\\_STR\\_att & R\\_avg\\_opp\\_TOTAL\\_STR\\_landed & R\\_total\\_rounds\\_fought & R\\_total\\_time\\_fought.seconds. & R\\_total\\_title\\_bouts & R\\_win\\_by\\_Decision\\_Majority & R\\_win\\_by\\_Decision\\_Split & R\\_win\\_by\\_Decision\\_Unanimous & R\\_win\\_by\\_KO.TKO & R\\_win\\_by\\_Submission & R\\_win\\_by\\_TKO\\_Doctor\\_Stoppage & R\\_wins & R\\_Stance & R\\_Height\\_cms & R\\_Reach\\_cms & R\\_Weight\\_lbs & B\\_age & R\\_age\\\\\n",
       "  & <fct> & <fct> & <fct> & <fct> & <fct> & <fct> & <fct> & <int> & <dbl> & <dbl> & <dbl> & <dbl> & <dbl> & <dbl> & <dbl> & <dbl> & <dbl> & <dbl> & <dbl> & <dbl> & <dbl> & <dbl> & <dbl> & <dbl> & <dbl> & <dbl> & <dbl> & <dbl> & <dbl> & <dbl> & <dbl> & <dbl> & <dbl> & <dbl> & <dbl> & <dbl> & <dbl> & <dbl> & <dbl> & <dbl> & <dbl> & <dbl> & <dbl> & <dbl> & <dbl> & <dbl> & <dbl> & <dbl> & <dbl> & <dbl> & <dbl> & <dbl> & <dbl> & <dbl> & <dbl> & <dbl> & <dbl> & <dbl> & <dbl> & <dbl> & <dbl> & <dbl> & <dbl> & <dbl> & <dbl> & <dbl> & <dbl> & <dbl> & <dbl> & <dbl> & <dbl> & <fct> & <dbl> & <dbl> & <dbl> & <dbl> & <dbl> & <dbl> & <dbl> & <dbl> & <dbl> & <dbl> & <dbl> & <dbl> & <dbl> & <dbl> & <dbl> & <dbl> & <dbl> & <dbl> & <dbl> & <dbl> & <dbl> & <dbl> & <dbl> & <dbl> & <dbl> & <dbl> & <dbl> & <dbl> & <dbl> & <dbl> & <dbl> & <dbl> & <dbl> & <dbl> & <dbl> & <dbl> & <dbl> & <dbl> & <dbl> & <dbl> & <dbl> & <dbl> & <dbl> & <dbl> & <dbl> & <dbl> & <dbl> & <dbl> & <dbl> & <dbl> & <dbl> & <dbl> & <dbl> & <dbl> & <dbl> & <dbl> & <dbl> & <dbl> & <dbl> & <dbl> & <dbl> & <dbl> & <dbl> & <dbl> & <dbl> & <dbl> & <fct> & <dbl> & <dbl> & <dbl> & <dbl> & <dbl>\\\\\n",
       "\\hline\n",
       "\t3402 & Cyrille Diabate & Anthony Perosh   & Marc Goddard   & 2011-11-05 & Birmingham, England, United Kingdom & False & Light Heavyweight & 3 & 0 & 1 & 0 &  1.00000 & 0.750000 &  8.250000 & 5.250000 & 28.25000 & 10.000 &  4.0000 &  2.750000 & 35.25000 & 13.00 & 0.2500000 &  4.25000 & 4.250000 & 0.750000 & 0.00000000 & 40.50000 & 18.00000 & 0.4500000 & 0.2500000 & 6.50000 & 1.00000 & 0.1300000 &  50.0000 & 26.750 & 1 & 3 &  2.50000 &  2.250000 & 11.00000 &  7.000 & 53.00000 & 14.75000 & 13.000000 &  7.250000 &  72.50000 & 24.75000 & 0.50000000 & 2.000000 & 2.00000 & 0.2500000 & 0.50000000 &  77.0000 & 29.00000 & 0.5125000 & 0.25000000 & 0.750000 & 0.2500000 & 0.2500000 &  99.2500 & 49.00000 &  7 & 456.7500 & 0 & 0 & 0 & 0 & 0 & 1 & 0 &  1 & Orthodox & 190.50 & 190.50 & 205 & 0 & 1 & 0 & 13.33333 & 11.666667 &  6.666667 &  4.666667 & 69.66667 & 49.66667 &  4.000000 & 3.666667 & 55.66667 & 36.33333 & 0.6666667 & 11.333333 & 10.000000 & 0.0000000 & 0.3333333 &  80.33333 & 58.00000 & 0.6766667 & 0.0 & 0.6666667 & 0.3333333 & 0.3333333 &  90.66667 & 67.33333 & 1 & 1 &  9.00000 &  5.00000 &  4.666667 & 3.333333 &  46.66667 & 11.66667 & 7.666667 & 5.000000 &  44.33333 & 10.66667 & 0.6666667 &  5.666667 &  4.333333 & 3.0000000 & 0.0 &  59.0000 & 20.00000 & 0.3366667 & 1.0000000 & 4.000000 & 1.000000 & 0.2666667 &  74.66667 & 33.00000 &  6 & 498.0000 & 0 & 0 & 0 & 1 & 1 & 0 & 0 &  2 & Southpaw & 198.12 & 205.74 & 205 & 39 & 38\\\\\n",
       "\t3724 & Yves Edwards    & John Gunderson   & Kerry Hatley   & 2010-09-15 & Austin, Texas, USA                  & False & Lightweight       & 3 & 0 & 1 & 0 &  2.50000 & 2.500000 &  2.000000 & 0.500000 & 22.50000 &  4.000 & 20.0000 & 11.500000 & 40.00000 & 12.50 & 0.0000000 &  2.00000 & 1.000000 & 3.500000 & 0.00000000 & 44.50000 & 16.00000 & 0.2750000 & 2.0000000 & 4.50000 & 2.50000 & 0.7500000 &  83.5000 & 51.500 & 1 & 1 &  1.50000 &  0.500000 &  2.00000 &  0.500 & 14.50000 &  2.00000 & 14.000000 &  9.000000 &  25.50000 &  9.00000 & 0.00000000 & 3.500000 & 2.00000 & 7.0000000 & 0.50000000 &  30.5000 & 11.50000 & 0.2900000 & 3.50000000 & 4.000000 & 3.5000000 & 0.9250000 &  51.0000 & 30.00000 &  6 & 900.0000 & 0 & 0 & 0 & 1 & 0 & 0 & 0 &  1 & Orthodox & 175.26 & 175.26 & 155 & 2 & 0 & 0 &  5.10000 &  4.200000 &  7.900000 &  5.800000 & 27.60000 & 10.90000 &  7.400000 & 4.100000 & 31.30000 & 10.70000 & 0.5000000 &  6.500000 &  5.900000 & 1.3000000 & 0.4000000 &  42.90000 & 20.80000 & 0.5330000 & 0.8 & 0.4000000 & 0.2000000 & 0.1500000 &  61.50000 & 37.80000 & 6 & 4 &  3.40000 &  2.40000 &  5.000000 & 3.900000 &  23.50000 &  5.70000 & 7.100000 & 4.300000 &  27.60000 &  7.90000 & 0.0000000 &  4.600000 &  3.600000 & 1.4000000 & 0.6 &  35.6000 & 13.90000 & 0.3720000 & 0.8000000 & 6.300000 & 1.900000 & 0.2680000 &  62.80000 & 38.10000 & 23 & 624.4000 & 0 & 0 & 1 & 1 & 3 & 1 & 0 &  6 & Southpaw & 175.26 & 185.42 & 155 & 31 & 33\\\\\n",
       "\t708 & Robbie Lawler   & Rafael Dos Anjos & Herb Dean      & 2017-12-16 & Winnipeg, Manitoba, Canada          & False & Welterweight      & 5 & 0 & 2 & 0 & 12.04348 & 7.826087 &  7.521739 & 5.130435 & 74.08696 & 27.000 & 11.6087 &  7.304348 & 70.52174 & 23.00 & 0.2173913 & 10.65217 & 8.608696 & 1.608696 & 0.04347826 & 93.21739 & 39.43478 & 0.4395652 & 0.6086957 & 4.26087 & 1.73913 & 0.3013043 & 113.8261 & 58.000 & 5 & 7 & 10.86957 &  7.086957 &  5.73913 &  4.000 & 92.52174 & 29.86957 &  3.391304 &  2.217391 &  83.13043 & 22.26087 & 0.04347826 & 7.652174 & 6.73913 & 0.4782609 & 0.08695652 & 101.6522 & 36.08696 & 0.3395652 & 0.08695652 & 2.565217 & 0.8695652 & 0.2317391 & 114.9565 & 48.34783 & 59 & 702.7826 & 3 & 0 & 0 & 9 & 4 & 3 & 0 & 16 & Southpaw & 172.72 & 177.80 & 170 & 0 & 1 & 0 & 11.44444 &  9.222222 & 15.222222 & 10.277778 & 83.61111 & 34.22222 &  8.666667 & 5.388889 & 93.66667 & 38.77778 & 0.5000000 &  2.388889 &  1.888889 & 0.6111111 & 0.1666667 & 107.50000 & 49.88889 & 0.4605556 & 0.0 & 1.1666667 & 0.8888889 & 0.3611111 & 118.33333 & 60.38889 & 5 & 5 & 15.94444 & 10.44444 & 15.666667 & 9.888889 & 115.66667 & 41.05556 & 2.000000 & 1.166667 & 103.50000 & 30.83333 & 0.1111111 & 13.888889 & 10.833333 & 0.3888889 & 0.0 & 133.3333 & 52.11111 & 0.4144444 & 0.2777778 & 4.055556 & 1.166667 & 0.2677778 & 144.66667 & 62.77778 & 52 & 763.1111 & 5 & 0 & 3 & 4 & 6 & 0 & 0 & 13 & Southpaw & 180.34 & 187.96 & 170 & 33 & 35\\\\\n",
       "\t4460 & Martin Kampmann & Drew McFedries   & Herb Dean      & 2007-03-03 & Columbus, Ohio, USA                 & False & Middleweight      & 3 & 0 & 1 & 0 &  7.00000 & 7.000000 &  8.000000 & 5.000000 & 34.00000 & 13.000 & 15.0000 & 12.000000 & 47.00000 & 21.00 & 1.0000000 &  3.00000 & 2.000000 & 1.000000 & 0.00000000 & 57.00000 & 30.00000 & 0.5200000 & 0.0000000 & 1.00000 & 1.00000 & 1.0000000 &  63.0000 & 36.000 & 1 & 0 &  6.00000 &  4.000000 & 25.00000 & 17.000 & 33.00000 & 15.00000 &  0.000000 &  0.000000 &  52.00000 & 28.00000 & 0.00000000 & 0.000000 & 0.00000 & 0.0000000 & 0.00000000 &  58.0000 & 32.00000 & 0.5500000 & 0.00000000 & 2.000000 & 0.0000000 & 0.0000000 &  59.0000 & 33.00000 &  1 & 247.0000 & 0 & 0 & 0 & 0 & 1 & 0 & 0 &  1 & Southpaw & 182.88 & 182.88 & 185 & 0 & 2 & 0 &  7.00000 &  7.000000 & 14.000000 & 10.500000 & 89.00000 & 41.00000 & 10.000000 & 8.500000 & 99.50000 & 46.50000 & 0.5000000 &  6.500000 &  6.500000 & 1.5000000 & 0.0000000 & 113.00000 & 60.00000 & 0.6150000 & 0.5 & 0.5000000 & 0.5000000 & 0.5000000 & 122.50000 & 68.50000 & 2 & 0 &  4.50000 &  3.50000 &  5.000000 & 3.500000 &  81.00000 & 18.50000 & 4.000000 & 1.500000 &  83.50000 & 18.50000 & 0.5000000 &  2.000000 &  1.500000 & 0.5000000 & 0.0 &  90.0000 & 23.50000 & 0.1850000 & 0.0000000 & 6.000000 & 0.500000 & 0.0400000 &  93.50000 & 27.00000 &  4 & 539.5000 & 0 & 0 & 0 & 1 & 0 & 1 & 0 &  2 & Orthodox & 182.88 & 182.88 & 170 & 28 & 24\\\\\n",
       "\t4227 & Dustin Hazelett & Joshua Burkman   & Josh Rosenthal & 2008-06-21 & Las Vegas, Nevada, USA              & False & Welterweight      & 3 & 1 & 0 & 0 &  4.50000 & 2.750000 & 15.125000 & 9.750000 & 35.12500 & 10.625 &  5.6250 &  3.625000 & 41.75000 & 12.25 & 0.2500000 &  9.62500 & 9.000000 & 0.625000 & 0.12500000 & 55.87500 & 24.00000 & 0.5262500 & 0.5000000 & 7.25000 & 2.62500 & 0.3925000 &  67.8750 & 35.125 & 2 & 3 & 11.00000 &  8.375000 & 17.25000 & 11.625 & 40.25000 & 14.25000 &  4.250000 &  2.375000 &  44.87500 & 14.75000 & 0.12500000 & 5.875000 & 5.12500 & 0.5000000 & 0.25000000 &  61.7500 & 28.25000 & 0.4187500 & 0.50000000 & 2.125000 & 0.8750000 & 0.2112500 &  89.1250 & 54.62500 & 19 & 648.1250 & 0 & 0 & 1 & 2 & 1 & 1 & 0 &  5 & Orthodox & 177.80 & 182.88 & 170 & 1 & 0 & 0 &  1.80000 &  1.600000 &  2.200000 &  1.600000 & 27.40000 & 10.40000 & 11.800000 & 5.600000 & 37.00000 & 14.20000 & 0.0000000 &  2.600000 &  1.800000 & 0.0000000 & 0.0000000 &  41.40000 & 17.60000 & 0.4340000 & 1.4 & 0.2000000 & 0.2000000 & 0.2000000 &  50.60000 & 26.20000 & 3 & 2 &  1.80000 &  1.40000 &  1.000000 & 0.400000 &  20.80000 &  7.40000 & 3.000000 & 2.200000 &  21.20000 &  7.20000 & 0.2000000 &  1.800000 &  1.400000 & 1.6000000 & 0.0 &  24.8000 & 10.00000 & 0.4160000 & 0.2000000 & 2.200000 & 1.400000 & 0.7000000 &  35.60000 & 20.60000 &  8 & 353.4000 & 0 & 0 & 0 & 1 & 0 & 2 & 0 &  3 & Orthodox & 185.42 & 193.04 & 170 & 28 & 22\\\\\n",
       "\t1399 & Kyle Noke       & Keita Nakamura   & Herb Dean      & 2016-07-13 & Sioux Falls, South Dakota, USA      & False & Welterweight      & 3 & 1 & 0 & 0 &  3.60000 & 2.400000 &  7.000000 & 4.600000 & 73.20000 & 22.600 &  5.0000 &  3.000000 & 80.60000 & 27.20 & 0.4000000 &  1.00000 & 0.600000 & 1.000000 & 0.40000000 & 85.20000 & 30.20000 & 0.3660000 & 0.6000000 & 3.00000 & 1.80000 & 0.5000000 & 118.0000 & 58.200 & 1 & 4 & 16.00000 & 12.600000 & 14.20000 & 10.200 & 90.80000 & 36.40000 & 23.400000 & 12.000000 & 103.60000 & 37.40000 & 0.20000000 & 8.800000 & 8.60000 & 1.2000000 & 0.20000000 & 128.4000 & 58.60000 & 0.4640000 & 0.20000000 & 5.200000 & 1.6000000 & 0.3300000 & 162.4000 & 87.80000 & 15 & 867.4000 & 0 & 0 & 0 & 0 & 0 & 1 & 0 &  1 & Southpaw & 180.34 & 185.42 & 170 & 1 & 0 & 0 &  9.50000 &  6.200000 &  3.600000 &  2.000000 & 40.90000 & 19.30000 & 12.600000 & 8.400000 & 36.20000 & 14.70000 & 0.3000000 & 11.400000 &  8.800000 & 1.6000000 & 0.1000000 &  57.10000 & 29.70000 & 0.5480000 & 0.4 & 1.8000000 & 0.9000000 & 0.2830000 &  65.70000 & 37.70000 & 3 & 4 &  3.90000 &  2.30000 &  4.000000 & 1.900000 &  33.80000 & 10.80000 & 5.000000 & 4.100000 &  36.00000 & 12.90000 & 0.1000000 &  2.900000 &  1.600000 & 0.8000000 & 0.1 &  42.8000 & 16.80000 & 0.3630000 & 0.6000000 & 2.400000 & 0.700000 & 0.2080000 &  68.30000 & 39.90000 & 20 & 500.1000 & 0 & 0 & 1 & 0 & 3 & 2 & 0 &  6 & Southpaw & 185.42 & 193.04 & 170 & 32 & 36\\\\\n",
       "\\end{tabular}\n"
      ],
      "text/markdown": [
       "\n",
       "A data.frame: 6 × 144\n",
       "\n",
       "| <!--/--> | R_fighter &lt;fct&gt; | B_fighter &lt;fct&gt; | Referee &lt;fct&gt; | date &lt;fct&gt; | location &lt;fct&gt; | title_bout &lt;fct&gt; | weight_class &lt;fct&gt; | no_of_rounds &lt;int&gt; | B_current_lose_streak &lt;dbl&gt; | B_current_win_streak &lt;dbl&gt; | ... ... | R_win_by_KO.TKO &lt;dbl&gt; | R_win_by_Submission &lt;dbl&gt; | R_win_by_TKO_Doctor_Stoppage &lt;dbl&gt; | R_wins &lt;dbl&gt; | R_Stance &lt;fct&gt; | R_Height_cms &lt;dbl&gt; | R_Reach_cms &lt;dbl&gt; | R_Weight_lbs &lt;dbl&gt; | B_age &lt;dbl&gt; | R_age &lt;dbl&gt; |\n",
       "|---|---|---|---|---|---|---|---|---|---|---|---|---|---|---|---|---|---|---|---|---|---|\n",
       "| 3402 | Cyrille Diabate | Anthony Perosh   | Marc Goddard   | 2011-11-05 | Birmingham, England, United Kingdom | False | Light Heavyweight | 3 | 0 | 1 | ... | 1 | 0 | 0 |  2 | Southpaw | 198.12 | 205.74 | 205 | 39 | 38 |\n",
       "| 3724 | Yves Edwards    | John Gunderson   | Kerry Hatley   | 2010-09-15 | Austin, Texas, USA                  | False | Lightweight       | 3 | 0 | 1 | ... | 3 | 1 | 0 |  6 | Southpaw | 175.26 | 185.42 | 155 | 31 | 33 |\n",
       "| 708 | Robbie Lawler   | Rafael Dos Anjos | Herb Dean      | 2017-12-16 | Winnipeg, Manitoba, Canada          | False | Welterweight      | 5 | 0 | 2 | ... | 6 | 0 | 0 | 13 | Southpaw | 180.34 | 187.96 | 170 | 33 | 35 |\n",
       "| 4460 | Martin Kampmann | Drew McFedries   | Herb Dean      | 2007-03-03 | Columbus, Ohio, USA                 | False | Middleweight      | 3 | 0 | 1 | ... | 0 | 1 | 0 |  2 | Orthodox | 182.88 | 182.88 | 170 | 28 | 24 |\n",
       "| 4227 | Dustin Hazelett | Joshua Burkman   | Josh Rosenthal | 2008-06-21 | Las Vegas, Nevada, USA              | False | Welterweight      | 3 | 1 | 0 | ... | 0 | 2 | 0 |  3 | Orthodox | 185.42 | 193.04 | 170 | 28 | 22 |\n",
       "| 1399 | Kyle Noke       | Keita Nakamura   | Herb Dean      | 2016-07-13 | Sioux Falls, South Dakota, USA      | False | Welterweight      | 3 | 1 | 0 | ... | 3 | 2 | 0 |  6 | Southpaw | 185.42 | 193.04 | 170 | 32 | 36 |\n",
       "\n"
      ],
      "text/plain": [
       "     R_fighter       B_fighter        Referee        date      \n",
       "3402 Cyrille Diabate Anthony Perosh   Marc Goddard   2011-11-05\n",
       "3724 Yves Edwards    John Gunderson   Kerry Hatley   2010-09-15\n",
       "708  Robbie Lawler   Rafael Dos Anjos Herb Dean      2017-12-16\n",
       "4460 Martin Kampmann Drew McFedries   Herb Dean      2007-03-03\n",
       "4227 Dustin Hazelett Joshua Burkman   Josh Rosenthal 2008-06-21\n",
       "1399 Kyle Noke       Keita Nakamura   Herb Dean      2016-07-13\n",
       "     location                            title_bout weight_class     \n",
       "3402 Birmingham, England, United Kingdom False      Light Heavyweight\n",
       "3724 Austin, Texas, USA                  False      Lightweight      \n",
       "708  Winnipeg, Manitoba, Canada          False      Welterweight     \n",
       "4460 Columbus, Ohio, USA                 False      Middleweight     \n",
       "4227 Las Vegas, Nevada, USA              False      Welterweight     \n",
       "1399 Sioux Falls, South Dakota, USA      False      Welterweight     \n",
       "     no_of_rounds B_current_lose_streak B_current_win_streak ...\n",
       "3402 3            0                     1                    ...\n",
       "3724 3            0                     1                    ...\n",
       "708  5            0                     2                    ...\n",
       "4460 3            0                     1                    ...\n",
       "4227 3            1                     0                    ...\n",
       "1399 3            1                     0                    ...\n",
       "     R_win_by_KO.TKO R_win_by_Submission R_win_by_TKO_Doctor_Stoppage R_wins\n",
       "3402 1               0                   0                             2    \n",
       "3724 3               1                   0                             6    \n",
       "708  6               0                   0                            13    \n",
       "4460 0               1                   0                             2    \n",
       "4227 0               2                   0                             3    \n",
       "1399 3               2                   0                             6    \n",
       "     R_Stance R_Height_cms R_Reach_cms R_Weight_lbs B_age R_age\n",
       "3402 Southpaw 198.12       205.74      205          39    38   \n",
       "3724 Southpaw 175.26       185.42      155          31    33   \n",
       "708  Southpaw 180.34       187.96      170          33    35   \n",
       "4460 Orthodox 182.88       182.88      170          28    24   \n",
       "4227 Orthodox 185.42       193.04      170          28    22   \n",
       "1399 Southpaw 185.42       193.04      170          32    36   "
      ]
     },
     "metadata": {},
     "output_type": "display_data"
    }
   ],
   "source": [
    "# 4. Inspect tail of data to make sure everything is correct.\n",
    "tail(X_train)"
   ]
  },
  {
   "cell_type": "markdown",
   "metadata": {},
   "source": [
    "**Insights**\n",
    "\n",
    " - Data structure looks good. The first and last column look the same as the csv meaning there is no missing data and the columns are correctly labeled. There is no hidden metadata in the csv either. \n",
    " - There are some problems with b_ and r_ sig str as they are 2 of 3 versus a percentage. This will need to be converted to get accurate information. \n",
    " - There are columns like format and referee which are not relevant to the fight. "
   ]
  },
  {
   "cell_type": "markdown",
   "metadata": {},
   "source": [
    "### 5. Check your \"n\"s"
   ]
  },
  {
   "cell_type": "code",
   "execution_count": 186,
   "metadata": {},
   "outputs": [
    {
     "data": {
      "text/plain": [
       "           R_fighter               B_fighter               Referee    \n",
       " Jim Miller     :  18   Jeremy Stephens :  15   Herb Dean      : 406  \n",
       " Demian Maia    :  17   Charles Oliveira:  12   John McCarthy  : 229  \n",
       " Frankie Edgar  :  16   Nik Lentz       :  11   Dan Miragliotta: 226  \n",
       " Michael Bisping:  16   Kevin Lee       :  10   Mario Yamasaki : 194  \n",
       " Ross Pearson   :  15   Evan Dunham     :   9   Marc Goddard   : 165  \n",
       " Diego Sanchez  :  14   Stephen Thompson:   9   Yves Lavigne   : 152  \n",
       " (Other)        :2588   (Other)         :2618   (Other)        :1312  \n",
       "         date                                 location    title_bout  \n",
       " 2018-09-08:  13   Las Vegas, Nevada, USA         : 575   False:2516  \n",
       " 2014-05-10:  12   London, England, United Kingdom:  64   True : 168  \n",
       " 2014-06-28:  12   Montreal, Quebec, Canada       :  55               \n",
       " 2014-10-04:  12   Chicago, Illinois, USA         :  52               \n",
       " 2015-11-14:  12   Toronto, Ontario, Canada       :  49               \n",
       " 2016-11-19:  12   Newark, New Jersey, USA        :  48               \n",
       " (Other)   :2611   (Other)                        :1841               \n",
       "            weight_class  no_of_rounds   B_current_lose_streak\n",
       " Lightweight      :538   Min.   :2.000   Min.   :0.0000       \n",
       " Welterweight     :513   1st Qu.:3.000   1st Qu.:0.0000       \n",
       " Middleweight     :389   Median :3.000   Median :0.0000       \n",
       " Featherweight    :268   Mean   :3.222   Mean   :0.5455       \n",
       " Light Heavyweight:266   3rd Qu.:3.000   3rd Qu.:1.0000       \n",
       " Heavyweight      :213   Max.   :5.000   Max.   :5.0000       \n",
       " (Other)          :497                                        \n",
       " B_current_win_streak     B_draw  B_avg_BODY_att   B_avg_BODY_landed\n",
       " Min.   : 0.000       Min.   :0   Min.   : 0.000   Min.   : 0.000   \n",
       " 1st Qu.: 0.000       1st Qu.:0   1st Qu.: 4.000   1st Qu.: 2.853   \n",
       " Median : 1.000       Median :0   Median : 7.667   Median : 5.250   \n",
       " Mean   : 1.162       Mean   :0   Mean   : 9.293   Mean   : 6.476   \n",
       " 3rd Qu.: 2.000       3rd Qu.:0   3rd Qu.:12.750   3rd Qu.: 9.000   \n",
       " Max.   :13.000       Max.   :0   Max.   :48.000   Max.   :35.500   \n",
       "                                                                    \n",
       " B_avg_CLINCH_att B_avg_CLINCH_landed B_avg_DISTANCE_att B_avg_DISTANCE_landed\n",
       " Min.   : 0.000   Min.   : 0.00       Min.   :  0.00     Min.   :  0.00       \n",
       " 1st Qu.: 3.452   1st Qu.: 2.00       1st Qu.: 26.28     1st Qu.:  9.00       \n",
       " Median : 6.750   Median : 4.50       Median : 48.47     Median : 16.75       \n",
       " Mean   : 8.525   Mean   : 5.78       Mean   : 57.22     Mean   : 20.89       \n",
       " 3rd Qu.:11.667   3rd Qu.: 8.00       3rd Qu.: 78.42     3rd Qu.: 29.00       \n",
       " Max.   :80.500   Max.   :63.00       Max.   :271.00     Max.   :123.00       \n",
       "                                                                              \n",
       " B_avg_GROUND_att B_avg_GROUND_landed B_avg_HEAD_att   B_avg_HEAD_landed\n",
       " Min.   : 0.000   Min.   : 0.000      Min.   :  0.00   Min.   :  0.00   \n",
       " 1st Qu.: 3.000   1st Qu.: 2.000      1st Qu.: 33.19   1st Qu.: 12.11   \n",
       " Median : 7.000   Median : 4.574      Median : 53.20   Median : 18.81   \n",
       " Mean   : 8.916   Mean   : 5.913      Mean   : 58.97   Mean   : 21.04   \n",
       " 3rd Qu.:12.435   3rd Qu.: 8.143      3rd Qu.: 77.41   3rd Qu.: 27.16   \n",
       " Max.   :64.500   Max.   :47.000      Max.   :257.00   Max.   :108.50   \n",
       "                                                                        \n",
       "    B_avg_KD      B_avg_LEG_att    B_avg_LEG_landed   B_avg_PASS   \n",
       " Min.   :0.0000   Min.   : 0.000   Min.   : 0.000   Min.   : 0.00  \n",
       " 1st Qu.:0.0000   1st Qu.: 2.000   1st Qu.: 1.771   1st Qu.: 0.25  \n",
       " Median :0.1538   Median : 4.937   Median : 4.000   Median : 1.00  \n",
       " Mean   :0.2596   Mean   : 6.395   Mean   : 5.064   Mean   : 1.32  \n",
       " 3rd Qu.:0.4286   3rd Qu.: 9.000   3rd Qu.: 7.000   3rd Qu.: 2.00  \n",
       " Max.   :5.0000   Max.   :61.000   Max.   :47.000   Max.   :13.00  \n",
       "                                                                   \n",
       "   B_avg_REV      B_avg_SIG_STR_att B_avg_SIG_STR_landed B_avg_SIG_STR_pct\n",
       " Min.   :0.0000   Min.   :  0.00    Min.   :  0.00       Min.   :0.0000   \n",
       " 1st Qu.:0.0000   1st Qu.: 43.69    1st Qu.: 19.32       1st Qu.:0.3900   \n",
       " Median :0.0000   Median : 67.50    Median : 29.91       Median :0.4550   \n",
       " Mean   :0.1694   Mean   : 74.66    Mean   : 32.58       Mean   :0.4553   \n",
       " 3rd Qu.:0.2500   3rd Qu.: 98.37    3rd Qu.: 43.00       3rd Qu.:0.5200   \n",
       " Max.   :3.0000   Max.   :292.00    Max.   :144.50       Max.   :1.0000   \n",
       "                                                                          \n",
       " B_avg_SUB_ATT     B_avg_TD_att    B_avg_TD_landed    B_avg_TD_pct   \n",
       " Min.   :0.0000   Min.   : 0.000   Min.   : 0.0000   Min.   :0.0000  \n",
       " 1st Qu.:0.0000   1st Qu.: 1.000   1st Qu.: 0.3289   1st Qu.:0.1239  \n",
       " Median :0.3333   Median : 2.200   Median : 1.0000   Median :0.3025  \n",
       " Mean   :0.5343   Mean   : 2.936   Mean   : 1.2462   Mean   :0.3153  \n",
       " 3rd Qu.:0.8415   3rd Qu.: 4.289   3rd Qu.: 1.8333   3rd Qu.:0.4750  \n",
       " Max.   :8.0000   Max.   :19.000   Max.   :10.0000   Max.   :1.0000  \n",
       "                                                                     \n",
       " B_avg_TOTAL_STR_att B_avg_TOTAL_STR_landed B_longest_win_streak\n",
       " Min.   :  0.00      Min.   :  0.00         Min.   : 0.000      \n",
       " 1st Qu.: 63.75      1st Qu.: 34.33         1st Qu.: 1.000      \n",
       " Median : 92.00      Median : 50.00         Median : 2.000      \n",
       " Mean   : 97.85      Mean   : 53.22         Mean   : 2.197      \n",
       " 3rd Qu.:127.00      3rd Qu.: 68.50         3rd Qu.: 3.000      \n",
       " Max.   :330.50      Max.   :230.00         Max.   :16.000      \n",
       "                                                                \n",
       "    B_losses      B_avg_opp_BODY_att B_avg_opp_BODY_landed B_avg_opp_CLINCH_att\n",
       " Min.   : 0.000   Min.   : 0.000     Min.   : 0.000        Min.   :  0.000     \n",
       " 1st Qu.: 1.000   1st Qu.: 4.000     1st Qu.: 2.667        1st Qu.:  3.000     \n",
       " Median : 1.000   Median : 7.400     Median : 5.000        Median :  6.000     \n",
       " Mean   : 2.028   Mean   : 8.911     Mean   : 5.983        Mean   :  7.527     \n",
       " 3rd Qu.: 3.000   3rd Qu.:12.239     3rd Qu.: 8.000        3rd Qu.: 10.250     \n",
       " Max.   :13.000   Max.   :61.000     Max.   :48.000        Max.   :105.000     \n",
       "                                                                               \n",
       " B_avg_opp_CLINCH_landed B_avg_opp_DISTANCE_att B_avg_opp_DISTANCE_landed\n",
       " Min.   : 0.000          Min.   :  0.00         Min.   :  0.000          \n",
       " 1st Qu.: 1.871          1st Qu.: 26.92         1st Qu.:  8.571          \n",
       " Median : 3.750          Median : 47.91         Median : 16.000          \n",
       " Mean   : 4.968          Mean   : 56.16         Mean   : 19.667          \n",
       " 3rd Qu.: 6.902          3rd Qu.: 75.83         3rd Qu.: 26.757          \n",
       " Max.   :84.000          Max.   :361.00         Max.   :150.000          \n",
       "                                                                         \n",
       " B_avg_opp_GROUND_att B_avg_opp_GROUND_landed B_avg_opp_HEAD_att\n",
       " Min.   : 0.000       Min.   : 0.000          Min.   :  0.00    \n",
       " 1st Qu.: 1.667       1st Qu.: 1.000          1st Qu.: 30.50    \n",
       " Median : 4.617       Median : 3.000          Median : 49.90    \n",
       " Mean   : 6.947       Mean   : 4.541          Mean   : 55.36    \n",
       " 3rd Qu.: 9.300       3rd Qu.: 6.000          3rd Qu.: 72.00    \n",
       " Max.   :93.000       Max.   :84.000          Max.   :335.00    \n",
       "                                                                \n",
       " B_avg_opp_HEAD_landed  B_avg_opp_KD    B_avg_opp_LEG_att B_avg_opp_LEG_landed\n",
       " Min.   :  0.00        Min.   :0.0000   Min.   : 0.000    Min.   : 0.000      \n",
       " 1st Qu.:  9.50        1st Qu.:0.0000   1st Qu.: 2.667    1st Qu.: 2.000      \n",
       " Median : 15.75        Median :0.0000   Median : 5.068    Median : 4.000      \n",
       " Mean   : 18.18        Mean   :0.1545   Mean   : 6.359    Mean   : 5.015      \n",
       " 3rd Qu.: 24.00        3rd Qu.:0.2500   3rd Qu.: 8.500    3rd Qu.: 6.779      \n",
       " Max.   :126.00        Max.   :3.0000   Max.   :57.000    Max.   :50.000      \n",
       "                                                                              \n",
       " B_avg_opp_PASS    B_avg_opp_REV   B_avg_opp_SIG_STR_att\n",
       " Min.   : 0.0000   Min.   :0.000   Min.   :  0.50       \n",
       " 1st Qu.: 0.1429   1st Qu.:0.000   1st Qu.: 39.31       \n",
       " Median : 0.7143   Median :0.000   Median : 64.00       \n",
       " Mean   : 1.1042   Mean   :0.155   Mean   : 70.63       \n",
       " 3rd Qu.: 1.5000   3rd Qu.:0.200   3rd Qu.: 91.81       \n",
       " Max.   :19.0000   Max.   :3.000   Max.   :401.00       \n",
       "                                                        \n",
       " B_avg_opp_SIG_STR_landed B_avg_opp_SIG_STR_pct B_avg_opp_SUB_ATT\n",
       " Min.   :  0.00           Min.   :0.0000        Min.   :0.0000   \n",
       " 1st Qu.: 16.56           1st Qu.:0.3500        1st Qu.:0.0000   \n",
       " Median : 26.50           Median :0.4113        Median :0.2500   \n",
       " Mean   : 29.18           Mean   :0.4212        Mean   :0.4492   \n",
       " 3rd Qu.: 37.85           3rd Qu.:0.4821        3rd Qu.:0.6667   \n",
       " Max.   :202.00           Max.   :1.0000        Max.   :7.0000   \n",
       "                                                                 \n",
       " B_avg_opp_TD_att B_avg_opp_TD_landed B_avg_opp_TD_pct B_avg_opp_TOTAL_STR_att\n",
       " Min.   : 0.000   Min.   : 0.0000     Min.   :0.0000   Min.   :  0.50         \n",
       " 1st Qu.: 1.182   1st Qu.: 0.3333     1st Qu.:0.0950   1st Qu.: 57.50         \n",
       " Median : 2.500   Median : 0.8571     Median :0.2387   Median : 86.50         \n",
       " Mean   : 3.019   Mean   : 1.1125     Mean   :0.2712   Mean   : 91.01         \n",
       " 3rd Qu.: 4.000   3rd Qu.: 1.5000     3rd Qu.:0.3750   3rd Qu.:116.78         \n",
       " Max.   :20.000   Max.   :11.5000     Max.   :1.0000   Max.   :404.00         \n",
       "                                                                              \n",
       " B_avg_opp_TOTAL_STR_landed B_total_rounds_fought B_total_time_fought.seconds.\n",
       " Min.   :  0.00             Min.   : 1.00         Min.   :   7.0              \n",
       " 1st Qu.: 30.20             1st Qu.: 4.00         1st Qu.: 474.0              \n",
       " Median : 44.35             Median : 9.00         Median : 628.0              \n",
       " Mean   : 47.34             Mean   :12.63         Mean   : 612.0              \n",
       " 3rd Qu.: 59.75             3rd Qu.:17.00         3rd Qu.: 781.3              \n",
       " Max.   :232.00             Max.   :73.00         Max.   :1500.0              \n",
       "                                                                              \n",
       " B_total_title_bouts B_win_by_Decision_Majority B_win_by_Decision_Split\n",
       " Min.   : 0.0000     Min.   :0.00000            Min.   :0.0000         \n",
       " 1st Qu.: 0.0000     1st Qu.:0.00000            1st Qu.:0.0000         \n",
       " Median : 0.0000     Median :0.00000            Median :0.0000         \n",
       " Mean   : 0.3763     Mean   :0.02273            Mean   :0.3122         \n",
       " 3rd Qu.: 0.0000     3rd Qu.:0.00000            3rd Qu.:0.0000         \n",
       " Max.   :16.0000     Max.   :2.00000            Max.   :5.0000         \n",
       "                                                                       \n",
       " B_win_by_Decision_Unanimous B_win_by_KO.TKO  B_win_by_Submission\n",
       " Min.   : 0.000              Min.   : 0.000   Min.   : 0.0000    \n",
       " 1st Qu.: 0.000              1st Qu.: 0.000   1st Qu.: 0.0000    \n",
       " Median : 1.000              Median : 1.000   Median : 0.0000    \n",
       " Mean   : 1.128              Mean   : 1.219   Mean   : 0.7325    \n",
       " 3rd Qu.: 2.000              3rd Qu.: 2.000   3rd Qu.: 1.0000    \n",
       " Max.   :10.000              Max.   :11.000   Max.   :11.0000    \n",
       "                                                                 \n",
       " B_win_by_TKO_Doctor_Stoppage     B_wins              B_Stance   \n",
       " Min.   :0.00000              Min.   : 0.000              :  60  \n",
       " 1st Qu.:0.00000              1st Qu.: 1.000   Open Stance:   3  \n",
       " Median :0.00000              Median : 2.000   Orthodox   :2022  \n",
       " Mean   :0.05999              Mean   : 3.482   Sideways   :   0  \n",
       " 3rd Qu.:0.00000              3rd Qu.: 5.000   Southpaw   : 520  \n",
       " Max.   :2.00000              Max.   :23.000   Switch     :  79  \n",
       "                                                                 \n",
       "  B_Height_cms    B_Reach_cms     B_Weight_lbs   R_current_lose_streak\n",
       " Min.   :152.4   Min.   :152.4   Min.   :115.0   Min.   :0.0000       \n",
       " 1st Qu.:172.7   1st Qu.:177.8   1st Qu.:145.0   1st Qu.:0.0000       \n",
       " Median :180.3   Median :182.9   Median :170.0   Median :0.0000       \n",
       " Mean   :179.0   Mean   :183.5   Mean   :168.9   Mean   :0.6174       \n",
       " 3rd Qu.:185.4   3rd Qu.:190.5   3rd Qu.:185.0   3rd Qu.:1.0000       \n",
       " Max.   :210.8   Max.   :213.4   Max.   :265.0   Max.   :7.0000       \n",
       "                                                                      \n",
       " R_current_win_streak     R_draw  R_avg_BODY_att   R_avg_BODY_landed\n",
       " Min.   : 0.000       Min.   :0   Min.   : 0.000   Min.   : 0.000   \n",
       " 1st Qu.: 0.000       1st Qu.:0   1st Qu.: 4.500   1st Qu.: 3.089   \n",
       " Median : 1.000       Median :0   Median : 7.857   Median : 5.400   \n",
       " Mean   : 1.244       Mean   :0   Mean   : 9.433   Mean   : 6.519   \n",
       " 3rd Qu.: 2.000       3rd Qu.:0   3rd Qu.:12.600   3rd Qu.: 9.000   \n",
       " Max.   :16.000       Max.   :0   Max.   :51.000   Max.   :39.000   \n",
       "                                                                    \n",
       " R_avg_CLINCH_att R_avg_CLINCH_landed R_avg_DISTANCE_att R_avg_DISTANCE_landed\n",
       " Min.   : 0.000   Min.   : 0.000      Min.   :  0.00     Min.   :  0.00       \n",
       " 1st Qu.: 4.000   1st Qu.: 2.413      1st Qu.: 29.48     1st Qu.: 10.25       \n",
       " Median : 6.917   Median : 4.625      Median : 50.00     Median : 17.50       \n",
       " Mean   : 8.381   Mean   : 5.667      Mean   : 57.88     Mean   : 21.25       \n",
       " 3rd Qu.:11.000   3rd Qu.: 7.500      3rd Qu.: 79.55     3rd Qu.: 29.73       \n",
       " Max.   :72.000   Max.   :52.000      Max.   :287.50     Max.   :131.00       \n",
       "                                                                              \n",
       " R_avg_GROUND_att R_avg_GROUND_landed R_avg_HEAD_att   R_avg_HEAD_landed\n",
       " Min.   : 0.000   Min.   : 0.000      Min.   :  0.00   Min.   :  0.00   \n",
       " 1st Qu.: 3.814   1st Qu.: 2.500      1st Qu.: 36.48   1st Qu.: 13.79   \n",
       " Median : 8.000   Median : 5.250      Median : 54.50   Median : 19.56   \n",
       " Mean   : 9.812   Mean   : 6.524      Mean   : 59.97   Mean   : 21.66   \n",
       " 3rd Qu.:13.206   3rd Qu.: 8.808      3rd Qu.: 78.02   3rd Qu.: 27.91   \n",
       " Max.   :83.000   Max.   :53.000      Max.   :264.00   Max.   :119.00   \n",
       "                                                                        \n",
       "    R_avg_KD      R_avg_LEG_att    R_avg_LEG_landed   R_avg_PASS     \n",
       " Min.   :0.0000   Min.   : 0.000   Min.   : 0.000   Min.   : 0.0000  \n",
       " 1st Qu.:0.0000   1st Qu.: 2.363   1st Qu.: 2.000   1st Qu.: 0.3846  \n",
       " Median :0.2000   Median : 5.250   Median : 4.200   Median : 1.0000  \n",
       " Mean   :0.2779   Mean   : 6.664   Mean   : 5.262   Mean   : 1.4503  \n",
       " 3rd Qu.:0.4286   3rd Qu.: 9.289   3rd Qu.: 7.400   3rd Qu.: 2.1000  \n",
       " Max.   :4.0000   Max.   :48.000   Max.   :37.000   Max.   :14.0000  \n",
       "                                                                     \n",
       "   R_avg_REV      R_avg_SIG_STR_att R_avg_SIG_STR_landed R_avg_SIG_STR_pct\n",
       " Min.   :0.0000   Min.   :  0.00    Min.   :  0.00       Min.   :0.0000   \n",
       " 1st Qu.:0.0000   1st Qu.: 47.11    1st Qu.: 21.41       1st Qu.:0.3950   \n",
       " Median :0.0000   Median : 69.06    Median : 30.71       Median :0.4550   \n",
       " Mean   :0.1520   Mean   : 76.07    Mean   : 33.44       Mean   :0.4619   \n",
       " 3rd Qu.:0.2143   3rd Qu.: 99.60    3rd Qu.: 43.91       3rd Qu.:0.5237   \n",
       " Max.   :3.0000   Max.   :298.50    Max.   :141.00       Max.   :1.0000   \n",
       "                                                                          \n",
       " R_avg_SUB_ATT     R_avg_TD_att    R_avg_TD_landed    R_avg_TD_pct   \n",
       " Min.   :0.0000   Min.   : 0.000   Min.   : 0.0000   Min.   :0.0000  \n",
       " 1st Qu.:0.0000   1st Qu.: 1.000   1st Qu.: 0.4286   1st Qu.:0.1667  \n",
       " Median :0.3846   Median : 2.500   Median : 1.0000   Median :0.3191  \n",
       " Mean   :0.5326   Mean   : 3.126   Mean   : 1.3412   Mean   :0.3308  \n",
       " 3rd Qu.:0.8333   3rd Qu.: 4.500   3rd Qu.: 2.0000   3rd Qu.:0.4670  \n",
       " Max.   :5.5000   Max.   :22.500   Max.   :11.0000   Max.   :1.0000  \n",
       "                                                                     \n",
       " R_avg_TOTAL_STR_att R_avg_TOTAL_STR_landed R_longest_win_streak\n",
       " Min.   :  0.00      Min.   :  0.00         Min.   : 0.000      \n",
       " 1st Qu.: 66.26      1st Qu.: 36.70         1st Qu.: 1.000      \n",
       " Median : 93.62      Median : 50.32         Median : 2.000      \n",
       " Mean   : 98.44      Mean   : 53.34         Mean   : 2.845      \n",
       " 3rd Qu.:124.62      3rd Qu.: 66.25         3rd Qu.: 4.000      \n",
       " Max.   :325.50      Max.   :201.00         Max.   :16.000      \n",
       "                                                                \n",
       "    R_losses      R_avg_opp_BODY_att R_avg_opp_BODY_landed R_avg_opp_CLINCH_att\n",
       " Min.   : 0.000   Min.   : 0.000     Min.   : 0.000        Min.   : 0.000      \n",
       " 1st Qu.: 1.000   1st Qu.: 4.351     1st Qu.: 3.000        1st Qu.: 3.500      \n",
       " Median : 2.000   Median : 7.750     Median : 5.111        Median : 6.290      \n",
       " Mean   : 2.434   Mean   : 8.681     Mean   : 5.776        Mean   : 7.459      \n",
       " 3rd Qu.: 3.000   3rd Qu.:11.917     3rd Qu.: 7.701        3rd Qu.: 9.862      \n",
       " Max.   :14.000   Max.   :75.000     Max.   :41.000        Max.   :82.000      \n",
       "                                                                               \n",
       " R_avg_opp_CLINCH_landed R_avg_opp_DISTANCE_att R_avg_opp_DISTANCE_landed\n",
       " Min.   : 0.000          Min.   :  0.00         Min.   :  0.00           \n",
       " 1st Qu.: 2.000          1st Qu.: 28.50         1st Qu.:  9.00           \n",
       " Median : 4.000          Median : 49.37         Median : 16.44           \n",
       " Mean   : 4.883          Mean   : 56.24         Mean   : 19.18           \n",
       " 3rd Qu.: 6.471          3rd Qu.: 75.87         3rd Qu.: 26.00           \n",
       " Max.   :41.000          Max.   :440.00         Max.   :144.00           \n",
       "                                                                         \n",
       " R_avg_opp_GROUND_att R_avg_opp_GROUND_landed R_avg_opp_HEAD_att\n",
       " Min.   :  0.000      Min.   : 0.000          Min.   :  0.00    \n",
       " 1st Qu.:  1.846      1st Qu.: 1.123          1st Qu.: 32.00    \n",
       " Median :  4.667      Median : 3.000          Median : 50.00    \n",
       " Mean   :  6.515      Mean   : 4.227          Mean   : 55.22    \n",
       " 3rd Qu.:  9.000      3rd Qu.: 5.750          3rd Qu.: 72.51    \n",
       " Max.   :104.000      Max.   :52.000          Max.   :400.00    \n",
       "                                                                \n",
       " R_avg_opp_HEAD_landed  R_avg_opp_KD     R_avg_opp_LEG_att R_avg_opp_LEG_landed\n",
       " Min.   :  0.00        Min.   :0.00000   Min.   : 0.000    Min.   : 0.000      \n",
       " 1st Qu.: 10.00        1st Qu.:0.00000   1st Qu.: 3.000    1st Qu.: 2.200      \n",
       " Median : 15.43        Median :0.07692   Median : 5.172    Median : 4.000      \n",
       " Mean   : 17.64        Mean   :0.15535   Mean   : 6.309    Mean   : 4.866      \n",
       " 3rd Qu.: 23.18        3rd Qu.:0.25000   3rd Qu.: 8.333    3rd Qu.: 6.508      \n",
       " Max.   :132.00        Max.   :2.00000   Max.   :63.000    Max.   :41.000      \n",
       "                                                                               \n",
       " R_avg_opp_PASS    R_avg_opp_REV    R_avg_opp_SIG_STR_att\n",
       " Min.   : 0.0000   Min.   :0.0000   Min.   :  0.00       \n",
       " 1st Qu.: 0.2222   1st Qu.:0.0000   1st Qu.: 41.98       \n",
       " Median : 0.6667   Median :0.0000   Median : 65.00       \n",
       " Mean   : 0.9980   Mean   :0.1570   Mean   : 70.21       \n",
       " 3rd Qu.: 1.3750   3rd Qu.:0.2222   3rd Qu.: 90.60       \n",
       " Max.   :15.0000   Max.   :2.5000   Max.   :454.00       \n",
       "                                                         \n",
       " R_avg_opp_SIG_STR_landed R_avg_opp_SIG_STR_pct R_avg_opp_SUB_ATT\n",
       " Min.   :  0.00           Min.   :0.0000        Min.   :0.0000   \n",
       " 1st Qu.: 17.37           1st Qu.:0.3433        1st Qu.:0.0000   \n",
       " Median : 26.00           Median :0.4050        Median :0.2857   \n",
       " Mean   : 28.29           Mean   :0.4107        Mean   :0.4350   \n",
       " 3rd Qu.: 36.20           3rd Qu.:0.4650        3rd Qu.:0.6250   \n",
       " Max.   :151.00           Max.   :1.0000        Max.   :8.0000   \n",
       "                                                                 \n",
       " R_avg_opp_TD_att R_avg_opp_TD_landed R_avg_opp_TD_pct R_avg_opp_TOTAL_STR_att\n",
       " Min.   : 0.000   Min.   : 0.0000     Min.   :0.0000   Min.   :  0.00         \n",
       " 1st Qu.: 1.333   1st Qu.: 0.3333     1st Qu.:0.1055   1st Qu.: 59.36         \n",
       " Median : 2.500   Median : 0.8153     Median :0.2263   Median : 86.38         \n",
       " Mean   : 2.970   Mean   : 1.0378     Mean   :0.2523   Mean   : 89.77         \n",
       " 3rd Qu.: 4.000   3rd Qu.: 1.5000     3rd Qu.:0.3500   3rd Qu.:112.56         \n",
       " Max.   :20.000   Max.   :11.0000     Max.   :1.0000   Max.   :461.00         \n",
       "                                                                              \n",
       " R_avg_opp_TOTAL_STR_landed R_total_rounds_fought R_total_time_fought.seconds.\n",
       " Min.   :  0.00             Min.   : 1.00         Min.   :   7.0              \n",
       " 1st Qu.: 31.53             1st Qu.: 6.00         1st Qu.: 493.5              \n",
       " Median : 43.35             Median :13.00         Median : 634.1              \n",
       " Mean   : 45.74             Mean   :16.72         Mean   : 621.4              \n",
       " 3rd Qu.: 57.00             3rd Qu.:24.00         3rd Qu.: 767.1              \n",
       " Max.   :202.00             Max.   :80.00         Max.   :1500.0              \n",
       "                                                                              \n",
       " R_total_title_bouts R_win_by_Decision_Majority R_win_by_Decision_Split\n",
       " Min.   : 0.0000     Min.   :0.00000            Min.   :0.0000         \n",
       " 1st Qu.: 0.0000     1st Qu.:0.00000            1st Qu.:0.0000         \n",
       " Median : 0.0000     Median :0.00000            Median :0.0000         \n",
       " Mean   : 0.7671     Mean   :0.03428            Mean   :0.3756         \n",
       " 3rd Qu.: 1.0000     3rd Qu.:0.00000            3rd Qu.:1.0000         \n",
       " Max.   :16.0000     Max.   :1.00000            Max.   :4.0000         \n",
       "                                                                       \n",
       " R_win_by_Decision_Unanimous R_win_by_KO.TKO R_win_by_Submission\n",
       " Min.   : 0.00               Min.   : 0.00   Min.   : 0.0000    \n",
       " 1st Qu.: 0.00               1st Qu.: 0.00   1st Qu.: 0.0000    \n",
       " Median : 1.00               Median : 1.00   Median : 0.0000    \n",
       " Mean   : 1.58               Mean   : 1.62   Mean   : 0.9579    \n",
       " 3rd Qu.: 2.00               3rd Qu.: 2.00   3rd Qu.: 1.0000    \n",
       " Max.   :10.00               Max.   :11.00   Max.   :13.0000    \n",
       "                                                                \n",
       " R_win_by_TKO_Doctor_Stoppage     R_wins              R_Stance   \n",
       " Min.   :0.00000              Min.   : 0.000              :  61  \n",
       " 1st Qu.:0.00000              1st Qu.: 2.000   Open Stance:   6  \n",
       " Median :0.00000              Median : 4.000   Orthodox   :1983  \n",
       " Mean   :0.08271              Mean   : 4.661   Sideways   :   0  \n",
       " 3rd Qu.:0.00000              3rd Qu.: 7.000   Southpaw   : 563  \n",
       " Max.   :2.00000              Max.   :20.000   Switch     :  71  \n",
       "                                                                 \n",
       "  R_Height_cms    R_Reach_cms     R_Weight_lbs       B_age      \n",
       " Min.   :152.4   Min.   :152.4   Min.   :115.0   Min.   :20.00  \n",
       " 1st Qu.:172.7   1st Qu.:177.8   1st Qu.:145.0   1st Qu.:27.00  \n",
       " Median :180.3   Median :182.9   Median :170.0   Median :29.00  \n",
       " Mean   :178.9   Mean   :183.6   Mean   :169.3   Mean   :29.63  \n",
       " 3rd Qu.:185.4   3rd Qu.:190.5   3rd Qu.:185.0   3rd Qu.:32.00  \n",
       " Max.   :210.8   Max.   :213.4   Max.   :265.0   Max.   :47.00  \n",
       "                                                                \n",
       "     R_age      \n",
       " Min.   :19.00  \n",
       " 1st Qu.:27.00  \n",
       " Median :30.00  \n",
       " Mean   :30.05  \n",
       " 3rd Qu.:33.00  \n",
       " Max.   :46.00  \n",
       "                "
      ]
     },
     "metadata": {},
     "output_type": "display_data"
    }
   ],
   "source": [
    "# 5. Find summary statistics to see the different column descriptions & find number of NAs\n",
    "summary(X_train)"
   ]
  },
  {
   "cell_type": "markdown",
   "metadata": {},
   "source": [
    "**Observations:**\n",
    "> Note the data above looks good in the ranges. There are also some columns that should be removed like R_draw and B_draw which never have a value other than 0. Most of the data seems like it has appropriate highs and lows for each column.\n",
    "\n",
    "> I also noticed there seem to be a lot of columns on the same statistic:\n",
    "\n",
    ">B_avg_BODY_att\n",
    "R_avg_BODY_att\n",
    "B_avg_opp_BODY_att\n",
    "R_avg_opp_BODY_att\n",
    "I did a bit further digging to understand what makes them different.\n",
    "\n",
    ">Definitions for reference:\n",
    "\n",
    ">opp containing columns is the average of damage done by the opponent on the fighter Source: Original Kaggle Source. Therefore, it is not usually the case the R_avg_BODY_att would be reflected in B_avg_opp_BODY_att if it didn't do any damage.\n",
    "Other definitions:\n",
    "\n",
    ">att: attempt\n",
    "landed: attempt connected with the opponent\n",
    "kd: knockdown"
   ]
  },
  {
   "cell_type": "code",
   "execution_count": 187,
   "metadata": {},
   "outputs": [
    {
     "data": {
      "text/html": [
       "2684"
      ],
      "text/latex": [
       "2684"
      ],
      "text/markdown": [
       "2684"
      ],
      "text/plain": [
       "[1] 2684"
      ]
     },
     "metadata": {},
     "output_type": "display_data"
    },
    {
     "data": {
      "text/html": [
       "144"
      ],
      "text/latex": [
       "144"
      ],
      "text/markdown": [
       "144"
      ],
      "text/plain": [
       "[1] 144"
      ]
     },
     "metadata": {},
     "output_type": "display_data"
    }
   ],
   "source": [
    "# 5. Check n's again\n",
    "nrow(X_train)\n",
    "ncol(X_train)"
   ]
  },
  {
   "cell_type": "markdown",
   "metadata": {},
   "source": [
    "### Inspecting Values"
   ]
  },
  {
   "cell_type": "code",
   "execution_count": 188,
   "metadata": {},
   "outputs": [
    {
     "data": {
      "image/png": "[encoded data removed]",
      "text/plain": [
       "plot without title"
      ]
     },
     "metadata": {
      "image/png": {
       "height": 420,
       "width": 420
      },
      "text/plain": {
       "height": 420,
       "width": 420
      }
     },
     "output_type": "display_data"
    }
   ],
   "source": [
    "# 5. Compare when a fighter is in the R_fighter and B_fighter columns to see are unique values for each appearence. For example, if a \n",
    "# fighter shows up in the red column for a fight they will not show up in the blue column for the same fight. \n",
    "\n",
    "X_train %>%\n",
    "    ggplot(aes(X_train$R_win_by_Submission)) +\n",
    "    geom_bar() +\n",
    "    labs(title=\"Submission Wins\", x = \"Wins by Submission\")"
   ]
  },
  {
   "cell_type": "markdown",
   "metadata": {},
   "source": [
    "> **Observations:**\n",
    "\n",
    "- This is not what I expected at all. I was expecting a binary response 1 for yes and 0 for no. These statistics show that the win columns for submission, decision, KO, etc.. are all for lifetime stats.\n",
    "\n",
    "- For our analysis we need to have the stat for how a fight ends/ how the winner wins the match to answer our research question. I can do this with another dataset that was published in the same repository as our original dataset."
   ]
  },
  {
   "cell_type": "code",
   "execution_count": 189,
   "metadata": {},
   "outputs": [
    {
     "data": {
      "text/html": [
       "<table>\n",
       "<caption>A data.frame: 6 × 145</caption>\n",
       "<thead>\n",
       "\t<tr><th></th><th scope=col>R_fighter</th><th scope=col>B_fighter</th><th scope=col>Referee</th><th scope=col>date</th><th scope=col>location</th><th scope=col>title_bout</th><th scope=col>weight_class</th><th scope=col>no_of_rounds</th><th scope=col>B_current_lose_streak</th><th scope=col>B_current_win_streak</th><th scope=col>...</th><th scope=col>R_win_by_Submission</th><th scope=col>R_win_by_TKO_Doctor_Stoppage</th><th scope=col>R_wins</th><th scope=col>R_Stance</th><th scope=col>R_Height_cms</th><th scope=col>R_Reach_cms</th><th scope=col>R_Weight_lbs</th><th scope=col>B_age</th><th scope=col>R_age</th><th scope=col>win_by</th></tr>\n",
       "\t<tr><th></th><th scope=col>&lt;fct&gt;</th><th scope=col>&lt;fct&gt;</th><th scope=col>&lt;fct&gt;</th><th scope=col>&lt;date&gt;</th><th scope=col>&lt;fct&gt;</th><th scope=col>&lt;fct&gt;</th><th scope=col>&lt;fct&gt;</th><th scope=col>&lt;int&gt;</th><th scope=col>&lt;dbl&gt;</th><th scope=col>&lt;dbl&gt;</th><th scope=col>...</th><th scope=col>&lt;dbl&gt;</th><th scope=col>&lt;dbl&gt;</th><th scope=col>&lt;dbl&gt;</th><th scope=col>&lt;fct&gt;</th><th scope=col>&lt;dbl&gt;</th><th scope=col>&lt;dbl&gt;</th><th scope=col>&lt;dbl&gt;</th><th scope=col>&lt;dbl&gt;</th><th scope=col>&lt;dbl&gt;</th><th scope=col>&lt;fct&gt;</th></tr>\n",
       "</thead>\n",
       "<tbody>\n",
       "\t<tr><th scope=row>2679</th><td>Cyrille Diabate</td><td>Anthony Perosh  </td><td>Marc Goddard  </td><td>2011-11-05</td><td>Birmingham, England, United Kingdom</td><td>False</td><td>Light Heavyweight</td><td>3</td><td>0</td><td>1</td><td>...</td><td>0</td><td>0</td><td> 2</td><td>Southpaw</td><td>198.12</td><td>205.74</td><td>205</td><td>39</td><td>38</td><td>Submission          </td></tr>\n",
       "\t<tr><th scope=row>2680</th><td>Yves Edwards   </td><td>John Gunderson  </td><td>Kerry Hatley  </td><td>2010-09-15</td><td>Austin, Texas, USA                 </td><td>False</td><td>Lightweight      </td><td>3</td><td>0</td><td>1</td><td>...</td><td>1</td><td>0</td><td> 6</td><td>Southpaw</td><td>175.26</td><td>185.42</td><td>155</td><td>31</td><td>33</td><td>Decision - Unanimous</td></tr>\n",
       "\t<tr><th scope=row>2681</th><td>Robbie Lawler  </td><td>Rafael Dos Anjos</td><td>Herb Dean     </td><td>2017-12-16</td><td>Winnipeg, Manitoba, Canada         </td><td>False</td><td>Welterweight     </td><td>5</td><td>0</td><td>2</td><td>...</td><td>0</td><td>0</td><td>13</td><td>Southpaw</td><td>180.34</td><td>187.96</td><td>170</td><td>33</td><td>35</td><td>Decision - Unanimous</td></tr>\n",
       "\t<tr><th scope=row>2682</th><td>Martin Kampmann</td><td>Drew McFedries  </td><td>Herb Dean     </td><td>2007-03-03</td><td>Columbus, Ohio, USA                </td><td>False</td><td>Middleweight     </td><td>3</td><td>0</td><td>1</td><td>...</td><td>1</td><td>0</td><td> 2</td><td>Orthodox</td><td>182.88</td><td>182.88</td><td>170</td><td>28</td><td>24</td><td>Submission          </td></tr>\n",
       "\t<tr><th scope=row>2683</th><td>Dustin Hazelett</td><td>Joshua Burkman  </td><td>Josh Rosenthal</td><td>2008-06-21</td><td>Las Vegas, Nevada, USA             </td><td>False</td><td>Welterweight     </td><td>3</td><td>1</td><td>0</td><td>...</td><td>2</td><td>0</td><td> 3</td><td>Orthodox</td><td>185.42</td><td>193.04</td><td>170</td><td>28</td><td>22</td><td>Submission          </td></tr>\n",
       "\t<tr><th scope=row>2684</th><td>Kyle Noke      </td><td>Keita Nakamura  </td><td>Herb Dean     </td><td>2016-07-13</td><td>Sioux Falls, South Dakota, USA     </td><td>False</td><td>Welterweight     </td><td>3</td><td>1</td><td>0</td><td>...</td><td>2</td><td>0</td><td> 6</td><td>Southpaw</td><td>185.42</td><td>193.04</td><td>170</td><td>32</td><td>36</td><td>Submission          </td></tr>\n",
       "</tbody>\n",
       "</table>\n"
      ],
      "text/latex": [
       "A data.frame: 6 × 145\n",
       "\\begin{tabular}{r|lllllllllllllllllllllllllllllllllllllllllllllllllllllllllllllllllllllllllllllllllllllllllllllllllllllllllllllllllllllllllllllllllllllllllllllllll}\n",
       "  & R\\_fighter & B\\_fighter & Referee & date & location & title\\_bout & weight\\_class & no\\_of\\_rounds & B\\_current\\_lose\\_streak & B\\_current\\_win\\_streak & B\\_draw & B\\_avg\\_BODY\\_att & B\\_avg\\_BODY\\_landed & B\\_avg\\_CLINCH\\_att & B\\_avg\\_CLINCH\\_landed & B\\_avg\\_DISTANCE\\_att & B\\_avg\\_DISTANCE\\_landed & B\\_avg\\_GROUND\\_att & B\\_avg\\_GROUND\\_landed & B\\_avg\\_HEAD\\_att & B\\_avg\\_HEAD\\_landed & B\\_avg\\_KD & B\\_avg\\_LEG\\_att & B\\_avg\\_LEG\\_landed & B\\_avg\\_PASS & B\\_avg\\_REV & B\\_avg\\_SIG\\_STR\\_att & B\\_avg\\_SIG\\_STR\\_landed & B\\_avg\\_SIG\\_STR\\_pct & B\\_avg\\_SUB\\_ATT & B\\_avg\\_TD\\_att & B\\_avg\\_TD\\_landed & B\\_avg\\_TD\\_pct & B\\_avg\\_TOTAL\\_STR\\_att & B\\_avg\\_TOTAL\\_STR\\_landed & B\\_longest\\_win\\_streak & B\\_losses & B\\_avg\\_opp\\_BODY\\_att & B\\_avg\\_opp\\_BODY\\_landed & B\\_avg\\_opp\\_CLINCH\\_att & B\\_avg\\_opp\\_CLINCH\\_landed & B\\_avg\\_opp\\_DISTANCE\\_att & B\\_avg\\_opp\\_DISTANCE\\_landed & B\\_avg\\_opp\\_GROUND\\_att & B\\_avg\\_opp\\_GROUND\\_landed & B\\_avg\\_opp\\_HEAD\\_att & B\\_avg\\_opp\\_HEAD\\_landed & B\\_avg\\_opp\\_KD & B\\_avg\\_opp\\_LEG\\_att & B\\_avg\\_opp\\_LEG\\_landed & B\\_avg\\_opp\\_PASS & B\\_avg\\_opp\\_REV & B\\_avg\\_opp\\_SIG\\_STR\\_att & B\\_avg\\_opp\\_SIG\\_STR\\_landed & B\\_avg\\_opp\\_SIG\\_STR\\_pct & B\\_avg\\_opp\\_SUB\\_ATT & B\\_avg\\_opp\\_TD\\_att & B\\_avg\\_opp\\_TD\\_landed & B\\_avg\\_opp\\_TD\\_pct & B\\_avg\\_opp\\_TOTAL\\_STR\\_att & B\\_avg\\_opp\\_TOTAL\\_STR\\_landed & B\\_total\\_rounds\\_fought & B\\_total\\_time\\_fought.seconds. & B\\_total\\_title\\_bouts & B\\_win\\_by\\_Decision\\_Majority & B\\_win\\_by\\_Decision\\_Split & B\\_win\\_by\\_Decision\\_Unanimous & B\\_win\\_by\\_KO.TKO & B\\_win\\_by\\_Submission & B\\_win\\_by\\_TKO\\_Doctor\\_Stoppage & B\\_wins & B\\_Stance & B\\_Height\\_cms & B\\_Reach\\_cms & B\\_Weight\\_lbs & R\\_current\\_lose\\_streak & R\\_current\\_win\\_streak & R\\_draw & R\\_avg\\_BODY\\_att & R\\_avg\\_BODY\\_landed & R\\_avg\\_CLINCH\\_att & R\\_avg\\_CLINCH\\_landed & R\\_avg\\_DISTANCE\\_att & R\\_avg\\_DISTANCE\\_landed & R\\_avg\\_GROUND\\_att & R\\_avg\\_GROUND\\_landed & R\\_avg\\_HEAD\\_att & R\\_avg\\_HEAD\\_landed & R\\_avg\\_KD & R\\_avg\\_LEG\\_att & R\\_avg\\_LEG\\_landed & R\\_avg\\_PASS & R\\_avg\\_REV & R\\_avg\\_SIG\\_STR\\_att & R\\_avg\\_SIG\\_STR\\_landed & R\\_avg\\_SIG\\_STR\\_pct & R\\_avg\\_SUB\\_ATT & R\\_avg\\_TD\\_att & R\\_avg\\_TD\\_landed & R\\_avg\\_TD\\_pct & R\\_avg\\_TOTAL\\_STR\\_att & R\\_avg\\_TOTAL\\_STR\\_landed & R\\_longest\\_win\\_streak & R\\_losses & R\\_avg\\_opp\\_BODY\\_att & R\\_avg\\_opp\\_BODY\\_landed & R\\_avg\\_opp\\_CLINCH\\_att & R\\_avg\\_opp\\_CLINCH\\_landed & R\\_avg\\_opp\\_DISTANCE\\_att & R\\_avg\\_opp\\_DISTANCE\\_landed & R\\_avg\\_opp\\_GROUND\\_att & R\\_avg\\_opp\\_GROUND\\_landed & R\\_avg\\_opp\\_HEAD\\_att & R\\_avg\\_opp\\_HEAD\\_landed & R\\_avg\\_opp\\_KD & R\\_avg\\_opp\\_LEG\\_att & R\\_avg\\_opp\\_LEG\\_landed & R\\_avg\\_opp\\_PASS & R\\_avg\\_opp\\_REV & R\\_avg\\_opp\\_SIG\\_STR\\_att & R\\_avg\\_opp\\_SIG\\_STR\\_landed & R\\_avg\\_opp\\_SIG\\_STR\\_pct & R\\_avg\\_opp\\_SUB\\_ATT & R\\_avg\\_opp\\_TD\\_att & R\\_avg\\_opp\\_TD\\_landed & R\\_avg\\_opp\\_TD\\_pct & R\\_avg\\_opp\\_TOTAL\\_STR\\_att & R\\_avg\\_opp\\_TOTAL\\_STR\\_landed & R\\_total\\_rounds\\_fought & R\\_total\\_time\\_fought.seconds. & R\\_total\\_title\\_bouts & R\\_win\\_by\\_Decision\\_Majority & R\\_win\\_by\\_Decision\\_Split & R\\_win\\_by\\_Decision\\_Unanimous & R\\_win\\_by\\_KO.TKO & R\\_win\\_by\\_Submission & R\\_win\\_by\\_TKO\\_Doctor\\_Stoppage & R\\_wins & R\\_Stance & R\\_Height\\_cms & R\\_Reach\\_cms & R\\_Weight\\_lbs & B\\_age & R\\_age & win\\_by\\\\\n",
       "  & <fct> & <fct> & <fct> & <date> & <fct> & <fct> & <fct> & <int> & <dbl> & <dbl> & <dbl> & <dbl> & <dbl> & <dbl> & <dbl> & <dbl> & <dbl> & <dbl> & <dbl> & <dbl> & <dbl> & <dbl> & <dbl> & <dbl> & <dbl> & <dbl> & <dbl> & <dbl> & <dbl> & <dbl> & <dbl> & <dbl> & <dbl> & <dbl> & <dbl> & <dbl> & <dbl> & <dbl> & <dbl> & <dbl> & <dbl> & <dbl> & <dbl> & <dbl> & <dbl> & <dbl> & <dbl> & <dbl> & <dbl> & <dbl> & <dbl> & <dbl> & <dbl> & <dbl> & <dbl> & <dbl> & <dbl> & <dbl> & <dbl> & <dbl> & <dbl> & <dbl> & <dbl> & <dbl> & <dbl> & <dbl> & <dbl> & <dbl> & <dbl> & <dbl> & <dbl> & <fct> & <dbl> & <dbl> & <dbl> & <dbl> & <dbl> & <dbl> & <dbl> & <dbl> & <dbl> & <dbl> & <dbl> & <dbl> & <dbl> & <dbl> & <dbl> & <dbl> & <dbl> & <dbl> & <dbl> & <dbl> & <dbl> & <dbl> & <dbl> & <dbl> & <dbl> & <dbl> & <dbl> & <dbl> & <dbl> & <dbl> & <dbl> & <dbl> & <dbl> & <dbl> & <dbl> & <dbl> & <dbl> & <dbl> & <dbl> & <dbl> & <dbl> & <dbl> & <dbl> & <dbl> & <dbl> & <dbl> & <dbl> & <dbl> & <dbl> & <dbl> & <dbl> & <dbl> & <dbl> & <dbl> & <dbl> & <dbl> & <dbl> & <dbl> & <dbl> & <dbl> & <dbl> & <dbl> & <dbl> & <dbl> & <dbl> & <dbl> & <fct> & <dbl> & <dbl> & <dbl> & <dbl> & <dbl> & <fct>\\\\\n",
       "\\hline\n",
       "\t2679 & Cyrille Diabate & Anthony Perosh   & Marc Goddard   & 2011-11-05 & Birmingham, England, United Kingdom & False & Light Heavyweight & 3 & 0 & 1 & 0 &  1.00000 & 0.750000 &  8.250000 & 5.250000 & 28.25000 & 10.000 &  4.0000 &  2.750000 & 35.25000 & 13.00 & 0.2500000 &  4.25000 & 4.250000 & 0.750000 & 0.00000000 & 40.50000 & 18.00000 & 0.4500000 & 0.2500000 & 6.50000 & 1.00000 & 0.1300000 &  50.0000 & 26.750 & 1 & 3 &  2.50000 &  2.250000 & 11.00000 &  7.000 & 53.00000 & 14.75000 & 13.000000 &  7.250000 &  72.50000 & 24.75000 & 0.50000000 & 2.000000 & 2.00000 & 0.2500000 & 0.50000000 &  77.0000 & 29.00000 & 0.5125000 & 0.25000000 & 0.750000 & 0.2500000 & 0.2500000 &  99.2500 & 49.00000 &  7 & 456.7500 & 0 & 0 & 0 & 0 & 0 & 1 & 0 &  1 & Orthodox & 190.50 & 190.50 & 205 & 0 & 1 & 0 & 13.33333 & 11.666667 &  6.666667 &  4.666667 & 69.66667 & 49.66667 &  4.000000 & 3.666667 & 55.66667 & 36.33333 & 0.6666667 & 11.333333 & 10.000000 & 0.0000000 & 0.3333333 &  80.33333 & 58.00000 & 0.6766667 & 0.0 & 0.6666667 & 0.3333333 & 0.3333333 &  90.66667 & 67.33333 & 1 & 1 &  9.00000 &  5.00000 &  4.666667 & 3.333333 &  46.66667 & 11.66667 & 7.666667 & 5.000000 &  44.33333 & 10.66667 & 0.6666667 &  5.666667 &  4.333333 & 3.0000000 & 0.0 &  59.0000 & 20.00000 & 0.3366667 & 1.0000000 & 4.000000 & 1.000000 & 0.2666667 &  74.66667 & 33.00000 &  6 & 498.0000 & 0 & 0 & 0 & 1 & 1 & 0 & 0 &  2 & Southpaw & 198.12 & 205.74 & 205 & 39 & 38 & Submission          \\\\\n",
       "\t2680 & Yves Edwards    & John Gunderson   & Kerry Hatley   & 2010-09-15 & Austin, Texas, USA                  & False & Lightweight       & 3 & 0 & 1 & 0 &  2.50000 & 2.500000 &  2.000000 & 0.500000 & 22.50000 &  4.000 & 20.0000 & 11.500000 & 40.00000 & 12.50 & 0.0000000 &  2.00000 & 1.000000 & 3.500000 & 0.00000000 & 44.50000 & 16.00000 & 0.2750000 & 2.0000000 & 4.50000 & 2.50000 & 0.7500000 &  83.5000 & 51.500 & 1 & 1 &  1.50000 &  0.500000 &  2.00000 &  0.500 & 14.50000 &  2.00000 & 14.000000 &  9.000000 &  25.50000 &  9.00000 & 0.00000000 & 3.500000 & 2.00000 & 7.0000000 & 0.50000000 &  30.5000 & 11.50000 & 0.2900000 & 3.50000000 & 4.000000 & 3.5000000 & 0.9250000 &  51.0000 & 30.00000 &  6 & 900.0000 & 0 & 0 & 0 & 1 & 0 & 0 & 0 &  1 & Orthodox & 175.26 & 175.26 & 155 & 2 & 0 & 0 &  5.10000 &  4.200000 &  7.900000 &  5.800000 & 27.60000 & 10.90000 &  7.400000 & 4.100000 & 31.30000 & 10.70000 & 0.5000000 &  6.500000 &  5.900000 & 1.3000000 & 0.4000000 &  42.90000 & 20.80000 & 0.5330000 & 0.8 & 0.4000000 & 0.2000000 & 0.1500000 &  61.50000 & 37.80000 & 6 & 4 &  3.40000 &  2.40000 &  5.000000 & 3.900000 &  23.50000 &  5.70000 & 7.100000 & 4.300000 &  27.60000 &  7.90000 & 0.0000000 &  4.600000 &  3.600000 & 1.4000000 & 0.6 &  35.6000 & 13.90000 & 0.3720000 & 0.8000000 & 6.300000 & 1.900000 & 0.2680000 &  62.80000 & 38.10000 & 23 & 624.4000 & 0 & 0 & 1 & 1 & 3 & 1 & 0 &  6 & Southpaw & 175.26 & 185.42 & 155 & 31 & 33 & Decision - Unanimous\\\\\n",
       "\t2681 & Robbie Lawler   & Rafael Dos Anjos & Herb Dean      & 2017-12-16 & Winnipeg, Manitoba, Canada          & False & Welterweight      & 5 & 0 & 2 & 0 & 12.04348 & 7.826087 &  7.521739 & 5.130435 & 74.08696 & 27.000 & 11.6087 &  7.304348 & 70.52174 & 23.00 & 0.2173913 & 10.65217 & 8.608696 & 1.608696 & 0.04347826 & 93.21739 & 39.43478 & 0.4395652 & 0.6086957 & 4.26087 & 1.73913 & 0.3013043 & 113.8261 & 58.000 & 5 & 7 & 10.86957 &  7.086957 &  5.73913 &  4.000 & 92.52174 & 29.86957 &  3.391304 &  2.217391 &  83.13043 & 22.26087 & 0.04347826 & 7.652174 & 6.73913 & 0.4782609 & 0.08695652 & 101.6522 & 36.08696 & 0.3395652 & 0.08695652 & 2.565217 & 0.8695652 & 0.2317391 & 114.9565 & 48.34783 & 59 & 702.7826 & 3 & 0 & 0 & 9 & 4 & 3 & 0 & 16 & Southpaw & 172.72 & 177.80 & 170 & 0 & 1 & 0 & 11.44444 &  9.222222 & 15.222222 & 10.277778 & 83.61111 & 34.22222 &  8.666667 & 5.388889 & 93.66667 & 38.77778 & 0.5000000 &  2.388889 &  1.888889 & 0.6111111 & 0.1666667 & 107.50000 & 49.88889 & 0.4605556 & 0.0 & 1.1666667 & 0.8888889 & 0.3611111 & 118.33333 & 60.38889 & 5 & 5 & 15.94444 & 10.44444 & 15.666667 & 9.888889 & 115.66667 & 41.05556 & 2.000000 & 1.166667 & 103.50000 & 30.83333 & 0.1111111 & 13.888889 & 10.833333 & 0.3888889 & 0.0 & 133.3333 & 52.11111 & 0.4144444 & 0.2777778 & 4.055556 & 1.166667 & 0.2677778 & 144.66667 & 62.77778 & 52 & 763.1111 & 5 & 0 & 3 & 4 & 6 & 0 & 0 & 13 & Southpaw & 180.34 & 187.96 & 170 & 33 & 35 & Decision - Unanimous\\\\\n",
       "\t2682 & Martin Kampmann & Drew McFedries   & Herb Dean      & 2007-03-03 & Columbus, Ohio, USA                 & False & Middleweight      & 3 & 0 & 1 & 0 &  7.00000 & 7.000000 &  8.000000 & 5.000000 & 34.00000 & 13.000 & 15.0000 & 12.000000 & 47.00000 & 21.00 & 1.0000000 &  3.00000 & 2.000000 & 1.000000 & 0.00000000 & 57.00000 & 30.00000 & 0.5200000 & 0.0000000 & 1.00000 & 1.00000 & 1.0000000 &  63.0000 & 36.000 & 1 & 0 &  6.00000 &  4.000000 & 25.00000 & 17.000 & 33.00000 & 15.00000 &  0.000000 &  0.000000 &  52.00000 & 28.00000 & 0.00000000 & 0.000000 & 0.00000 & 0.0000000 & 0.00000000 &  58.0000 & 32.00000 & 0.5500000 & 0.00000000 & 2.000000 & 0.0000000 & 0.0000000 &  59.0000 & 33.00000 &  1 & 247.0000 & 0 & 0 & 0 & 0 & 1 & 0 & 0 &  1 & Southpaw & 182.88 & 182.88 & 185 & 0 & 2 & 0 &  7.00000 &  7.000000 & 14.000000 & 10.500000 & 89.00000 & 41.00000 & 10.000000 & 8.500000 & 99.50000 & 46.50000 & 0.5000000 &  6.500000 &  6.500000 & 1.5000000 & 0.0000000 & 113.00000 & 60.00000 & 0.6150000 & 0.5 & 0.5000000 & 0.5000000 & 0.5000000 & 122.50000 & 68.50000 & 2 & 0 &  4.50000 &  3.50000 &  5.000000 & 3.500000 &  81.00000 & 18.50000 & 4.000000 & 1.500000 &  83.50000 & 18.50000 & 0.5000000 &  2.000000 &  1.500000 & 0.5000000 & 0.0 &  90.0000 & 23.50000 & 0.1850000 & 0.0000000 & 6.000000 & 0.500000 & 0.0400000 &  93.50000 & 27.00000 &  4 & 539.5000 & 0 & 0 & 0 & 1 & 0 & 1 & 0 &  2 & Orthodox & 182.88 & 182.88 & 170 & 28 & 24 & Submission          \\\\\n",
       "\t2683 & Dustin Hazelett & Joshua Burkman   & Josh Rosenthal & 2008-06-21 & Las Vegas, Nevada, USA              & False & Welterweight      & 3 & 1 & 0 & 0 &  4.50000 & 2.750000 & 15.125000 & 9.750000 & 35.12500 & 10.625 &  5.6250 &  3.625000 & 41.75000 & 12.25 & 0.2500000 &  9.62500 & 9.000000 & 0.625000 & 0.12500000 & 55.87500 & 24.00000 & 0.5262500 & 0.5000000 & 7.25000 & 2.62500 & 0.3925000 &  67.8750 & 35.125 & 2 & 3 & 11.00000 &  8.375000 & 17.25000 & 11.625 & 40.25000 & 14.25000 &  4.250000 &  2.375000 &  44.87500 & 14.75000 & 0.12500000 & 5.875000 & 5.12500 & 0.5000000 & 0.25000000 &  61.7500 & 28.25000 & 0.4187500 & 0.50000000 & 2.125000 & 0.8750000 & 0.2112500 &  89.1250 & 54.62500 & 19 & 648.1250 & 0 & 0 & 1 & 2 & 1 & 1 & 0 &  5 & Orthodox & 177.80 & 182.88 & 170 & 1 & 0 & 0 &  1.80000 &  1.600000 &  2.200000 &  1.600000 & 27.40000 & 10.40000 & 11.800000 & 5.600000 & 37.00000 & 14.20000 & 0.0000000 &  2.600000 &  1.800000 & 0.0000000 & 0.0000000 &  41.40000 & 17.60000 & 0.4340000 & 1.4 & 0.2000000 & 0.2000000 & 0.2000000 &  50.60000 & 26.20000 & 3 & 2 &  1.80000 &  1.40000 &  1.000000 & 0.400000 &  20.80000 &  7.40000 & 3.000000 & 2.200000 &  21.20000 &  7.20000 & 0.2000000 &  1.800000 &  1.400000 & 1.6000000 & 0.0 &  24.8000 & 10.00000 & 0.4160000 & 0.2000000 & 2.200000 & 1.400000 & 0.7000000 &  35.60000 & 20.60000 &  8 & 353.4000 & 0 & 0 & 0 & 1 & 0 & 2 & 0 &  3 & Orthodox & 185.42 & 193.04 & 170 & 28 & 22 & Submission          \\\\\n",
       "\t2684 & Kyle Noke       & Keita Nakamura   & Herb Dean      & 2016-07-13 & Sioux Falls, South Dakota, USA      & False & Welterweight      & 3 & 1 & 0 & 0 &  3.60000 & 2.400000 &  7.000000 & 4.600000 & 73.20000 & 22.600 &  5.0000 &  3.000000 & 80.60000 & 27.20 & 0.4000000 &  1.00000 & 0.600000 & 1.000000 & 0.40000000 & 85.20000 & 30.20000 & 0.3660000 & 0.6000000 & 3.00000 & 1.80000 & 0.5000000 & 118.0000 & 58.200 & 1 & 4 & 16.00000 & 12.600000 & 14.20000 & 10.200 & 90.80000 & 36.40000 & 23.400000 & 12.000000 & 103.60000 & 37.40000 & 0.20000000 & 8.800000 & 8.60000 & 1.2000000 & 0.20000000 & 128.4000 & 58.60000 & 0.4640000 & 0.20000000 & 5.200000 & 1.6000000 & 0.3300000 & 162.4000 & 87.80000 & 15 & 867.4000 & 0 & 0 & 0 & 0 & 0 & 1 & 0 &  1 & Southpaw & 180.34 & 185.42 & 170 & 1 & 0 & 0 &  9.50000 &  6.200000 &  3.600000 &  2.000000 & 40.90000 & 19.30000 & 12.600000 & 8.400000 & 36.20000 & 14.70000 & 0.3000000 & 11.400000 &  8.800000 & 1.6000000 & 0.1000000 &  57.10000 & 29.70000 & 0.5480000 & 0.4 & 1.8000000 & 0.9000000 & 0.2830000 &  65.70000 & 37.70000 & 3 & 4 &  3.90000 &  2.30000 &  4.000000 & 1.900000 &  33.80000 & 10.80000 & 5.000000 & 4.100000 &  36.00000 & 12.90000 & 0.1000000 &  2.900000 &  1.600000 & 0.8000000 & 0.1 &  42.8000 & 16.80000 & 0.3630000 & 0.6000000 & 2.400000 & 0.700000 & 0.2080000 &  68.30000 & 39.90000 & 20 & 500.1000 & 0 & 0 & 1 & 0 & 3 & 2 & 0 &  6 & Southpaw & 185.42 & 193.04 & 170 & 32 & 36 & Submission          \\\\\n",
       "\\end{tabular}\n"
      ],
      "text/markdown": [
       "\n",
       "A data.frame: 6 × 145\n",
       "\n",
       "| <!--/--> | R_fighter &lt;fct&gt; | B_fighter &lt;fct&gt; | Referee &lt;fct&gt; | date &lt;date&gt; | location &lt;fct&gt; | title_bout &lt;fct&gt; | weight_class &lt;fct&gt; | no_of_rounds &lt;int&gt; | B_current_lose_streak &lt;dbl&gt; | B_current_win_streak &lt;dbl&gt; | ... ... | R_win_by_Submission &lt;dbl&gt; | R_win_by_TKO_Doctor_Stoppage &lt;dbl&gt; | R_wins &lt;dbl&gt; | R_Stance &lt;fct&gt; | R_Height_cms &lt;dbl&gt; | R_Reach_cms &lt;dbl&gt; | R_Weight_lbs &lt;dbl&gt; | B_age &lt;dbl&gt; | R_age &lt;dbl&gt; | win_by &lt;fct&gt; |\n",
       "|---|---|---|---|---|---|---|---|---|---|---|---|---|---|---|---|---|---|---|---|---|---|\n",
       "| 2679 | Cyrille Diabate | Anthony Perosh   | Marc Goddard   | 2011-11-05 | Birmingham, England, United Kingdom | False | Light Heavyweight | 3 | 0 | 1 | ... | 0 | 0 |  2 | Southpaw | 198.12 | 205.74 | 205 | 39 | 38 | Submission           |\n",
       "| 2680 | Yves Edwards    | John Gunderson   | Kerry Hatley   | 2010-09-15 | Austin, Texas, USA                  | False | Lightweight       | 3 | 0 | 1 | ... | 1 | 0 |  6 | Southpaw | 175.26 | 185.42 | 155 | 31 | 33 | Decision - Unanimous |\n",
       "| 2681 | Robbie Lawler   | Rafael Dos Anjos | Herb Dean      | 2017-12-16 | Winnipeg, Manitoba, Canada          | False | Welterweight      | 5 | 0 | 2 | ... | 0 | 0 | 13 | Southpaw | 180.34 | 187.96 | 170 | 33 | 35 | Decision - Unanimous |\n",
       "| 2682 | Martin Kampmann | Drew McFedries   | Herb Dean      | 2007-03-03 | Columbus, Ohio, USA                 | False | Middleweight      | 3 | 0 | 1 | ... | 1 | 0 |  2 | Orthodox | 182.88 | 182.88 | 170 | 28 | 24 | Submission           |\n",
       "| 2683 | Dustin Hazelett | Joshua Burkman   | Josh Rosenthal | 2008-06-21 | Las Vegas, Nevada, USA              | False | Welterweight      | 3 | 1 | 0 | ... | 2 | 0 |  3 | Orthodox | 185.42 | 193.04 | 170 | 28 | 22 | Submission           |\n",
       "| 2684 | Kyle Noke       | Keita Nakamura   | Herb Dean      | 2016-07-13 | Sioux Falls, South Dakota, USA      | False | Welterweight      | 3 | 1 | 0 | ... | 2 | 0 |  6 | Southpaw | 185.42 | 193.04 | 170 | 32 | 36 | Submission           |\n",
       "\n"
      ],
      "text/plain": [
       "     R_fighter       B_fighter        Referee        date      \n",
       "2679 Cyrille Diabate Anthony Perosh   Marc Goddard   2011-11-05\n",
       "2680 Yves Edwards    John Gunderson   Kerry Hatley   2010-09-15\n",
       "2681 Robbie Lawler   Rafael Dos Anjos Herb Dean      2017-12-16\n",
       "2682 Martin Kampmann Drew McFedries   Herb Dean      2007-03-03\n",
       "2683 Dustin Hazelett Joshua Burkman   Josh Rosenthal 2008-06-21\n",
       "2684 Kyle Noke       Keita Nakamura   Herb Dean      2016-07-13\n",
       "     location                            title_bout weight_class     \n",
       "2679 Birmingham, England, United Kingdom False      Light Heavyweight\n",
       "2680 Austin, Texas, USA                  False      Lightweight      \n",
       "2681 Winnipeg, Manitoba, Canada          False      Welterweight     \n",
       "2682 Columbus, Ohio, USA                 False      Middleweight     \n",
       "2683 Las Vegas, Nevada, USA              False      Welterweight     \n",
       "2684 Sioux Falls, South Dakota, USA      False      Welterweight     \n",
       "     no_of_rounds B_current_lose_streak B_current_win_streak ...\n",
       "2679 3            0                     1                    ...\n",
       "2680 3            0                     1                    ...\n",
       "2681 5            0                     2                    ...\n",
       "2682 3            0                     1                    ...\n",
       "2683 3            1                     0                    ...\n",
       "2684 3            1                     0                    ...\n",
       "     R_win_by_Submission R_win_by_TKO_Doctor_Stoppage R_wins R_Stance\n",
       "2679 0                   0                             2     Southpaw\n",
       "2680 1                   0                             6     Southpaw\n",
       "2681 0                   0                            13     Southpaw\n",
       "2682 1                   0                             2     Orthodox\n",
       "2683 2                   0                             3     Orthodox\n",
       "2684 2                   0                             6     Southpaw\n",
       "     R_Height_cms R_Reach_cms R_Weight_lbs B_age R_age win_by              \n",
       "2679 198.12       205.74      205          39    38    Submission          \n",
       "2680 175.26       185.42      155          31    33    Decision - Unanimous\n",
       "2681 180.34       187.96      170          33    35    Decision - Unanimous\n",
       "2682 182.88       182.88      170          28    24    Submission          \n",
       "2683 185.42       193.04      170          28    22    Submission          \n",
       "2684 185.42       193.04      170          32    36    Submission          "
      ]
     },
     "metadata": {},
     "output_type": "display_data"
    }
   ],
   "source": [
    "# We need the 'win by' column from the read_fight data because our current win data doesn't have this column to answer our research question\n",
    "# as we need to filter by the fights that went to judges' decision.\n",
    "\n",
    "# import the new data file from the same source as our original\n",
    "read_fight <- read.csv(\"https://raw.githubusercontent.com/SamEdwardes/ufc-data/master/raw_total_fight_data.csv\", \n",
    "                       header = TRUE, sep = \";\") %>% \n",
    "        mutate(date = mdy(date)) %>%\n",
    "        select(\"R_fighter\", \"B_fighter\", \"win_by\", \"date\")\n",
    "\n",
    "# reformat the date on the initial data to be able to left join on date and fighter\n",
    "\n",
    "X_train <- X_train %>%\n",
    "        mutate(date = ymd(date))\n",
    "# merge together the old and new dataframes\n",
    "X_train <- left_join(X_train, read_fight, by = c(\"R_fighter\", \"B_fighter\", \"date\"))\n",
    "\n",
    "# We need to do the same to our test data\n",
    "X_test <- X_test %>%\n",
    "        mutate(date = ymd(date))\n",
    "# merge together the old and new dataframes\n",
    "X_test <- left_join(X_test, read_fight, by = c(\"R_fighter\", \"B_fighter\", \"date\"))\n",
    "\n",
    "tail(X_train)"
   ]
  },
  {
   "cell_type": "code",
   "execution_count": 190,
   "metadata": {},
   "outputs": [
    {
     "data": {
      "text/html": [
       "2684"
      ],
      "text/latex": [
       "2684"
      ],
      "text/markdown": [
       "2684"
      ],
      "text/plain": [
       "[1] 2684"
      ]
     },
     "metadata": {},
     "output_type": "display_data"
    }
   ],
   "source": [
    "nrow(X_train)"
   ]
  },
  {
   "cell_type": "markdown",
   "metadata": {},
   "source": [
    "> **Observations:**\n",
    "\n",
    "The win by column was able to join to our data with the correct win by column. The values were what I expected for the column win by. There is no null values which means everything mapped. The nrows match our initial number of rows of 2,693 on the data after we dropped NAs."
   ]
  },
  {
   "cell_type": "code",
   "execution_count": 191,
   "metadata": {},
   "outputs": [
    {
     "data": {
      "text/html": [
       "<ol class=list-inline>\n",
       "\t<li>KO/TKO</li>\n",
       "\t<li>Decision - Unanimous</li>\n",
       "\t<li>Submission</li>\n",
       "\t<li>Decision - Split</li>\n",
       "\t<li>Overturned</li>\n",
       "\t<li>TKO - Doctor's Stoppage</li>\n",
       "\t<li>Decision - Majority</li>\n",
       "\t<li>Could Not Continue</li>\n",
       "\t<li>DQ</li>\n",
       "</ol>\n",
       "\n",
       "<details>\n",
       "\t<summary style=display:list-item;cursor:pointer>\n",
       "\t\t<strong>Levels</strong>:\n",
       "\t</summary>\n",
       "\t<ol class=list-inline>\n",
       "\t\t<li>'Could Not Continue'</li>\n",
       "\t\t<li>'Decision - Majority'</li>\n",
       "\t\t<li>'Decision - Split'</li>\n",
       "\t\t<li>'Decision - Unanimous'</li>\n",
       "\t\t<li>'DQ'</li>\n",
       "\t\t<li>'KO/TKO'</li>\n",
       "\t\t<li>'Other'</li>\n",
       "\t\t<li>'Overturned'</li>\n",
       "\t\t<li>'Submission'</li>\n",
       "\t\t<li>'TKO - Doctor\\'s Stoppage'</li>\n",
       "\t</ol>\n",
       "</details>"
      ],
      "text/latex": [
       "\\begin{enumerate*}\n",
       "\\item KO/TKO\n",
       "\\item Decision - Unanimous\n",
       "\\item Submission\n",
       "\\item Decision - Split\n",
       "\\item Overturned\n",
       "\\item TKO - Doctor's Stoppage\n",
       "\\item Decision - Majority\n",
       "\\item Could Not Continue\n",
       "\\item DQ\n",
       "\\end{enumerate*}\n",
       "\n",
       "\\emph{Levels}: \\begin{enumerate*}\n",
       "\\item 'Could Not Continue'\n",
       "\\item 'Decision - Majority'\n",
       "\\item 'Decision - Split'\n",
       "\\item 'Decision - Unanimous'\n",
       "\\item 'DQ'\n",
       "\\item 'KO/TKO'\n",
       "\\item 'Other'\n",
       "\\item 'Overturned'\n",
       "\\item 'Submission'\n",
       "\\item 'TKO - Doctor\\textbackslash{}'s Stoppage'\n",
       "\\end{enumerate*}\n"
      ],
      "text/markdown": [
       "1. KO/TKO\n",
       "2. Decision - Unanimous\n",
       "3. Submission\n",
       "4. Decision - Split\n",
       "5. Overturned\n",
       "6. TKO - Doctor's Stoppage\n",
       "7. Decision - Majority\n",
       "8. Could Not Continue\n",
       "9. DQ\n",
       "\n",
       "\n",
       "\n",
       "**Levels**: 1. 'Could Not Continue'\n",
       "2. 'Decision - Majority'\n",
       "3. 'Decision - Split'\n",
       "4. 'Decision - Unanimous'\n",
       "5. 'DQ'\n",
       "6. 'KO/TKO'\n",
       "7. 'Other'\n",
       "8. 'Overturned'\n",
       "9. 'Submission'\n",
       "10. 'TKO - Doctor\\'s Stoppage'\n",
       "\n",
       "\n"
      ],
      "text/plain": [
       "[1] KO/TKO                  Decision - Unanimous    Submission             \n",
       "[4] Decision - Split        Overturned              TKO - Doctor's Stoppage\n",
       "[7] Decision - Majority     Could Not Continue      DQ                     \n",
       "10 Levels: Could Not Continue Decision - Majority ... TKO - Doctor's Stoppage"
      ]
     },
     "metadata": {},
     "output_type": "display_data"
    }
   ],
   "source": [
    "# Find the different values we need to answer the question we have. Since we are only looking at judge's choice, we can only keep decsions. \n",
    "unique(X_train$win_by)"
   ]
  },
  {
   "cell_type": "markdown",
   "metadata": {},
   "source": [
    "### Extra Wrangling"
   ]
  },
  {
   "cell_type": "code",
   "execution_count": 192,
   "metadata": {},
   "outputs": [],
   "source": [
    "# removed the columns that are not important to our question and columns that have no values\n",
    "X_train <- X_train %>% \n",
    "    select(-c(\"date\", \"Referee\", \"title_bout\", \"weight_class\", \"no_of_rounds\", \n",
    "              \"location\", \"B_win_by_TKO_Doctor_Stoppage\", \"B_win_by_Submission\", \"B_win_by_KO.TKO\", \n",
    "              \"R_win_by_TKO_Doctor_Stoppage\", \"R_win_by_Submission\", \"R_win_by_KO.TKO\", \n",
    "              \"R_win_by_Submission\", \"R_win_by_KO.TKO\", \n",
    "              \"R_win_by_TKO_Doctor_Stoppage\", \"R_win_by_Submission\", \"R_win_by_KO.TKO\", \"B_draw\", \"R_draw\", \n",
    "              \"B_current_lose_streak\", \"B_current_win_streak\", \"R_current_lose_streak\", \"R_current_win_streak\",\n",
    "             \"B_longest_win_streak\", \"B_losses\", \"B_total_rounds_fought\", \"B_total_time_fought.seconds.\", \"B_total_title_bouts\",\n",
    "             \"B_win_by_Decision_Majority\", \"B_win_by_Decision_Unanimous\", \"B_win_by_Decision_Split\", \"B_wins\", \"B_Stance\",\n",
    "             \"R_longest_win_streak\", \"R_losses\", \"B_total_rounds_fought\", \"R_total_time_fought.seconds.\", \"R_total_title_bouts\",\n",
    "             \"R_win_by_Decision_Majority\", \"R_win_by_Decision_Unanimous\", \"R_win_by_Decision_Split\", \"R_wins\", \"R_Stance\", \n",
    "              \"R_total_rounds_fought\"))"
   ]
  },
  {
   "cell_type": "code",
   "execution_count": 193,
   "metadata": {},
   "outputs": [],
   "source": [
    "# filter the data by matches that ended in a decision\n",
    "X_train <- X_train %>%\n",
    "    filter(win_by == \"Decision - Split\" | win_by ==  \"Decision - Unanimous\" | win_by ==  \"Decision - Majority\")"
   ]
  },
  {
   "cell_type": "code",
   "execution_count": 194,
   "metadata": {},
   "outputs": [
    {
     "data": {
      "text/html": [
       "<table>\n",
       "<caption>A data.frame: 1 × 6</caption>\n",
       "<thead>\n",
       "\t<tr><th scope=col>R_fighter</th><th scope=col>B_fighter</th><th scope=col>R_avg_BODY_att</th><th scope=col>B_avg_BODY_att</th><th scope=col>R_avg_opp_BODY_att</th><th scope=col>B_avg_opp_BODY_att</th></tr>\n",
       "\t<tr><th scope=col>&lt;fct&gt;</th><th scope=col>&lt;fct&gt;</th><th scope=col>&lt;dbl&gt;</th><th scope=col>&lt;dbl&gt;</th><th scope=col>&lt;dbl&gt;</th><th scope=col>&lt;dbl&gt;</th></tr>\n",
       "</thead>\n",
       "<tbody>\n",
       "\t<tr><td>Zak Cummings</td><td>Michel Prazeres</td><td>7.125</td><td>9.5</td><td>6.375</td><td>10.9</td></tr>\n",
       "</tbody>\n",
       "</table>\n"
      ],
      "text/latex": [
       "A data.frame: 1 × 6\n",
       "\\begin{tabular}{r|llllll}\n",
       " R\\_fighter & B\\_fighter & R\\_avg\\_BODY\\_att & B\\_avg\\_BODY\\_att & R\\_avg\\_opp\\_BODY\\_att & B\\_avg\\_opp\\_BODY\\_att\\\\\n",
       " <fct> & <fct> & <dbl> & <dbl> & <dbl> & <dbl>\\\\\n",
       "\\hline\n",
       "\t Zak Cummings & Michel Prazeres & 7.125 & 9.5 & 6.375 & 10.9\\\\\n",
       "\\end{tabular}\n"
      ],
      "text/markdown": [
       "\n",
       "A data.frame: 1 × 6\n",
       "\n",
       "| R_fighter &lt;fct&gt; | B_fighter &lt;fct&gt; | R_avg_BODY_att &lt;dbl&gt; | B_avg_BODY_att &lt;dbl&gt; | R_avg_opp_BODY_att &lt;dbl&gt; | B_avg_opp_BODY_att &lt;dbl&gt; |\n",
       "|---|---|---|---|---|---|\n",
       "| Zak Cummings | Michel Prazeres | 7.125 | 9.5 | 6.375 | 10.9 |\n",
       "\n"
      ],
      "text/plain": [
       "  R_fighter    B_fighter       R_avg_BODY_att B_avg_BODY_att R_avg_opp_BODY_att\n",
       "1 Zak Cummings Michel Prazeres 7.125          9.5            6.375             \n",
       "  B_avg_opp_BODY_att\n",
       "1 10.9              "
      ]
     },
     "metadata": {},
     "output_type": "display_data"
    }
   ],
   "source": [
    "# 5. Compare when a fighter is in the R_fighter and B_fighter columns to see are unique values for each appearence. For example, if a \n",
    "# fighter shows up in the red column for a fight they will not show up in the blue column for the same fight. \n",
    "\n",
    "X_train %>%\n",
    "    filter(R_fighter == \"Zak Cummings\") %>%\n",
    "    select(R_fighter, B_fighter, R_avg_BODY_att, B_avg_BODY_att, R_avg_opp_BODY_att, B_avg_opp_BODY_att)"
   ]
  },
  {
   "cell_type": "code",
   "execution_count": 195,
   "metadata": {},
   "outputs": [
    {
     "data": {
      "text/html": [
       "<table>\n",
       "<caption>A data.frame: 4 × 6</caption>\n",
       "<thead>\n",
       "\t<tr><th scope=col>R_fighter</th><th scope=col>B_fighter</th><th scope=col>R_avg_BODY_att</th><th scope=col>B_avg_BODY_att</th><th scope=col>R_avg_opp_BODY_att</th><th scope=col>B_avg_opp_BODY_att</th></tr>\n",
       "\t<tr><th scope=col>&lt;fct&gt;</th><th scope=col>&lt;fct&gt;</th><th scope=col>&lt;dbl&gt;</th><th scope=col>&lt;dbl&gt;</th><th scope=col>&lt;dbl&gt;</th><th scope=col>&lt;dbl&gt;</th></tr>\n",
       "</thead>\n",
       "<tbody>\n",
       "\t<tr><td>Santiago Ponzinibbio</td><td>Zak Cummings</td><td>10.0</td><td>7.200000</td><td>11.16667</td><td>7.000000</td></tr>\n",
       "\t<tr><td>Nicolas Dalby       </td><td>Zak Cummings</td><td>19.0</td><td>4.250000</td><td>17.50000</td><td>2.750000</td></tr>\n",
       "\t<tr><td>Trevor Smith        </td><td>Zak Cummings</td><td>13.8</td><td>8.666667</td><td>13.70000</td><td>6.444444</td></tr>\n",
       "\t<tr><td>Yan Cabral          </td><td>Zak Cummings</td><td> 0.0</td><td>0.000000</td><td> 1.00000</td><td>6.000000</td></tr>\n",
       "</tbody>\n",
       "</table>\n"
      ],
      "text/latex": [
       "A data.frame: 4 × 6\n",
       "\\begin{tabular}{r|llllll}\n",
       " R\\_fighter & B\\_fighter & R\\_avg\\_BODY\\_att & B\\_avg\\_BODY\\_att & R\\_avg\\_opp\\_BODY\\_att & B\\_avg\\_opp\\_BODY\\_att\\\\\n",
       " <fct> & <fct> & <dbl> & <dbl> & <dbl> & <dbl>\\\\\n",
       "\\hline\n",
       "\t Santiago Ponzinibbio & Zak Cummings & 10.0 & 7.200000 & 11.16667 & 7.000000\\\\\n",
       "\t Nicolas Dalby        & Zak Cummings & 19.0 & 4.250000 & 17.50000 & 2.750000\\\\\n",
       "\t Trevor Smith         & Zak Cummings & 13.8 & 8.666667 & 13.70000 & 6.444444\\\\\n",
       "\t Yan Cabral           & Zak Cummings &  0.0 & 0.000000 &  1.00000 & 6.000000\\\\\n",
       "\\end{tabular}\n"
      ],
      "text/markdown": [
       "\n",
       "A data.frame: 4 × 6\n",
       "\n",
       "| R_fighter &lt;fct&gt; | B_fighter &lt;fct&gt; | R_avg_BODY_att &lt;dbl&gt; | B_avg_BODY_att &lt;dbl&gt; | R_avg_opp_BODY_att &lt;dbl&gt; | B_avg_opp_BODY_att &lt;dbl&gt; |\n",
       "|---|---|---|---|---|---|\n",
       "| Santiago Ponzinibbio | Zak Cummings | 10.0 | 7.200000 | 11.16667 | 7.000000 |\n",
       "| Nicolas Dalby        | Zak Cummings | 19.0 | 4.250000 | 17.50000 | 2.750000 |\n",
       "| Trevor Smith         | Zak Cummings | 13.8 | 8.666667 | 13.70000 | 6.444444 |\n",
       "| Yan Cabral           | Zak Cummings |  0.0 | 0.000000 |  1.00000 | 6.000000 |\n",
       "\n"
      ],
      "text/plain": [
       "  R_fighter            B_fighter    R_avg_BODY_att B_avg_BODY_att\n",
       "1 Santiago Ponzinibbio Zak Cummings 10.0           7.200000      \n",
       "2 Nicolas Dalby        Zak Cummings 19.0           4.250000      \n",
       "3 Trevor Smith         Zak Cummings 13.8           8.666667      \n",
       "4 Yan Cabral           Zak Cummings  0.0           0.000000      \n",
       "  R_avg_opp_BODY_att B_avg_opp_BODY_att\n",
       "1 11.16667           7.000000          \n",
       "2 17.50000           2.750000          \n",
       "3 13.70000           6.444444          \n",
       "4  1.00000           6.000000          "
      ]
     },
     "metadata": {},
     "output_type": "display_data"
    }
   ],
   "source": [
    "X_train %>%\n",
    "    filter(B_fighter == \"Zak Cummings\") %>%\n",
    "    select(R_fighter, B_fighter, R_avg_BODY_att, B_avg_BODY_att, R_avg_opp_BODY_att, B_avg_opp_BODY_att)"
   ]
  },
  {
   "cell_type": "markdown",
   "metadata": {},
   "source": [
    "**Observations**\n",
    "\n",
    "- Each fight is unique which means each row has unique data. \n",
    "- The values for the same stat across R_avg, B_avg, R_avg_opp, B_avg_opp are all reporting unique values. This shows that these columns do not duplicate."
   ]
  },
  {
   "cell_type": "markdown",
   "metadata": {},
   "source": [
    "### 6. Validate with at least one external data source"
   ]
  },
  {
   "cell_type": "code",
   "execution_count": 196,
   "metadata": {},
   "outputs": [],
   "source": [
    "# put X_train and y_train together\n",
    "train <- read_data[split_data,]\n",
    "train <-train %>%\n",
    "        mutate(date = ymd(date))\n",
    "train <- left_join(train, read_fight, by = c(\"R_fighter\", \"B_fighter\", \"date\"))\n",
    "train <- train %>% \n",
    "    select(-c(\"date\", \"Referee\", \"title_bout\", \"weight_class\", \"no_of_rounds\", \n",
    "              \"location\", \"B_win_by_TKO_Doctor_Stoppage\", \"B_win_by_Submission\", \"B_win_by_KO.TKO\", \n",
    "              \"R_win_by_TKO_Doctor_Stoppage\", \"R_win_by_Submission\", \"R_win_by_KO.TKO\", \n",
    "              \"R_win_by_Submission\", \"R_win_by_KO.TKO\", \n",
    "              \"R_win_by_TKO_Doctor_Stoppage\", \"R_win_by_Submission\", \"R_win_by_KO.TKO\", \"B_draw\", \"R_draw\", \n",
    "              \"B_current_lose_streak\", \"B_current_win_streak\", \"R_current_lose_streak\", \"R_current_win_streak\",\n",
    "             \"B_longest_win_streak\", \"B_losses\", \"B_total_rounds_fought\", \"B_total_time_fought.seconds.\", \"B_total_title_bouts\",\n",
    "             \"B_win_by_Decision_Majority\", \"B_win_by_Decision_Unanimous\", \"B_win_by_Decision_Split\", \"B_wins\", \"B_Stance\",\n",
    "             \"R_longest_win_streak\", \"R_losses\", \"B_total_rounds_fought\", \"R_total_time_fought.seconds.\", \"R_total_title_bouts\",\n",
    "             \"R_win_by_Decision_Majority\", \"R_win_by_Decision_Unanimous\", \"R_win_by_Decision_Split\", \"R_wins\", \"R_Stance\", \n",
    "              \"R_total_rounds_fought\"))\n",
    "train <- train %>%\n",
    "    filter(win_by == \"Decision - Split\" | win_by ==  \"Decision - Unanimous\" | win_by ==  \"Decision - Majority\")"
   ]
  },
  {
   "cell_type": "code",
   "execution_count": 198,
   "metadata": {},
   "outputs": [
    {
     "data": {
      "text/html": [
       "<table>\n",
       "<caption>A data.frame: 1 × 5</caption>\n",
       "<thead>\n",
       "\t<tr><th scope=col>R_Height_cms</th><th scope=col>R_Reach_cms</th><th scope=col>R_Weight_lbs</th><th scope=col>Winner</th><th scope=col>win_by</th></tr>\n",
       "\t<tr><th scope=col>&lt;dbl&gt;</th><th scope=col>&lt;dbl&gt;</th><th scope=col>&lt;dbl&gt;</th><th scope=col>&lt;fct&gt;</th><th scope=col>&lt;fct&gt;</th></tr>\n",
       "</thead>\n",
       "<tbody>\n",
       "\t<tr><td>175.26</td><td>177.8</td><td>135</td><td>Blue</td><td>Decision - Unanimous</td></tr>\n",
       "</tbody>\n",
       "</table>\n"
      ],
      "text/latex": [
       "A data.frame: 1 × 5\n",
       "\\begin{tabular}{r|lllll}\n",
       " R\\_Height\\_cms & R\\_Reach\\_cms & R\\_Weight\\_lbs & Winner & win\\_by\\\\\n",
       " <dbl> & <dbl> & <dbl> & <fct> & <fct>\\\\\n",
       "\\hline\n",
       "\t 175.26 & 177.8 & 135 & Blue & Decision - Unanimous\\\\\n",
       "\\end{tabular}\n"
      ],
      "text/markdown": [
       "\n",
       "A data.frame: 1 × 5\n",
       "\n",
       "| R_Height_cms &lt;dbl&gt; | R_Reach_cms &lt;dbl&gt; | R_Weight_lbs &lt;dbl&gt; | Winner &lt;fct&gt; | win_by &lt;fct&gt; |\n",
       "|---|---|---|---|---|\n",
       "| 175.26 | 177.8 | 135 | Blue | Decision - Unanimous |\n",
       "\n"
      ],
      "text/plain": [
       "  R_Height_cms R_Reach_cms R_Weight_lbs Winner win_by              \n",
       "1 175.26       177.8       135          Blue   Decision - Unanimous"
      ]
     },
     "metadata": {},
     "output_type": "display_data"
    }
   ],
   "source": [
    "# 6. Validate with at least one external data source\n",
    "train %>%\n",
    "    filter(R_fighter == \"Aaron Phillips\") %>%\n",
    "    select(c(R_Height_cms, R_Reach_cms, R_Weight_lbs, Winner, win_by))"
   ]
  },
  {
   "cell_type": "markdown",
   "metadata": {},
   "source": [
    "**Observations:**\n",
    "- Verified the Aaron Philips and Matt Hobar match happened ended in an Unanimous Decsion with Hobar winning [Source: Tapout]((https://www.tapology.com/fightcenter/bouts/146806-ufc-fight-night-49-matt-the-crowbar-hobar-vs-aaron-the-model-phillips). The characteristics for the match including the location and date are the same."
   ]
  },
  {
   "cell_type": "code",
   "execution_count": 199,
   "metadata": {},
   "outputs": [
    {
     "data": {
      "image/png": "[encoded data removed]",
      "text/plain": [
       "plot without title"
      ]
     },
     "metadata": {
      "image/png": {
       "height": 420,
       "width": 420
      },
      "text/plain": {
       "height": 420,
       "width": 420
      }
     },
     "output_type": "display_data"
    }
   ],
   "source": [
    "# 7/8 Make a plot/ easy solution\n",
    "\n",
    "strike_scatterplot <- train %>% ggplot(aes(R_avg_SIG_STR_landed, B_avg_SIG_STR_landed, color=Winner)) +\n",
    "    geom_point(alpha=0.6) + \n",
    "    labs(title=\"Strikes Landed by Side\", x = \"Red Strikes Landed\", y = \"Blue Strikes Landed\") +\n",
    "    scale_color_manual(values = c(\"blue\", \"#56ddc5\", \"red\"))\n",
    "\n",
    "strike_scatterplot"
   ]
  },
  {
   "cell_type": "markdown",
   "metadata": {},
   "source": [
    "**Observations**\n",
    "\n",
    "One of the first thoughts was that strikes would decide the outcome. I plotted the number of strikes landed from Red versus Blue and plotted with the colour of the winner. Surprisingly, there doesn't seem to be a correlation with the number and strikes and winner. This also validates that the spread of values is reasonable for the columns.    "
   ]
  },
  {
   "cell_type": "markdown",
   "metadata": {},
   "source": [
    "### 8. Easy Solution/ 7. Make a Plot\n",
    "#### The all the stats together at an equal value will predict a winner"
   ]
  },
  {
   "cell_type": "code",
   "execution_count": 200,
   "metadata": {},
   "outputs": [
    {
     "data": {
      "text/plain": [
       " B_avg_BODY_att    B_avg_BODY_landed B_avg_CLINCH_att  B_avg_CLINCH_landed\n",
       " Min.   :-1.3488   Min.   :-1.3233   Min.   :-1.1781   Min.   :-1.1024    \n",
       " 1st Qu.:-0.7440   1st Qu.:-0.7462   1st Qu.:-0.6527   1st Qu.:-0.7022    \n",
       " Median :-0.2352   Median :-0.2653   Median :-0.2433   Median :-0.2343    \n",
       " Mean   : 0.0000   Mean   : 0.0000   Mean   : 0.0000   Mean   : 0.0000    \n",
       " 3rd Qu.: 0.5327   3rd Qu.: 0.5362   3rd Qu.: 0.4243   3rd Qu.: 0.3824    \n",
       " Max.   : 5.1021   Max.   : 5.5054   Max.   : 6.9674   Max.   : 8.1332    \n",
       " B_avg_DISTANCE_att B_avg_DISTANCE_landed B_avg_GROUND_att  B_avg_GROUND_landed\n",
       " Min.   :-1.4449    Min.   :-1.3642       Min.   :-1.0561   Min.   :-1.0441    \n",
       " 1st Qu.:-0.7524    1st Qu.:-0.7381       1st Qu.:-0.7399   1st Qu.:-0.7135    \n",
       " Median :-0.2286    Median :-0.2562       Median :-0.2261   Median :-0.2536    \n",
       " Mean   : 0.0000    Mean   : 0.0000       Mean   : 0.0000   Mean   : 0.0000    \n",
       " 3rd Qu.: 0.5380    3rd Qu.: 0.5141       3rd Qu.: 0.4260   3rd Qu.: 0.4051    \n",
       " Max.   : 4.8634    Max.   : 4.6951       Max.   : 6.5915   Max.   : 5.6309    \n",
       " B_avg_HEAD_att    B_avg_HEAD_landed    B_avg_KD       B_avg_LEG_att    \n",
       " Min.   :-1.6755   Min.   :-1.6479   Min.   :-0.7515   Min.   :-1.1507  \n",
       " 1st Qu.:-0.6932   1st Qu.:-0.6818   1st Qu.:-0.7515   1st Qu.:-0.7550  \n",
       " Median :-0.1518   Median :-0.1616   Median :-0.3110   Median :-0.2462  \n",
       " Mean   : 0.0000   Mean   : 0.0000   Mean   : 0.0000   Mean   : 0.0000  \n",
       " 3rd Qu.: 0.5203   3rd Qu.: 0.4813   3rd Qu.: 0.4819   3rd Qu.: 0.4212  \n",
       " Max.   : 5.1617   Max.   : 5.4118   Max.   : 8.4986   Max.   : 5.4641  \n",
       " B_avg_LEG_landed    B_avg_PASS        B_avg_REV       B_avg_SIG_STR_att\n",
       " Min.   :-1.1660   Min.   :-0.9141   Min.   :-0.5468   Min.   :-1.7641  \n",
       " 1st Qu.:-0.7319   1st Qu.:-0.7469   1st Qu.:-0.5468   1st Qu.:-0.7030  \n",
       " Median :-0.2387   Median :-0.2453   Median :-0.5468   Median :-0.1772  \n",
       " Mean   : 0.0000   Mean   : 0.0000   Mean   : 0.0000   Mean   : 0.0000  \n",
       " 3rd Qu.: 0.3930   3rd Qu.: 0.4235   3rd Qu.: 0.2244   3rd Qu.: 0.5460  \n",
       " Max.   : 5.4630   Max.   : 7.7802   Max.   : 8.7068   Max.   : 4.5584  \n",
       " B_avg_SIG_STR_landed B_avg_SIG_STR_pct  B_avg_SUB_ATT      B_avg_TD_att    \n",
       " Min.   :-1.8300      Min.   :-4.09078   Min.   :-0.7648   Min.   :-1.0953  \n",
       " 1st Qu.:-0.7137      1st Qu.:-0.60097   1st Qu.:-0.7648   1st Qu.:-0.7434  \n",
       " Median :-0.1467      Median :-0.01178   Median :-0.2782   Median :-0.2743  \n",
       " Mean   : 0.0000      Mean   : 0.00000   Mean   : 0.0000   Mean   : 0.0000  \n",
       " 3rd Qu.: 0.5510      3rd Qu.: 0.53208   3rd Qu.: 0.4031   3rd Qu.: 0.5007  \n",
       " Max.   : 4.6019      Max.   : 4.97365   Max.   : 7.9949   Max.   : 5.5901  \n",
       " B_avg_TD_landed    B_avg_TD_pct      B_avg_TOTAL_STR_att\n",
       " Min.   :-0.9841   Min.   :-1.32496   Min.   :-2.0664    \n",
       " 1st Qu.:-0.7353   1st Qu.:-0.78656   1st Qu.:-0.6774    \n",
       " Median :-0.2377   Median :-0.02728   Median :-0.0906    \n",
       " Mean   : 0.0000   Mean   : 0.00000   Mean   : 0.0000    \n",
       " 3rd Qu.: 0.5087   3rd Qu.: 0.72347   3rd Qu.: 0.5717    \n",
       " Max.   : 6.4802   Max.   : 2.81656   Max.   : 3.8072    \n",
       " B_avg_TOTAL_STR_landed  B_Height_cms       B_Reach_cms       B_Weight_lbs    \n",
       " Min.   :-1.9697        Min.   :-2.96433   Min.   :-2.9665   Min.   :-1.5892  \n",
       " 1st Qu.:-0.6589        1st Qu.:-0.57099   1st Qu.:-0.6659   1st Qu.:-0.6052  \n",
       " Median :-0.1168        Median : 0.02735   Median : 0.1010   Median :-0.2772  \n",
       " Mean   : 0.0000        Mean   : 0.00000   Mean   : 0.0000   Mean   : 0.0000  \n",
       " 3rd Qu.: 0.5594        3rd Qu.: 0.62568   3rd Qu.: 0.6122   3rd Qu.: 0.7069  \n",
       " Max.   : 6.1092        Max.   : 3.91652   Max.   : 3.1684   Max.   : 3.3310  \n",
       "     B_age        \n",
       " Min.   :-2.4734  \n",
       " 1st Qu.:-0.6345  \n",
       " Median :-0.1091  \n",
       " Mean   : 0.0000  \n",
       " 3rd Qu.: 0.6791  \n",
       " Max.   : 4.3570  "
      ]
     },
     "metadata": {},
     "output_type": "display_data"
    }
   ],
   "source": [
    "# Extract the stats for each match and the winner\n",
    "numer_values <- data.frame(scale(train[4:107]), train[108], train[3])\n",
    "\n",
    "B_value <- numer_values %>%\n",
    "    select(., starts_with(\"B\")) %>%\n",
    "    select(., -contains(\"opp\"))\n",
    "\n",
    "summary(B_value)"
   ]
  },
  {
   "cell_type": "code",
   "execution_count": 201,
   "metadata": {},
   "outputs": [
    {
     "data": {
      "text/html": [
       "<table>\n",
       "<caption>A data.frame: 6 × 108</caption>\n",
       "<thead>\n",
       "\t<tr><th scope=col>B_avg_BODY_att</th><th scope=col>B_avg_BODY_landed</th><th scope=col>B_avg_CLINCH_att</th><th scope=col>B_avg_CLINCH_landed</th><th scope=col>B_avg_DISTANCE_att</th><th scope=col>B_avg_DISTANCE_landed</th><th scope=col>B_avg_GROUND_att</th><th scope=col>B_avg_GROUND_landed</th><th scope=col>B_avg_HEAD_att</th><th scope=col>B_avg_HEAD_landed</th><th scope=col>...</th><th scope=col>R_avg_opp_TOTAL_STR_landed</th><th scope=col>R_Height_cms</th><th scope=col>R_Reach_cms</th><th scope=col>R_Weight_lbs</th><th scope=col>B_age</th><th scope=col>R_age</th><th scope=col>win_by</th><th scope=col>Winner</th><th scope=col>B_avg</th><th scope=col>R_avg</th></tr>\n",
       "\t<tr><th scope=col>&lt;dbl&gt;</th><th scope=col>&lt;dbl&gt;</th><th scope=col>&lt;dbl&gt;</th><th scope=col>&lt;dbl&gt;</th><th scope=col>&lt;dbl&gt;</th><th scope=col>&lt;dbl&gt;</th><th scope=col>&lt;dbl&gt;</th><th scope=col>&lt;dbl&gt;</th><th scope=col>&lt;dbl&gt;</th><th scope=col>&lt;dbl&gt;</th><th scope=col>...</th><th scope=col>&lt;dbl&gt;</th><th scope=col>&lt;dbl&gt;</th><th scope=col>&lt;dbl&gt;</th><th scope=col>&lt;dbl&gt;</th><th scope=col>&lt;dbl&gt;</th><th scope=col>&lt;dbl&gt;</th><th scope=col>&lt;fct&gt;</th><th scope=col>&lt;fct&gt;</th><th scope=col>&lt;dbl&gt;</th><th scope=col>&lt;dbl&gt;</th></tr>\n",
       "</thead>\n",
       "<tbody>\n",
       "\t<tr><td>-0.07202581</td><td>-0.4576714</td><td>-0.2433381</td><td>-0.4097452</td><td> 0.3126014</td><td> 0.46870304</td><td> 0.01099737</td><td>-0.1218726</td><td> 0.3729881</td><td> 0.61864607</td><td>...</td><td>-0.479867913</td><td>1.20049943</td><td> 1.0861948</td><td> 0.2055829</td><td> 0.6790522</td><td> 0.01457077</td><td>Decision - Unanimous</td><td>Red </td><td> -0.5492117</td><td>  3.655002</td></tr>\n",
       "\t<tr><td>-0.03842771</td><td> 0.2155753</td><td> 0.6913817</td><td> 0.7447073</td><td>-0.3973725</td><td> 0.02940355</td><td> 5.25759819</td><td> 5.3674195</td><td> 0.6456773</td><td> 1.97483864</td><td>...</td><td>-0.011716421</td><td>0.02302952</td><td>-0.1484218</td><td>-0.6162141</td><td>-0.1090716</td><td> 1.01781706</td><td>Decision - Unanimous</td><td>Blue</td><td> 26.1344199</td><td>  5.723052</td></tr>\n",
       "\t<tr><td>-1.07996887</td><td>-1.1309181</td><td>-0.2433381</td><td>-0.2712109</td><td>-1.2237357</td><td>-1.12186409</td><td> 0.72240087</td><td> 0.8003284</td><td>-0.8906935</td><td>-0.31025296</td><td>...</td><td>-1.468718513</td><td>0.90613196</td><td> 0.5923482</td><td> 0.2055829</td><td>-0.3717796</td><td>-0.48705237</td><td>Decision - Unanimous</td><td>Red </td><td> -6.9685444</td><td>-25.524865</td></tr>\n",
       "\t<tr><td> 0.48794255</td><td> 0.4720502</td><td> 0.3352980</td><td> 0.6215657</td><td>-0.1645942</td><td> 0.43335711</td><td>-0.14709230</td><td>-0.2828919</td><td>-0.3896549</td><td> 0.03653601</td><td>...</td><td> 0.001659336</td><td>1.20049943</td><td> 0.8392715</td><td> 1.3560988</td><td>-0.1090716</td><td>-0.23624080</td><td>Decision - Split    </td><td>Blue</td><td>  7.1890682</td><td>  1.518699</td></tr>\n",
       "\t<tr><td>-0.47520304</td><td>-0.4095823</td><td>-0.2767210</td><td>-0.4559233</td><td> 0.2253096</td><td> 1.15037467</td><td>-0.07792807</td><td> 0.2294421</td><td> 0.3264314</td><td> 1.58470105</td><td>...</td><td>-0.619596802</td><td>1.78923439</td><td> 2.0738880</td><td> 3.3284118</td><td> 0.4163443</td><td>-0.48705237</td><td>Decision - Unanimous</td><td>Red </td><td>  8.4536406</td><td> 12.847666</td></tr>\n",
       "\t<tr><td>-1.16060431</td><td>-1.1309181</td><td>-1.0979391</td><td>-1.1024167</td><td>-0.9513850</td><td>-0.80678031</td><td>-0.79525994</td><td>-0.7981534</td><td>-1.1221468</td><td>-1.06823456</td><td>...</td><td> 0.061850242</td><td>0.61176448</td><td> 0.8392715</td><td>-0.2874953</td><td> 0.9417602</td><td> 1.51944021</td><td>Decision - Split    </td><td>Red </td><td>-17.8823082</td><td> -5.104865</td></tr>\n",
       "</tbody>\n",
       "</table>\n"
      ],
      "text/latex": [
       "A data.frame: 6 × 108\n",
       "\\begin{tabular}{r|llllllllllllllllllllllllllllllllllllllllllllllllllllllllllllllllllllllllllllllllllllllllllllllllllllllllllll}\n",
       " B\\_avg\\_BODY\\_att & B\\_avg\\_BODY\\_landed & B\\_avg\\_CLINCH\\_att & B\\_avg\\_CLINCH\\_landed & B\\_avg\\_DISTANCE\\_att & B\\_avg\\_DISTANCE\\_landed & B\\_avg\\_GROUND\\_att & B\\_avg\\_GROUND\\_landed & B\\_avg\\_HEAD\\_att & B\\_avg\\_HEAD\\_landed & B\\_avg\\_KD & B\\_avg\\_LEG\\_att & B\\_avg\\_LEG\\_landed & B\\_avg\\_PASS & B\\_avg\\_REV & B\\_avg\\_SIG\\_STR\\_att & B\\_avg\\_SIG\\_STR\\_landed & B\\_avg\\_SIG\\_STR\\_pct & B\\_avg\\_SUB\\_ATT & B\\_avg\\_TD\\_att & B\\_avg\\_TD\\_landed & B\\_avg\\_TD\\_pct & B\\_avg\\_TOTAL\\_STR\\_att & B\\_avg\\_TOTAL\\_STR\\_landed & B\\_avg\\_opp\\_BODY\\_att & B\\_avg\\_opp\\_BODY\\_landed & B\\_avg\\_opp\\_CLINCH\\_att & B\\_avg\\_opp\\_CLINCH\\_landed & B\\_avg\\_opp\\_DISTANCE\\_att & B\\_avg\\_opp\\_DISTANCE\\_landed & B\\_avg\\_opp\\_GROUND\\_att & B\\_avg\\_opp\\_GROUND\\_landed & B\\_avg\\_opp\\_HEAD\\_att & B\\_avg\\_opp\\_HEAD\\_landed & B\\_avg\\_opp\\_KD & B\\_avg\\_opp\\_LEG\\_att & B\\_avg\\_opp\\_LEG\\_landed & B\\_avg\\_opp\\_PASS & B\\_avg\\_opp\\_REV & B\\_avg\\_opp\\_SIG\\_STR\\_att & B\\_avg\\_opp\\_SIG\\_STR\\_landed & B\\_avg\\_opp\\_SIG\\_STR\\_pct & B\\_avg\\_opp\\_SUB\\_ATT & B\\_avg\\_opp\\_TD\\_att & B\\_avg\\_opp\\_TD\\_landed & B\\_avg\\_opp\\_TD\\_pct & B\\_avg\\_opp\\_TOTAL\\_STR\\_att & B\\_avg\\_opp\\_TOTAL\\_STR\\_landed & B\\_Height\\_cms & B\\_Reach\\_cms & B\\_Weight\\_lbs & R\\_avg\\_BODY\\_att & R\\_avg\\_BODY\\_landed & R\\_avg\\_CLINCH\\_att & R\\_avg\\_CLINCH\\_landed & R\\_avg\\_DISTANCE\\_att & R\\_avg\\_DISTANCE\\_landed & R\\_avg\\_GROUND\\_att & R\\_avg\\_GROUND\\_landed & R\\_avg\\_HEAD\\_att & R\\_avg\\_HEAD\\_landed & R\\_avg\\_KD & R\\_avg\\_LEG\\_att & R\\_avg\\_LEG\\_landed & R\\_avg\\_PASS & R\\_avg\\_REV & R\\_avg\\_SIG\\_STR\\_att & R\\_avg\\_SIG\\_STR\\_landed & R\\_avg\\_SIG\\_STR\\_pct & R\\_avg\\_SUB\\_ATT & R\\_avg\\_TD\\_att & R\\_avg\\_TD\\_landed & R\\_avg\\_TD\\_pct & R\\_avg\\_TOTAL\\_STR\\_att & R\\_avg\\_TOTAL\\_STR\\_landed & R\\_avg\\_opp\\_BODY\\_att & R\\_avg\\_opp\\_BODY\\_landed & R\\_avg\\_opp\\_CLINCH\\_att & R\\_avg\\_opp\\_CLINCH\\_landed & R\\_avg\\_opp\\_DISTANCE\\_att & R\\_avg\\_opp\\_DISTANCE\\_landed & R\\_avg\\_opp\\_GROUND\\_att & R\\_avg\\_opp\\_GROUND\\_landed & R\\_avg\\_opp\\_HEAD\\_att & R\\_avg\\_opp\\_HEAD\\_landed & R\\_avg\\_opp\\_KD & R\\_avg\\_opp\\_LEG\\_att & R\\_avg\\_opp\\_LEG\\_landed & R\\_avg\\_opp\\_PASS & R\\_avg\\_opp\\_REV & R\\_avg\\_opp\\_SIG\\_STR\\_att & R\\_avg\\_opp\\_SIG\\_STR\\_landed & R\\_avg\\_opp\\_SIG\\_STR\\_pct & R\\_avg\\_opp\\_SUB\\_ATT & R\\_avg\\_opp\\_TD\\_att & R\\_avg\\_opp\\_TD\\_landed & R\\_avg\\_opp\\_TD\\_pct & R\\_avg\\_opp\\_TOTAL\\_STR\\_att & R\\_avg\\_opp\\_TOTAL\\_STR\\_landed & R\\_Height\\_cms & R\\_Reach\\_cms & R\\_Weight\\_lbs & B\\_age & R\\_age & win\\_by & Winner & B\\_avg & R\\_avg\\\\\n",
       " <dbl> & <dbl> & <dbl> & <dbl> & <dbl> & <dbl> & <dbl> & <dbl> & <dbl> & <dbl> & <dbl> & <dbl> & <dbl> & <dbl> & <dbl> & <dbl> & <dbl> & <dbl> & <dbl> & <dbl> & <dbl> & <dbl> & <dbl> & <dbl> & <dbl> & <dbl> & <dbl> & <dbl> & <dbl> & <dbl> & <dbl> & <dbl> & <dbl> & <dbl> & <dbl> & <dbl> & <dbl> & <dbl> & <dbl> & <dbl> & <dbl> & <dbl> & <dbl> & <dbl> & <dbl> & <dbl> & <dbl> & <dbl> & <dbl> & <dbl> & <dbl> & <dbl> & <dbl> & <dbl> & <dbl> & <dbl> & <dbl> & <dbl> & <dbl> & <dbl> & <dbl> & <dbl> & <dbl> & <dbl> & <dbl> & <dbl> & <dbl> & <dbl> & <dbl> & <dbl> & <dbl> & <dbl> & <dbl> & <dbl> & <dbl> & <dbl> & <dbl> & <dbl> & <dbl> & <dbl> & <dbl> & <dbl> & <dbl> & <dbl> & <dbl> & <dbl> & <dbl> & <dbl> & <dbl> & <dbl> & <dbl> & <dbl> & <dbl> & <dbl> & <dbl> & <dbl> & <dbl> & <dbl> & <dbl> & <dbl> & <dbl> & <dbl> & <dbl> & <dbl> & <fct> & <fct> & <dbl> & <dbl>\\\\\n",
       "\\hline\n",
       "\t -0.07202581 & -0.4576714 & -0.2433381 & -0.4097452 &  0.3126014 &  0.46870304 &  0.01099737 & -0.1218726 &  0.3729881 &  0.61864607 & 1.56104880 & -0.3026880 & -0.2436130 & -0.9140561 &  0.2243630 &  0.2586414 &  0.2563818 & -0.215733621 & -0.3998556 & -0.9193811 & -0.9841327 & -1.32495761 & -0.067213010 & -0.3011964 &  0.5975958 &  0.4225531 &  0.72058463 &  0.7510814 &  0.06684164 &  0.2938314 &  0.1669483 &  0.06554213 &  0.128820314 &  0.4352447 & -0.5875208 &  0.02321949 &  0.1874053 &  1.7214850 & -0.5215716 &  0.1981581 &  0.4616617 &  0.3889472 & -0.7141848 &  0.4838244 &  0.4808759 & -0.1952014 &  0.6572463 &  0.97368701 &  0.32651202 &  1.1234573 &  0.2148761 & -0.02080651 &  0.01860889 & -1.2885200082 & -1.2040458 &  0.8804014 &  1.3116710 & -0.4489098 & -0.60983075 &  0.58843469 &  0.6771177 &  5.3465575 &  0.6232835 &  0.6943273 & -0.9747670 & -0.5807393 &  0.5639123 &  0.65388139 & -0.1124738 & -0.8501172 & -1.1941933 & -1.0884339 & -1.49664370 &  0.01485324 & -0.3554137 & -1.0391332 & -0.7901881 & -1.31918251 & -1.2306701902 &  1.12705124 &  0.8245224 & -0.89925626 & -0.88780574 &  0.10511718 & -1.32333052 & -0.6490502 &  6.0113879 &  5.2000608 & -0.002533023 & -0.5764729 &  0.73070832 &  0.1587362 & -0.97665969 & -0.8078389 & -0.92049337 & -0.0704566 &  3.73595464 &  0.31700839 & -0.479867913 & 1.20049943 &  1.0861948 &  0.2055829 &  0.6790522 &  0.01457077 & Decision - Unanimous & Red  &  -0.5492117 &   3.655002\\\\\n",
       "\t -0.03842771 &  0.2155753 &  0.6913817 &  0.7447073 & -0.3973725 &  0.02940355 &  5.25759819 &  5.3674195 &  0.6456773 &  1.97483864 & 0.01936831 &  1.4358389 &  1.6010630 &  1.4267099 &  0.2243630 &  0.7173599 &  1.8643605 &  1.483846677 & -0.7648467 &  1.2797831 &  1.6283778 &  1.34632134 &  0.473511434 &  0.9457670 & -0.6660609 & -0.8110445 & -0.69618125 & -0.7646696 & -0.00258099 & -0.3715038 & -0.5551872 & -0.38940387 & -0.009598559 & -0.3312935 & -0.5875208 & -0.80998398 & -0.8211222 & -0.4483092 &  0.2718694 & -0.2074522 & -0.6355207 & -0.9544536 & -0.7141848 & -0.1820110 & -0.5819925 &  0.4275478 & -0.5405470 & -1.02660450 & -1.16932553 & -0.1546387 & -0.6051696 &  0.28589985 &  0.19799237 &  0.4633419938 &  0.4340060 &  0.1420227 & -0.4304179 &  0.7373049 &  0.90504349 &  0.54665348 &  0.2986074 & -0.4399585 & -0.8998122 & -0.8426765 &  0.3993219 & -0.3734109 &  0.3629867 &  0.02958737 & -1.1696597 &  1.0560947 &  0.8982852 &  0.5223439 &  0.03687063 &  1.09021345 &  1.1962015 & -0.4568680 & -0.3490802 & -0.48470300 & -0.4159206677 & -0.21681029 & -0.1009832 & -0.02480552 &  0.09400162 & -0.16717947 &  0.09223533 & -0.4108387 & -0.5636404 & -0.5845770 &  0.044287589 & -0.1664938 & -0.28163028 & -0.1669177 &  0.09851079 &  0.3341051 & -0.67323986 & -0.3051421 &  0.09264787 & -0.17719798 & -0.011716421 & 0.02302952 & -0.1484218 & -0.6162141 & -0.1090716 &  1.01781706 & Decision - Unanimous & Blue &  26.1344199 &   5.723052\\\\\n",
       "\t -1.07996887 & -1.1309181 & -0.2433381 & -0.2712109 & -1.2237357 & -1.12186409 &  0.72240087 &  0.8003284 & -0.8906935 & -0.31025296 & 0.79020856 & -1.1507499 & -1.1659510 & -0.5796610 & -0.5467704 & -1.0677735 & -0.8200337 &  3.115443763 & -0.7648467 & -0.3915817 &  0.5087305 &  0.74580126 & -0.915505487 & -0.4592621 & -0.2943971 & -0.2746977 &  2.02247761 &  1.1169523 & -1.06127613 & -0.9576325 & -0.8151560 & -0.76163242 & -0.826929050 & -0.6117344 &  1.3166570 & -1.11695368 & -1.1012688 & -0.8099415 & -0.5215716 & -0.8706798 & -0.7693234 &  0.3228783 & -0.7141848 & -0.6576077 & -1.0071398 & -1.1557129 & -0.8212015 & -0.58728814 &  0.02734451 &  0.6122189 &  0.2148761 & -0.98693155 & -1.19222960 & -0.9896241216 & -0.9964054 & -1.1180367 & -1.1293398 & -1.1339963 & -1.12110080 & -1.49419823 & -1.6493359 & -0.7803418 & -0.6822271 & -0.7617816 & -0.9747670 & -0.5807393 & -1.4792661 & -1.66133965 & -1.3432275 &  0.7837787 & -1.1941933 & -1.0884339 & -1.49664370 & -1.80115241 & -1.8703426 & -1.5228612 & -1.5120012 & -1.31918251 & -1.2306701902 & -0.91819940 & -0.8140777 & -0.62067019 & -0.46703116 & -1.03269382 & -0.73467938 & -0.6490502 & -0.7048220 & -1.0377514 & -0.845304043 & -0.5764729 & -1.17597446 & -1.1571714 & -0.08799837 & -0.8078389 & -0.92049337 & -0.0704566 &  3.73595464 & -1.45769776 & -1.468718513 & 0.90613196 &  0.5923482 &  0.2055829 & -0.3717796 & -0.48705237 & Decision - Unanimous & Red  &  -6.9685444 & -25.524865\\\\\n",
       "\t  0.48794255 &  0.4720502 &  0.3352980 &  0.6215657 & -0.1645942 &  0.43335711 & -0.14709230 & -0.2828919 & -0.3896549 &  0.03653601 & 1.30410205 &  0.8845987 &  1.2936170 & -0.4681959 & -0.5467704 & -0.1282296 &  0.4734367 &  0.773799797 & -0.2781919 & -0.6261592 & -0.7353221 &  0.05554831 & -0.445885480 & -0.2250906 & -0.7651712 & -0.7037751 & -0.98974535 & -0.9388938 & -0.69102209 & -0.3873452 & -0.7766421 & -0.70648745 & -0.897237049 & -0.6615905 & -0.5875208 & -0.67842554 & -0.6156814 & -0.8099415 & -0.5215716 & -0.9437627 & -0.7960840 &  0.6311998 & -0.7141848 &  0.4204115 & -0.4402767 & -0.6490695 & -1.2488655 & -1.19796904 &  1.82234958 &  1.3790765 &  1.3629401 &  0.06200420 &  0.18005402 &  0.2956281908 &  0.1663806 &  0.1532589 &  0.4980007 & -0.3118924 & -0.23489937 &  0.09091683 &  0.3780023 & -0.1676518 &  0.3295436 &  0.4031055 & -0.7144133 & -0.5807393 &  0.1317918 &  0.41671241 &  0.9668025 & -0.8501172 & -1.0507090 & -0.9358339 & -0.60477753 & -0.14751903 & -0.1145789 &  0.1540625 &  0.1722293 &  0.01598471 & -0.0006612336 &  0.17765095 &  0.6196974 & -0.67638740 & -0.63534099 &  0.19264111 &  0.76217639 & -0.6490502 & -0.9589488 & -0.8938019 & -0.171087227 & -0.5764729 &  0.05492202 &  0.3621037 &  0.74141885 &  0.3133425 & -0.47543705 & -0.4928904 & -0.27585135 & -0.13110491 &  0.001659336 & 1.20049943 &  0.8392715 &  1.3560988 & -0.1090716 & -0.23624080 & Decision - Split     & Blue &   7.1890682 &   1.518699\\\\\n",
       "\t -0.47520304 & -0.4095823 & -0.2767210 & -0.4559233 &  0.2253096 &  1.15037467 & -0.07792807 &  0.2294421 &  0.3264314 &  1.58470105 & 0.79020856 & -0.3026880 & -0.2978682 & -0.4124634 & -0.5467704 &  0.1536335 &  0.9474139 &  1.189252759 & -0.7648467 & -0.5675148 & -0.2377011 & -0.03073331 &  0.002237836 &  0.4364439 &  1.4524224 &  1.5488813 &  0.06963815 &  0.1238741 &  0.41395480 &  0.4839272 & -0.7862705 & -0.72027369 &  0.023358316 & -0.3499896 & -0.5875208 &  0.15477794 &  0.2994639 & -0.8099415 & -0.5215716 &  0.2529703 &  0.2074365 & -0.3598336 & -0.7141848 & -1.2283238 & -1.0071398 & -1.1557129 &  0.1460542 &  0.04831851 &  0.92484705 &  1.6346957 &  3.2982479 & -0.55562573 & -0.25887493 &  0.0004685027 &  0.1975267 & -0.4077484 & -0.5816771 &  1.2352613 &  1.90391370 & -0.01538423 &  0.3863110 & -0.3974106 & -0.2538564 & -0.1117330 &  0.8151645 & -0.5807393 & -0.1435676 &  0.15977934 &  0.3845613 & -0.8501172 &  1.4512974 &  2.0589411 &  1.10649069 &  0.13503008 &  0.4651727 & -0.7972692 & -0.6398104 & -0.33866908 & -0.1071043164 & -0.49841801 & -0.3190839 & -0.67290508 & -0.65112004 & -0.51484394 & -0.23012125 &  0.4229016 & -0.7275119 & -0.6778776 & -0.845304043 & -0.5764729 & -0.64198260 & -0.4917409 &  1.52887152 & -0.3406800 & -1.14302152 & -0.7305095 & -0.64101573 & -0.75613423 & -0.619596802 & 1.78923439 &  2.0738880 &  3.3284118 &  0.4163443 & -0.48705237 & Decision - Unanimous & Red  &   8.4536406 &  12.847666\\\\\n",
       "\t -1.16060431 & -1.1309181 & -1.0979391 & -1.1024167 & -0.9513850 & -0.80678031 & -0.79525994 & -0.7981534 & -1.1221468 & -1.06823456 & 0.48187246 & -0.8454476 & -0.7753137 & -0.1115078 & -0.5467704 & -1.2335753 & -1.2665468 &  0.006344871 & -0.4728538 & -0.7434480 & -0.3869874 &  0.12457360 & -1.471112255 & -1.4006317 & -0.3092637 & -0.4892364 & -1.10206553 & -1.0364594 & -0.45498514 & -0.6027870 & -0.8151560 & -0.76163242 & -0.837475250 & -1.1501807 &  0.1741503 & -0.01186276 & -0.3168585 & -0.8099415 & -0.5215716 & -0.7435155 & -1.0208726 & -1.1130189 & -0.7141848 & -0.7717509 & -0.8370809 & -0.3113072 & -1.0978466 & -1.40236019 &  0.02734451 &  0.1009805 & -0.2771513 & -0.24163509 & -0.42536522 & -0.9597345329 & -0.9964054 & -0.3042149 & -0.3031516 & -0.2433838 & -0.03039135 & -0.52230287 & -0.5525792 & -0.1676518 & -0.2252984 & -0.2209411 &  0.4571782 & -0.5807393 & -0.4976011 & -0.55455105 & -0.2260818 & -0.1965588 &  0.1689070 & -0.3254339 &  0.41194991 & -0.60899811 & -0.6428618 & -0.3296655 & -0.2127377 &  0.11612226 &  0.2358789503 & -0.03949912 & -0.1313277 & -0.28636690 & -0.34079878 & -0.05242588 & -0.17966544 &  0.2085112 &  0.1664701 &  0.1138447 & -0.845304043 & -0.5764729 & -0.07058115 & -0.1522965 & -0.26573064 & -0.8078389 & -0.03038074 & -0.7041073 & -0.76607203 &  0.05080247 &  0.061850242 & 0.61176448 &  0.8392715 & -0.2874953 &  0.9417602 &  1.51944021 & Decision - Split     & Red  & -17.8823082 &  -5.104865\\\\\n",
       "\\end{tabular}\n"
      ],
      "text/markdown": [
       "\n",
       "A data.frame: 6 × 108\n",
       "\n",
       "| B_avg_BODY_att &lt;dbl&gt; | B_avg_BODY_landed &lt;dbl&gt; | B_avg_CLINCH_att &lt;dbl&gt; | B_avg_CLINCH_landed &lt;dbl&gt; | B_avg_DISTANCE_att &lt;dbl&gt; | B_avg_DISTANCE_landed &lt;dbl&gt; | B_avg_GROUND_att &lt;dbl&gt; | B_avg_GROUND_landed &lt;dbl&gt; | B_avg_HEAD_att &lt;dbl&gt; | B_avg_HEAD_landed &lt;dbl&gt; | ... ... | R_avg_opp_TOTAL_STR_landed &lt;dbl&gt; | R_Height_cms &lt;dbl&gt; | R_Reach_cms &lt;dbl&gt; | R_Weight_lbs &lt;dbl&gt; | B_age &lt;dbl&gt; | R_age &lt;dbl&gt; | win_by &lt;fct&gt; | Winner &lt;fct&gt; | B_avg &lt;dbl&gt; | R_avg &lt;dbl&gt; |\n",
       "|---|---|---|---|---|---|---|---|---|---|---|---|---|---|---|---|---|---|---|---|---|\n",
       "| -0.07202581 | -0.4576714 | -0.2433381 | -0.4097452 |  0.3126014 |  0.46870304 |  0.01099737 | -0.1218726 |  0.3729881 |  0.61864607 | ... | -0.479867913 | 1.20049943 |  1.0861948 |  0.2055829 |  0.6790522 |  0.01457077 | Decision - Unanimous | Red  |  -0.5492117 |   3.655002 |\n",
       "| -0.03842771 |  0.2155753 |  0.6913817 |  0.7447073 | -0.3973725 |  0.02940355 |  5.25759819 |  5.3674195 |  0.6456773 |  1.97483864 | ... | -0.011716421 | 0.02302952 | -0.1484218 | -0.6162141 | -0.1090716 |  1.01781706 | Decision - Unanimous | Blue |  26.1344199 |   5.723052 |\n",
       "| -1.07996887 | -1.1309181 | -0.2433381 | -0.2712109 | -1.2237357 | -1.12186409 |  0.72240087 |  0.8003284 | -0.8906935 | -0.31025296 | ... | -1.468718513 | 0.90613196 |  0.5923482 |  0.2055829 | -0.3717796 | -0.48705237 | Decision - Unanimous | Red  |  -6.9685444 | -25.524865 |\n",
       "|  0.48794255 |  0.4720502 |  0.3352980 |  0.6215657 | -0.1645942 |  0.43335711 | -0.14709230 | -0.2828919 | -0.3896549 |  0.03653601 | ... |  0.001659336 | 1.20049943 |  0.8392715 |  1.3560988 | -0.1090716 | -0.23624080 | Decision - Split     | Blue |   7.1890682 |   1.518699 |\n",
       "| -0.47520304 | -0.4095823 | -0.2767210 | -0.4559233 |  0.2253096 |  1.15037467 | -0.07792807 |  0.2294421 |  0.3264314 |  1.58470105 | ... | -0.619596802 | 1.78923439 |  2.0738880 |  3.3284118 |  0.4163443 | -0.48705237 | Decision - Unanimous | Red  |   8.4536406 |  12.847666 |\n",
       "| -1.16060431 | -1.1309181 | -1.0979391 | -1.1024167 | -0.9513850 | -0.80678031 | -0.79525994 | -0.7981534 | -1.1221468 | -1.06823456 | ... |  0.061850242 | 0.61176448 |  0.8392715 | -0.2874953 |  0.9417602 |  1.51944021 | Decision - Split     | Red  | -17.8823082 |  -5.104865 |\n",
       "\n"
      ],
      "text/plain": [
       "  B_avg_BODY_att B_avg_BODY_landed B_avg_CLINCH_att B_avg_CLINCH_landed\n",
       "1 -0.07202581    -0.4576714        -0.2433381       -0.4097452         \n",
       "2 -0.03842771     0.2155753         0.6913817        0.7447073         \n",
       "3 -1.07996887    -1.1309181        -0.2433381       -0.2712109         \n",
       "4  0.48794255     0.4720502         0.3352980        0.6215657         \n",
       "5 -0.47520304    -0.4095823        -0.2767210       -0.4559233         \n",
       "6 -1.16060431    -1.1309181        -1.0979391       -1.1024167         \n",
       "  B_avg_DISTANCE_att B_avg_DISTANCE_landed B_avg_GROUND_att B_avg_GROUND_landed\n",
       "1  0.3126014          0.46870304            0.01099737      -0.1218726         \n",
       "2 -0.3973725          0.02940355            5.25759819       5.3674195         \n",
       "3 -1.2237357         -1.12186409            0.72240087       0.8003284         \n",
       "4 -0.1645942          0.43335711           -0.14709230      -0.2828919         \n",
       "5  0.2253096          1.15037467           -0.07792807       0.2294421         \n",
       "6 -0.9513850         -0.80678031           -0.79525994      -0.7981534         \n",
       "  B_avg_HEAD_att B_avg_HEAD_landed ... R_avg_opp_TOTAL_STR_landed R_Height_cms\n",
       "1  0.3729881      0.61864607       ... -0.479867913               1.20049943  \n",
       "2  0.6456773      1.97483864       ... -0.011716421               0.02302952  \n",
       "3 -0.8906935     -0.31025296       ... -1.468718513               0.90613196  \n",
       "4 -0.3896549      0.03653601       ...  0.001659336               1.20049943  \n",
       "5  0.3264314      1.58470105       ... -0.619596802               1.78923439  \n",
       "6 -1.1221468     -1.06823456       ...  0.061850242               0.61176448  \n",
       "  R_Reach_cms R_Weight_lbs B_age      R_age       win_by               Winner\n",
       "1  1.0861948   0.2055829    0.6790522  0.01457077 Decision - Unanimous Red   \n",
       "2 -0.1484218  -0.6162141   -0.1090716  1.01781706 Decision - Unanimous Blue  \n",
       "3  0.5923482   0.2055829   -0.3717796 -0.48705237 Decision - Unanimous Red   \n",
       "4  0.8392715   1.3560988   -0.1090716 -0.23624080 Decision - Split     Blue  \n",
       "5  2.0738880   3.3284118    0.4163443 -0.48705237 Decision - Unanimous Red   \n",
       "6  0.8392715  -0.2874953    0.9417602  1.51944021 Decision - Split     Red   \n",
       "  B_avg       R_avg     \n",
       "1  -0.5492117   3.655002\n",
       "2  26.1344199   5.723052\n",
       "3  -6.9685444 -25.524865\n",
       "4   7.1890682   1.518699\n",
       "5   8.4536406  12.847666\n",
       "6 -17.8823082  -5.104865"
      ]
     },
     "metadata": {},
     "output_type": "display_data"
    }
   ],
   "source": [
    "# Calculate a total score for the B fighter and R fighter\n",
    "\n",
    "B_data <- numer_values %>%\n",
    "    mutate(B_avg = select(., c(starts_with(\"B\"))) %>%\n",
    "                    select(., -contains(\"opp\")) %>%\n",
    "                    rowSums) %>%\n",
    "    mutate(R_avg = select(., c(starts_with(\"R\"))) %>%\n",
    "                    select(., -contains(\"opp\")) %>%\n",
    "                    rowSums)\n",
    "head(B_data)"
   ]
  },
  {
   "cell_type": "code",
   "execution_count": 202,
   "metadata": {},
   "outputs": [
    {
     "data": {
      "image/png": "[encoded data removed]",
      "text/plain": [
       "plot without title"
      ]
     },
     "metadata": {
      "image/png": {
       "height": 420,
       "width": 420
      },
      "text/plain": {
       "height": 420,
       "width": 420
      }
     },
     "output_type": "display_data"
    }
   ],
   "source": [
    "# plot the data for the total score of the blue and red fighter when they landed a punch\n",
    "B_data %>%\n",
    " ggplot(aes(x=R_avg, y=B_avg, color=Winner)) +\n",
    "   geom_point(alpha=0.6)+\n",
    "    labs(title=\"Scaled Total Score by Fighter\", x = \"Red Total Score\", y = \"Blue Total Score\") +\n",
    "     scale_color_manual(values = c(\"blue\", \"green\", \"red\"))"
   ]
  },
  {
   "cell_type": "markdown",
   "metadata": {},
   "source": [
    "**Observations**\n",
    "\n",
    "I find this chart very interesting as the total score (not including damage (ex. any column with opp) meaning having a higher overall stat did not predict the winner. The score was calculated using a scale to adjust all values in a column to the mean. We can try other measures, but this was meant to be the \"easy solution\".\n",
    "There seems to be no relationship between the total score and the winner. For example, the red dot at (0, 50) is predicting the red person to win although they are behind by 50 points.\n",
    "I think that this does end up weighting certain attributes in a match to getting a higher score. This also makes me excited for the project!"
   ]
  },
  {
   "cell_type": "code",
   "execution_count": null,
   "metadata": {},
   "outputs": [],
   "source": []
  }
 ],
 "metadata": {
  "kernelspec": {
   "display_name": "R",
   "language": "R",
   "name": "ir"
  },
  "language_info": {
   "codemirror_mode": "r",
   "file_extension": ".r",
   "mimetype": "text/x-r-source",
   "name": "R",
   "pygments_lexer": "r",
   "version": "3.6.1"
  }
 },
 "nbformat": 4,
 "nbformat_minor": 4
}
