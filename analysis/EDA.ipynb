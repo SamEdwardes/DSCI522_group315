{
 "cells": [
  {
   "cell_type": "markdown",
   "metadata": {},
   "source": [
    "# EDA for UFC Data"
   ]
  },
  {
   "cell_type": "markdown",
   "metadata": {},
   "source": [
    "#### EDA Steps\n",
    "1. Question (complete in project proposal)\n",
    "2. Read in data (complete)\n",
    "3. Check packaging (complete)\n",
    "4. Look at the Bottom and Top of your data (looked at head and tail)\n",
    "5. Check your \"n\"s (complete_\n",
    "6. Validate with at least one external data source (complete)\n",
    "7. Make a plot (complete)\n",
    "8. Try the easy solution first (complete)\n",
    "9. Follow up\n"
   ]
  },
  {
   "cell_type": "code",
   "execution_count": 57,
   "metadata": {},
   "outputs": [],
   "source": [
    "# Load the necessary packages\n",
    "library(tidyverse)\n",
    "library(lubridate)"
   ]
  },
  {
   "cell_type": "markdown",
   "metadata": {},
   "source": [
    "### 1. Question\n",
    "\n",
    "Predictive main question:\n",
    "\n",
    "For fights that do not end in submission or TKO, what are the strongest predictors of who will win?\n",
    "\n",
    "This is a predictive question.\n",
    "\n",
    "Some natural questions that stem from the main research question are:\n",
    "\n",
    "Do judges award higher scores for striking (e.g. punching and kicking) over grappling (e.g. wrestling and submission attempts)?\n",
    "Do judges consistnely value the same criteria?\n",
    "Do judges consider other factors such as the fighters win streak or size?\n",
    "\n",
    "Read the [README](https://github.com/UBC-MDS/DSCI522_group315) of the Project repo for a further explanation."
   ]
  },
  {
   "cell_type": "markdown",
   "metadata": {},
   "source": [
    "### 2. Read in Data"
   ]
  },
  {
   "cell_type": "code",
   "execution_count": 144,
   "metadata": {},
   "outputs": [],
   "source": [
    "# 2. Read in data into jupyter\n",
    "read_data <- read.csv(\"https://github.com/SamEdwardes/ufc-data/raw/master/data.csv\")"
   ]
  },
  {
   "cell_type": "markdown",
   "metadata": {},
   "source": [
    "### 3. Check Packaging"
   ]
  },
  {
   "cell_type": "code",
   "execution_count": 145,
   "metadata": {},
   "outputs": [
    {
     "name": "stdout",
     "output_type": "stream",
     "text": [
      "[1] 5144\n",
      "[1] 145\n"
     ]
    }
   ],
   "source": [
    "# 3. Check initial rows and columns (\"n's\"). These match what is in the csv file. \n",
    "print(nrow(read_data))\n",
    "print(ncol(read_data))"
   ]
  },
  {
   "cell_type": "code",
   "execution_count": 168,
   "metadata": {},
   "outputs": [],
   "source": [
    "## set the seed and split data into train and test sets\n",
    "set.seed(123)\n",
    "raw_data <- sample(seq_len(nrow(read_data)), size = 0.8 * nrow(read_data))\n",
    "\n",
    "train <- read_data[raw_data, ]"
   ]
  },
  {
   "cell_type": "code",
   "execution_count": 169,
   "metadata": {},
   "outputs": [
    {
     "name": "stdout",
     "output_type": "stream",
     "text": [
      "[1] 4115\n",
      "[1] 145\n"
     ]
    }
   ],
   "source": [
    "print(nrow(train))\n",
    "print(ncol(train))"
   ]
  },
  {
   "cell_type": "markdown",
   "metadata": {},
   "source": [
    "**Insights:**\n",
    "- This matches what I expect from the csv as the number of rows and columns match when I check the csv document. "
   ]
  },
  {
   "cell_type": "markdown",
   "metadata": {},
   "source": [
    "### 4 Look at the Bottom and Top of your data"
   ]
  },
  {
   "cell_type": "code",
   "execution_count": 170,
   "metadata": {},
   "outputs": [
    {
     "data": {
      "text/html": [
       "<table>\n",
       "<caption>A data.frame: 6 × 145</caption>\n",
       "<thead>\n",
       "\t<tr><th></th><th scope=col>R_fighter</th><th scope=col>B_fighter</th><th scope=col>Referee</th><th scope=col>date</th><th scope=col>location</th><th scope=col>Winner</th><th scope=col>title_bout</th><th scope=col>weight_class</th><th scope=col>no_of_rounds</th><th scope=col>B_current_lose_streak</th><th scope=col>...</th><th scope=col>R_win_by_KO.TKO</th><th scope=col>R_win_by_Submission</th><th scope=col>R_win_by_TKO_Doctor_Stoppage</th><th scope=col>R_wins</th><th scope=col>R_Stance</th><th scope=col>R_Height_cms</th><th scope=col>R_Reach_cms</th><th scope=col>R_Weight_lbs</th><th scope=col>B_age</th><th scope=col>R_age</th></tr>\n",
       "\t<tr><th></th><th scope=col>&lt;fct&gt;</th><th scope=col>&lt;fct&gt;</th><th scope=col>&lt;fct&gt;</th><th scope=col>&lt;fct&gt;</th><th scope=col>&lt;fct&gt;</th><th scope=col>&lt;fct&gt;</th><th scope=col>&lt;fct&gt;</th><th scope=col>&lt;fct&gt;</th><th scope=col>&lt;int&gt;</th><th scope=col>&lt;dbl&gt;</th><th scope=col>...</th><th scope=col>&lt;dbl&gt;</th><th scope=col>&lt;dbl&gt;</th><th scope=col>&lt;dbl&gt;</th><th scope=col>&lt;dbl&gt;</th><th scope=col>&lt;fct&gt;</th><th scope=col>&lt;dbl&gt;</th><th scope=col>&lt;dbl&gt;</th><th scope=col>&lt;dbl&gt;</th><th scope=col>&lt;dbl&gt;</th><th scope=col>&lt;dbl&gt;</th></tr>\n",
       "</thead>\n",
       "<tbody>\n",
       "\t<tr><th scope=row>2463</th><td>Justin Salas   </td><td>Ben Wall      </td><td>Gary Copeland   </td><td>2014-05-10</td><td>Cincinnati, Ohio, USA             </td><td>Red </td><td>False</td><td>Lightweight  </td><td>3</td><td>1</td><td>...</td><td>0</td><td>0</td><td>0</td><td>2</td><td>Southpaw</td><td>172.72</td><td>177.80</td><td>155</td><td>25</td><td>32</td></tr>\n",
       "\t<tr><th scope=row>2511</th><td>Leonardo Santos</td><td>Norman Parke  </td><td>Wernei Cardoso  </td><td>2014-03-23</td><td>Natal, Rio Grande do Norte, Brazil</td><td>Draw</td><td>False</td><td>Lightweight  </td><td>3</td><td>0</td><td>...</td><td>0</td><td>1</td><td>0</td><td>1</td><td>Orthodox</td><td>182.88</td><td>190.50</td><td>155</td><td>27</td><td>34</td></tr>\n",
       "\t<tr><th scope=row>2227</th><td>Pedro Munhoz   </td><td>Jerrod Sanders</td><td>Brad Jardine    </td><td>2014-10-04</td><td>Halifax, Nova Scotia, Canada      </td><td>Draw</td><td>False</td><td>Bantamweight </td><td>3</td><td>1</td><td>...</td><td>1</td><td>0</td><td>0</td><td>1</td><td>Orthodox</td><td>167.64</td><td>165.10</td><td>135</td><td>35</td><td>28</td></tr>\n",
       "\t<tr><th scope=row>526</th><td>Arnold Allen   </td><td>Mads Burnell  </td><td>Neil Hall       </td><td>2018-05-27</td><td>Liverpool, England, United Kingdom</td><td>Red </td><td>False</td><td>Featherweight</td><td>3</td><td>0</td><td>...</td><td>0</td><td>1</td><td>0</td><td>3</td><td>Southpaw</td><td>172.72</td><td>177.80</td><td>145</td><td>24</td><td>24</td></tr>\n",
       "\t<tr><th scope=row>4291</th><td>Tyson Griffin  </td><td>Gleison Tibau </td><td>Steve Mazzagatti</td><td>2008-02-02</td><td>Las Vegas, Nevada, USA            </td><td>Red </td><td>False</td><td>Lightweight  </td><td>3</td><td>0</td><td>...</td><td>0</td><td>1</td><td>0</td><td>3</td><td>Orthodox</td><td>167.64</td><td>172.72</td><td>145</td><td>24</td><td>23</td></tr>\n",
       "\t<tr><th scope=row>2986</th><td>TJ Grant       </td><td>Matt Wiman    </td><td>John McCarthy   </td><td>2013-01-26</td><td>Chicago, Illinois, USA            </td><td>Red </td><td>False</td><td>Lightweight  </td><td>3</td><td>0</td><td>...</td><td>1</td><td>1</td><td>0</td><td>6</td><td>Orthodox</td><td>177.80</td><td>182.88</td><td>155</td><td>29</td><td>28</td></tr>\n",
       "</tbody>\n",
       "</table>\n"
      ],
      "text/latex": [
       "A data.frame: 6 × 145\n",
       "\\begin{tabular}{r|lllllllllllllllllllllllllllllllllllllllllllllllllllllllllllllllllllllllllllllllllllllllllllllllllllllllllllllllllllllllllllllllllllllllllllllllll}\n",
       "  & R\\_fighter & B\\_fighter & Referee & date & location & Winner & title\\_bout & weight\\_class & no\\_of\\_rounds & B\\_current\\_lose\\_streak & B\\_current\\_win\\_streak & B\\_draw & B\\_avg\\_BODY\\_att & B\\_avg\\_BODY\\_landed & B\\_avg\\_CLINCH\\_att & B\\_avg\\_CLINCH\\_landed & B\\_avg\\_DISTANCE\\_att & B\\_avg\\_DISTANCE\\_landed & B\\_avg\\_GROUND\\_att & B\\_avg\\_GROUND\\_landed & B\\_avg\\_HEAD\\_att & B\\_avg\\_HEAD\\_landed & B\\_avg\\_KD & B\\_avg\\_LEG\\_att & B\\_avg\\_LEG\\_landed & B\\_avg\\_PASS & B\\_avg\\_REV & B\\_avg\\_SIG\\_STR\\_att & B\\_avg\\_SIG\\_STR\\_landed & B\\_avg\\_SIG\\_STR\\_pct & B\\_avg\\_SUB\\_ATT & B\\_avg\\_TD\\_att & B\\_avg\\_TD\\_landed & B\\_avg\\_TD\\_pct & B\\_avg\\_TOTAL\\_STR\\_att & B\\_avg\\_TOTAL\\_STR\\_landed & B\\_longest\\_win\\_streak & B\\_losses & B\\_avg\\_opp\\_BODY\\_att & B\\_avg\\_opp\\_BODY\\_landed & B\\_avg\\_opp\\_CLINCH\\_att & B\\_avg\\_opp\\_CLINCH\\_landed & B\\_avg\\_opp\\_DISTANCE\\_att & B\\_avg\\_opp\\_DISTANCE\\_landed & B\\_avg\\_opp\\_GROUND\\_att & B\\_avg\\_opp\\_GROUND\\_landed & B\\_avg\\_opp\\_HEAD\\_att & B\\_avg\\_opp\\_HEAD\\_landed & B\\_avg\\_opp\\_KD & B\\_avg\\_opp\\_LEG\\_att & B\\_avg\\_opp\\_LEG\\_landed & B\\_avg\\_opp\\_PASS & B\\_avg\\_opp\\_REV & B\\_avg\\_opp\\_SIG\\_STR\\_att & B\\_avg\\_opp\\_SIG\\_STR\\_landed & B\\_avg\\_opp\\_SIG\\_STR\\_pct & B\\_avg\\_opp\\_SUB\\_ATT & B\\_avg\\_opp\\_TD\\_att & B\\_avg\\_opp\\_TD\\_landed & B\\_avg\\_opp\\_TD\\_pct & B\\_avg\\_opp\\_TOTAL\\_STR\\_att & B\\_avg\\_opp\\_TOTAL\\_STR\\_landed & B\\_total\\_rounds\\_fought & B\\_total\\_time\\_fought.seconds. & B\\_total\\_title\\_bouts & B\\_win\\_by\\_Decision\\_Majority & B\\_win\\_by\\_Decision\\_Split & B\\_win\\_by\\_Decision\\_Unanimous & B\\_win\\_by\\_KO.TKO & B\\_win\\_by\\_Submission & B\\_win\\_by\\_TKO\\_Doctor\\_Stoppage & B\\_wins & B\\_Stance & B\\_Height\\_cms & B\\_Reach\\_cms & B\\_Weight\\_lbs & R\\_current\\_lose\\_streak & R\\_current\\_win\\_streak & R\\_draw & R\\_avg\\_BODY\\_att & R\\_avg\\_BODY\\_landed & R\\_avg\\_CLINCH\\_att & R\\_avg\\_CLINCH\\_landed & R\\_avg\\_DISTANCE\\_att & R\\_avg\\_DISTANCE\\_landed & R\\_avg\\_GROUND\\_att & R\\_avg\\_GROUND\\_landed & R\\_avg\\_HEAD\\_att & R\\_avg\\_HEAD\\_landed & R\\_avg\\_KD & R\\_avg\\_LEG\\_att & R\\_avg\\_LEG\\_landed & R\\_avg\\_PASS & R\\_avg\\_REV & R\\_avg\\_SIG\\_STR\\_att & R\\_avg\\_SIG\\_STR\\_landed & R\\_avg\\_SIG\\_STR\\_pct & R\\_avg\\_SUB\\_ATT & R\\_avg\\_TD\\_att & R\\_avg\\_TD\\_landed & R\\_avg\\_TD\\_pct & R\\_avg\\_TOTAL\\_STR\\_att & R\\_avg\\_TOTAL\\_STR\\_landed & R\\_longest\\_win\\_streak & R\\_losses & R\\_avg\\_opp\\_BODY\\_att & R\\_avg\\_opp\\_BODY\\_landed & R\\_avg\\_opp\\_CLINCH\\_att & R\\_avg\\_opp\\_CLINCH\\_landed & R\\_avg\\_opp\\_DISTANCE\\_att & R\\_avg\\_opp\\_DISTANCE\\_landed & R\\_avg\\_opp\\_GROUND\\_att & R\\_avg\\_opp\\_GROUND\\_landed & R\\_avg\\_opp\\_HEAD\\_att & R\\_avg\\_opp\\_HEAD\\_landed & R\\_avg\\_opp\\_KD & R\\_avg\\_opp\\_LEG\\_att & R\\_avg\\_opp\\_LEG\\_landed & R\\_avg\\_opp\\_PASS & R\\_avg\\_opp\\_REV & R\\_avg\\_opp\\_SIG\\_STR\\_att & R\\_avg\\_opp\\_SIG\\_STR\\_landed & R\\_avg\\_opp\\_SIG\\_STR\\_pct & R\\_avg\\_opp\\_SUB\\_ATT & R\\_avg\\_opp\\_TD\\_att & R\\_avg\\_opp\\_TD\\_landed & R\\_avg\\_opp\\_TD\\_pct & R\\_avg\\_opp\\_TOTAL\\_STR\\_att & R\\_avg\\_opp\\_TOTAL\\_STR\\_landed & R\\_total\\_rounds\\_fought & R\\_total\\_time\\_fought.seconds. & R\\_total\\_title\\_bouts & R\\_win\\_by\\_Decision\\_Majority & R\\_win\\_by\\_Decision\\_Split & R\\_win\\_by\\_Decision\\_Unanimous & R\\_win\\_by\\_KO.TKO & R\\_win\\_by\\_Submission & R\\_win\\_by\\_TKO\\_Doctor\\_Stoppage & R\\_wins & R\\_Stance & R\\_Height\\_cms & R\\_Reach\\_cms & R\\_Weight\\_lbs & B\\_age & R\\_age\\\\\n",
       "  & <fct> & <fct> & <fct> & <fct> & <fct> & <fct> & <fct> & <fct> & <int> & <dbl> & <dbl> & <dbl> & <dbl> & <dbl> & <dbl> & <dbl> & <dbl> & <dbl> & <dbl> & <dbl> & <dbl> & <dbl> & <dbl> & <dbl> & <dbl> & <dbl> & <dbl> & <dbl> & <dbl> & <dbl> & <dbl> & <dbl> & <dbl> & <dbl> & <dbl> & <dbl> & <dbl> & <dbl> & <dbl> & <dbl> & <dbl> & <dbl> & <dbl> & <dbl> & <dbl> & <dbl> & <dbl> & <dbl> & <dbl> & <dbl> & <dbl> & <dbl> & <dbl> & <dbl> & <dbl> & <dbl> & <dbl> & <dbl> & <dbl> & <dbl> & <dbl> & <dbl> & <dbl> & <dbl> & <dbl> & <dbl> & <dbl> & <dbl> & <dbl> & <dbl> & <dbl> & <dbl> & <fct> & <dbl> & <dbl> & <dbl> & <dbl> & <dbl> & <dbl> & <dbl> & <dbl> & <dbl> & <dbl> & <dbl> & <dbl> & <dbl> & <dbl> & <dbl> & <dbl> & <dbl> & <dbl> & <dbl> & <dbl> & <dbl> & <dbl> & <dbl> & <dbl> & <dbl> & <dbl> & <dbl> & <dbl> & <dbl> & <dbl> & <dbl> & <dbl> & <dbl> & <dbl> & <dbl> & <dbl> & <dbl> & <dbl> & <dbl> & <dbl> & <dbl> & <dbl> & <dbl> & <dbl> & <dbl> & <dbl> & <dbl> & <dbl> & <dbl> & <dbl> & <dbl> & <dbl> & <dbl> & <dbl> & <dbl> & <dbl> & <dbl> & <dbl> & <dbl> & <dbl> & <dbl> & <dbl> & <dbl> & <dbl> & <dbl> & <dbl> & <fct> & <dbl> & <dbl> & <dbl> & <dbl> & <dbl>\\\\\n",
       "\\hline\n",
       "\t2463 & Justin Salas    & Ben Wall       & Gary Copeland    & 2014-05-10 & Cincinnati, Ohio, USA              & Red  & False & Lightweight   & 3 & 1 & 0 & 0 &  0.000000 & 0.000000 &  0 & 0.000000 &   3.00000 &  1.00000 &  0.00000 &  0.000000 &   2.00000 &  1.00000 & 0.00000000 & 1.000000 & 0.000000 & 0.000000 & 0.0000000 &   3.00000 &  1.00000 & 0.3300000 & 0.000000 & 1.000000 & 0.000000 & 0.0000000 &   3.00000 &  1.00000 & 0 & 1 &  0.000000 & 0.000000 &  0.000000 &  0.000000 &  14.00000 &  8.00000 &  1.000000 &  1.000000 &  15.00000 &  9.00000 & 1.0000000 &  0.000000 &  0.000000 & 0.0000000 & 0.0000000 &  15.00000 &  9.00000 & 0.6000000 & 0.0000000 & 0.000000 & 0.0000000 & 0.00000000 &  15.0000 &  9.00000 &  1 &  43.0000 & 0 & 0 & 0 & 0 & 0 & 0 & 0 & 0 & Orthodox & 177.80 & 185.42 & 155 & 1 & 0 & 0 &  7.50000 &  5.250000 &  6.250000 &  4.50000 & 57.75000 & 20.00000 &  5.000000 & 3.750000 & 52.75000 & 17.00000 & 0.0000000 &  8.750000 & 6.000000 & 0.500000 & 0.0000000 & 69.00000 & 28.25000 & 0.4200000 & 0.0000000 & 7.000000 & 1.750000 & 0.1475000 &  77.0000 & 35.75000 & 1 & 2 & 16.000000 & 7.750000 &  7.250000 &  5.250000 &  73.50000 & 16.50000 &  4.250000 &  2.500000 & 64.25 & 13.75000 & 0.5000000 &  4.750000 &  2.750000 & 0.500000 & 0.0000000 &  85.00000 & 24.25000 & 0.430 & 0.2500000 & 0.250000 & 0.250000 & 0.2500000 &  89.75000 & 28.75000 &  8 & 506.0000 & 0 & 0 & 1 & 1 & 0 & 0 & 0 & 2 & Southpaw & 172.72 & 177.80 & 155 & 25 & 32\\\\\n",
       "\t2511 & Leonardo Santos & Norman Parke   & Wernei Cardoso   & 2014-03-23 & Natal, Rio Grande do Norte, Brazil & Draw & False & Lightweight   & 3 & 0 & 3 & 0 & 14.333333 & 9.666667 &  4 & 2.666667 & 150.33333 & 58.33333 &  3.00000 &  2.666667 & 135.00000 & 48.33333 & 0.00000000 & 8.000000 & 5.666667 & 3.333333 & 0.3333333 & 157.33333 & 63.66667 & 0.4233333 & 0.000000 & 7.666667 & 3.000000 & 0.6033333 & 163.33333 & 69.00000 & 3 & 0 & 15.666667 & 9.000000 &  5.666667 &  2.666667 & 143.33333 & 52.66667 &  0.000000 &  0.000000 & 110.66667 & 27.33333 & 0.0000000 & 22.666667 & 19.000000 & 0.3333333 & 0.0000000 & 149.00000 & 55.33333 & 0.3633333 & 0.0000000 & 2.000000 & 0.3333333 & 0.06666667 & 161.0000 & 64.66667 &  9 & 900.0000 & 1 & 0 & 0 & 3 & 0 & 0 & 0 & 3 &          & 180.34 & 177.80 & 155 & 0 & 1 & 0 &  5.00000 &  4.000000 &  2.000000 &  2.00000 & 39.00000 & 17.00000 &  5.000000 & 3.000000 & 39.00000 & 16.00000 & 0.0000000 &  2.000000 & 2.000000 & 2.000000 & 0.0000000 & 46.00000 & 22.00000 & 0.4700000 & 1.0000000 & 7.000000 & 1.000000 & 0.1400000 &  63.0000 & 34.00000 & 1 & 0 &  7.000000 & 7.000000 & 11.000000 & 10.000000 &  28.00000 & 14.00000 & 18.000000 & 11.000000 & 44.00 & 22.00000 & 0.0000000 &  6.000000 &  6.000000 & 0.000000 & 0.0000000 &  57.00000 & 35.00000 & 0.610 & 0.0000000 & 4.000000 & 2.000000 & 0.5000000 &  67.00000 & 45.00000 &  2 & 583.0000 & 1 & 0 & 0 & 0 & 0 & 1 & 0 & 1 & Orthodox & 182.88 & 190.50 & 155 & 27 & 34\\\\\n",
       "\t2227 & Pedro Munhoz    & Jerrod Sanders & Brad Jardine     & 2014-10-04 & Halifax, Nova Scotia, Canada       & Draw & False & Bantamweight  & 3 & 1 & 0 & 0 &  1.000000 & 1.000000 &  0 & 0.000000 &   1.00000 &  1.00000 &  2.00000 &  1.000000 &   2.00000 &  1.00000 & 0.00000000 & 0.000000 & 0.000000 & 0.000000 & 1.0000000 &   3.00000 &  2.00000 & 0.6600000 & 0.000000 & 0.000000 & 0.000000 & 0.0000000 &   5.00000 &  3.00000 & 0 & 1 &  4.000000 & 4.000000 &  1.000000 &  1.000000 &   1.00000 &  1.00000 & 19.000000 & 11.000000 &  16.00000 &  8.00000 & 1.0000000 &  1.000000 &  1.000000 & 1.0000000 & 1.0000000 &  21.00000 & 13.00000 & 0.6100000 & 0.0000000 & 0.000000 & 0.0000000 & 0.00000000 &  38.0000 & 27.00000 &  1 & 300.0000 & 0 & 0 & 0 & 0 & 0 & 0 & 0 & 0 & Orthodox & 172.72 & 182.88 & 135 & 0 & 1 & 0 & 12.50000 &  6.500000 &  2.000000 &  1.00000 & 66.50000 & 24.50000 &  3.000000 & 3.000000 & 47.50000 & 14.50000 & 0.0000000 & 11.500000 & 7.500000 & 0.000000 & 0.0000000 & 71.50000 & 28.50000 & 0.4400000 & 1.0000000 & 1.500000 & 1.000000 & 0.5000000 &  77.5000 & 34.00000 & 1 & 1 &  7.000000 & 4.500000 &  3.000000 &  1.500000 & 104.50000 & 46.00000 &  9.000000 &  6.000000 & 95.50 & 37.50000 & 0.0000000 & 14.000000 & 11.500000 & 0.500000 & 0.0000000 & 116.50000 & 53.50000 & 0.365 & 0.0000000 & 1.500000 & 1.500000 & 0.5000000 & 126.00000 & 61.50000 &  4 & 533.5000 & 0 & 0 & 0 & 0 & 1 & 0 & 0 & 1 & Orthodox & 167.64 & 165.10 & 135 & 35 & 28\\\\\n",
       "\t526 & Arnold Allen    & Mads Burnell   & Neil Hall        & 2018-05-27 & Liverpool, England, United Kingdom & Red  & False & Featherweight & 3 & 0 & 1 & 0 &  4.000000 & 2.500000 &  2 & 1.500000 &  21.00000 &  6.50000 &  9.00000 &  7.000000 &  27.50000 & 12.00000 & 0.00000000 & 0.500000 & 0.500000 & 5.500000 & 0.5000000 &  32.00000 & 15.00000 & 0.4550000 & 0.500000 & 3.500000 & 1.500000 & 0.2100000 & 100.50000 & 61.00000 & 1 & 1 & 12.000000 & 8.000000 & 16.500000 & 13.000000 &  30.00000 & 12.00000 & 17.000000 & 13.500000 &  47.00000 & 27.50000 & 0.0000000 &  4.500000 &  3.000000 & 9.0000000 & 0.5000000 &  63.50000 & 38.50000 & 0.5900000 & 1.5000000 & 4.500000 & 3.5000000 & 0.83000000 &  98.0000 & 69.00000 &  6 & 793.0000 & 0 & 0 & 0 & 1 & 0 & 0 & 0 & 1 & Orthodox & 172.72 & 175.26 & 145 & 0 & 3 & 0 &  8.00000 &  4.333333 &  7.333333 &  3.00000 & 64.66667 & 16.66667 & 11.333333 & 9.000000 & 72.00000 & 22.33333 & 0.3333333 &  3.333333 & 2.000000 & 2.333333 & 0.0000000 & 83.33333 & 28.66667 & 0.3433333 & 0.6666667 & 4.666667 & 2.666667 & 0.5833333 & 105.6667 & 49.33333 & 3 & 0 &  7.000000 & 4.333333 &  7.000000 &  4.333333 &  47.33333 & 18.00000 &  3.333333 &  3.333333 & 46.00 & 17.33333 & 0.0000000 &  4.666667 &  4.000000 & 1.666667 & 0.3333333 &  57.66667 & 25.66667 & 0.430 & 1.0000000 & 8.000000 & 2.000000 & 0.2766667 &  94.33333 & 56.00000 &  9 & 833.6667 & 0 & 0 & 1 & 1 & 0 & 1 & 0 & 3 & Southpaw & 172.72 & 177.80 & 145 & 24 & 24\\\\\n",
       "\t4291 & Tyson Griffin   & Gleison Tibau  & Steve Mazzagatti & 2008-02-02 & Las Vegas, Nevada, USA             & Red  & False & Lightweight   & 3 & 0 & 3 & 0 &  0.750000 & 0.750000 &  0 & 0.000000 &   9.25000 &  2.25000 & 20.75000 & 11.000000 &  28.50000 & 12.00000 & 0.00000000 & 0.750000 & 0.500000 & 4.250000 & 0.2500000 &  30.00000 & 13.25000 & 0.4075000 & 0.750000 & 4.750000 & 3.000000 & 0.3825000 &  79.75000 & 57.00000 & 3 & 1 &  3.250000 & 1.750000 &  0.500000 &  0.250000 &  19.75000 &  7.25000 & 12.500000 &  6.000000 &  26.25000 &  9.00000 & 0.0000000 &  3.250000 &  2.750000 & 0.2500000 & 0.2500000 &  32.75000 & 13.50000 & 0.3175000 & 0.2500000 & 0.750000 & 0.2500000 & 0.25000000 &  87.7500 & 63.50000 &  9 & 589.7500 & 0 & 0 & 0 & 2 & 0 & 1 & 0 & 3 & Southpaw & 177.80 & 180.34 & 155 & 0 & 2 & 0 &  8.50000 &  7.250000 &  8.000000 &  6.25000 & 49.25000 & 16.25000 & 10.000000 & 6.750000 & 52.50000 & 16.00000 & 0.0000000 &  6.250000 & 6.000000 & 0.250000 & 0.2500000 & 67.25000 & 29.25000 & 0.3325000 & 2.0000000 & 3.750000 & 2.000000 & 0.7075000 &  97.2500 & 56.25000 & 2 & 1 &  7.750000 & 7.000000 & 10.750000 &  8.250000 &  23.25000 &  6.75000 & 13.000000 &  9.500000 & 38.25 & 16.75000 & 0.0000000 &  1.000000 &  0.750000 & 4.000000 & 0.7500000 &  47.00000 & 24.50000 & 0.470 & 1.5000000 & 9.500000 & 4.000000 & 0.3125000 &  76.75000 & 52.00000 & 10 & 702.5000 & 0 & 0 & 1 & 1 & 0 & 1 & 0 & 3 & Orthodox & 167.64 & 172.72 & 145 & 24 & 23\\\\\n",
       "\t2986 & TJ Grant        & Matt Wiman     & John McCarthy    & 2013-01-26 & Chicago, Illinois, USA             & Red  & False & Lightweight   & 3 & 0 & 2 & 0 &  5.230769 & 3.769231 & 11 & 7.000000 &  35.69231 & 14.07692 & 21.61538 & 12.538462 &  56.30769 & 24.53846 & 0.07692308 & 6.769231 & 5.307692 & 1.538462 & 0.3846154 &  68.30769 & 33.61538 & 0.5092308 & 1.384615 & 4.538462 & 1.846154 & 0.4407692 &  91.53846 & 53.07692 & 4 & 4 &  7.923077 & 6.230769 & 13.769231 &  8.153846 &  43.46154 & 14.61538 &  8.076923 &  4.076923 &  53.84615 & 18.07692 & 0.1538462 &  3.538462 &  2.538462 & 0.6923077 & 0.3076923 &  65.30769 & 26.84615 & 0.4238462 & 0.7692308 & 2.153846 & 0.9230769 & 0.38153846 & 107.6923 & 62.84615 & 29 & 596.7692 & 0 & 0 & 0 & 4 & 2 & 3 & 0 & 9 & Orthodox & 177.80 & 172.72 & 155 & 0 & 3 & 0 & 18.33333 & 15.000000 & 17.000000 & 12.11111 & 65.00000 & 31.11111 &  6.777778 & 4.555556 & 63.55556 & 26.55556 & 0.1111111 &  6.888889 & 6.222222 & 3.666667 & 0.5555556 & 88.77778 & 47.77778 & 0.5100000 & 0.5555556 & 3.555556 & 1.555556 & 0.3733333 & 115.6667 & 72.00000 & 3 & 3 &  7.222222 & 4.555556 &  5.666667 &  3.222222 &  71.77778 & 28.55556 & 20.000000 & 10.888889 & 85.00 & 33.44444 & 0.1111111 &  5.222222 &  4.666667 & 1.555556 & 0.8888889 &  97.44444 & 42.66667 & 0.420 & 0.5555556 & 4.111111 & 2.666667 & 0.4722222 & 124.22222 & 66.44444 & 25 & 814.3333 & 0 & 0 & 1 & 3 & 1 & 1 & 0 & 6 & Orthodox & 177.80 & 182.88 & 155 & 29 & 28\\\\\n",
       "\\end{tabular}\n"
      ],
      "text/markdown": [
       "\n",
       "A data.frame: 6 × 145\n",
       "\n",
       "| <!--/--> | R_fighter &lt;fct&gt; | B_fighter &lt;fct&gt; | Referee &lt;fct&gt; | date &lt;fct&gt; | location &lt;fct&gt; | Winner &lt;fct&gt; | title_bout &lt;fct&gt; | weight_class &lt;fct&gt; | no_of_rounds &lt;int&gt; | B_current_lose_streak &lt;dbl&gt; | ... ... | R_win_by_KO.TKO &lt;dbl&gt; | R_win_by_Submission &lt;dbl&gt; | R_win_by_TKO_Doctor_Stoppage &lt;dbl&gt; | R_wins &lt;dbl&gt; | R_Stance &lt;fct&gt; | R_Height_cms &lt;dbl&gt; | R_Reach_cms &lt;dbl&gt; | R_Weight_lbs &lt;dbl&gt; | B_age &lt;dbl&gt; | R_age &lt;dbl&gt; |\n",
       "|---|---|---|---|---|---|---|---|---|---|---|---|---|---|---|---|---|---|---|---|---|---|\n",
       "| 2463 | Justin Salas    | Ben Wall       | Gary Copeland    | 2014-05-10 | Cincinnati, Ohio, USA              | Red  | False | Lightweight   | 3 | 1 | ... | 0 | 0 | 0 | 2 | Southpaw | 172.72 | 177.80 | 155 | 25 | 32 |\n",
       "| 2511 | Leonardo Santos | Norman Parke   | Wernei Cardoso   | 2014-03-23 | Natal, Rio Grande do Norte, Brazil | Draw | False | Lightweight   | 3 | 0 | ... | 0 | 1 | 0 | 1 | Orthodox | 182.88 | 190.50 | 155 | 27 | 34 |\n",
       "| 2227 | Pedro Munhoz    | Jerrod Sanders | Brad Jardine     | 2014-10-04 | Halifax, Nova Scotia, Canada       | Draw | False | Bantamweight  | 3 | 1 | ... | 1 | 0 | 0 | 1 | Orthodox | 167.64 | 165.10 | 135 | 35 | 28 |\n",
       "| 526 | Arnold Allen    | Mads Burnell   | Neil Hall        | 2018-05-27 | Liverpool, England, United Kingdom | Red  | False | Featherweight | 3 | 0 | ... | 0 | 1 | 0 | 3 | Southpaw | 172.72 | 177.80 | 145 | 24 | 24 |\n",
       "| 4291 | Tyson Griffin   | Gleison Tibau  | Steve Mazzagatti | 2008-02-02 | Las Vegas, Nevada, USA             | Red  | False | Lightweight   | 3 | 0 | ... | 0 | 1 | 0 | 3 | Orthodox | 167.64 | 172.72 | 145 | 24 | 23 |\n",
       "| 2986 | TJ Grant        | Matt Wiman     | John McCarthy    | 2013-01-26 | Chicago, Illinois, USA             | Red  | False | Lightweight   | 3 | 0 | ... | 1 | 1 | 0 | 6 | Orthodox | 177.80 | 182.88 | 155 | 29 | 28 |\n",
       "\n"
      ],
      "text/plain": [
       "     R_fighter       B_fighter      Referee          date      \n",
       "2463 Justin Salas    Ben Wall       Gary Copeland    2014-05-10\n",
       "2511 Leonardo Santos Norman Parke   Wernei Cardoso   2014-03-23\n",
       "2227 Pedro Munhoz    Jerrod Sanders Brad Jardine     2014-10-04\n",
       "526  Arnold Allen    Mads Burnell   Neil Hall        2018-05-27\n",
       "4291 Tyson Griffin   Gleison Tibau  Steve Mazzagatti 2008-02-02\n",
       "2986 TJ Grant        Matt Wiman     John McCarthy    2013-01-26\n",
       "     location                           Winner title_bout weight_class \n",
       "2463 Cincinnati, Ohio, USA              Red    False      Lightweight  \n",
       "2511 Natal, Rio Grande do Norte, Brazil Draw   False      Lightweight  \n",
       "2227 Halifax, Nova Scotia, Canada       Draw   False      Bantamweight \n",
       "526  Liverpool, England, United Kingdom Red    False      Featherweight\n",
       "4291 Las Vegas, Nevada, USA             Red    False      Lightweight  \n",
       "2986 Chicago, Illinois, USA             Red    False      Lightweight  \n",
       "     no_of_rounds B_current_lose_streak ... R_win_by_KO.TKO R_win_by_Submission\n",
       "2463 3            1                     ... 0               0                  \n",
       "2511 3            0                     ... 0               1                  \n",
       "2227 3            1                     ... 1               0                  \n",
       "526  3            0                     ... 0               1                  \n",
       "4291 3            0                     ... 0               1                  \n",
       "2986 3            0                     ... 1               1                  \n",
       "     R_win_by_TKO_Doctor_Stoppage R_wins R_Stance R_Height_cms R_Reach_cms\n",
       "2463 0                            2      Southpaw 172.72       177.80     \n",
       "2511 0                            1      Orthodox 182.88       190.50     \n",
       "2227 0                            1      Orthodox 167.64       165.10     \n",
       "526  0                            3      Southpaw 172.72       177.80     \n",
       "4291 0                            3      Orthodox 167.64       172.72     \n",
       "2986 0                            6      Orthodox 177.80       182.88     \n",
       "     R_Weight_lbs B_age R_age\n",
       "2463 155          25    32   \n",
       "2511 155          27    34   \n",
       "2227 135          35    28   \n",
       "526  145          24    24   \n",
       "4291 145          24    23   \n",
       "2986 155          29    28   "
      ]
     },
     "metadata": {},
     "output_type": "display_data"
    }
   ],
   "source": [
    "# 4. Inspect head of data to see if it reading in properly. \n",
    "head(train)"
   ]
  },
  {
   "cell_type": "code",
   "execution_count": 171,
   "metadata": {},
   "outputs": [
    {
     "data": {
      "text/html": [
       "<table>\n",
       "<caption>A data.frame: 6 × 145</caption>\n",
       "<thead>\n",
       "\t<tr><th></th><th scope=col>R_fighter</th><th scope=col>B_fighter</th><th scope=col>Referee</th><th scope=col>date</th><th scope=col>location</th><th scope=col>Winner</th><th scope=col>title_bout</th><th scope=col>weight_class</th><th scope=col>no_of_rounds</th><th scope=col>B_current_lose_streak</th><th scope=col>...</th><th scope=col>R_win_by_KO.TKO</th><th scope=col>R_win_by_Submission</th><th scope=col>R_win_by_TKO_Doctor_Stoppage</th><th scope=col>R_wins</th><th scope=col>R_Stance</th><th scope=col>R_Height_cms</th><th scope=col>R_Reach_cms</th><th scope=col>R_Weight_lbs</th><th scope=col>B_age</th><th scope=col>R_age</th></tr>\n",
       "\t<tr><th></th><th scope=col>&lt;fct&gt;</th><th scope=col>&lt;fct&gt;</th><th scope=col>&lt;fct&gt;</th><th scope=col>&lt;fct&gt;</th><th scope=col>&lt;fct&gt;</th><th scope=col>&lt;fct&gt;</th><th scope=col>&lt;fct&gt;</th><th scope=col>&lt;fct&gt;</th><th scope=col>&lt;int&gt;</th><th scope=col>&lt;dbl&gt;</th><th scope=col>...</th><th scope=col>&lt;dbl&gt;</th><th scope=col>&lt;dbl&gt;</th><th scope=col>&lt;dbl&gt;</th><th scope=col>&lt;dbl&gt;</th><th scope=col>&lt;fct&gt;</th><th scope=col>&lt;dbl&gt;</th><th scope=col>&lt;dbl&gt;</th><th scope=col>&lt;dbl&gt;</th><th scope=col>&lt;dbl&gt;</th><th scope=col>&lt;dbl&gt;</th></tr>\n",
       "</thead>\n",
       "<tbody>\n",
       "\t<tr><th scope=row>3455</th><td>Cody McKenzie      </td><td>Vagner Rocha     </td><td>Yves Lavigne  </td><td>2011-09-17</td><td>New Orleans, Louisiana, USA  </td><td>Blue</td><td>False</td><td>Lightweight      </td><td>3</td><td>1</td><td>...</td><td>0</td><td>1</td><td>0</td><td> 1</td><td>Switch  </td><td>182.88</td><td>182.88</td><td>155</td><td>29</td><td>23</td></tr>\n",
       "\t<tr><th scope=row>235</th><td>Curtis Millender   </td><td>Siyar Bahadurzada</td><td>Mike Beltran  </td><td>2018-12-29</td><td>Los Angeles, California, USA </td><td>Red </td><td>False</td><td>Welterweight     </td><td>3</td><td>0</td><td>...</td><td>1</td><td>0</td><td>0</td><td> 2</td><td>Orthodox</td><td>187.96</td><td>193.04</td><td>170</td><td>34</td><td>31</td></tr>\n",
       "\t<tr><th scope=row>146</th><td>Maurice Greene     </td><td>Jeff Hughes      </td><td>Nick Berens   </td><td>2019-03-09</td><td>Wichita, Kansas, USA         </td><td>Red </td><td>False</td><td>Heavyweight      </td><td>3</td><td>0</td><td>...</td><td>0</td><td>1</td><td>0</td><td> 1</td><td>        </td><td>200.66</td><td>208.28</td><td>258</td><td>30</td><td>32</td></tr>\n",
       "\t<tr><th scope=row>3898</th><td>BJ Penn            </td><td>Diego Sanchez    </td><td>Herb Dean     </td><td>2009-12-12</td><td>Memphis, Tennessee, USA      </td><td>Red </td><td>True </td><td>Lightweight      </td><td>5</td><td>0</td><td>...</td><td>5</td><td>4</td><td>0</td><td>10</td><td>Orthodox</td><td>175.26</td><td>177.80</td><td>155</td><td>27</td><td>30</td></tr>\n",
       "\t<tr><th scope=row>3512</th><td>Christian Morecraft</td><td>Matt Mitrione    </td><td>Mark Matheny  </td><td>2011-06-26</td><td>Pittsburgh, Pennsylvania, USA</td><td>Blue</td><td>False</td><td>Heavyweight      </td><td>3</td><td>0</td><td>...</td><td>0</td><td>1</td><td>0</td><td> 1</td><td>Orthodox</td><td>198.12</td><td>205.74</td><td>260</td><td>32</td><td>24</td></tr>\n",
       "\t<tr><th scope=row>2230</th><td>Ilir Latifi        </td><td>Jan Blachowicz   </td><td>Grant Waterman</td><td>2014-10-04</td><td>Stockholm, Sweden            </td><td>Blue</td><td>False</td><td>Light Heavyweight</td><td>3</td><td>0</td><td>...</td><td>1</td><td>1</td><td>0</td><td> 2</td><td>Orthodox</td><td>177.80</td><td>185.42</td><td>205</td><td>31</td><td>31</td></tr>\n",
       "</tbody>\n",
       "</table>\n"
      ],
      "text/latex": [
       "A data.frame: 6 × 145\n",
       "\\begin{tabular}{r|lllllllllllllllllllllllllllllllllllllllllllllllllllllllllllllllllllllllllllllllllllllllllllllllllllllllllllllllllllllllllllllllllllllllllllllllll}\n",
       "  & R\\_fighter & B\\_fighter & Referee & date & location & Winner & title\\_bout & weight\\_class & no\\_of\\_rounds & B\\_current\\_lose\\_streak & B\\_current\\_win\\_streak & B\\_draw & B\\_avg\\_BODY\\_att & B\\_avg\\_BODY\\_landed & B\\_avg\\_CLINCH\\_att & B\\_avg\\_CLINCH\\_landed & B\\_avg\\_DISTANCE\\_att & B\\_avg\\_DISTANCE\\_landed & B\\_avg\\_GROUND\\_att & B\\_avg\\_GROUND\\_landed & B\\_avg\\_HEAD\\_att & B\\_avg\\_HEAD\\_landed & B\\_avg\\_KD & B\\_avg\\_LEG\\_att & B\\_avg\\_LEG\\_landed & B\\_avg\\_PASS & B\\_avg\\_REV & B\\_avg\\_SIG\\_STR\\_att & B\\_avg\\_SIG\\_STR\\_landed & B\\_avg\\_SIG\\_STR\\_pct & B\\_avg\\_SUB\\_ATT & B\\_avg\\_TD\\_att & B\\_avg\\_TD\\_landed & B\\_avg\\_TD\\_pct & B\\_avg\\_TOTAL\\_STR\\_att & B\\_avg\\_TOTAL\\_STR\\_landed & B\\_longest\\_win\\_streak & B\\_losses & B\\_avg\\_opp\\_BODY\\_att & B\\_avg\\_opp\\_BODY\\_landed & B\\_avg\\_opp\\_CLINCH\\_att & B\\_avg\\_opp\\_CLINCH\\_landed & B\\_avg\\_opp\\_DISTANCE\\_att & B\\_avg\\_opp\\_DISTANCE\\_landed & B\\_avg\\_opp\\_GROUND\\_att & B\\_avg\\_opp\\_GROUND\\_landed & B\\_avg\\_opp\\_HEAD\\_att & B\\_avg\\_opp\\_HEAD\\_landed & B\\_avg\\_opp\\_KD & B\\_avg\\_opp\\_LEG\\_att & B\\_avg\\_opp\\_LEG\\_landed & B\\_avg\\_opp\\_PASS & B\\_avg\\_opp\\_REV & B\\_avg\\_opp\\_SIG\\_STR\\_att & B\\_avg\\_opp\\_SIG\\_STR\\_landed & B\\_avg\\_opp\\_SIG\\_STR\\_pct & B\\_avg\\_opp\\_SUB\\_ATT & B\\_avg\\_opp\\_TD\\_att & B\\_avg\\_opp\\_TD\\_landed & B\\_avg\\_opp\\_TD\\_pct & B\\_avg\\_opp\\_TOTAL\\_STR\\_att & B\\_avg\\_opp\\_TOTAL\\_STR\\_landed & B\\_total\\_rounds\\_fought & B\\_total\\_time\\_fought.seconds. & B\\_total\\_title\\_bouts & B\\_win\\_by\\_Decision\\_Majority & B\\_win\\_by\\_Decision\\_Split & B\\_win\\_by\\_Decision\\_Unanimous & B\\_win\\_by\\_KO.TKO & B\\_win\\_by\\_Submission & B\\_win\\_by\\_TKO\\_Doctor\\_Stoppage & B\\_wins & B\\_Stance & B\\_Height\\_cms & B\\_Reach\\_cms & B\\_Weight\\_lbs & R\\_current\\_lose\\_streak & R\\_current\\_win\\_streak & R\\_draw & R\\_avg\\_BODY\\_att & R\\_avg\\_BODY\\_landed & R\\_avg\\_CLINCH\\_att & R\\_avg\\_CLINCH\\_landed & R\\_avg\\_DISTANCE\\_att & R\\_avg\\_DISTANCE\\_landed & R\\_avg\\_GROUND\\_att & R\\_avg\\_GROUND\\_landed & R\\_avg\\_HEAD\\_att & R\\_avg\\_HEAD\\_landed & R\\_avg\\_KD & R\\_avg\\_LEG\\_att & R\\_avg\\_LEG\\_landed & R\\_avg\\_PASS & R\\_avg\\_REV & R\\_avg\\_SIG\\_STR\\_att & R\\_avg\\_SIG\\_STR\\_landed & R\\_avg\\_SIG\\_STR\\_pct & R\\_avg\\_SUB\\_ATT & R\\_avg\\_TD\\_att & R\\_avg\\_TD\\_landed & R\\_avg\\_TD\\_pct & R\\_avg\\_TOTAL\\_STR\\_att & R\\_avg\\_TOTAL\\_STR\\_landed & R\\_longest\\_win\\_streak & R\\_losses & R\\_avg\\_opp\\_BODY\\_att & R\\_avg\\_opp\\_BODY\\_landed & R\\_avg\\_opp\\_CLINCH\\_att & R\\_avg\\_opp\\_CLINCH\\_landed & R\\_avg\\_opp\\_DISTANCE\\_att & R\\_avg\\_opp\\_DISTANCE\\_landed & R\\_avg\\_opp\\_GROUND\\_att & R\\_avg\\_opp\\_GROUND\\_landed & R\\_avg\\_opp\\_HEAD\\_att & R\\_avg\\_opp\\_HEAD\\_landed & R\\_avg\\_opp\\_KD & R\\_avg\\_opp\\_LEG\\_att & R\\_avg\\_opp\\_LEG\\_landed & R\\_avg\\_opp\\_PASS & R\\_avg\\_opp\\_REV & R\\_avg\\_opp\\_SIG\\_STR\\_att & R\\_avg\\_opp\\_SIG\\_STR\\_landed & R\\_avg\\_opp\\_SIG\\_STR\\_pct & R\\_avg\\_opp\\_SUB\\_ATT & R\\_avg\\_opp\\_TD\\_att & R\\_avg\\_opp\\_TD\\_landed & R\\_avg\\_opp\\_TD\\_pct & R\\_avg\\_opp\\_TOTAL\\_STR\\_att & R\\_avg\\_opp\\_TOTAL\\_STR\\_landed & R\\_total\\_rounds\\_fought & R\\_total\\_time\\_fought.seconds. & R\\_total\\_title\\_bouts & R\\_win\\_by\\_Decision\\_Majority & R\\_win\\_by\\_Decision\\_Split & R\\_win\\_by\\_Decision\\_Unanimous & R\\_win\\_by\\_KO.TKO & R\\_win\\_by\\_Submission & R\\_win\\_by\\_TKO\\_Doctor\\_Stoppage & R\\_wins & R\\_Stance & R\\_Height\\_cms & R\\_Reach\\_cms & R\\_Weight\\_lbs & B\\_age & R\\_age\\\\\n",
       "  & <fct> & <fct> & <fct> & <fct> & <fct> & <fct> & <fct> & <fct> & <int> & <dbl> & <dbl> & <dbl> & <dbl> & <dbl> & <dbl> & <dbl> & <dbl> & <dbl> & <dbl> & <dbl> & <dbl> & <dbl> & <dbl> & <dbl> & <dbl> & <dbl> & <dbl> & <dbl> & <dbl> & <dbl> & <dbl> & <dbl> & <dbl> & <dbl> & <dbl> & <dbl> & <dbl> & <dbl> & <dbl> & <dbl> & <dbl> & <dbl> & <dbl> & <dbl> & <dbl> & <dbl> & <dbl> & <dbl> & <dbl> & <dbl> & <dbl> & <dbl> & <dbl> & <dbl> & <dbl> & <dbl> & <dbl> & <dbl> & <dbl> & <dbl> & <dbl> & <dbl> & <dbl> & <dbl> & <dbl> & <dbl> & <dbl> & <dbl> & <dbl> & <dbl> & <dbl> & <dbl> & <fct> & <dbl> & <dbl> & <dbl> & <dbl> & <dbl> & <dbl> & <dbl> & <dbl> & <dbl> & <dbl> & <dbl> & <dbl> & <dbl> & <dbl> & <dbl> & <dbl> & <dbl> & <dbl> & <dbl> & <dbl> & <dbl> & <dbl> & <dbl> & <dbl> & <dbl> & <dbl> & <dbl> & <dbl> & <dbl> & <dbl> & <dbl> & <dbl> & <dbl> & <dbl> & <dbl> & <dbl> & <dbl> & <dbl> & <dbl> & <dbl> & <dbl> & <dbl> & <dbl> & <dbl> & <dbl> & <dbl> & <dbl> & <dbl> & <dbl> & <dbl> & <dbl> & <dbl> & <dbl> & <dbl> & <dbl> & <dbl> & <dbl> & <dbl> & <dbl> & <dbl> & <dbl> & <dbl> & <dbl> & <dbl> & <dbl> & <dbl> & <fct> & <dbl> & <dbl> & <dbl> & <dbl> & <dbl>\\\\\n",
       "\\hline\n",
       "\t3455 & Cody McKenzie       & Vagner Rocha      & Yves Lavigne   & 2011-09-17 & New Orleans, Louisiana, USA   & Blue & False & Lightweight       & 3 & 1 & 0 & 0 & 10.000000 & 5.000000 &  1.000000 & 1.00 & 102.00000 & 44.00000 &  3.00000 &  1.00000 & 85.00000 & 31.00000 & 0.0000000 & 11.000000 & 10.0000000 & 0.0000000 & 0.0000000 & 106.00000 & 46.00000 & 0.4300000 & 0.0000000 & 7.00 & 1.0000000 & 0.1400000 & 108.00000 & 47.00000 & 0 & 1 & 15.0 & 11.000000 & 2.000000 & 2.000000 & 140.00000 & 83.00000 &  3.000000 & 1.000000 & 73.0 & 25.00000 &  0 & 57.000000 & 50.000000 & 0.00 & 0.0000000 & 145.00000 & 86.00000 & 0.5900 & 0.0000000 & 1.000000 & 0.0 & 0.0000000 & 146.00000 & 87.00000 &  3 & 900.0000 & 0 & 0 & 0 & 0 & 0 & 0 & 0 &  0 & Orthodox & 177.80 & 185.42 & 155 & 1 & 0 & 0 &  2.000000 & 1.000000 &  2.5000000 & 0.500000 & 31.0 &  5.50000 &  3.500000 &  2.0 & 33.50000 &  6.000000 & 0.0000000 & 1.500000 & 1.000000 & 1.0000000 & 1.00000000 &  37.00000 &  8.00000 & 0.1100000 & 1.0000000 & 5.000000 & 1.5 & 0.6100000 &  61.00000 & 31.50000 & 1 & 1 & 6.0 & 5.500000 & 3.5000000 & 1.5000000 & 33.00000 & 13.50000 &  1.5000000 & 1.5000000 & 28.00000 &  7.50000 & 0.0 &  4.000000 &  3.500000 & 1.5 & 0.5 &  38.00000 & 16.50000 & 0.2200000 & 0.5000000 & 0.500000 & 0.5 & 0.5000000 &  42.5000 & 20.50000 &  3 & 348.0000 & 0 & 0 & 0 & 0 & 0 & 1 & 0 &  1 & Switch   & 182.88 & 182.88 & 155 & 29 & 23\\\\\n",
       "\t235 & Curtis Millender    & Siyar Bahadurzada & Mike Beltran   & 2018-12-29 & Los Angeles, California, USA  & Red  & False & Welterweight      & 3 & 0 & 3 & 0 & 10.166667 & 8.000000 & 13.333333 & 9.50 &  42.16667 & 14.83333 & 16.33333 & 11.00000 & 58.33333 & 25.16667 & 0.8333333 &  3.333333 &  2.1666667 & 0.6666667 & 0.1666667 &  71.83333 & 35.33333 & 0.4916667 & 0.3333333 & 1.00 & 0.8333333 & 0.4166667 & 103.66667 & 64.33333 & 3 & 2 &  7.0 &  4.333333 & 8.833333 & 5.166667 &  28.66667 & 12.66667 & 10.000000 & 4.666667 & 34.5 & 13.00000 &  0 &  6.000000 &  5.166667 & 2.50 & 0.1666667 &  47.50000 & 22.50000 & 0.3800 & 0.1666667 & 4.833333 & 1.5 & 0.2666667 &  97.16667 & 69.33333 & 14 & 607.1667 & 0 & 0 & 0 & 0 & 3 & 1 & 0 &  4 & Orthodox & 180.34 & 185.42 & 170 & 0 & 2 & 0 & 12.500000 & 8.500000 &  3.0000000 & 1.500000 & 93.0 & 38.50000 &  4.000000 &  2.5 & 78.00000 & 27.000000 & 1.0000000 & 9.500000 & 7.000000 & 0.0000000 & 0.00000000 & 100.00000 & 42.50000 & 0.4200000 & 0.0000000 & 0.500000 & 0.5 & 0.5000000 & 101.00000 & 43.50000 & 2 & 0 & 8.5 & 5.000000 & 1.5000000 & 0.5000000 & 95.50000 & 33.50000 &  5.5000000 & 4.5000000 & 69.00000 & 15.50000 & 0.0 & 25.000000 & 18.000000 & 1.0 & 0.0 & 102.50000 & 38.50000 & 0.3750000 & 0.0000000 & 1.500000 & 1.0 & 0.7500000 & 113.5000 & 49.00000 &  5 & 728.5000 & 0 & 0 & 0 & 1 & 1 & 0 & 0 &  2 & Orthodox & 187.96 & 193.04 & 170 & 34 & 31\\\\\n",
       "\t146 & Maurice Greene      & Jeff Hughes       & Nick Berens    & 2019-03-09 & Wichita, Kansas, USA          & Red  & False & Heavyweight       & 3 & 0 & 0 & 0 &        NA &       NA &        NA &   NA &        NA &       NA &       NA &       NA &       NA &       NA &        NA &        NA &         NA &        NA &        NA &        NA &       NA &        NA &        NA &   NA &        NA &        NA &        NA &       NA & 0 & 0 &   NA &        NA &       NA &       NA &        NA &       NA &        NA &       NA &   NA &       NA & NA &        NA &        NA &   NA &        NA &        NA &       NA &     NA &        NA &       NA &  NA &        NA &        NA &       NA &  0 &       NA & 0 & 0 & 0 & 0 & 0 & 0 & 0 &  0 & Orthodox & 187.96 & 198.12 & 250 & 0 & 1 & 0 &  2.000000 & 1.000000 &  5.0000000 & 5.000000 & 10.0 &  4.00000 &  0.000000 &  0.0 & 11.00000 &  6.000000 & 0.0000000 & 2.000000 & 2.000000 & 0.0000000 & 0.00000000 &  15.00000 &  9.00000 & 0.6000000 & 1.0000000 & 0.000000 & 0.0 & 0.0000000 &  18.00000 & 11.00000 & 1 & 0 & 0.0 & 0.000000 & 0.0000000 & 0.0000000 &  0.00000 &  0.00000 &  0.0000000 & 0.0000000 &  0.00000 &  0.00000 & 0.0 &  0.000000 &  0.000000 & 0.0 & 0.0 &   0.00000 &  0.00000 & 0.0000000 & 0.0000000 & 2.000000 & 1.0 & 0.5000000 &  10.0000 &  4.00000 &  1 & 134.0000 & 0 & 0 & 0 & 0 & 0 & 1 & 0 &  1 &          & 200.66 & 208.28 & 258 & 30 & 32\\\\\n",
       "\t3898 & BJ Penn             & Diego Sanchez     & Herb Dean      & 2009-12-12 & Memphis, Tennessee, USA       & Red  & True  & Lightweight       & 5 & 0 & 4 & 0 &  8.166667 & 6.833333 &  6.083333 & 4.25 &  52.25000 & 17.08333 & 25.16667 & 14.33333 & 74.33333 & 27.91667 & 0.4166667 &  1.000000 &  0.9166667 & 1.9166667 & 0.2500000 &  83.50000 & 35.66667 & 0.4608333 & 1.0833333 & 5.25 & 1.5000000 & 0.3733333 &  99.41667 & 49.41667 & 6 & 2 &  3.0 &  2.250000 & 6.333333 & 3.416667 &  43.75000 & 12.50000 &  6.333333 & 3.000000 & 51.5 & 15.08333 &  0 &  1.916667 &  1.583333 & 0.25 & 0.1666667 &  56.41667 & 18.91667 & 0.4450 & 0.3333333 & 2.750000 & 1.5 & 0.3258333 &  86.08333 & 45.66667 & 29 & 676.6667 & 1 & 0 & 1 & 4 & 5 & 0 & 0 & 10 & Southpaw & 177.80 & 182.88 & 170 & 0 & 1 & 0 &  7.866667 & 7.333333 & 10.8000000 & 8.733333 & 36.2 & 18.73333 & 12.400000 &  9.2 & 48.26667 & 26.333333 & 0.3333333 & 3.266667 & 3.000000 & 2.6666667 & 0.06666667 &  59.40000 & 36.66667 & 0.6306667 & 0.7333333 & 2.200000 & 1.4 & 0.4433333 & 103.26667 & 78.93333 & 3 & 5 & 6.6 & 5.533333 & 8.0666667 & 5.3333333 & 41.06667 & 14.40000 & 10.3333333 & 6.8000000 & 45.13333 & 14.86667 & 0.0 &  7.733333 &  6.133333 & 1.2 & 0.4 &  59.46667 & 26.53333 & 0.4020000 & 0.1333333 & 4.933333 & 1.4 & 0.3166667 & 103.0667 & 67.86667 & 40 & 743.5333 & 8 & 0 & 0 & 1 & 5 & 4 & 0 & 10 & Orthodox & 175.26 & 177.80 & 155 & 27 & 30\\\\\n",
       "\t3512 & Christian Morecraft & Matt Mitrione     & Mark Matheny   & 2011-06-26 & Pittsburgh, Pennsylvania, USA & Blue & False & Heavyweight       & 3 & 0 & 4 & 0 &  4.250000 & 4.000000 &  6.250000 & 3.50 &  52.75000 & 26.50000 &  8.25000 &  7.50000 & 55.25000 & 26.50000 & 0.7500000 &  7.750000 &  7.0000000 & 0.5000000 & 0.0000000 &  67.25000 & 37.50000 & 0.5700000 & 1.0000000 & 0.00 & 0.0000000 & 0.0000000 &  76.25000 & 45.75000 & 4 & 0 &  6.5 &  3.750000 & 5.750000 & 4.500000 &  42.50000 & 10.50000 &  3.000000 & 2.500000 & 42.0 & 11.25000 &  0 &  2.750000 &  2.500000 & 1.50 & 0.0000000 &  51.25000 & 17.50000 & 0.3625 & 0.2500000 & 3.750000 & 1.5 & 0.3700000 &  66.25000 & 30.25000 &  8 & 488.2500 & 0 & 0 & 0 & 1 & 3 & 0 & 0 &  4 & Switch   & 190.50 & 200.66 & 265 & 0 & 1 & 0 &  3.000000 & 3.000000 &  3.0000000 & 2.000000 & 16.5 &  4.00000 & 39.500000 & 23.0 & 54.50000 & 24.500000 & 0.0000000 & 1.500000 & 1.500000 & 3.0000000 & 0.50000000 &  59.00000 & 29.00000 & 0.4850000 & 1.5000000 & 1.500000 & 1.0 & 0.7500000 &  98.50000 & 62.00000 & 1 & 1 & 1.0 & 1.000000 & 0.5000000 & 0.0000000 & 11.00000 &  5.00000 &  5.0000000 & 4.5000000 & 15.00000 &  8.00000 & 0.5 &  0.500000 &  0.500000 & 0.0 & 0.0 &  16.50000 &  9.50000 & 0.5700000 & 1.0000000 & 1.000000 & 0.5 & 0.2500000 &  19.5000 & 12.00000 &  4 & 436.0000 & 0 & 0 & 0 & 0 & 0 & 1 & 0 &  1 & Orthodox & 198.12 & 205.74 & 260 & 32 & 24\\\\\n",
       "\t2230 & Ilir Latifi         & Jan Blachowicz    & Grant Waterman & 2014-10-04 & Stockholm, Sweden             & Blue & False & Light Heavyweight & 3 & 0 & 0 & 0 &        NA &       NA &        NA &   NA &        NA &       NA &       NA &       NA &       NA &       NA &        NA &        NA &         NA &        NA &        NA &        NA &       NA &        NA &        NA &   NA &        NA &        NA &        NA &       NA & 0 & 0 &   NA &        NA &       NA &       NA &        NA &       NA &        NA &       NA &   NA &       NA & NA &        NA &        NA &   NA &        NA &        NA &       NA &     NA &        NA &       NA &  NA &        NA &        NA &       NA &  0 &       NA & 0 & 0 & 0 & 0 & 0 & 0 & 0 &  0 & Orthodox & 187.96 & 198.12 & 205 & 0 & 2 & 0 &  2.000000 & 1.333333 &  0.3333333 & 0.000000 & 45.0 & 10.33333 &  2.333333 &  1.0 & 41.66667 &  6.666667 & 0.0000000 & 4.000000 & 3.333333 & 0.3333333 & 0.00000000 &  47.66667 & 11.33333 & 0.2233333 & 0.6666667 & 1.666667 & 1.0 & 0.7766667 &  50.33333 & 12.66667 & 2 & 1 & 6.0 & 2.333333 & 0.3333333 & 0.3333333 & 50.66667 & 26.33333 &  0.6666667 & 0.3333333 & 41.66667 & 21.00000 & 0.0 &  4.000000 &  3.666667 & 0.0 & 0.0 &  51.66667 & 27.00000 & 0.2433333 & 0.0000000 & 0.000000 & 0.0 & 0.0000000 &  52.0000 & 27.33333 &  5 & 403.0000 & 0 & 0 & 0 & 0 & 1 & 1 & 0 &  2 & Orthodox & 177.80 & 185.42 & 205 & 31 & 31\\\\\n",
       "\\end{tabular}\n"
      ],
      "text/markdown": [
       "\n",
       "A data.frame: 6 × 145\n",
       "\n",
       "| <!--/--> | R_fighter &lt;fct&gt; | B_fighter &lt;fct&gt; | Referee &lt;fct&gt; | date &lt;fct&gt; | location &lt;fct&gt; | Winner &lt;fct&gt; | title_bout &lt;fct&gt; | weight_class &lt;fct&gt; | no_of_rounds &lt;int&gt; | B_current_lose_streak &lt;dbl&gt; | ... ... | R_win_by_KO.TKO &lt;dbl&gt; | R_win_by_Submission &lt;dbl&gt; | R_win_by_TKO_Doctor_Stoppage &lt;dbl&gt; | R_wins &lt;dbl&gt; | R_Stance &lt;fct&gt; | R_Height_cms &lt;dbl&gt; | R_Reach_cms &lt;dbl&gt; | R_Weight_lbs &lt;dbl&gt; | B_age &lt;dbl&gt; | R_age &lt;dbl&gt; |\n",
       "|---|---|---|---|---|---|---|---|---|---|---|---|---|---|---|---|---|---|---|---|---|---|\n",
       "| 3455 | Cody McKenzie       | Vagner Rocha      | Yves Lavigne   | 2011-09-17 | New Orleans, Louisiana, USA   | Blue | False | Lightweight       | 3 | 1 | ... | 0 | 1 | 0 |  1 | Switch   | 182.88 | 182.88 | 155 | 29 | 23 |\n",
       "| 235 | Curtis Millender    | Siyar Bahadurzada | Mike Beltran   | 2018-12-29 | Los Angeles, California, USA  | Red  | False | Welterweight      | 3 | 0 | ... | 1 | 0 | 0 |  2 | Orthodox | 187.96 | 193.04 | 170 | 34 | 31 |\n",
       "| 146 | Maurice Greene      | Jeff Hughes       | Nick Berens    | 2019-03-09 | Wichita, Kansas, USA          | Red  | False | Heavyweight       | 3 | 0 | ... | 0 | 1 | 0 |  1 | <!----> | 200.66 | 208.28 | 258 | 30 | 32 |\n",
       "| 3898 | BJ Penn             | Diego Sanchez     | Herb Dean      | 2009-12-12 | Memphis, Tennessee, USA       | Red  | True  | Lightweight       | 5 | 0 | ... | 5 | 4 | 0 | 10 | Orthodox | 175.26 | 177.80 | 155 | 27 | 30 |\n",
       "| 3512 | Christian Morecraft | Matt Mitrione     | Mark Matheny   | 2011-06-26 | Pittsburgh, Pennsylvania, USA | Blue | False | Heavyweight       | 3 | 0 | ... | 0 | 1 | 0 |  1 | Orthodox | 198.12 | 205.74 | 260 | 32 | 24 |\n",
       "| 2230 | Ilir Latifi         | Jan Blachowicz    | Grant Waterman | 2014-10-04 | Stockholm, Sweden             | Blue | False | Light Heavyweight | 3 | 0 | ... | 1 | 1 | 0 |  2 | Orthodox | 177.80 | 185.42 | 205 | 31 | 31 |\n",
       "\n"
      ],
      "text/plain": [
       "     R_fighter           B_fighter         Referee        date      \n",
       "3455 Cody McKenzie       Vagner Rocha      Yves Lavigne   2011-09-17\n",
       "235  Curtis Millender    Siyar Bahadurzada Mike Beltran   2018-12-29\n",
       "146  Maurice Greene      Jeff Hughes       Nick Berens    2019-03-09\n",
       "3898 BJ Penn             Diego Sanchez     Herb Dean      2009-12-12\n",
       "3512 Christian Morecraft Matt Mitrione     Mark Matheny   2011-06-26\n",
       "2230 Ilir Latifi         Jan Blachowicz    Grant Waterman 2014-10-04\n",
       "     location                      Winner title_bout weight_class     \n",
       "3455 New Orleans, Louisiana, USA   Blue   False      Lightweight      \n",
       "235  Los Angeles, California, USA  Red    False      Welterweight     \n",
       "146  Wichita, Kansas, USA          Red    False      Heavyweight      \n",
       "3898 Memphis, Tennessee, USA       Red    True       Lightweight      \n",
       "3512 Pittsburgh, Pennsylvania, USA Blue   False      Heavyweight      \n",
       "2230 Stockholm, Sweden             Blue   False      Light Heavyweight\n",
       "     no_of_rounds B_current_lose_streak ... R_win_by_KO.TKO R_win_by_Submission\n",
       "3455 3            1                     ... 0               1                  \n",
       "235  3            0                     ... 1               0                  \n",
       "146  3            0                     ... 0               1                  \n",
       "3898 5            0                     ... 5               4                  \n",
       "3512 3            0                     ... 0               1                  \n",
       "2230 3            0                     ... 1               1                  \n",
       "     R_win_by_TKO_Doctor_Stoppage R_wins R_Stance R_Height_cms R_Reach_cms\n",
       "3455 0                             1     Switch   182.88       182.88     \n",
       "235  0                             2     Orthodox 187.96       193.04     \n",
       "146  0                             1              200.66       208.28     \n",
       "3898 0                            10     Orthodox 175.26       177.80     \n",
       "3512 0                             1     Orthodox 198.12       205.74     \n",
       "2230 0                             2     Orthodox 177.80       185.42     \n",
       "     R_Weight_lbs B_age R_age\n",
       "3455 155          29    23   \n",
       "235  170          34    31   \n",
       "146  258          30    32   \n",
       "3898 155          27    30   \n",
       "3512 260          32    24   \n",
       "2230 205          31    31   "
      ]
     },
     "metadata": {},
     "output_type": "display_data"
    }
   ],
   "source": [
    "# 4. Inspect tail of data to make sure everything is correct.\n",
    "tail(train)"
   ]
  },
  {
   "cell_type": "markdown",
   "metadata": {},
   "source": [
    "**Insights**\n",
    "\n",
    " - Data structure looks good. The first and last column look the same as the csv meaning there is no missing data and the columns are correctly labeled. There is no hidden metadata in the csv either. "
   ]
  },
  {
   "cell_type": "markdown",
   "metadata": {},
   "source": [
    "### 5. Check your \"n\"s"
   ]
  },
  {
   "cell_type": "code",
   "execution_count": 172,
   "metadata": {},
   "outputs": [
    {
     "data": {
      "text/plain": [
       "           R_fighter               B_fighter               Referee    \n",
       " Michael Bisping:  19   Jeremy Stephens :  14   Herb Dean      : 588  \n",
       " Demian Maia    :  18   Nik Lentz       :  13   John McCarthy  : 497  \n",
       " Frankie Edgar  :  18   Charles Oliveira:  12   Mario Yamasaki : 314  \n",
       " Jim Miller     :  18   Evan Dunham     :  12   Dan Miragliotta: 281  \n",
       " Diego Sanchez  :  17   CB Dollaway     :  11   Marc Goddard   : 230  \n",
       " Andrei Arlovski:  16   Chris Lytle     :  11   Yves Lavigne   : 198  \n",
       " (Other)        :4009   (Other)         :4042   (Other)        :2007  \n",
       "         date                                 location     Winner    \n",
       " 2014-05-31:  19   Las Vegas, Nevada, USA         : 983   Blue:1269  \n",
       " 2016-11-19:  19   London, England, United Kingdom:  96   Draw:  69  \n",
       " 2014-06-28:  17   Atlantic City, New Jersey, USA :  70   Red :2777  \n",
       " 2014-10-04:  17   Montreal, Quebec, Canada       :  63              \n",
       " 1994-03-11:  15   Toronto, Ontario, Canada       :  62              \n",
       " 2014-08-23:  15   Los Angeles, California, USA   :  61              \n",
       " (Other)   :4013   (Other)                        :2780              \n",
       " title_bout              weight_class  no_of_rounds   B_current_lose_streak\n",
       " False:3845   Lightweight      :793   Min.   :1.000   Min.   :0.0000       \n",
       " True : 270   Welterweight     :786   1st Qu.:3.000   1st Qu.:0.0000       \n",
       "              Middleweight     :598   Median :3.000   Median :0.0000       \n",
       "              Heavyweight      :404   Mean   :3.119   Mean   :0.4365       \n",
       "              Light Heavyweight:383   3rd Qu.:3.000   3rd Qu.:1.0000       \n",
       "              Featherweight    :350   Max.   :5.000   Max.   :6.0000       \n",
       "              (Other)          :801                                        \n",
       " B_current_win_streak     B_draw  B_avg_BODY_att   B_avg_BODY_landed\n",
       " Min.   : 0.0000      Min.   :0   Min.   : 0.000   Min.   : 0.000   \n",
       " 1st Qu.: 0.0000      1st Qu.:0   1st Qu.: 3.500   1st Qu.: 2.333   \n",
       " Median : 0.0000      Median :0   Median : 6.889   Median : 4.800   \n",
       " Mean   : 0.8267      Mean   :0   Mean   : 8.661   Mean   : 6.061   \n",
       " 3rd Qu.: 1.0000      3rd Qu.:0   3rd Qu.:12.154   3rd Qu.: 8.333   \n",
       " Max.   :13.0000      Max.   :0   Max.   :49.000   Max.   :39.000   \n",
       "                                  NA's   :1002     NA's   :1002     \n",
       " B_avg_CLINCH_att B_avg_CLINCH_landed B_avg_DISTANCE_att B_avg_DISTANCE_landed\n",
       " Min.   : 0.000   Min.   : 0.000      Min.   :  0.00     Min.   :  0.000      \n",
       " 1st Qu.: 3.000   1st Qu.: 2.000      1st Qu.: 22.00     1st Qu.:  7.667      \n",
       " Median : 6.333   Median : 4.200      Median : 45.00     Median : 15.167      \n",
       " Mean   : 8.289   Mean   : 5.586      Mean   : 53.44     Mean   : 19.365      \n",
       " 3rd Qu.:11.500   3rd Qu.: 7.750      3rd Qu.: 74.43     3rd Qu.: 27.167      \n",
       " Max.   :87.000   Max.   :68.000      Max.   :271.00     Max.   :130.000      \n",
       " NA's   :1002     NA's   :1002        NA's   :1002       NA's   :1002         \n",
       " B_avg_GROUND_att B_avg_GROUND_landed B_avg_HEAD_att   B_avg_HEAD_landed\n",
       " Min.   : 0.000   Min.   : 0.000      Min.   :  0.00   Min.   :  0.00   \n",
       " 1st Qu.: 2.500   1st Qu.: 1.600      1st Qu.: 29.50   1st Qu.: 11.00   \n",
       " Median : 6.500   Median : 4.250      Median : 49.00   Median : 17.71   \n",
       " Mean   : 8.645   Mean   : 5.704      Mean   : 55.72   Mean   : 19.83   \n",
       " 3rd Qu.:12.000   3rd Qu.: 8.000      3rd Qu.: 74.80   3rd Qu.: 26.20   \n",
       " Max.   :88.000   Max.   :47.000      Max.   :277.00   Max.   :137.00   \n",
       " NA's   :1002     NA's   :1002        NA's   :1002     NA's   :1002     \n",
       "    B_avg_KD      B_avg_LEG_att    B_avg_LEG_landed   B_avg_PASS    \n",
       " Min.   :0.0000   Min.   : 0.000   Min.   : 0.000   Min.   : 0.000  \n",
       " 1st Qu.:0.0000   1st Qu.: 2.000   1st Qu.: 1.500   1st Qu.: 0.200  \n",
       " Median :0.1111   Median : 4.500   Median : 3.600   Median : 1.000  \n",
       " Mean   :0.2425   Mean   : 5.994   Mean   : 4.759   Mean   : 1.258  \n",
       " 3rd Qu.:0.4000   3rd Qu.: 8.417   3rd Qu.: 6.750   3rd Qu.: 1.875  \n",
       " Max.   :5.0000   Max.   :53.000   Max.   :39.000   Max.   :15.000  \n",
       " NA's   :1002     NA's   :1002     NA's   :1002     NA's   :1002    \n",
       "   B_avg_REV      B_avg_SIG_STR_att B_avg_SIG_STR_landed B_avg_SIG_STR_pct\n",
       " Min.   :0.0000   Min.   :  0.00    Min.   :  0.00       Min.   :0.0000   \n",
       " 1st Qu.:0.0000   1st Qu.: 38.00    1st Qu.: 17.00       1st Qu.:0.3850   \n",
       " Median :0.0000   Median : 63.33    Median : 28.20       Median :0.4543   \n",
       " Mean   :0.1629   Mean   : 70.37    Mean   : 30.65       Mean   :0.4552   \n",
       " 3rd Qu.:0.2222   3rd Qu.: 94.47    3rd Qu.: 41.00       3rd Qu.:0.5233   \n",
       " Max.   :3.0000   Max.   :299.00    Max.   :154.00       Max.   :1.0000   \n",
       " NA's   :1002     NA's   :1002      NA's   :1002         NA's   :1002     \n",
       " B_avg_SUB_ATT     B_avg_TD_att     B_avg_TD_landed   B_avg_TD_pct   \n",
       " Min.   :0.0000   Min.   : 0.0000   Min.   : 0.000   Min.   :0.0000  \n",
       " 1st Qu.:0.0000   1st Qu.: 0.8571   1st Qu.: 0.250   1st Qu.:0.1000  \n",
       " Median :0.3333   Median : 2.0000   Median : 1.000   Median :0.3000  \n",
       " Mean   :0.5445   Mean   : 2.7843   Mean   : 1.173   Mean   :0.3148  \n",
       " 3rd Qu.:0.8750   3rd Qu.: 4.0000   3rd Qu.: 1.750   3rd Qu.:0.4838  \n",
       " Max.   :8.0000   Max.   :19.0000   Max.   :10.000   Max.   :1.0000  \n",
       " NA's   :1002     NA's   :1002      NA's   :1002     NA's   :1002    \n",
       " B_avg_TOTAL_STR_att B_avg_TOTAL_STR_landed B_longest_win_streak\n",
       " Min.   :  0.00      Min.   :  0.00         Min.   : 0.000      \n",
       " 1st Qu.: 57.50      1st Qu.: 30.54         1st Qu.: 0.000      \n",
       " Median : 87.00      Median : 47.30         Median : 1.000      \n",
       " Mean   : 92.73      Mean   : 50.59         Mean   : 1.582      \n",
       " 3rd Qu.:123.25      3rd Qu.: 66.75         3rd Qu.: 2.000      \n",
       " Max.   :360.00      Max.   :230.00         Max.   :16.000      \n",
       " NA's   :1002        NA's   :1002                               \n",
       "    B_losses      B_avg_opp_BODY_att B_avg_opp_BODY_landed B_avg_opp_CLINCH_att\n",
       " Min.   : 0.000   Min.   : 0.000     Min.   : 0.000        Min.   :  0.000     \n",
       " 1st Qu.: 0.000   1st Qu.: 3.375     1st Qu.: 2.333        1st Qu.:  2.882     \n",
       " Median : 1.000   Median : 7.000     Median : 4.600        Median :  6.000     \n",
       " Mean   : 1.488   Mean   : 8.308     Mean   : 5.648        Mean   :  7.466     \n",
       " 3rd Qu.: 2.000   3rd Qu.:11.571     3rd Qu.: 7.692        3rd Qu.: 10.000     \n",
       " Max.   :13.000   Max.   :61.000     Max.   :48.000        Max.   :105.000     \n",
       "                  NA's   :1002       NA's   :1002          NA's   :1002        \n",
       " B_avg_opp_CLINCH_landed B_avg_opp_DISTANCE_att B_avg_opp_DISTANCE_landed\n",
       " Min.   : 0.000          Min.   :  0.00         Min.   :  0.00           \n",
       " 1st Qu.: 1.667          1st Qu.: 21.33         1st Qu.:  7.00           \n",
       " Median : 3.750          Median : 44.00         Median : 14.75           \n",
       " Mean   : 4.941          Mean   : 52.11         Mean   : 18.40           \n",
       " 3rd Qu.: 6.600          3rd Qu.: 71.80         3rd Qu.: 25.33           \n",
       " Max.   :84.000          Max.   :361.00         Max.   :150.00           \n",
       " NA's   :1002            NA's   :1002           NA's   :1002             \n",
       " B_avg_opp_GROUND_att B_avg_opp_GROUND_landed B_avg_opp_HEAD_att\n",
       " Min.   : 0.000       Min.   : 0.00           Min.   :  0.00    \n",
       " 1st Qu.: 1.667       1st Qu.: 1.00           1st Qu.: 26.67    \n",
       " Median : 4.800       Median : 3.00           Median : 47.12    \n",
       " Mean   : 7.182       Mean   : 4.68           Mean   : 52.37    \n",
       " 3rd Qu.: 9.529       3rd Qu.: 6.00           3rd Qu.: 69.30    \n",
       " Max.   :94.000       Max.   :84.00           Max.   :335.00    \n",
       " NA's   :1002         NA's   :1002            NA's   :1002      \n",
       " B_avg_opp_HEAD_landed  B_avg_opp_KD   B_avg_opp_LEG_att B_avg_opp_LEG_landed\n",
       " Min.   :  0.000       Min.   :0.000   Min.   : 0.000    Min.   : 0.000      \n",
       " 1st Qu.:  8.917       1st Qu.:0.000   1st Qu.: 2.100    1st Qu.: 1.769      \n",
       " Median : 15.000       Median :0.000   Median : 4.800    Median : 3.750      \n",
       " Mean   : 17.560       Mean   :0.161   Mean   : 6.078    Mean   : 4.811      \n",
       " 3rd Qu.: 23.333       3rd Qu.:0.250   3rd Qu.: 8.059    3rd Qu.: 6.571      \n",
       " Max.   :126.000       Max.   :3.000   Max.   :57.000    Max.   :50.000      \n",
       " NA's   :1002          NA's   :1002    NA's   :1002      NA's   :1002        \n",
       " B_avg_opp_PASS    B_avg_opp_REV    B_avg_opp_SIG_STR_att\n",
       " Min.   : 0.0000   Min.   :0.0000   Min.   :  0.00       \n",
       " 1st Qu.: 0.0909   1st Qu.:0.0000   1st Qu.: 35.25       \n",
       " Median : 0.7143   Median :0.0000   Median : 61.00       \n",
       " Mean   : 1.0919   Mean   :0.1528   Mean   : 66.76       \n",
       " 3rd Qu.: 1.5000   3rd Qu.:0.2000   3rd Qu.: 88.00       \n",
       " Max.   :19.0000   Max.   :3.0000   Max.   :401.00       \n",
       " NA's   :1002      NA's   :1002     NA's   :1002         \n",
       " B_avg_opp_SIG_STR_landed B_avg_opp_SIG_STR_pct B_avg_opp_SUB_ATT\n",
       " Min.   :  0.00           Min.   :0.0000        Min.   :0.0000   \n",
       " 1st Qu.: 15.00           1st Qu.:0.3550        1st Qu.:0.0000   \n",
       " Median : 25.50           Median :0.4167        Median :0.2500   \n",
       " Mean   : 28.02           Mean   :0.4286        Mean   :0.4628   \n",
       " 3rd Qu.: 36.80           3rd Qu.:0.4975        3rd Qu.:0.6667   \n",
       " Max.   :202.00           Max.   :1.0000        Max.   :7.0000   \n",
       " NA's   :1002             NA's   :1002          NA's   :1002     \n",
       " B_avg_opp_TD_att B_avg_opp_TD_landed B_avg_opp_TD_pct B_avg_opp_TOTAL_STR_att\n",
       " Min.   : 0.000   Min.   : 0.0000     Min.   :0.0000   Min.   :  0.00         \n",
       " 1st Qu.: 1.000   1st Qu.: 0.2857     1st Qu.:0.0836   1st Qu.: 54.06         \n",
       " Median : 2.385   Median : 0.8750     Median :0.2408   Median : 83.00         \n",
       " Mean   : 2.897   Mean   : 1.0949     Mean   :0.2779   Mean   : 87.22         \n",
       " 3rd Qu.: 4.000   3rd Qu.: 1.5000     3rd Qu.:0.3950   3rd Qu.:113.62         \n",
       " Max.   :20.000   Max.   :11.5000     Max.   :1.0000   Max.   :404.00         \n",
       " NA's   :1002     NA's   :1002        NA's   :1002     NA's   :1002           \n",
       " B_avg_opp_TOTAL_STR_landed B_total_rounds_fought B_total_time_fought.seconds.\n",
       " Min.   :  0.00             Min.   : 0.000        Min.   :   9.0              \n",
       " 1st Qu.: 29.00             1st Qu.: 1.000        1st Qu.: 441.8              \n",
       " Median : 43.40             Median : 5.000        Median : 610.0              \n",
       " Mean   : 46.32             Mean   : 8.989        Mean   : 591.7              \n",
       " 3rd Qu.: 59.20             3rd Qu.:13.000        3rd Qu.: 768.8              \n",
       " Max.   :232.00             Max.   :73.000        Max.   :1290.0              \n",
       " NA's   :1002                                     NA's   :1002                \n",
       " B_total_title_bouts B_win_by_Decision_Majority B_win_by_Decision_Split\n",
       " Min.   : 0.0000     Min.   :0.00000            Min.   :0.0000         \n",
       " 1st Qu.: 0.0000     1st Qu.:0.00000            1st Qu.:0.0000         \n",
       " Median : 0.0000     Median :0.00000            Median :0.0000         \n",
       " Mean   : 0.2821     Mean   :0.01507            Mean   :0.2177         \n",
       " 3rd Qu.: 0.0000     3rd Qu.:0.00000            3rd Qu.:0.0000         \n",
       " Max.   :16.0000     Max.   :2.00000            Max.   :5.0000         \n",
       "                                                                       \n",
       " B_win_by_Decision_Unanimous B_win_by_KO.TKO  B_win_by_Submission\n",
       " Min.   : 0.0000             Min.   : 0.000   Min.   : 0.0000    \n",
       " 1st Qu.: 0.0000             1st Qu.: 0.000   1st Qu.: 0.0000    \n",
       " Median : 0.0000             Median : 0.000   Median : 0.0000    \n",
       " Mean   : 0.7762             Mean   : 0.877   Mean   : 0.5529    \n",
       " 3rd Qu.: 1.0000             3rd Qu.: 1.000   3rd Qu.: 1.0000    \n",
       " Max.   :10.0000             Max.   :11.000   Max.   :11.0000    \n",
       "                                                                 \n",
       " B_win_by_TKO_Doctor_Stoppage     B_wins             B_Stance   \n",
       " Min.   :0.00000              Min.   : 0.00              : 130  \n",
       " 1st Qu.:0.00000              1st Qu.: 0.00   Open Stance:   9  \n",
       " Median :0.00000              Median : 1.00   Orthodox   :3065  \n",
       " Mean   :0.04569              Mean   : 2.49   Sideways   :   2  \n",
       " 3rd Qu.:0.00000              3rd Qu.: 4.00   Southpaw   : 775  \n",
       " Max.   :2.00000              Max.   :23.00   Switch     : 134  \n",
       "                                                                \n",
       "  B_Height_cms    B_Reach_cms     B_Weight_lbs   R_current_lose_streak\n",
       " Min.   :152.4   Min.   :152.4   Min.   :115.0   Min.   :0.0000       \n",
       " 1st Qu.:172.7   1st Qu.:177.8   1st Qu.:145.0   1st Qu.:0.0000       \n",
       " Median :180.3   Median :182.9   Median :170.0   Median :0.0000       \n",
       " Mean   :179.2   Mean   :183.3   Mean   :172.2   Mean   :0.5587       \n",
       " 3rd Qu.:185.4   3rd Qu.:190.5   3rd Qu.:185.0   3rd Qu.:1.0000       \n",
       " Max.   :210.8   Max.   :213.4   Max.   :770.0   Max.   :7.0000       \n",
       " NA's   :4       NA's   :532     NA's   :3                            \n",
       " R_current_win_streak     R_draw  R_avg_BODY_att   R_avg_BODY_landed\n",
       " Min.   : 0.0000      Min.   :0   Min.   : 0.000   Min.   : 0.000   \n",
       " 1st Qu.: 0.0000      1st Qu.:0   1st Qu.: 4.000   1st Qu.: 2.794   \n",
       " Median : 0.0000      Median :0   Median : 7.250   Median : 5.000   \n",
       " Mean   : 0.9781      Mean   :0   Mean   : 8.802   Mean   : 6.106   \n",
       " 3rd Qu.: 1.0000      3rd Qu.:0   3rd Qu.:12.000   3rd Qu.: 8.404   \n",
       " Max.   :15.0000      Max.   :0   Max.   :51.000   Max.   :39.000   \n",
       "                                  NA's   :515      NA's   :515      \n",
       " R_avg_CLINCH_att R_avg_CLINCH_landed R_avg_DISTANCE_att R_avg_DISTANCE_landed\n",
       " Min.   : 0.000   Min.   : 0.000      Min.   :  0.00     Min.   :  0.000      \n",
       " 1st Qu.: 3.394   1st Qu.: 2.000      1st Qu.: 24.06     1st Qu.:  8.429      \n",
       " Median : 6.500   Median : 4.273      Median : 45.85     Median : 16.000      \n",
       " Mean   : 8.089   Mean   : 5.461      Mean   : 53.52     Mean   : 19.465      \n",
       " 3rd Qu.:10.800   3rd Qu.: 7.333      3rd Qu.: 74.00     3rd Qu.: 27.500      \n",
       " Max.   :82.000   Max.   :52.000      Max.   :287.50     Max.   :131.000      \n",
       " NA's   :515      NA's   :515         NA's   :515        NA's   :515          \n",
       " R_avg_GROUND_att R_avg_GROUND_landed R_avg_HEAD_att   R_avg_HEAD_landed\n",
       " Min.   : 0.000   Min.   : 0.000      Min.   :  0.00   Min.   :  0.00   \n",
       " 1st Qu.: 3.333   1st Qu.: 2.167      1st Qu.: 32.67   1st Qu.: 12.20   \n",
       " Median : 7.500   Median : 5.000      Median : 50.00   Median : 18.28   \n",
       " Mean   : 9.551   Mean   : 6.314      Mean   : 56.09   Mean   : 20.19   \n",
       " 3rd Qu.:12.903   3rd Qu.: 8.600      3rd Qu.: 74.71   3rd Qu.: 26.00   \n",
       " Max.   :96.000   Max.   :62.000      Max.   :264.00   Max.   :119.00   \n",
       " NA's   :515      NA's   :515         NA's   :515      NA's   :515      \n",
       "    R_avg_KD      R_avg_LEG_att    R_avg_LEG_landed   R_avg_PASS     \n",
       " Min.   :0.0000   Min.   : 0.000   Min.   : 0.000   Min.   : 0.0000  \n",
       " 1st Qu.:0.0000   1st Qu.: 2.000   1st Qu.: 1.667   1st Qu.: 0.3333  \n",
       " Median :0.1667   Median : 4.750   Median : 3.800   Median : 1.0000  \n",
       " Mean   :0.2578   Mean   : 6.265   Mean   : 4.939   Mean   : 1.4088  \n",
       " 3rd Qu.:0.4000   3rd Qu.: 8.750   3rd Qu.: 7.000   3rd Qu.: 2.0000  \n",
       " Max.   :4.0000   Max.   :63.000   Max.   :44.000   Max.   :14.0000  \n",
       " NA's   :515      NA's   :515      NA's   :515      NA's   :515      \n",
       "   R_avg_REV      R_avg_SIG_STR_att R_avg_SIG_STR_landed R_avg_SIG_STR_pct\n",
       " Min.   :0.0000   Min.   :  0.00    Min.   :  0.00       Min.   :0.0000   \n",
       " 1st Qu.:0.0000   1st Qu.: 42.33    1st Qu.: 19.50       1st Qu.:0.3921   \n",
       " Median :0.0000   Median : 63.96    Median : 28.50       Median :0.4563   \n",
       " Mean   :0.1568   Mean   : 71.16    Mean   : 31.24       Mean   :0.4636   \n",
       " 3rd Qu.:0.2222   3rd Qu.: 94.94    3rd Qu.: 41.17       3rd Qu.:0.5300   \n",
       " Max.   :3.0000   Max.   :298.50    Max.   :141.00       Max.   :1.0000   \n",
       " NA's   :515      NA's   :515       NA's   :515          NA's   :515      \n",
       " R_avg_SUB_ATT     R_avg_TD_att    R_avg_TD_landed    R_avg_TD_pct   \n",
       " Min.   :0.0000   Min.   : 0.000   Min.   : 0.0000   Min.   :0.0000  \n",
       " 1st Qu.:0.0000   1st Qu.: 1.000   1st Qu.: 0.3846   1st Qu.:0.1650  \n",
       " Median :0.3828   Median : 2.333   Median : 1.0000   Median :0.3240  \n",
       " Mean   :0.5514   Mean   : 3.053   Mean   : 1.3109   Mean   :0.3356  \n",
       " 3rd Qu.:0.8571   3rd Qu.: 4.453   3rd Qu.: 2.0000   3rd Qu.:0.4947  \n",
       " Max.   :9.0000   Max.   :30.000   Max.   :11.0000   Max.   :1.0000  \n",
       " NA's   :515      NA's   :515      NA's   :515       NA's   :515     \n",
       " R_avg_TOTAL_STR_att R_avg_TOTAL_STR_landed R_longest_win_streak\n",
       " Min.   :  0.00      Min.   :  0.00         Min.   : 0.000      \n",
       " 1st Qu.: 61.22      1st Qu.: 33.50         1st Qu.: 1.000      \n",
       " Median : 89.00      Median : 48.07         Median : 2.000      \n",
       " Mean   : 93.54      Mean   : 51.22         Mean   : 2.244      \n",
       " 3rd Qu.:120.23      3rd Qu.: 65.00         3rd Qu.: 3.000      \n",
       " Max.   :325.50      Max.   :201.00         Max.   :16.000      \n",
       " NA's   :515         NA's   :515                                \n",
       "    R_losses      R_avg_opp_BODY_att R_avg_opp_BODY_landed R_avg_opp_CLINCH_att\n",
       " Min.   : 0.000   Min.   : 0.000     Min.   : 0.000        Min.   : 0.000      \n",
       " 1st Qu.: 0.000   1st Qu.: 3.563     1st Qu.: 2.441        1st Qu.: 3.000      \n",
       " Median : 1.000   Median : 7.000     Median : 4.800        Median : 6.000      \n",
       " Mean   : 1.974   Mean   : 8.140     Mean   : 5.498        Mean   : 7.271      \n",
       " 3rd Qu.: 3.000   3rd Qu.:11.429     3rd Qu.: 7.571        3rd Qu.: 9.667      \n",
       " Max.   :14.000   Max.   :75.000     Max.   :41.000        Max.   :82.000      \n",
       "                  NA's   :515        NA's   :515           NA's   :515         \n",
       " R_avg_opp_CLINCH_landed R_avg_opp_DISTANCE_att R_avg_opp_DISTANCE_landed\n",
       " Min.   : 0.000          Min.   :  0.00         Min.   :  0.00           \n",
       " 1st Qu.: 1.897          1st Qu.: 23.84         1st Qu.:  7.50           \n",
       " Median : 3.750          Median : 45.00         Median : 14.89           \n",
       " Mean   : 4.765          Mean   : 52.15         Mean   : 17.90           \n",
       " 3rd Qu.: 6.333          3rd Qu.: 72.33         3rd Qu.: 25.00           \n",
       " Max.   :47.000          Max.   :440.00         Max.   :144.00           \n",
       " NA's   :515             NA's   :515            NA's   :515              \n",
       " R_avg_opp_GROUND_att R_avg_opp_GROUND_landed R_avg_opp_HEAD_att\n",
       " Min.   :  0.000      Min.   : 0.000          Min.   :  0.00    \n",
       " 1st Qu.:  1.800      1st Qu.: 1.000          1st Qu.: 28.33    \n",
       " Median :  4.833      Median : 3.087          Median : 46.50    \n",
       " Mean   :  6.644      Mean   : 4.289          Mean   : 52.00    \n",
       " 3rd Qu.:  9.000      3rd Qu.: 5.960          3rd Qu.: 68.56    \n",
       " Max.   :104.000      Max.   :53.000          Max.   :400.00    \n",
       " NA's   :515          NA's   :515             NA's   :515       \n",
       " R_avg_opp_HEAD_landed  R_avg_opp_KD    R_avg_opp_LEG_att R_avg_opp_LEG_landed\n",
       " Min.   :  0.00        Min.   :0.0000   Min.   : 0.000    Min.   : 0.000      \n",
       " 1st Qu.:  9.00        1st Qu.:0.0000   1st Qu.: 2.435    1st Qu.: 2.000      \n",
       " Median : 14.92        Median :0.0000   Median : 4.886    Median : 3.800      \n",
       " Mean   : 16.86        Mean   :0.1558   Mean   : 5.931    Mean   : 4.598      \n",
       " 3rd Qu.: 22.43        3rd Qu.:0.2500   3rd Qu.: 8.000    3rd Qu.: 6.333      \n",
       " Max.   :132.00        Max.   :3.0000   Max.   :63.000    Max.   :41.000      \n",
       " NA's   :515           NA's   :515      NA's   :515       NA's   :515         \n",
       " R_avg_opp_PASS    R_avg_opp_REV    R_avg_opp_SIG_STR_att\n",
       " Min.   : 0.0000   Min.   :0.0000   Min.   :  0.00       \n",
       " 1st Qu.: 0.1667   1st Qu.:0.0000   1st Qu.: 36.77       \n",
       " Median : 0.6667   Median :0.0000   Median : 60.00       \n",
       " Mean   : 1.0318   Mean   :0.1643   Mean   : 66.07       \n",
       " 3rd Qu.: 1.4042   3rd Qu.:0.2222   3rd Qu.: 87.60       \n",
       " Max.   :17.0000   Max.   :3.0000   Max.   :454.00       \n",
       " NA's   :515       NA's   :515      NA's   :515          \n",
       " R_avg_opp_SIG_STR_landed R_avg_opp_SIG_STR_pct R_avg_opp_SUB_ATT\n",
       " Min.   :  0.00           Min.   :0.0000        Min.   :0.0000   \n",
       " 1st Qu.: 15.72           1st Qu.:0.3440        1st Qu.:0.0000   \n",
       " Median : 24.65           Median :0.4087        Median :0.2857   \n",
       " Mean   : 26.96           Mean   :0.4133        Mean   :0.4560   \n",
       " 3rd Qu.: 35.50           3rd Qu.:0.4733        3rd Qu.:0.6667   \n",
       " Max.   :151.00           Max.   :1.0000        Max.   :8.0000   \n",
       " NA's   :515              NA's   :515           NA's   :515      \n",
       " R_avg_opp_TD_att R_avg_opp_TD_landed R_avg_opp_TD_pct R_avg_opp_TOTAL_STR_att\n",
       " Min.   : 0.000   Min.   :0.0000      Min.   :0.0000   Min.   :  0.00         \n",
       " 1st Qu.: 1.000   1st Qu.:0.3333      1st Qu.:0.0938   1st Qu.: 54.50         \n",
       " Median : 2.429   Median :0.8000      Median :0.2300   Median : 82.12         \n",
       " Mean   : 2.832   Mean   :1.0311      Mean   :0.2603   Mean   : 85.93         \n",
       " 3rd Qu.: 4.000   3rd Qu.:1.5000      3rd Qu.:0.3750   3rd Qu.:110.67         \n",
       " Max.   :22.000   Max.   :9.0000      Max.   :1.0000   Max.   :461.00         \n",
       " NA's   :515      NA's   :515         NA's   :515      NA's   :515            \n",
       " R_avg_opp_TOTAL_STR_landed R_total_rounds_fought R_total_time_fought.seconds.\n",
       " Min.   :  0.00             Min.   : 0.00         Min.   :   7.0              \n",
       " 1st Qu.: 29.32             1st Qu.: 3.00         1st Qu.: 469.5              \n",
       " Median : 42.55             Median : 9.00         Median : 620.2              \n",
       " Mean   : 44.75             Mean   :12.89         Mean   : 602.7              \n",
       " 3rd Qu.: 57.00             3rd Qu.:19.00         3rd Qu.: 760.6              \n",
       " Max.   :202.00             Max.   :80.00         Max.   :1500.0              \n",
       " NA's   :515                                      NA's   :515                 \n",
       " R_total_title_bouts R_win_by_Decision_Majority R_win_by_Decision_Split\n",
       " Min.   : 0.0000     Min.   :0.000              Min.   :0.0000         \n",
       " 1st Qu.: 0.0000     1st Qu.:0.000              1st Qu.:0.0000         \n",
       " Median : 0.0000     Median :0.000              Median :0.0000         \n",
       " Mean   : 0.5876     Mean   :0.026              Mean   :0.2773         \n",
       " 3rd Qu.: 1.0000     3rd Qu.:0.000              3rd Qu.:0.0000         \n",
       " Max.   :16.0000     Max.   :2.000              Max.   :5.0000         \n",
       "                                                                       \n",
       " R_win_by_Decision_Unanimous R_win_by_KO.TKO  R_win_by_Submission\n",
       " Min.   : 0.000              Min.   : 0.000   Min.   : 0.000     \n",
       " 1st Qu.: 0.000              1st Qu.: 0.000   1st Qu.: 0.000     \n",
       " Median : 1.000              Median : 1.000   Median : 0.000     \n",
       " Mean   : 1.179              Mean   : 1.258   Mean   : 0.774     \n",
       " 3rd Qu.: 2.000              3rd Qu.: 2.000   3rd Qu.: 1.000     \n",
       " Max.   :10.000              Max.   :11.000   Max.   :13.000     \n",
       "                                                                 \n",
       " R_win_by_TKO_Doctor_Stoppage     R_wins              R_Stance   \n",
       " Min.   :0.00000              Min.   : 0.000              : 102  \n",
       " 1st Qu.:0.00000              1st Qu.: 1.000   Open Stance:  11  \n",
       " Median :0.00000              Median : 2.000   Orthodox   :3043  \n",
       " Mean   :0.07169              Mean   : 3.594   Sideways   :   1  \n",
       " 3rd Qu.:0.00000              3rd Qu.: 5.000   Southpaw   : 840  \n",
       " Max.   :2.00000              Max.   :20.000   Switch     : 118  \n",
       "                                                                 \n",
       "  R_Height_cms    R_Reach_cms     R_Weight_lbs       B_age          R_age      \n",
       " Min.   :152.4   Min.   :152.4   Min.   :115.0   Min.   :18.0   Min.   :19.00  \n",
       " 1st Qu.:172.7   1st Qu.:177.8   1st Qu.:145.0   1st Qu.:26.0   1st Qu.:26.00  \n",
       " Median :180.3   Median :182.9   Median :170.0   Median :29.0   Median :29.00  \n",
       " Mean   :179.3   Mean   :183.7   Mean   :172.1   Mean   :29.2   Mean   :29.43  \n",
       " 3rd Qu.:185.4   3rd Qu.:190.5   3rd Qu.:185.0   3rd Qu.:32.0   3rd Qu.:32.00  \n",
       " Max.   :210.8   Max.   :213.4   Max.   :345.0   Max.   :51.0   Max.   :47.00  \n",
       " NA's   :3       NA's   :252     NA's   :3       NA's   :130    NA's   :53     "
      ]
     },
     "metadata": {},
     "output_type": "display_data"
    }
   ],
   "source": [
    "# 5. Find summary statistics to see the different column descriptions & find number of NAs\n",
    "summary(train)"
   ]
  },
  {
   "cell_type": "markdown",
   "metadata": {},
   "source": [
    "**Observations:**\n",
    "> Note the data above looks good in the ranges, however, there are a lot of NAs. There are also some columns that should be removed like R_draw and B_draw which never have a value other than 0. Most of the data seems like it has appropriate highs and lows for each column. \n",
    "\n",
    ">I also noticed there seem to be a lot of columns on the same statistic:\n",
    "- B_avg_BODY_att\n",
    "- R_avg_BODY_att\n",
    "- B_avg_opp_BODY_att \n",
    "- R_avg_opp_BODY_att \n",
    "\n",
    "> I did a bit further digging to understand what makes them different. \n",
    "\n",
    "> Definitions for reference:\n",
    "- _opp_ containing columns is the average of damage done by the opponent on the fighter [Source: Original Kaggle Source](https://www.kaggle.com/rajeevw/ufcdata). Therefore, it is not usually the case the R_avg_BODY_att would be reflected in B_avg_opp_BODY_att if it didn't do any damage. \n",
    "\n",
    "> Other definitions:\n",
    "- att: attempt\n",
    "- landed: attempt connected with the opponent\n",
    "- kd: knockdown\n",
    "\n"
   ]
  },
  {
   "cell_type": "code",
   "execution_count": 173,
   "metadata": {},
   "outputs": [],
   "source": [
    "# There are a lot of NA, so I removed NAs\n",
    "na_data <- train %>% \n",
    "    drop_na() "
   ]
  },
  {
   "cell_type": "code",
   "execution_count": 174,
   "metadata": {},
   "outputs": [
    {
     "data": {
      "text/html": [
       "2693"
      ],
      "text/latex": [
       "2693"
      ],
      "text/markdown": [
       "2693"
      ],
      "text/plain": [
       "[1] 2693"
      ]
     },
     "metadata": {},
     "output_type": "display_data"
    },
    {
     "data": {
      "text/html": [
       "145"
      ],
      "text/latex": [
       "145"
      ],
      "text/markdown": [
       "145"
      ],
      "text/plain": [
       "[1] 145"
      ]
     },
     "metadata": {},
     "output_type": "display_data"
    }
   ],
   "source": [
    "# 5. Check n's again\n",
    "nrow(na_data)\n",
    "ncol(na_data)"
   ]
  },
  {
   "cell_type": "markdown",
   "metadata": {},
   "source": [
    "**Observations:**\n",
    "- The number of rows although reduced by about 2000, will be large enough to conduct an analysis. The number of columns didn't change. "
   ]
  },
  {
   "cell_type": "code",
   "execution_count": 175,
   "metadata": {},
   "outputs": [
    {
     "data": {
      "image/png": "[encoded data removed]",
      "text/plain": [
       "plot without title"
      ]
     },
     "metadata": {
      "image/png": {
       "height": 420,
       "width": 420
      },
      "text/plain": {
       "height": 420,
       "width": 420
      }
     },
     "output_type": "display_data"
    }
   ],
   "source": [
    "# 5/7. Inital graph to find out if we can use the wins column.\n",
    "na_data %>%\n",
    "    ggplot(aes(na_data$R_win_by_Submission)) +\n",
    "    geom_bar() +\n",
    "    labs(title=\"Submission Wins\", x = \"Wins by Submission\")"
   ]
  },
  {
   "cell_type": "markdown",
   "metadata": {},
   "source": [
    "**Observations:**\n",
    "\n",
    "- This is not what I expected at all. I was expecting a binary response 1 for yes and 0 for no. These statistics show that the win columns for submission, decision, KO, etc.. are all for lifetime stats. \n",
    "\n",
    "- For our analysis we need to have the stat for how a fight ends/ how the winner wins the match to answer our research question. I can do this with another dataset that was published in the same repository as our original dataset. "
   ]
  },
  {
   "cell_type": "code",
   "execution_count": 176,
   "metadata": {},
   "outputs": [
    {
     "data": {
      "text/html": [
       "<table>\n",
       "<caption>A data.frame: 6 × 145</caption>\n",
       "<thead>\n",
       "\t<tr><th></th><th scope=col>R_fighter</th><th scope=col>B_fighter</th><th scope=col>Referee</th><th scope=col>date</th><th scope=col>location</th><th scope=col>Winner</th><th scope=col>title_bout</th><th scope=col>weight_class</th><th scope=col>no_of_rounds</th><th scope=col>B_current_lose_streak</th><th scope=col>...</th><th scope=col>R_win_by_KO.TKO</th><th scope=col>R_win_by_Submission</th><th scope=col>R_win_by_TKO_Doctor_Stoppage</th><th scope=col>R_wins</th><th scope=col>R_Stance</th><th scope=col>R_Height_cms</th><th scope=col>R_Reach_cms</th><th scope=col>R_Weight_lbs</th><th scope=col>B_age</th><th scope=col>R_age</th></tr>\n",
       "\t<tr><th></th><th scope=col>&lt;fct&gt;</th><th scope=col>&lt;fct&gt;</th><th scope=col>&lt;fct&gt;</th><th scope=col>&lt;date&gt;</th><th scope=col>&lt;fct&gt;</th><th scope=col>&lt;fct&gt;</th><th scope=col>&lt;fct&gt;</th><th scope=col>&lt;fct&gt;</th><th scope=col>&lt;int&gt;</th><th scope=col>&lt;dbl&gt;</th><th scope=col>...</th><th scope=col>&lt;dbl&gt;</th><th scope=col>&lt;dbl&gt;</th><th scope=col>&lt;dbl&gt;</th><th scope=col>&lt;dbl&gt;</th><th scope=col>&lt;fct&gt;</th><th scope=col>&lt;dbl&gt;</th><th scope=col>&lt;dbl&gt;</th><th scope=col>&lt;dbl&gt;</th><th scope=col>&lt;dbl&gt;</th><th scope=col>&lt;dbl&gt;</th></tr>\n",
       "</thead>\n",
       "<tbody>\n",
       "\t<tr><th scope=row>2688</th><td>Daniel Jolly       </td><td>Khalil Rountree Jr.</td><td>Chris Reed  </td><td>2017-02-04</td><td>Houston, Texas, USA          </td><td>Blue</td><td>False</td><td>Light Heavyweight</td><td>3</td><td>2</td><td>...</td><td>0</td><td>0</td><td>0</td><td> 0</td><td>Orthodox</td><td>185.42</td><td>190.50</td><td>205</td><td>26</td><td>32</td></tr>\n",
       "\t<tr><th scope=row>2689</th><td>Nicolas Dalby      </td><td>Zak Cummings       </td><td>Marc Goddard</td><td>2016-04-10</td><td>Zagreb, Croatia              </td><td>Blue</td><td>False</td><td>Welterweight     </td><td>3</td><td>0</td><td>...</td><td>0</td><td>0</td><td>0</td><td> 1</td><td>Orthodox</td><td>180.34</td><td>187.96</td><td>170</td><td>31</td><td>31</td></tr>\n",
       "\t<tr><th scope=row>2690</th><td>Cody McKenzie      </td><td>Vagner Rocha       </td><td>Yves Lavigne</td><td>2011-09-17</td><td>New Orleans, Louisiana, USA  </td><td>Blue</td><td>False</td><td>Lightweight      </td><td>3</td><td>1</td><td>...</td><td>0</td><td>1</td><td>0</td><td> 1</td><td>Switch  </td><td>182.88</td><td>182.88</td><td>155</td><td>29</td><td>23</td></tr>\n",
       "\t<tr><th scope=row>2691</th><td>Curtis Millender   </td><td>Siyar Bahadurzada  </td><td>Mike Beltran</td><td>2018-12-29</td><td>Los Angeles, California, USA </td><td>Red </td><td>False</td><td>Welterweight     </td><td>3</td><td>0</td><td>...</td><td>1</td><td>0</td><td>0</td><td> 2</td><td>Orthodox</td><td>187.96</td><td>193.04</td><td>170</td><td>34</td><td>31</td></tr>\n",
       "\t<tr><th scope=row>2692</th><td>BJ Penn            </td><td>Diego Sanchez      </td><td>Herb Dean   </td><td>2009-12-12</td><td>Memphis, Tennessee, USA      </td><td>Red </td><td>True </td><td>Lightweight      </td><td>5</td><td>0</td><td>...</td><td>5</td><td>4</td><td>0</td><td>10</td><td>Orthodox</td><td>175.26</td><td>177.80</td><td>155</td><td>27</td><td>30</td></tr>\n",
       "\t<tr><th scope=row>2693</th><td>Christian Morecraft</td><td>Matt Mitrione      </td><td>Mark Matheny</td><td>2011-06-26</td><td>Pittsburgh, Pennsylvania, USA</td><td>Blue</td><td>False</td><td>Heavyweight      </td><td>3</td><td>0</td><td>...</td><td>0</td><td>1</td><td>0</td><td> 1</td><td>Orthodox</td><td>198.12</td><td>205.74</td><td>260</td><td>32</td><td>24</td></tr>\n",
       "</tbody>\n",
       "</table>\n"
      ],
      "text/latex": [
       "A data.frame: 6 × 145\n",
       "\\begin{tabular}{r|lllllllllllllllllllllllllllllllllllllllllllllllllllllllllllllllllllllllllllllllllllllllllllllllllllllllllllllllllllllllllllllllllllllllllllllllll}\n",
       "  & R\\_fighter & B\\_fighter & Referee & date & location & Winner & title\\_bout & weight\\_class & no\\_of\\_rounds & B\\_current\\_lose\\_streak & B\\_current\\_win\\_streak & B\\_draw & B\\_avg\\_BODY\\_att & B\\_avg\\_BODY\\_landed & B\\_avg\\_CLINCH\\_att & B\\_avg\\_CLINCH\\_landed & B\\_avg\\_DISTANCE\\_att & B\\_avg\\_DISTANCE\\_landed & B\\_avg\\_GROUND\\_att & B\\_avg\\_GROUND\\_landed & B\\_avg\\_HEAD\\_att & B\\_avg\\_HEAD\\_landed & B\\_avg\\_KD & B\\_avg\\_LEG\\_att & B\\_avg\\_LEG\\_landed & B\\_avg\\_PASS & B\\_avg\\_REV & B\\_avg\\_SIG\\_STR\\_att & B\\_avg\\_SIG\\_STR\\_landed & B\\_avg\\_SIG\\_STR\\_pct & B\\_avg\\_SUB\\_ATT & B\\_avg\\_TD\\_att & B\\_avg\\_TD\\_landed & B\\_avg\\_TD\\_pct & B\\_avg\\_TOTAL\\_STR\\_att & B\\_avg\\_TOTAL\\_STR\\_landed & B\\_longest\\_win\\_streak & B\\_losses & B\\_avg\\_opp\\_BODY\\_att & B\\_avg\\_opp\\_BODY\\_landed & B\\_avg\\_opp\\_CLINCH\\_att & B\\_avg\\_opp\\_CLINCH\\_landed & B\\_avg\\_opp\\_DISTANCE\\_att & B\\_avg\\_opp\\_DISTANCE\\_landed & B\\_avg\\_opp\\_GROUND\\_att & B\\_avg\\_opp\\_GROUND\\_landed & B\\_avg\\_opp\\_HEAD\\_att & B\\_avg\\_opp\\_HEAD\\_landed & B\\_avg\\_opp\\_KD & B\\_avg\\_opp\\_LEG\\_att & B\\_avg\\_opp\\_LEG\\_landed & B\\_avg\\_opp\\_PASS & B\\_avg\\_opp\\_REV & B\\_avg\\_opp\\_SIG\\_STR\\_att & B\\_avg\\_opp\\_SIG\\_STR\\_landed & B\\_avg\\_opp\\_SIG\\_STR\\_pct & B\\_avg\\_opp\\_SUB\\_ATT & B\\_avg\\_opp\\_TD\\_att & B\\_avg\\_opp\\_TD\\_landed & B\\_avg\\_opp\\_TD\\_pct & B\\_avg\\_opp\\_TOTAL\\_STR\\_att & B\\_avg\\_opp\\_TOTAL\\_STR\\_landed & B\\_total\\_rounds\\_fought & B\\_total\\_time\\_fought.seconds. & B\\_total\\_title\\_bouts & B\\_win\\_by\\_Decision\\_Majority & B\\_win\\_by\\_Decision\\_Split & B\\_win\\_by\\_Decision\\_Unanimous & B\\_win\\_by\\_KO.TKO & B\\_win\\_by\\_Submission & B\\_win\\_by\\_TKO\\_Doctor\\_Stoppage & B\\_wins & B\\_Stance & B\\_Height\\_cms & B\\_Reach\\_cms & B\\_Weight\\_lbs & R\\_current\\_lose\\_streak & R\\_current\\_win\\_streak & R\\_draw & R\\_avg\\_BODY\\_att & R\\_avg\\_BODY\\_landed & R\\_avg\\_CLINCH\\_att & R\\_avg\\_CLINCH\\_landed & R\\_avg\\_DISTANCE\\_att & R\\_avg\\_DISTANCE\\_landed & R\\_avg\\_GROUND\\_att & R\\_avg\\_GROUND\\_landed & R\\_avg\\_HEAD\\_att & R\\_avg\\_HEAD\\_landed & R\\_avg\\_KD & R\\_avg\\_LEG\\_att & R\\_avg\\_LEG\\_landed & R\\_avg\\_PASS & R\\_avg\\_REV & R\\_avg\\_SIG\\_STR\\_att & R\\_avg\\_SIG\\_STR\\_landed & R\\_avg\\_SIG\\_STR\\_pct & R\\_avg\\_SUB\\_ATT & R\\_avg\\_TD\\_att & R\\_avg\\_TD\\_landed & R\\_avg\\_TD\\_pct & R\\_avg\\_TOTAL\\_STR\\_att & R\\_avg\\_TOTAL\\_STR\\_landed & R\\_longest\\_win\\_streak & R\\_losses & R\\_avg\\_opp\\_BODY\\_att & R\\_avg\\_opp\\_BODY\\_landed & R\\_avg\\_opp\\_CLINCH\\_att & R\\_avg\\_opp\\_CLINCH\\_landed & R\\_avg\\_opp\\_DISTANCE\\_att & R\\_avg\\_opp\\_DISTANCE\\_landed & R\\_avg\\_opp\\_GROUND\\_att & R\\_avg\\_opp\\_GROUND\\_landed & R\\_avg\\_opp\\_HEAD\\_att & R\\_avg\\_opp\\_HEAD\\_landed & R\\_avg\\_opp\\_KD & R\\_avg\\_opp\\_LEG\\_att & R\\_avg\\_opp\\_LEG\\_landed & R\\_avg\\_opp\\_PASS & R\\_avg\\_opp\\_REV & R\\_avg\\_opp\\_SIG\\_STR\\_att & R\\_avg\\_opp\\_SIG\\_STR\\_landed & R\\_avg\\_opp\\_SIG\\_STR\\_pct & R\\_avg\\_opp\\_SUB\\_ATT & R\\_avg\\_opp\\_TD\\_att & R\\_avg\\_opp\\_TD\\_landed & R\\_avg\\_opp\\_TD\\_pct & R\\_avg\\_opp\\_TOTAL\\_STR\\_att & R\\_avg\\_opp\\_TOTAL\\_STR\\_landed & R\\_total\\_rounds\\_fought & R\\_total\\_time\\_fought.seconds. & R\\_total\\_title\\_bouts & R\\_win\\_by\\_Decision\\_Majority & R\\_win\\_by\\_Decision\\_Split & R\\_win\\_by\\_Decision\\_Unanimous & R\\_win\\_by\\_KO.TKO & R\\_win\\_by\\_Submission & R\\_win\\_by\\_TKO\\_Doctor\\_Stoppage & R\\_wins & R\\_Stance & R\\_Height\\_cms & R\\_Reach\\_cms & R\\_Weight\\_lbs & B\\_age & R\\_age\\\\\n",
       "  & <fct> & <fct> & <fct> & <date> & <fct> & <fct> & <fct> & <fct> & <int> & <dbl> & <dbl> & <dbl> & <dbl> & <dbl> & <dbl> & <dbl> & <dbl> & <dbl> & <dbl> & <dbl> & <dbl> & <dbl> & <dbl> & <dbl> & <dbl> & <dbl> & <dbl> & <dbl> & <dbl> & <dbl> & <dbl> & <dbl> & <dbl> & <dbl> & <dbl> & <dbl> & <dbl> & <dbl> & <dbl> & <dbl> & <dbl> & <dbl> & <dbl> & <dbl> & <dbl> & <dbl> & <dbl> & <dbl> & <dbl> & <dbl> & <dbl> & <dbl> & <dbl> & <dbl> & <dbl> & <dbl> & <dbl> & <dbl> & <dbl> & <dbl> & <dbl> & <dbl> & <dbl> & <dbl> & <dbl> & <dbl> & <dbl> & <dbl> & <dbl> & <dbl> & <dbl> & <dbl> & <fct> & <dbl> & <dbl> & <dbl> & <dbl> & <dbl> & <dbl> & <dbl> & <dbl> & <dbl> & <dbl> & <dbl> & <dbl> & <dbl> & <dbl> & <dbl> & <dbl> & <dbl> & <dbl> & <dbl> & <dbl> & <dbl> & <dbl> & <dbl> & <dbl> & <dbl> & <dbl> & <dbl> & <dbl> & <dbl> & <dbl> & <dbl> & <dbl> & <dbl> & <dbl> & <dbl> & <dbl> & <dbl> & <dbl> & <dbl> & <dbl> & <dbl> & <dbl> & <dbl> & <dbl> & <dbl> & <dbl> & <dbl> & <dbl> & <dbl> & <dbl> & <dbl> & <dbl> & <dbl> & <dbl> & <dbl> & <dbl> & <dbl> & <dbl> & <dbl> & <dbl> & <dbl> & <dbl> & <dbl> & <dbl> & <dbl> & <dbl> & <fct> & <dbl> & <dbl> & <dbl> & <dbl> & <dbl>\\\\\n",
       "\\hline\n",
       "\t2688 & Daniel Jolly        & Khalil Rountree Jr. & Chris Reed   & 2017-02-04 & Houston, Texas, USA           & Blue & False & Light Heavyweight & 3 & 2 & 0 & 0 &  1.000000 & 0.500000 &  1.500000 & 1.50 &  12.00000 &  4.00000 &  3.50000 &  3.00000 & 16.00000 &  8.00000 & 0.5000000 &  0.000000 &  0.0000000 & 0.0000000 & 0.0000000 &  17.00000 &  8.50000 & 0.4650000 & 0.0000000 & 0.00 & 0.0000000 & 0.0000000 &  45.00000 & 34.00000 & 0 & 2 &  4.00 &  3.000000 & 0.000000 & 0.000000 &  12.50000 &  7.00000 & 12.500000 & 10.500000 & 16.50 & 11.50000 & 0 &  4.500000 &  3.000000 & 4.00 & 0.0000000 &  25.00000 & 17.50000 & 0.6450 & 0.5000000 & 7.000000 & 4.0 & 0.7500000 &  90.00000 & 66.50000 &  4 & 573.5000 & 1 & 0 & 0 & 0 & 0 & 0 & 0 &  0 & Southpaw & 185.42 & 193.04 & 205 & 1 & 0 & 0 &  4.000000 & 4.000000 &  1.0 &  1.000000 &  13.0 &  5.00000 &  0.0 &  0.0 &   5.00000 &  1.00000 & 0.0000000 &  5.000000 &  1.0 & 1.000000 & 0.00000000 &  14.0 &  6.00000 & 0.4200000 & 0.0000000 & 0.0 & 0.0 & 0.0000000 &  21.0000 & 10.00000 & 0 & 1 &  4.0 &  4.000000 &  1.000000 &  1.000000 & 11.00000 &  6.0 & 17.00000 & 17.0 & 25.00000 & 20.00000 & 0.0 &  0.000000 &  0.000000 & 5.0 & 0.0 &  29.00000 & 24.00000 & 0.820 & 0.0000000 & 4.000000 & 3.0 & 0.7500000 &  76.0000 & 62.00000 &  1 & 285.0000 & 0 & 0 & 0 & 0 & 0 & 0 & 0 &  0 & Orthodox & 185.42 & 190.50 & 205 & 26 & 32\\\\\n",
       "\t2689 & Nicolas Dalby       & Zak Cummings        & Marc Goddard & 2016-04-10 & Zagreb, Croatia               & Blue & False & Welterweight      & 3 & 0 & 1 & 0 &  4.250000 & 2.500000 & 12.250000 & 6.75 &  31.00000 &  6.00000 &  6.50000 &  3.50000 & 41.00000 & 10.50000 & 0.2500000 &  4.500000 &  3.2500000 & 1.2500000 & 0.2500000 &  49.75000 & 16.25000 & 0.3700000 & 0.5000000 & 1.75 & 1.2500000 & 0.4150000 &  59.75000 & 24.75000 & 2 & 1 &  2.75 &  2.250000 & 1.750000 & 1.250000 &  12.25000 &  5.50000 &  4.250000 &  4.250000 & 14.75 &  8.00000 & 0 &  0.750000 &  0.750000 & 1.25 & 0.2500000 &  18.25000 & 11.00000 & 0.7000 & 0.7500000 & 2.500000 & 0.5 & 0.2775000 &  27.00000 & 19.75000 &  7 & 447.5000 & 0 & 0 & 0 & 1 & 1 & 1 & 0 &  3 & Southpaw & 182.88 & 190.50 & 185 & 1 & 0 & 0 & 19.000000 & 9.500000 & 34.5 & 23.000000 & 104.0 & 28.00000 & 16.0 & 11.5 & 119.50000 & 41.00000 & 0.0000000 & 16.000000 & 12.0 & 1.500000 & 0.00000000 & 154.5 & 62.50000 & 0.3900000 & 0.0000000 & 7.0 & 4.0 & 0.5500000 & 173.5000 & 80.50000 & 1 & 1 & 17.5 & 13.000000 & 15.000000 & 11.000000 & 87.50000 & 37.5 &  7.00000 &  4.5 & 84.00000 & 32.50000 & 0.5 &  8.000000 &  7.500000 & 0.0 & 0.5 & 109.50000 & 53.00000 & 0.490 & 0.0000000 & 2.500000 & 0.0 & 0.0000000 & 111.5000 & 55.00000 &  6 & 900.0000 & 0 & 0 & 1 & 0 & 0 & 0 & 0 &  1 & Orthodox & 180.34 & 187.96 & 170 & 31 & 31\\\\\n",
       "\t2690 & Cody McKenzie       & Vagner Rocha        & Yves Lavigne & 2011-09-17 & New Orleans, Louisiana, USA   & Blue & False & Lightweight       & 3 & 1 & 0 & 0 & 10.000000 & 5.000000 &  1.000000 & 1.00 & 102.00000 & 44.00000 &  3.00000 &  1.00000 & 85.00000 & 31.00000 & 0.0000000 & 11.000000 & 10.0000000 & 0.0000000 & 0.0000000 & 106.00000 & 46.00000 & 0.4300000 & 0.0000000 & 7.00 & 1.0000000 & 0.1400000 & 108.00000 & 47.00000 & 0 & 1 & 15.00 & 11.000000 & 2.000000 & 2.000000 & 140.00000 & 83.00000 &  3.000000 &  1.000000 & 73.00 & 25.00000 & 0 & 57.000000 & 50.000000 & 0.00 & 0.0000000 & 145.00000 & 86.00000 & 0.5900 & 0.0000000 & 1.000000 & 0.0 & 0.0000000 & 146.00000 & 87.00000 &  3 & 900.0000 & 0 & 0 & 0 & 0 & 0 & 0 & 0 &  0 & Orthodox & 177.80 & 185.42 & 155 & 1 & 0 & 0 &  2.000000 & 1.000000 &  2.5 &  0.500000 &  31.0 &  5.50000 &  3.5 &  2.0 &  33.50000 &  6.00000 & 0.0000000 &  1.500000 &  1.0 & 1.000000 & 1.00000000 &  37.0 &  8.00000 & 0.1100000 & 1.0000000 & 5.0 & 1.5 & 0.6100000 &  61.0000 & 31.50000 & 1 & 1 &  6.0 &  5.500000 &  3.500000 &  1.500000 & 33.00000 & 13.5 &  1.50000 &  1.5 & 28.00000 &  7.50000 & 0.0 &  4.000000 &  3.500000 & 1.5 & 0.5 &  38.00000 & 16.50000 & 0.220 & 0.5000000 & 0.500000 & 0.5 & 0.5000000 &  42.5000 & 20.50000 &  3 & 348.0000 & 0 & 0 & 0 & 0 & 0 & 1 & 0 &  1 & Switch   & 182.88 & 182.88 & 155 & 29 & 23\\\\\n",
       "\t2691 & Curtis Millender    & Siyar Bahadurzada   & Mike Beltran & 2018-12-29 & Los Angeles, California, USA  & Red  & False & Welterweight      & 3 & 0 & 3 & 0 & 10.166667 & 8.000000 & 13.333333 & 9.50 &  42.16667 & 14.83333 & 16.33333 & 11.00000 & 58.33333 & 25.16667 & 0.8333333 &  3.333333 &  2.1666667 & 0.6666667 & 0.1666667 &  71.83333 & 35.33333 & 0.4916667 & 0.3333333 & 1.00 & 0.8333333 & 0.4166667 & 103.66667 & 64.33333 & 3 & 2 &  7.00 &  4.333333 & 8.833333 & 5.166667 &  28.66667 & 12.66667 & 10.000000 &  4.666667 & 34.50 & 13.00000 & 0 &  6.000000 &  5.166667 & 2.50 & 0.1666667 &  47.50000 & 22.50000 & 0.3800 & 0.1666667 & 4.833333 & 1.5 & 0.2666667 &  97.16667 & 69.33333 & 14 & 607.1667 & 0 & 0 & 0 & 0 & 3 & 1 & 0 &  4 & Orthodox & 180.34 & 185.42 & 170 & 0 & 2 & 0 & 12.500000 & 8.500000 &  3.0 &  1.500000 &  93.0 & 38.50000 &  4.0 &  2.5 &  78.00000 & 27.00000 & 1.0000000 &  9.500000 &  7.0 & 0.000000 & 0.00000000 & 100.0 & 42.50000 & 0.4200000 & 0.0000000 & 0.5 & 0.5 & 0.5000000 & 101.0000 & 43.50000 & 2 & 0 &  8.5 &  5.000000 &  1.500000 &  0.500000 & 95.50000 & 33.5 &  5.50000 &  4.5 & 69.00000 & 15.50000 & 0.0 & 25.000000 & 18.000000 & 1.0 & 0.0 & 102.50000 & 38.50000 & 0.375 & 0.0000000 & 1.500000 & 1.0 & 0.7500000 & 113.5000 & 49.00000 &  5 & 728.5000 & 0 & 0 & 0 & 1 & 1 & 0 & 0 &  2 & Orthodox & 187.96 & 193.04 & 170 & 34 & 31\\\\\n",
       "\t2692 & BJ Penn             & Diego Sanchez       & Herb Dean    & 2009-12-12 & Memphis, Tennessee, USA       & Red  & True  & Lightweight       & 5 & 0 & 4 & 0 &  8.166667 & 6.833333 &  6.083333 & 4.25 &  52.25000 & 17.08333 & 25.16667 & 14.33333 & 74.33333 & 27.91667 & 0.4166667 &  1.000000 &  0.9166667 & 1.9166667 & 0.2500000 &  83.50000 & 35.66667 & 0.4608333 & 1.0833333 & 5.25 & 1.5000000 & 0.3733333 &  99.41667 & 49.41667 & 6 & 2 &  3.00 &  2.250000 & 6.333333 & 3.416667 &  43.75000 & 12.50000 &  6.333333 &  3.000000 & 51.50 & 15.08333 & 0 &  1.916667 &  1.583333 & 0.25 & 0.1666667 &  56.41667 & 18.91667 & 0.4450 & 0.3333333 & 2.750000 & 1.5 & 0.3258333 &  86.08333 & 45.66667 & 29 & 676.6667 & 1 & 0 & 1 & 4 & 5 & 0 & 0 & 10 & Southpaw & 177.80 & 182.88 & 170 & 0 & 1 & 0 &  7.866667 & 7.333333 & 10.8 &  8.733333 &  36.2 & 18.73333 & 12.4 &  9.2 &  48.26667 & 26.33333 & 0.3333333 &  3.266667 &  3.0 & 2.666667 & 0.06666667 &  59.4 & 36.66667 & 0.6306667 & 0.7333333 & 2.2 & 1.4 & 0.4433333 & 103.2667 & 78.93333 & 3 & 5 &  6.6 &  5.533333 &  8.066667 &  5.333333 & 41.06667 & 14.4 & 10.33333 &  6.8 & 45.13333 & 14.86667 & 0.0 &  7.733333 &  6.133333 & 1.2 & 0.4 &  59.46667 & 26.53333 & 0.402 & 0.1333333 & 4.933333 & 1.4 & 0.3166667 & 103.0667 & 67.86667 & 40 & 743.5333 & 8 & 0 & 0 & 1 & 5 & 4 & 0 & 10 & Orthodox & 175.26 & 177.80 & 155 & 27 & 30\\\\\n",
       "\t2693 & Christian Morecraft & Matt Mitrione       & Mark Matheny & 2011-06-26 & Pittsburgh, Pennsylvania, USA & Blue & False & Heavyweight       & 3 & 0 & 4 & 0 &  4.250000 & 4.000000 &  6.250000 & 3.50 &  52.75000 & 26.50000 &  8.25000 &  7.50000 & 55.25000 & 26.50000 & 0.7500000 &  7.750000 &  7.0000000 & 0.5000000 & 0.0000000 &  67.25000 & 37.50000 & 0.5700000 & 1.0000000 & 0.00 & 0.0000000 & 0.0000000 &  76.25000 & 45.75000 & 4 & 0 &  6.50 &  3.750000 & 5.750000 & 4.500000 &  42.50000 & 10.50000 &  3.000000 &  2.500000 & 42.00 & 11.25000 & 0 &  2.750000 &  2.500000 & 1.50 & 0.0000000 &  51.25000 & 17.50000 & 0.3625 & 0.2500000 & 3.750000 & 1.5 & 0.3700000 &  66.25000 & 30.25000 &  8 & 488.2500 & 0 & 0 & 0 & 1 & 3 & 0 & 0 &  4 & Switch   & 190.50 & 200.66 & 265 & 0 & 1 & 0 &  3.000000 & 3.000000 &  3.0 &  2.000000 &  16.5 &  4.00000 & 39.5 & 23.0 &  54.50000 & 24.50000 & 0.0000000 &  1.500000 &  1.5 & 3.000000 & 0.50000000 &  59.0 & 29.00000 & 0.4850000 & 1.5000000 & 1.5 & 1.0 & 0.7500000 &  98.5000 & 62.00000 & 1 & 1 &  1.0 &  1.000000 &  0.500000 &  0.000000 & 11.00000 &  5.0 &  5.00000 &  4.5 & 15.00000 &  8.00000 & 0.5 &  0.500000 &  0.500000 & 0.0 & 0.0 &  16.50000 &  9.50000 & 0.570 & 1.0000000 & 1.000000 & 0.5 & 0.2500000 &  19.5000 & 12.00000 &  4 & 436.0000 & 0 & 0 & 0 & 0 & 0 & 1 & 0 &  1 & Orthodox & 198.12 & 205.74 & 260 & 32 & 24\\\\\n",
       "\\end{tabular}\n"
      ],
      "text/markdown": [
       "\n",
       "A data.frame: 6 × 145\n",
       "\n",
       "| <!--/--> | R_fighter &lt;fct&gt; | B_fighter &lt;fct&gt; | Referee &lt;fct&gt; | date &lt;date&gt; | location &lt;fct&gt; | Winner &lt;fct&gt; | title_bout &lt;fct&gt; | weight_class &lt;fct&gt; | no_of_rounds &lt;int&gt; | B_current_lose_streak &lt;dbl&gt; | ... ... | R_win_by_KO.TKO &lt;dbl&gt; | R_win_by_Submission &lt;dbl&gt; | R_win_by_TKO_Doctor_Stoppage &lt;dbl&gt; | R_wins &lt;dbl&gt; | R_Stance &lt;fct&gt; | R_Height_cms &lt;dbl&gt; | R_Reach_cms &lt;dbl&gt; | R_Weight_lbs &lt;dbl&gt; | B_age &lt;dbl&gt; | R_age &lt;dbl&gt; |\n",
       "|---|---|---|---|---|---|---|---|---|---|---|---|---|---|---|---|---|---|---|---|---|---|\n",
       "| 2688 | Daniel Jolly        | Khalil Rountree Jr. | Chris Reed   | 2017-02-04 | Houston, Texas, USA           | Blue | False | Light Heavyweight | 3 | 2 | ... | 0 | 0 | 0 |  0 | Orthodox | 185.42 | 190.50 | 205 | 26 | 32 |\n",
       "| 2689 | Nicolas Dalby       | Zak Cummings        | Marc Goddard | 2016-04-10 | Zagreb, Croatia               | Blue | False | Welterweight      | 3 | 0 | ... | 0 | 0 | 0 |  1 | Orthodox | 180.34 | 187.96 | 170 | 31 | 31 |\n",
       "| 2690 | Cody McKenzie       | Vagner Rocha        | Yves Lavigne | 2011-09-17 | New Orleans, Louisiana, USA   | Blue | False | Lightweight       | 3 | 1 | ... | 0 | 1 | 0 |  1 | Switch   | 182.88 | 182.88 | 155 | 29 | 23 |\n",
       "| 2691 | Curtis Millender    | Siyar Bahadurzada   | Mike Beltran | 2018-12-29 | Los Angeles, California, USA  | Red  | False | Welterweight      | 3 | 0 | ... | 1 | 0 | 0 |  2 | Orthodox | 187.96 | 193.04 | 170 | 34 | 31 |\n",
       "| 2692 | BJ Penn             | Diego Sanchez       | Herb Dean    | 2009-12-12 | Memphis, Tennessee, USA       | Red  | True  | Lightweight       | 5 | 0 | ... | 5 | 4 | 0 | 10 | Orthodox | 175.26 | 177.80 | 155 | 27 | 30 |\n",
       "| 2693 | Christian Morecraft | Matt Mitrione       | Mark Matheny | 2011-06-26 | Pittsburgh, Pennsylvania, USA | Blue | False | Heavyweight       | 3 | 0 | ... | 0 | 1 | 0 |  1 | Orthodox | 198.12 | 205.74 | 260 | 32 | 24 |\n",
       "\n"
      ],
      "text/plain": [
       "     R_fighter           B_fighter           Referee      date      \n",
       "2688 Daniel Jolly        Khalil Rountree Jr. Chris Reed   2017-02-04\n",
       "2689 Nicolas Dalby       Zak Cummings        Marc Goddard 2016-04-10\n",
       "2690 Cody McKenzie       Vagner Rocha        Yves Lavigne 2011-09-17\n",
       "2691 Curtis Millender    Siyar Bahadurzada   Mike Beltran 2018-12-29\n",
       "2692 BJ Penn             Diego Sanchez       Herb Dean    2009-12-12\n",
       "2693 Christian Morecraft Matt Mitrione       Mark Matheny 2011-06-26\n",
       "     location                      Winner title_bout weight_class     \n",
       "2688 Houston, Texas, USA           Blue   False      Light Heavyweight\n",
       "2689 Zagreb, Croatia               Blue   False      Welterweight     \n",
       "2690 New Orleans, Louisiana, USA   Blue   False      Lightweight      \n",
       "2691 Los Angeles, California, USA  Red    False      Welterweight     \n",
       "2692 Memphis, Tennessee, USA       Red    True       Lightweight      \n",
       "2693 Pittsburgh, Pennsylvania, USA Blue   False      Heavyweight      \n",
       "     no_of_rounds B_current_lose_streak ... R_win_by_KO.TKO R_win_by_Submission\n",
       "2688 3            2                     ... 0               0                  \n",
       "2689 3            0                     ... 0               0                  \n",
       "2690 3            1                     ... 0               1                  \n",
       "2691 3            0                     ... 1               0                  \n",
       "2692 5            0                     ... 5               4                  \n",
       "2693 3            0                     ... 0               1                  \n",
       "     R_win_by_TKO_Doctor_Stoppage R_wins R_Stance R_Height_cms R_Reach_cms\n",
       "2688 0                             0     Orthodox 185.42       190.50     \n",
       "2689 0                             1     Orthodox 180.34       187.96     \n",
       "2690 0                             1     Switch   182.88       182.88     \n",
       "2691 0                             2     Orthodox 187.96       193.04     \n",
       "2692 0                            10     Orthodox 175.26       177.80     \n",
       "2693 0                             1     Orthodox 198.12       205.74     \n",
       "     R_Weight_lbs B_age R_age\n",
       "2688 205          26    32   \n",
       "2689 170          31    31   \n",
       "2690 155          29    23   \n",
       "2691 170          34    31   \n",
       "2692 155          27    30   \n",
       "2693 260          32    24   "
      ]
     },
     "metadata": {},
     "output_type": "display_data"
    }
   ],
   "source": [
    "# We need the 'win by' column from the read_fight data because our current win data doesn't have this column to answer our research question\n",
    "# as we need to filter by the fights that went to judges' decision.\n",
    "\n",
    "# import the new data file from the same source as our original\n",
    "read_fight <- read.csv(\"https://raw.githubusercontent.com/SamEdwardes/ufc-data/master/raw_total_fight_data.csv\", \n",
    "                       header = TRUE, sep = \";\") %>% \n",
    "        mutate(date = mdy(date)) %>%\n",
    "        select(\"R_fighter\", \"B_fighter\", \"win_by\", \"date\")\n",
    "\n",
    "# reformat the date on the initial data to be able to left join on date and fighter\n",
    "\n",
    "na_data <- na_data %>%\n",
    "        mutate(date = ymd(date))\n",
    "# merge together the old and new dataframes\n",
    "merge_data <- left_join(na_data, read_fight, by = c(\"R_fighter\", \"B_fighter\", \"date\"))\n",
    "\n",
    "tail(na_data)"
   ]
  },
  {
   "cell_type": "code",
   "execution_count": 177,
   "metadata": {},
   "outputs": [
    {
     "data": {
      "text/html": [
       "<table>\n",
       "<caption>A data.frame: 6 × 146</caption>\n",
       "<thead>\n",
       "\t<tr><th></th><th scope=col>R_fighter</th><th scope=col>B_fighter</th><th scope=col>Referee</th><th scope=col>date</th><th scope=col>location</th><th scope=col>Winner</th><th scope=col>title_bout</th><th scope=col>weight_class</th><th scope=col>no_of_rounds</th><th scope=col>B_current_lose_streak</th><th scope=col>...</th><th scope=col>R_win_by_Submission</th><th scope=col>R_win_by_TKO_Doctor_Stoppage</th><th scope=col>R_wins</th><th scope=col>R_Stance</th><th scope=col>R_Height_cms</th><th scope=col>R_Reach_cms</th><th scope=col>R_Weight_lbs</th><th scope=col>B_age</th><th scope=col>R_age</th><th scope=col>win_by</th></tr>\n",
       "\t<tr><th></th><th scope=col>&lt;fct&gt;</th><th scope=col>&lt;fct&gt;</th><th scope=col>&lt;fct&gt;</th><th scope=col>&lt;date&gt;</th><th scope=col>&lt;fct&gt;</th><th scope=col>&lt;fct&gt;</th><th scope=col>&lt;fct&gt;</th><th scope=col>&lt;fct&gt;</th><th scope=col>&lt;int&gt;</th><th scope=col>&lt;dbl&gt;</th><th scope=col>...</th><th scope=col>&lt;dbl&gt;</th><th scope=col>&lt;dbl&gt;</th><th scope=col>&lt;dbl&gt;</th><th scope=col>&lt;fct&gt;</th><th scope=col>&lt;dbl&gt;</th><th scope=col>&lt;dbl&gt;</th><th scope=col>&lt;dbl&gt;</th><th scope=col>&lt;dbl&gt;</th><th scope=col>&lt;dbl&gt;</th><th scope=col>&lt;fct&gt;</th></tr>\n",
       "</thead>\n",
       "<tbody>\n",
       "\t<tr><th scope=row>2688</th><td>Daniel Jolly       </td><td>Khalil Rountree Jr.</td><td>Chris Reed  </td><td>2017-02-04</td><td>Houston, Texas, USA          </td><td>Blue</td><td>False</td><td>Light Heavyweight</td><td>3</td><td>2</td><td>...</td><td>0</td><td>0</td><td> 0</td><td>Orthodox</td><td>185.42</td><td>190.50</td><td>205</td><td>26</td><td>32</td><td>KO/TKO                 </td></tr>\n",
       "\t<tr><th scope=row>2689</th><td>Nicolas Dalby      </td><td>Zak Cummings       </td><td>Marc Goddard</td><td>2016-04-10</td><td>Zagreb, Croatia              </td><td>Blue</td><td>False</td><td>Welterweight     </td><td>3</td><td>0</td><td>...</td><td>0</td><td>0</td><td> 1</td><td>Orthodox</td><td>180.34</td><td>187.96</td><td>170</td><td>31</td><td>31</td><td>Decision - Unanimous   </td></tr>\n",
       "\t<tr><th scope=row>2690</th><td>Cody McKenzie      </td><td>Vagner Rocha       </td><td>Yves Lavigne</td><td>2011-09-17</td><td>New Orleans, Louisiana, USA  </td><td>Blue</td><td>False</td><td>Lightweight      </td><td>3</td><td>1</td><td>...</td><td>1</td><td>0</td><td> 1</td><td>Switch  </td><td>182.88</td><td>182.88</td><td>155</td><td>29</td><td>23</td><td>Submission             </td></tr>\n",
       "\t<tr><th scope=row>2691</th><td>Curtis Millender   </td><td>Siyar Bahadurzada  </td><td>Mike Beltran</td><td>2018-12-29</td><td>Los Angeles, California, USA </td><td>Red </td><td>False</td><td>Welterweight     </td><td>3</td><td>0</td><td>...</td><td>0</td><td>0</td><td> 2</td><td>Orthodox</td><td>187.96</td><td>193.04</td><td>170</td><td>34</td><td>31</td><td>Decision - Unanimous   </td></tr>\n",
       "\t<tr><th scope=row>2692</th><td>BJ Penn            </td><td>Diego Sanchez      </td><td>Herb Dean   </td><td>2009-12-12</td><td>Memphis, Tennessee, USA      </td><td>Red </td><td>True </td><td>Lightweight      </td><td>5</td><td>0</td><td>...</td><td>4</td><td>0</td><td>10</td><td>Orthodox</td><td>175.26</td><td>177.80</td><td>155</td><td>27</td><td>30</td><td>TKO - Doctor's Stoppage</td></tr>\n",
       "\t<tr><th scope=row>2693</th><td>Christian Morecraft</td><td>Matt Mitrione      </td><td>Mark Matheny</td><td>2011-06-26</td><td>Pittsburgh, Pennsylvania, USA</td><td>Blue</td><td>False</td><td>Heavyweight      </td><td>3</td><td>0</td><td>...</td><td>1</td><td>0</td><td> 1</td><td>Orthodox</td><td>198.12</td><td>205.74</td><td>260</td><td>32</td><td>24</td><td>KO/TKO                 </td></tr>\n",
       "</tbody>\n",
       "</table>\n"
      ],
      "text/latex": [
       "A data.frame: 6 × 146\n",
       "\\begin{tabular}{r|llllllllllllllllllllllllllllllllllllllllllllllllllllllllllllllllllllllllllllllllllllllllllllllllllllllllllllllllllllllllllllllllllllllllllllllllll}\n",
       "  & R\\_fighter & B\\_fighter & Referee & date & location & Winner & title\\_bout & weight\\_class & no\\_of\\_rounds & B\\_current\\_lose\\_streak & B\\_current\\_win\\_streak & B\\_draw & B\\_avg\\_BODY\\_att & B\\_avg\\_BODY\\_landed & B\\_avg\\_CLINCH\\_att & B\\_avg\\_CLINCH\\_landed & B\\_avg\\_DISTANCE\\_att & B\\_avg\\_DISTANCE\\_landed & B\\_avg\\_GROUND\\_att & B\\_avg\\_GROUND\\_landed & B\\_avg\\_HEAD\\_att & B\\_avg\\_HEAD\\_landed & B\\_avg\\_KD & B\\_avg\\_LEG\\_att & B\\_avg\\_LEG\\_landed & B\\_avg\\_PASS & B\\_avg\\_REV & B\\_avg\\_SIG\\_STR\\_att & B\\_avg\\_SIG\\_STR\\_landed & B\\_avg\\_SIG\\_STR\\_pct & B\\_avg\\_SUB\\_ATT & B\\_avg\\_TD\\_att & B\\_avg\\_TD\\_landed & B\\_avg\\_TD\\_pct & B\\_avg\\_TOTAL\\_STR\\_att & B\\_avg\\_TOTAL\\_STR\\_landed & B\\_longest\\_win\\_streak & B\\_losses & B\\_avg\\_opp\\_BODY\\_att & B\\_avg\\_opp\\_BODY\\_landed & B\\_avg\\_opp\\_CLINCH\\_att & B\\_avg\\_opp\\_CLINCH\\_landed & B\\_avg\\_opp\\_DISTANCE\\_att & B\\_avg\\_opp\\_DISTANCE\\_landed & B\\_avg\\_opp\\_GROUND\\_att & B\\_avg\\_opp\\_GROUND\\_landed & B\\_avg\\_opp\\_HEAD\\_att & B\\_avg\\_opp\\_HEAD\\_landed & B\\_avg\\_opp\\_KD & B\\_avg\\_opp\\_LEG\\_att & B\\_avg\\_opp\\_LEG\\_landed & B\\_avg\\_opp\\_PASS & B\\_avg\\_opp\\_REV & B\\_avg\\_opp\\_SIG\\_STR\\_att & B\\_avg\\_opp\\_SIG\\_STR\\_landed & B\\_avg\\_opp\\_SIG\\_STR\\_pct & B\\_avg\\_opp\\_SUB\\_ATT & B\\_avg\\_opp\\_TD\\_att & B\\_avg\\_opp\\_TD\\_landed & B\\_avg\\_opp\\_TD\\_pct & B\\_avg\\_opp\\_TOTAL\\_STR\\_att & B\\_avg\\_opp\\_TOTAL\\_STR\\_landed & B\\_total\\_rounds\\_fought & B\\_total\\_time\\_fought.seconds. & B\\_total\\_title\\_bouts & B\\_win\\_by\\_Decision\\_Majority & B\\_win\\_by\\_Decision\\_Split & B\\_win\\_by\\_Decision\\_Unanimous & B\\_win\\_by\\_KO.TKO & B\\_win\\_by\\_Submission & B\\_win\\_by\\_TKO\\_Doctor\\_Stoppage & B\\_wins & B\\_Stance & B\\_Height\\_cms & B\\_Reach\\_cms & B\\_Weight\\_lbs & R\\_current\\_lose\\_streak & R\\_current\\_win\\_streak & R\\_draw & R\\_avg\\_BODY\\_att & R\\_avg\\_BODY\\_landed & R\\_avg\\_CLINCH\\_att & R\\_avg\\_CLINCH\\_landed & R\\_avg\\_DISTANCE\\_att & R\\_avg\\_DISTANCE\\_landed & R\\_avg\\_GROUND\\_att & R\\_avg\\_GROUND\\_landed & R\\_avg\\_HEAD\\_att & R\\_avg\\_HEAD\\_landed & R\\_avg\\_KD & R\\_avg\\_LEG\\_att & R\\_avg\\_LEG\\_landed & R\\_avg\\_PASS & R\\_avg\\_REV & R\\_avg\\_SIG\\_STR\\_att & R\\_avg\\_SIG\\_STR\\_landed & R\\_avg\\_SIG\\_STR\\_pct & R\\_avg\\_SUB\\_ATT & R\\_avg\\_TD\\_att & R\\_avg\\_TD\\_landed & R\\_avg\\_TD\\_pct & R\\_avg\\_TOTAL\\_STR\\_att & R\\_avg\\_TOTAL\\_STR\\_landed & R\\_longest\\_win\\_streak & R\\_losses & R\\_avg\\_opp\\_BODY\\_att & R\\_avg\\_opp\\_BODY\\_landed & R\\_avg\\_opp\\_CLINCH\\_att & R\\_avg\\_opp\\_CLINCH\\_landed & R\\_avg\\_opp\\_DISTANCE\\_att & R\\_avg\\_opp\\_DISTANCE\\_landed & R\\_avg\\_opp\\_GROUND\\_att & R\\_avg\\_opp\\_GROUND\\_landed & R\\_avg\\_opp\\_HEAD\\_att & R\\_avg\\_opp\\_HEAD\\_landed & R\\_avg\\_opp\\_KD & R\\_avg\\_opp\\_LEG\\_att & R\\_avg\\_opp\\_LEG\\_landed & R\\_avg\\_opp\\_PASS & R\\_avg\\_opp\\_REV & R\\_avg\\_opp\\_SIG\\_STR\\_att & R\\_avg\\_opp\\_SIG\\_STR\\_landed & R\\_avg\\_opp\\_SIG\\_STR\\_pct & R\\_avg\\_opp\\_SUB\\_ATT & R\\_avg\\_opp\\_TD\\_att & R\\_avg\\_opp\\_TD\\_landed & R\\_avg\\_opp\\_TD\\_pct & R\\_avg\\_opp\\_TOTAL\\_STR\\_att & R\\_avg\\_opp\\_TOTAL\\_STR\\_landed & R\\_total\\_rounds\\_fought & R\\_total\\_time\\_fought.seconds. & R\\_total\\_title\\_bouts & R\\_win\\_by\\_Decision\\_Majority & R\\_win\\_by\\_Decision\\_Split & R\\_win\\_by\\_Decision\\_Unanimous & R\\_win\\_by\\_KO.TKO & R\\_win\\_by\\_Submission & R\\_win\\_by\\_TKO\\_Doctor\\_Stoppage & R\\_wins & R\\_Stance & R\\_Height\\_cms & R\\_Reach\\_cms & R\\_Weight\\_lbs & B\\_age & R\\_age & win\\_by\\\\\n",
       "  & <fct> & <fct> & <fct> & <date> & <fct> & <fct> & <fct> & <fct> & <int> & <dbl> & <dbl> & <dbl> & <dbl> & <dbl> & <dbl> & <dbl> & <dbl> & <dbl> & <dbl> & <dbl> & <dbl> & <dbl> & <dbl> & <dbl> & <dbl> & <dbl> & <dbl> & <dbl> & <dbl> & <dbl> & <dbl> & <dbl> & <dbl> & <dbl> & <dbl> & <dbl> & <dbl> & <dbl> & <dbl> & <dbl> & <dbl> & <dbl> & <dbl> & <dbl> & <dbl> & <dbl> & <dbl> & <dbl> & <dbl> & <dbl> & <dbl> & <dbl> & <dbl> & <dbl> & <dbl> & <dbl> & <dbl> & <dbl> & <dbl> & <dbl> & <dbl> & <dbl> & <dbl> & <dbl> & <dbl> & <dbl> & <dbl> & <dbl> & <dbl> & <dbl> & <dbl> & <dbl> & <fct> & <dbl> & <dbl> & <dbl> & <dbl> & <dbl> & <dbl> & <dbl> & <dbl> & <dbl> & <dbl> & <dbl> & <dbl> & <dbl> & <dbl> & <dbl> & <dbl> & <dbl> & <dbl> & <dbl> & <dbl> & <dbl> & <dbl> & <dbl> & <dbl> & <dbl> & <dbl> & <dbl> & <dbl> & <dbl> & <dbl> & <dbl> & <dbl> & <dbl> & <dbl> & <dbl> & <dbl> & <dbl> & <dbl> & <dbl> & <dbl> & <dbl> & <dbl> & <dbl> & <dbl> & <dbl> & <dbl> & <dbl> & <dbl> & <dbl> & <dbl> & <dbl> & <dbl> & <dbl> & <dbl> & <dbl> & <dbl> & <dbl> & <dbl> & <dbl> & <dbl> & <dbl> & <dbl> & <dbl> & <dbl> & <dbl> & <dbl> & <fct> & <dbl> & <dbl> & <dbl> & <dbl> & <dbl> & <fct>\\\\\n",
       "\\hline\n",
       "\t2688 & Daniel Jolly        & Khalil Rountree Jr. & Chris Reed   & 2017-02-04 & Houston, Texas, USA           & Blue & False & Light Heavyweight & 3 & 2 & 0 & 0 &  1.000000 & 0.500000 &  1.500000 & 1.50 &  12.00000 &  4.00000 &  3.50000 &  3.00000 & 16.00000 &  8.00000 & 0.5000000 &  0.000000 &  0.0000000 & 0.0000000 & 0.0000000 &  17.00000 &  8.50000 & 0.4650000 & 0.0000000 & 0.00 & 0.0000000 & 0.0000000 &  45.00000 & 34.00000 & 0 & 2 &  4.00 &  3.000000 & 0.000000 & 0.000000 &  12.50000 &  7.00000 & 12.500000 & 10.500000 & 16.50 & 11.50000 & 0 &  4.500000 &  3.000000 & 4.00 & 0.0000000 &  25.00000 & 17.50000 & 0.6450 & 0.5000000 & 7.000000 & 4.0 & 0.7500000 &  90.00000 & 66.50000 &  4 & 573.5000 & 1 & 0 & 0 & 0 & 0 & 0 & 0 &  0 & Southpaw & 185.42 & 193.04 & 205 & 1 & 0 & 0 &  4.000000 & 4.000000 &  1.0 &  1.000000 &  13.0 &  5.00000 &  0.0 &  0.0 &   5.00000 &  1.00000 & 0.0000000 &  5.000000 &  1.0 & 1.000000 & 0.00000000 &  14.0 &  6.00000 & 0.4200000 & 0.0000000 & 0.0 & 0.0 & 0.0000000 &  21.0000 & 10.00000 & 0 & 1 &  4.0 &  4.000000 &  1.000000 &  1.000000 & 11.00000 &  6.0 & 17.00000 & 17.0 & 25.00000 & 20.00000 & 0.0 &  0.000000 &  0.000000 & 5.0 & 0.0 &  29.00000 & 24.00000 & 0.820 & 0.0000000 & 4.000000 & 3.0 & 0.7500000 &  76.0000 & 62.00000 &  1 & 285.0000 & 0 & 0 & 0 & 0 & 0 & 0 & 0 &  0 & Orthodox & 185.42 & 190.50 & 205 & 26 & 32 & KO/TKO                 \\\\\n",
       "\t2689 & Nicolas Dalby       & Zak Cummings        & Marc Goddard & 2016-04-10 & Zagreb, Croatia               & Blue & False & Welterweight      & 3 & 0 & 1 & 0 &  4.250000 & 2.500000 & 12.250000 & 6.75 &  31.00000 &  6.00000 &  6.50000 &  3.50000 & 41.00000 & 10.50000 & 0.2500000 &  4.500000 &  3.2500000 & 1.2500000 & 0.2500000 &  49.75000 & 16.25000 & 0.3700000 & 0.5000000 & 1.75 & 1.2500000 & 0.4150000 &  59.75000 & 24.75000 & 2 & 1 &  2.75 &  2.250000 & 1.750000 & 1.250000 &  12.25000 &  5.50000 &  4.250000 &  4.250000 & 14.75 &  8.00000 & 0 &  0.750000 &  0.750000 & 1.25 & 0.2500000 &  18.25000 & 11.00000 & 0.7000 & 0.7500000 & 2.500000 & 0.5 & 0.2775000 &  27.00000 & 19.75000 &  7 & 447.5000 & 0 & 0 & 0 & 1 & 1 & 1 & 0 &  3 & Southpaw & 182.88 & 190.50 & 185 & 1 & 0 & 0 & 19.000000 & 9.500000 & 34.5 & 23.000000 & 104.0 & 28.00000 & 16.0 & 11.5 & 119.50000 & 41.00000 & 0.0000000 & 16.000000 & 12.0 & 1.500000 & 0.00000000 & 154.5 & 62.50000 & 0.3900000 & 0.0000000 & 7.0 & 4.0 & 0.5500000 & 173.5000 & 80.50000 & 1 & 1 & 17.5 & 13.000000 & 15.000000 & 11.000000 & 87.50000 & 37.5 &  7.00000 &  4.5 & 84.00000 & 32.50000 & 0.5 &  8.000000 &  7.500000 & 0.0 & 0.5 & 109.50000 & 53.00000 & 0.490 & 0.0000000 & 2.500000 & 0.0 & 0.0000000 & 111.5000 & 55.00000 &  6 & 900.0000 & 0 & 0 & 1 & 0 & 0 & 0 & 0 &  1 & Orthodox & 180.34 & 187.96 & 170 & 31 & 31 & Decision - Unanimous   \\\\\n",
       "\t2690 & Cody McKenzie       & Vagner Rocha        & Yves Lavigne & 2011-09-17 & New Orleans, Louisiana, USA   & Blue & False & Lightweight       & 3 & 1 & 0 & 0 & 10.000000 & 5.000000 &  1.000000 & 1.00 & 102.00000 & 44.00000 &  3.00000 &  1.00000 & 85.00000 & 31.00000 & 0.0000000 & 11.000000 & 10.0000000 & 0.0000000 & 0.0000000 & 106.00000 & 46.00000 & 0.4300000 & 0.0000000 & 7.00 & 1.0000000 & 0.1400000 & 108.00000 & 47.00000 & 0 & 1 & 15.00 & 11.000000 & 2.000000 & 2.000000 & 140.00000 & 83.00000 &  3.000000 &  1.000000 & 73.00 & 25.00000 & 0 & 57.000000 & 50.000000 & 0.00 & 0.0000000 & 145.00000 & 86.00000 & 0.5900 & 0.0000000 & 1.000000 & 0.0 & 0.0000000 & 146.00000 & 87.00000 &  3 & 900.0000 & 0 & 0 & 0 & 0 & 0 & 0 & 0 &  0 & Orthodox & 177.80 & 185.42 & 155 & 1 & 0 & 0 &  2.000000 & 1.000000 &  2.5 &  0.500000 &  31.0 &  5.50000 &  3.5 &  2.0 &  33.50000 &  6.00000 & 0.0000000 &  1.500000 &  1.0 & 1.000000 & 1.00000000 &  37.0 &  8.00000 & 0.1100000 & 1.0000000 & 5.0 & 1.5 & 0.6100000 &  61.0000 & 31.50000 & 1 & 1 &  6.0 &  5.500000 &  3.500000 &  1.500000 & 33.00000 & 13.5 &  1.50000 &  1.5 & 28.00000 &  7.50000 & 0.0 &  4.000000 &  3.500000 & 1.5 & 0.5 &  38.00000 & 16.50000 & 0.220 & 0.5000000 & 0.500000 & 0.5 & 0.5000000 &  42.5000 & 20.50000 &  3 & 348.0000 & 0 & 0 & 0 & 0 & 0 & 1 & 0 &  1 & Switch   & 182.88 & 182.88 & 155 & 29 & 23 & Submission             \\\\\n",
       "\t2691 & Curtis Millender    & Siyar Bahadurzada   & Mike Beltran & 2018-12-29 & Los Angeles, California, USA  & Red  & False & Welterweight      & 3 & 0 & 3 & 0 & 10.166667 & 8.000000 & 13.333333 & 9.50 &  42.16667 & 14.83333 & 16.33333 & 11.00000 & 58.33333 & 25.16667 & 0.8333333 &  3.333333 &  2.1666667 & 0.6666667 & 0.1666667 &  71.83333 & 35.33333 & 0.4916667 & 0.3333333 & 1.00 & 0.8333333 & 0.4166667 & 103.66667 & 64.33333 & 3 & 2 &  7.00 &  4.333333 & 8.833333 & 5.166667 &  28.66667 & 12.66667 & 10.000000 &  4.666667 & 34.50 & 13.00000 & 0 &  6.000000 &  5.166667 & 2.50 & 0.1666667 &  47.50000 & 22.50000 & 0.3800 & 0.1666667 & 4.833333 & 1.5 & 0.2666667 &  97.16667 & 69.33333 & 14 & 607.1667 & 0 & 0 & 0 & 0 & 3 & 1 & 0 &  4 & Orthodox & 180.34 & 185.42 & 170 & 0 & 2 & 0 & 12.500000 & 8.500000 &  3.0 &  1.500000 &  93.0 & 38.50000 &  4.0 &  2.5 &  78.00000 & 27.00000 & 1.0000000 &  9.500000 &  7.0 & 0.000000 & 0.00000000 & 100.0 & 42.50000 & 0.4200000 & 0.0000000 & 0.5 & 0.5 & 0.5000000 & 101.0000 & 43.50000 & 2 & 0 &  8.5 &  5.000000 &  1.500000 &  0.500000 & 95.50000 & 33.5 &  5.50000 &  4.5 & 69.00000 & 15.50000 & 0.0 & 25.000000 & 18.000000 & 1.0 & 0.0 & 102.50000 & 38.50000 & 0.375 & 0.0000000 & 1.500000 & 1.0 & 0.7500000 & 113.5000 & 49.00000 &  5 & 728.5000 & 0 & 0 & 0 & 1 & 1 & 0 & 0 &  2 & Orthodox & 187.96 & 193.04 & 170 & 34 & 31 & Decision - Unanimous   \\\\\n",
       "\t2692 & BJ Penn             & Diego Sanchez       & Herb Dean    & 2009-12-12 & Memphis, Tennessee, USA       & Red  & True  & Lightweight       & 5 & 0 & 4 & 0 &  8.166667 & 6.833333 &  6.083333 & 4.25 &  52.25000 & 17.08333 & 25.16667 & 14.33333 & 74.33333 & 27.91667 & 0.4166667 &  1.000000 &  0.9166667 & 1.9166667 & 0.2500000 &  83.50000 & 35.66667 & 0.4608333 & 1.0833333 & 5.25 & 1.5000000 & 0.3733333 &  99.41667 & 49.41667 & 6 & 2 &  3.00 &  2.250000 & 6.333333 & 3.416667 &  43.75000 & 12.50000 &  6.333333 &  3.000000 & 51.50 & 15.08333 & 0 &  1.916667 &  1.583333 & 0.25 & 0.1666667 &  56.41667 & 18.91667 & 0.4450 & 0.3333333 & 2.750000 & 1.5 & 0.3258333 &  86.08333 & 45.66667 & 29 & 676.6667 & 1 & 0 & 1 & 4 & 5 & 0 & 0 & 10 & Southpaw & 177.80 & 182.88 & 170 & 0 & 1 & 0 &  7.866667 & 7.333333 & 10.8 &  8.733333 &  36.2 & 18.73333 & 12.4 &  9.2 &  48.26667 & 26.33333 & 0.3333333 &  3.266667 &  3.0 & 2.666667 & 0.06666667 &  59.4 & 36.66667 & 0.6306667 & 0.7333333 & 2.2 & 1.4 & 0.4433333 & 103.2667 & 78.93333 & 3 & 5 &  6.6 &  5.533333 &  8.066667 &  5.333333 & 41.06667 & 14.4 & 10.33333 &  6.8 & 45.13333 & 14.86667 & 0.0 &  7.733333 &  6.133333 & 1.2 & 0.4 &  59.46667 & 26.53333 & 0.402 & 0.1333333 & 4.933333 & 1.4 & 0.3166667 & 103.0667 & 67.86667 & 40 & 743.5333 & 8 & 0 & 0 & 1 & 5 & 4 & 0 & 10 & Orthodox & 175.26 & 177.80 & 155 & 27 & 30 & TKO - Doctor's Stoppage\\\\\n",
       "\t2693 & Christian Morecraft & Matt Mitrione       & Mark Matheny & 2011-06-26 & Pittsburgh, Pennsylvania, USA & Blue & False & Heavyweight       & 3 & 0 & 4 & 0 &  4.250000 & 4.000000 &  6.250000 & 3.50 &  52.75000 & 26.50000 &  8.25000 &  7.50000 & 55.25000 & 26.50000 & 0.7500000 &  7.750000 &  7.0000000 & 0.5000000 & 0.0000000 &  67.25000 & 37.50000 & 0.5700000 & 1.0000000 & 0.00 & 0.0000000 & 0.0000000 &  76.25000 & 45.75000 & 4 & 0 &  6.50 &  3.750000 & 5.750000 & 4.500000 &  42.50000 & 10.50000 &  3.000000 &  2.500000 & 42.00 & 11.25000 & 0 &  2.750000 &  2.500000 & 1.50 & 0.0000000 &  51.25000 & 17.50000 & 0.3625 & 0.2500000 & 3.750000 & 1.5 & 0.3700000 &  66.25000 & 30.25000 &  8 & 488.2500 & 0 & 0 & 0 & 1 & 3 & 0 & 0 &  4 & Switch   & 190.50 & 200.66 & 265 & 0 & 1 & 0 &  3.000000 & 3.000000 &  3.0 &  2.000000 &  16.5 &  4.00000 & 39.5 & 23.0 &  54.50000 & 24.50000 & 0.0000000 &  1.500000 &  1.5 & 3.000000 & 0.50000000 &  59.0 & 29.00000 & 0.4850000 & 1.5000000 & 1.5 & 1.0 & 0.7500000 &  98.5000 & 62.00000 & 1 & 1 &  1.0 &  1.000000 &  0.500000 &  0.000000 & 11.00000 &  5.0 &  5.00000 &  4.5 & 15.00000 &  8.00000 & 0.5 &  0.500000 &  0.500000 & 0.0 & 0.0 &  16.50000 &  9.50000 & 0.570 & 1.0000000 & 1.000000 & 0.5 & 0.2500000 &  19.5000 & 12.00000 &  4 & 436.0000 & 0 & 0 & 0 & 0 & 0 & 1 & 0 &  1 & Orthodox & 198.12 & 205.74 & 260 & 32 & 24 & KO/TKO                 \\\\\n",
       "\\end{tabular}\n"
      ],
      "text/markdown": [
       "\n",
       "A data.frame: 6 × 146\n",
       "\n",
       "| <!--/--> | R_fighter &lt;fct&gt; | B_fighter &lt;fct&gt; | Referee &lt;fct&gt; | date &lt;date&gt; | location &lt;fct&gt; | Winner &lt;fct&gt; | title_bout &lt;fct&gt; | weight_class &lt;fct&gt; | no_of_rounds &lt;int&gt; | B_current_lose_streak &lt;dbl&gt; | ... ... | R_win_by_Submission &lt;dbl&gt; | R_win_by_TKO_Doctor_Stoppage &lt;dbl&gt; | R_wins &lt;dbl&gt; | R_Stance &lt;fct&gt; | R_Height_cms &lt;dbl&gt; | R_Reach_cms &lt;dbl&gt; | R_Weight_lbs &lt;dbl&gt; | B_age &lt;dbl&gt; | R_age &lt;dbl&gt; | win_by &lt;fct&gt; |\n",
       "|---|---|---|---|---|---|---|---|---|---|---|---|---|---|---|---|---|---|---|---|---|---|\n",
       "| 2688 | Daniel Jolly        | Khalil Rountree Jr. | Chris Reed   | 2017-02-04 | Houston, Texas, USA           | Blue | False | Light Heavyweight | 3 | 2 | ... | 0 | 0 |  0 | Orthodox | 185.42 | 190.50 | 205 | 26 | 32 | KO/TKO                  |\n",
       "| 2689 | Nicolas Dalby       | Zak Cummings        | Marc Goddard | 2016-04-10 | Zagreb, Croatia               | Blue | False | Welterweight      | 3 | 0 | ... | 0 | 0 |  1 | Orthodox | 180.34 | 187.96 | 170 | 31 | 31 | Decision - Unanimous    |\n",
       "| 2690 | Cody McKenzie       | Vagner Rocha        | Yves Lavigne | 2011-09-17 | New Orleans, Louisiana, USA   | Blue | False | Lightweight       | 3 | 1 | ... | 1 | 0 |  1 | Switch   | 182.88 | 182.88 | 155 | 29 | 23 | Submission              |\n",
       "| 2691 | Curtis Millender    | Siyar Bahadurzada   | Mike Beltran | 2018-12-29 | Los Angeles, California, USA  | Red  | False | Welterweight      | 3 | 0 | ... | 0 | 0 |  2 | Orthodox | 187.96 | 193.04 | 170 | 34 | 31 | Decision - Unanimous    |\n",
       "| 2692 | BJ Penn             | Diego Sanchez       | Herb Dean    | 2009-12-12 | Memphis, Tennessee, USA       | Red  | True  | Lightweight       | 5 | 0 | ... | 4 | 0 | 10 | Orthodox | 175.26 | 177.80 | 155 | 27 | 30 | TKO - Doctor's Stoppage |\n",
       "| 2693 | Christian Morecraft | Matt Mitrione       | Mark Matheny | 2011-06-26 | Pittsburgh, Pennsylvania, USA | Blue | False | Heavyweight       | 3 | 0 | ... | 1 | 0 |  1 | Orthodox | 198.12 | 205.74 | 260 | 32 | 24 | KO/TKO                  |\n",
       "\n"
      ],
      "text/plain": [
       "     R_fighter           B_fighter           Referee      date      \n",
       "2688 Daniel Jolly        Khalil Rountree Jr. Chris Reed   2017-02-04\n",
       "2689 Nicolas Dalby       Zak Cummings        Marc Goddard 2016-04-10\n",
       "2690 Cody McKenzie       Vagner Rocha        Yves Lavigne 2011-09-17\n",
       "2691 Curtis Millender    Siyar Bahadurzada   Mike Beltran 2018-12-29\n",
       "2692 BJ Penn             Diego Sanchez       Herb Dean    2009-12-12\n",
       "2693 Christian Morecraft Matt Mitrione       Mark Matheny 2011-06-26\n",
       "     location                      Winner title_bout weight_class     \n",
       "2688 Houston, Texas, USA           Blue   False      Light Heavyweight\n",
       "2689 Zagreb, Croatia               Blue   False      Welterweight     \n",
       "2690 New Orleans, Louisiana, USA   Blue   False      Lightweight      \n",
       "2691 Los Angeles, California, USA  Red    False      Welterweight     \n",
       "2692 Memphis, Tennessee, USA       Red    True       Lightweight      \n",
       "2693 Pittsburgh, Pennsylvania, USA Blue   False      Heavyweight      \n",
       "     no_of_rounds B_current_lose_streak ... R_win_by_Submission\n",
       "2688 3            2                     ... 0                  \n",
       "2689 3            0                     ... 0                  \n",
       "2690 3            1                     ... 1                  \n",
       "2691 3            0                     ... 0                  \n",
       "2692 5            0                     ... 4                  \n",
       "2693 3            0                     ... 1                  \n",
       "     R_win_by_TKO_Doctor_Stoppage R_wins R_Stance R_Height_cms R_Reach_cms\n",
       "2688 0                             0     Orthodox 185.42       190.50     \n",
       "2689 0                             1     Orthodox 180.34       187.96     \n",
       "2690 0                             1     Switch   182.88       182.88     \n",
       "2691 0                             2     Orthodox 187.96       193.04     \n",
       "2692 0                            10     Orthodox 175.26       177.80     \n",
       "2693 0                             1     Orthodox 198.12       205.74     \n",
       "     R_Weight_lbs B_age R_age win_by                 \n",
       "2688 205          26    32    KO/TKO                 \n",
       "2689 170          31    31    Decision - Unanimous   \n",
       "2690 155          29    23    Submission             \n",
       "2691 170          34    31    Decision - Unanimous   \n",
       "2692 155          27    30    TKO - Doctor's Stoppage\n",
       "2693 260          32    24    KO/TKO                 "
      ]
     },
     "metadata": {},
     "output_type": "display_data"
    }
   ],
   "source": [
    "tail(merge_data)"
   ]
  },
  {
   "cell_type": "code",
   "execution_count": 178,
   "metadata": {},
   "outputs": [
    {
     "data": {
      "text/html": [
       "<ol class=list-inline>\n",
       "\t<li>KO/TKO</li>\n",
       "\t<li>Decision - Majority</li>\n",
       "\t<li>Overturned</li>\n",
       "\t<li>Submission</li>\n",
       "\t<li>Decision - Unanimous</li>\n",
       "\t<li>Decision - Split</li>\n",
       "\t<li>TKO - Doctor's Stoppage</li>\n",
       "\t<li>DQ</li>\n",
       "\t<li>Could Not Continue</li>\n",
       "</ol>\n",
       "\n",
       "<details>\n",
       "\t<summary style=display:list-item;cursor:pointer>\n",
       "\t\t<strong>Levels</strong>:\n",
       "\t</summary>\n",
       "\t<ol class=list-inline>\n",
       "\t\t<li>'Could Not Continue'</li>\n",
       "\t\t<li>'Decision - Majority'</li>\n",
       "\t\t<li>'Decision - Split'</li>\n",
       "\t\t<li>'Decision - Unanimous'</li>\n",
       "\t\t<li>'DQ'</li>\n",
       "\t\t<li>'KO/TKO'</li>\n",
       "\t\t<li>'Other'</li>\n",
       "\t\t<li>'Overturned'</li>\n",
       "\t\t<li>'Submission'</li>\n",
       "\t\t<li>'TKO - Doctor\\'s Stoppage'</li>\n",
       "\t</ol>\n",
       "</details>"
      ],
      "text/latex": [
       "\\begin{enumerate*}\n",
       "\\item KO/TKO\n",
       "\\item Decision - Majority\n",
       "\\item Overturned\n",
       "\\item Submission\n",
       "\\item Decision - Unanimous\n",
       "\\item Decision - Split\n",
       "\\item TKO - Doctor's Stoppage\n",
       "\\item DQ\n",
       "\\item Could Not Continue\n",
       "\\end{enumerate*}\n",
       "\n",
       "\\emph{Levels}: \\begin{enumerate*}\n",
       "\\item 'Could Not Continue'\n",
       "\\item 'Decision - Majority'\n",
       "\\item 'Decision - Split'\n",
       "\\item 'Decision - Unanimous'\n",
       "\\item 'DQ'\n",
       "\\item 'KO/TKO'\n",
       "\\item 'Other'\n",
       "\\item 'Overturned'\n",
       "\\item 'Submission'\n",
       "\\item 'TKO - Doctor\\textbackslash{}'s Stoppage'\n",
       "\\end{enumerate*}\n"
      ],
      "text/markdown": [
       "1. KO/TKO\n",
       "2. Decision - Majority\n",
       "3. Overturned\n",
       "4. Submission\n",
       "5. Decision - Unanimous\n",
       "6. Decision - Split\n",
       "7. TKO - Doctor's Stoppage\n",
       "8. DQ\n",
       "9. Could Not Continue\n",
       "\n",
       "\n",
       "\n",
       "**Levels**: 1. 'Could Not Continue'\n",
       "2. 'Decision - Majority'\n",
       "3. 'Decision - Split'\n",
       "4. 'Decision - Unanimous'\n",
       "5. 'DQ'\n",
       "6. 'KO/TKO'\n",
       "7. 'Other'\n",
       "8. 'Overturned'\n",
       "9. 'Submission'\n",
       "10. 'TKO - Doctor\\'s Stoppage'\n",
       "\n",
       "\n"
      ],
      "text/plain": [
       "[1] KO/TKO                  Decision - Majority     Overturned             \n",
       "[4] Submission              Decision - Unanimous    Decision - Split       \n",
       "[7] TKO - Doctor's Stoppage DQ                      Could Not Continue     \n",
       "10 Levels: Could Not Continue Decision - Majority ... TKO - Doctor's Stoppage"
      ]
     },
     "metadata": {},
     "output_type": "display_data"
    }
   ],
   "source": [
    "# Find the different values we need to answer the question we have. Since we are only looking at judge's choice, we can only keep decsions. \n",
    "unique(merge_data$win_by)"
   ]
  },
  {
   "cell_type": "code",
   "execution_count": 179,
   "metadata": {},
   "outputs": [
    {
     "data": {
      "text/html": [
       "2693"
      ],
      "text/latex": [
       "2693"
      ],
      "text/markdown": [
       "2693"
      ],
      "text/plain": [
       "[1] 2693"
      ]
     },
     "metadata": {},
     "output_type": "display_data"
    }
   ],
   "source": [
    "nrow(merge_data)"
   ]
  },
  {
   "cell_type": "markdown",
   "metadata": {},
   "source": [
    "**Observations:**\n",
    "\n",
    "- The win by column was able to join to our data with the correct win by column. The values were what I expected for the column win by. There is no null values which means everything mapped. \n",
    "\n",
    "- The nrows match our initial number of rows of 2,693 on the data after we dropped NAs"
   ]
  },
  {
   "cell_type": "code",
   "execution_count": 180,
   "metadata": {},
   "outputs": [
    {
     "data": {
      "text/html": [
       "<table>\n",
       "<caption>A data.frame: 4 × 6</caption>\n",
       "<thead>\n",
       "\t<tr><th scope=col>R_fighter</th><th scope=col>B_fighter</th><th scope=col>R_avg_BODY_att</th><th scope=col>B_avg_BODY_att</th><th scope=col>R_avg_opp_BODY_att</th><th scope=col>B_avg_opp_BODY_att</th></tr>\n",
       "\t<tr><th scope=col>&lt;fct&gt;</th><th scope=col>&lt;fct&gt;</th><th scope=col>&lt;dbl&gt;</th><th scope=col>&lt;dbl&gt;</th><th scope=col>&lt;dbl&gt;</th><th scope=col>&lt;dbl&gt;</th></tr>\n",
       "</thead>\n",
       "<tbody>\n",
       "\t<tr><td>Zak Cummings</td><td>Trevin Giles      </td><td>8.900000</td><td>7.0</td><td>7.200000</td><td> 5.5</td></tr>\n",
       "\t<tr><td>Zak Cummings</td><td>Nathan Coy        </td><td>7.714286</td><td>8.5</td><td>6.142857</td><td> 7.5</td></tr>\n",
       "\t<tr><td>Zak Cummings</td><td>Michel Prazeres   </td><td>7.125000</td><td>9.5</td><td>6.375000</td><td>10.9</td></tr>\n",
       "\t<tr><td>Zak Cummings</td><td>Alexander Yakovlev</td><td>8.000000</td><td>8.8</td><td>6.166667</td><td>10.0</td></tr>\n",
       "</tbody>\n",
       "</table>\n"
      ],
      "text/latex": [
       "A data.frame: 4 × 6\n",
       "\\begin{tabular}{r|llllll}\n",
       " R\\_fighter & B\\_fighter & R\\_avg\\_BODY\\_att & B\\_avg\\_BODY\\_att & R\\_avg\\_opp\\_BODY\\_att & B\\_avg\\_opp\\_BODY\\_att\\\\\n",
       " <fct> & <fct> & <dbl> & <dbl> & <dbl> & <dbl>\\\\\n",
       "\\hline\n",
       "\t Zak Cummings & Trevin Giles       & 8.900000 & 7.0 & 7.200000 &  5.5\\\\\n",
       "\t Zak Cummings & Nathan Coy         & 7.714286 & 8.5 & 6.142857 &  7.5\\\\\n",
       "\t Zak Cummings & Michel Prazeres    & 7.125000 & 9.5 & 6.375000 & 10.9\\\\\n",
       "\t Zak Cummings & Alexander Yakovlev & 8.000000 & 8.8 & 6.166667 & 10.0\\\\\n",
       "\\end{tabular}\n"
      ],
      "text/markdown": [
       "\n",
       "A data.frame: 4 × 6\n",
       "\n",
       "| R_fighter &lt;fct&gt; | B_fighter &lt;fct&gt; | R_avg_BODY_att &lt;dbl&gt; | B_avg_BODY_att &lt;dbl&gt; | R_avg_opp_BODY_att &lt;dbl&gt; | B_avg_opp_BODY_att &lt;dbl&gt; |\n",
       "|---|---|---|---|---|---|\n",
       "| Zak Cummings | Trevin Giles       | 8.900000 | 7.0 | 7.200000 |  5.5 |\n",
       "| Zak Cummings | Nathan Coy         | 7.714286 | 8.5 | 6.142857 |  7.5 |\n",
       "| Zak Cummings | Michel Prazeres    | 7.125000 | 9.5 | 6.375000 | 10.9 |\n",
       "| Zak Cummings | Alexander Yakovlev | 8.000000 | 8.8 | 6.166667 | 10.0 |\n",
       "\n"
      ],
      "text/plain": [
       "  R_fighter    B_fighter          R_avg_BODY_att B_avg_BODY_att\n",
       "1 Zak Cummings Trevin Giles       8.900000       7.0           \n",
       "2 Zak Cummings Nathan Coy         7.714286       8.5           \n",
       "3 Zak Cummings Michel Prazeres    7.125000       9.5           \n",
       "4 Zak Cummings Alexander Yakovlev 8.000000       8.8           \n",
       "  R_avg_opp_BODY_att B_avg_opp_BODY_att\n",
       "1 7.200000            5.5              \n",
       "2 6.142857            7.5              \n",
       "3 6.375000           10.9              \n",
       "4 6.166667           10.0              "
      ]
     },
     "metadata": {},
     "output_type": "display_data"
    }
   ],
   "source": [
    "# 5. Compare when a fighter is in the R_fighter and B_fighter columns to see are unique values for each appearence. For example, if a \n",
    "# fighter shows up in the red column for a fight they will not show up in the blue column for the same fight. \n",
    "\n",
    "merge_data %>%\n",
    "    filter(R_fighter == \"Zak Cummings\") %>%\n",
    "    select(R_fighter, B_fighter, R_avg_BODY_att, B_avg_BODY_att, R_avg_opp_BODY_att, B_avg_opp_BODY_att)"
   ]
  },
  {
   "cell_type": "code",
   "execution_count": 181,
   "metadata": {},
   "outputs": [
    {
     "data": {
      "text/html": [
       "<table>\n",
       "<caption>A data.frame: 4 × 6</caption>\n",
       "<thead>\n",
       "\t<tr><th scope=col>R_fighter</th><th scope=col>B_fighter</th><th scope=col>R_avg_BODY_att</th><th scope=col>B_avg_BODY_att</th><th scope=col>R_avg_opp_BODY_att</th><th scope=col>B_avg_opp_BODY_att</th></tr>\n",
       "\t<tr><th scope=col>&lt;fct&gt;</th><th scope=col>&lt;fct&gt;</th><th scope=col>&lt;dbl&gt;</th><th scope=col>&lt;dbl&gt;</th><th scope=col>&lt;dbl&gt;</th><th scope=col>&lt;dbl&gt;</th></tr>\n",
       "</thead>\n",
       "<tbody>\n",
       "\t<tr><td>Yan Cabral          </td><td>Zak Cummings</td><td> 0.0</td><td>0.000000</td><td> 1.00000</td><td>6.000000</td></tr>\n",
       "\t<tr><td>Trevor Smith        </td><td>Zak Cummings</td><td>13.8</td><td>8.666667</td><td>13.70000</td><td>6.444444</td></tr>\n",
       "\t<tr><td>Santiago Ponzinibbio</td><td>Zak Cummings</td><td>10.0</td><td>7.200000</td><td>11.16667</td><td>7.000000</td></tr>\n",
       "\t<tr><td>Nicolas Dalby       </td><td>Zak Cummings</td><td>19.0</td><td>4.250000</td><td>17.50000</td><td>2.750000</td></tr>\n",
       "</tbody>\n",
       "</table>\n"
      ],
      "text/latex": [
       "A data.frame: 4 × 6\n",
       "\\begin{tabular}{r|llllll}\n",
       " R\\_fighter & B\\_fighter & R\\_avg\\_BODY\\_att & B\\_avg\\_BODY\\_att & R\\_avg\\_opp\\_BODY\\_att & B\\_avg\\_opp\\_BODY\\_att\\\\\n",
       " <fct> & <fct> & <dbl> & <dbl> & <dbl> & <dbl>\\\\\n",
       "\\hline\n",
       "\t Yan Cabral           & Zak Cummings &  0.0 & 0.000000 &  1.00000 & 6.000000\\\\\n",
       "\t Trevor Smith         & Zak Cummings & 13.8 & 8.666667 & 13.70000 & 6.444444\\\\\n",
       "\t Santiago Ponzinibbio & Zak Cummings & 10.0 & 7.200000 & 11.16667 & 7.000000\\\\\n",
       "\t Nicolas Dalby        & Zak Cummings & 19.0 & 4.250000 & 17.50000 & 2.750000\\\\\n",
       "\\end{tabular}\n"
      ],
      "text/markdown": [
       "\n",
       "A data.frame: 4 × 6\n",
       "\n",
       "| R_fighter &lt;fct&gt; | B_fighter &lt;fct&gt; | R_avg_BODY_att &lt;dbl&gt; | B_avg_BODY_att &lt;dbl&gt; | R_avg_opp_BODY_att &lt;dbl&gt; | B_avg_opp_BODY_att &lt;dbl&gt; |\n",
       "|---|---|---|---|---|---|\n",
       "| Yan Cabral           | Zak Cummings |  0.0 | 0.000000 |  1.00000 | 6.000000 |\n",
       "| Trevor Smith         | Zak Cummings | 13.8 | 8.666667 | 13.70000 | 6.444444 |\n",
       "| Santiago Ponzinibbio | Zak Cummings | 10.0 | 7.200000 | 11.16667 | 7.000000 |\n",
       "| Nicolas Dalby        | Zak Cummings | 19.0 | 4.250000 | 17.50000 | 2.750000 |\n",
       "\n"
      ],
      "text/plain": [
       "  R_fighter            B_fighter    R_avg_BODY_att B_avg_BODY_att\n",
       "1 Yan Cabral           Zak Cummings  0.0           0.000000      \n",
       "2 Trevor Smith         Zak Cummings 13.8           8.666667      \n",
       "3 Santiago Ponzinibbio Zak Cummings 10.0           7.200000      \n",
       "4 Nicolas Dalby        Zak Cummings 19.0           4.250000      \n",
       "  R_avg_opp_BODY_att B_avg_opp_BODY_att\n",
       "1  1.00000           6.000000          \n",
       "2 13.70000           6.444444          \n",
       "3 11.16667           7.000000          \n",
       "4 17.50000           2.750000          "
      ]
     },
     "metadata": {},
     "output_type": "display_data"
    }
   ],
   "source": [
    "merge_data %>%\n",
    "    filter(B_fighter == \"Zak Cummings\") %>%\n",
    "    select(R_fighter, B_fighter, R_avg_BODY_att, B_avg_BODY_att, R_avg_opp_BODY_att, B_avg_opp_BODY_att)"
   ]
  },
  {
   "cell_type": "markdown",
   "metadata": {},
   "source": [
    "**Observations**\n",
    "\n",
    "- Each fight is unique which means each row has unique data. \n",
    "- The values for the same stat across R_avg, B_avg, R_avg_opp, B_avg_opp are all reporting unique values. This shows that these columns do not duplicate. "
   ]
  },
  {
   "cell_type": "markdown",
   "metadata": {},
   "source": [
    "### 6. Validate with at least one external data source"
   ]
  },
  {
   "cell_type": "code",
   "execution_count": 182,
   "metadata": {},
   "outputs": [
    {
     "data": {
      "text/html": [
       "<table>\n",
       "<caption>A data.frame: 1 × 6</caption>\n",
       "<thead>\n",
       "\t<tr><th scope=col>R_Stance</th><th scope=col>R_Height_cms</th><th scope=col>R_Reach_cms</th><th scope=col>R_Weight_lbs</th><th scope=col>win_by</th><th scope=col>Winner</th></tr>\n",
       "\t<tr><th scope=col>&lt;fct&gt;</th><th scope=col>&lt;dbl&gt;</th><th scope=col>&lt;dbl&gt;</th><th scope=col>&lt;dbl&gt;</th><th scope=col>&lt;fct&gt;</th><th scope=col>&lt;fct&gt;</th></tr>\n",
       "</thead>\n",
       "<tbody>\n",
       "\t<tr><td>Southpaw</td><td>175.26</td><td>177.8</td><td>135</td><td>Decision - Unanimous</td><td>Blue</td></tr>\n",
       "</tbody>\n",
       "</table>\n"
      ],
      "text/latex": [
       "A data.frame: 1 × 6\n",
       "\\begin{tabular}{r|llllll}\n",
       " R\\_Stance & R\\_Height\\_cms & R\\_Reach\\_cms & R\\_Weight\\_lbs & win\\_by & Winner\\\\\n",
       " <fct> & <dbl> & <dbl> & <dbl> & <fct> & <fct>\\\\\n",
       "\\hline\n",
       "\t Southpaw & 175.26 & 177.8 & 135 & Decision - Unanimous & Blue\\\\\n",
       "\\end{tabular}\n"
      ],
      "text/markdown": [
       "\n",
       "A data.frame: 1 × 6\n",
       "\n",
       "| R_Stance &lt;fct&gt; | R_Height_cms &lt;dbl&gt; | R_Reach_cms &lt;dbl&gt; | R_Weight_lbs &lt;dbl&gt; | win_by &lt;fct&gt; | Winner &lt;fct&gt; |\n",
       "|---|---|---|---|---|---|\n",
       "| Southpaw | 175.26 | 177.8 | 135 | Decision - Unanimous | Blue |\n",
       "\n"
      ],
      "text/plain": [
       "  R_Stance R_Height_cms R_Reach_cms R_Weight_lbs win_by               Winner\n",
       "1 Southpaw 175.26       177.8       135          Decision - Unanimous Blue  "
      ]
     },
     "metadata": {},
     "output_type": "display_data"
    }
   ],
   "source": [
    "# 6. Validate with at least one external data source\n",
    "\n",
    "merge_data %>%\n",
    "    filter(R_fighter == \"Aaron Phillips\") %>%\n",
    "    select(c(R_Stance, R_Height_cms, R_Reach_cms, R_Weight_lbs, win_by, Winner))"
   ]
  },
  {
   "cell_type": "markdown",
   "metadata": {},
   "source": [
    "**Observations:**\n",
    "- Verified the Aaron Philips and Matt Hobar match happened ended in an Unanimous Decsion with Hobar winning [Source: Tapout]((https://www.tapology.com/fightcenter/bouts/146806-ufc-fight-night-49-matt-the-crowbar-hobar-vs-aaron-the-model-phillips). The characteristics for Aaron matched his profile including his weight and reach. "
   ]
  },
  {
   "cell_type": "markdown",
   "metadata": {},
   "source": [
    "### Extra Wrangling"
   ]
  },
  {
   "cell_type": "code",
   "execution_count": 183,
   "metadata": {},
   "outputs": [
    {
     "data": {
      "text/plain": [
       "           R_fighter               B_fighter     Winner     B_avg_BODY_att  \n",
       " Michael Bisping:  18   Jeremy Stephens :  13   Blue: 957   Min.   : 0.000  \n",
       " Demian Maia    :  16   Charles Oliveira:  12   Draw:  46   1st Qu.: 4.000  \n",
       " Jim Miller     :  16   Evan Dunham     :  12   Red :1690   Median : 7.500  \n",
       " Frankie Edgar  :  15   Nik Lentz       :  12               Mean   : 9.247  \n",
       " Mauricio Rua   :  15   Dan Henderson   :  10               3rd Qu.:12.667  \n",
       " Ross Pearson   :  15   Tim Means       :  10               Max.   :49.000  \n",
       " (Other)        :2598   (Other)         :2624                               \n",
       " B_avg_BODY_landed B_avg_CLINCH_att B_avg_CLINCH_landed B_avg_DISTANCE_att\n",
       " Min.   : 0.000    Min.   : 0.000   Min.   : 0.000      Min.   :  0.00    \n",
       " 1st Qu.: 2.800    1st Qu.: 3.500   1st Qu.: 2.100      1st Qu.: 26.33    \n",
       " Median : 5.111    Median : 6.750   Median : 4.500      Median : 49.00    \n",
       " Mean   : 6.455    Mean   : 8.623   Mean   : 5.851      Mean   : 57.18    \n",
       " 3rd Qu.: 8.909    3rd Qu.:12.000   3rd Qu.: 8.000      3rd Qu.: 78.00    \n",
       " Max.   :39.000    Max.   :87.000   Max.   :68.000      Max.   :271.00    \n",
       "                                                                          \n",
       " B_avg_DISTANCE_landed B_avg_GROUND_att B_avg_GROUND_landed B_avg_HEAD_att  \n",
       " Min.   :  0.000       Min.   : 0.000   Min.   : 0.000      Min.   :  0.00  \n",
       " 1st Qu.:  9.222       1st Qu.: 3.000   1st Qu.: 2.000      1st Qu.: 33.45  \n",
       " Median : 16.700       Median : 6.933   Median : 4.556      Median : 53.67  \n",
       " Mean   : 20.845       Mean   : 8.839   Mean   : 5.859      Mean   : 59.10  \n",
       " 3rd Qu.: 29.000       3rd Qu.:12.250   3rd Qu.: 8.000      3rd Qu.: 77.00  \n",
       " Max.   :130.000       Max.   :88.000   Max.   :47.000      Max.   :277.00  \n",
       "                                                                            \n",
       " B_avg_HEAD_landed    B_avg_KD      B_avg_LEG_att    B_avg_LEG_landed\n",
       " Min.   :  0.00    Min.   :0.0000   Min.   : 0.000   Min.   : 0.000  \n",
       " 1st Qu.: 12.33    1st Qu.:0.0000   1st Qu.: 2.000   1st Qu.: 1.750  \n",
       " Median : 19.00    Median :0.1538   Median : 4.857   Median : 4.000  \n",
       " Mean   : 21.09    Mean   :0.2540   Mean   : 6.292   Mean   : 5.006  \n",
       " 3rd Qu.: 27.00    3rd Qu.:0.4167   3rd Qu.: 8.800   3rd Qu.: 7.000  \n",
       " Max.   :137.00    Max.   :5.0000   Max.   :53.000   Max.   :39.000  \n",
       "                                                                     \n",
       "   B_avg_PASS       B_avg_REV      B_avg_SIG_STR_att B_avg_SIG_STR_landed\n",
       " Min.   : 0.000   Min.   :0.0000   Min.   :  0.00    Min.   :  0.00      \n",
       " 1st Qu.: 0.250   1st Qu.:0.0000   1st Qu.: 43.57    1st Qu.: 19.36      \n",
       " Median : 1.000   Median :0.0000   Median : 67.50    Median : 30.00      \n",
       " Mean   : 1.303   Mean   :0.1609   Mean   : 74.64    Mean   : 32.55      \n",
       " 3rd Qu.: 2.000   3rd Qu.:0.2353   3rd Qu.: 98.00    3rd Qu.: 42.62      \n",
       " Max.   :15.000   Max.   :3.0000   Max.   :299.00    Max.   :154.00      \n",
       "                                                                         \n",
       " B_avg_SIG_STR_pct B_avg_SUB_ATT     B_avg_TD_att    B_avg_TD_landed  \n",
       " Min.   :0.0000    Min.   :0.0000   Min.   : 0.000   Min.   : 0.0000  \n",
       " 1st Qu.:0.3900    1st Qu.:0.0000   1st Qu.: 1.000   1st Qu.: 0.3333  \n",
       " Median :0.4550    Median :0.3333   Median : 2.200   Median : 1.0000  \n",
       " Mean   :0.4556    Mean   :0.5354   Mean   : 2.916   Mean   : 1.2280  \n",
       " 3rd Qu.:0.5200    3rd Qu.:0.8333   3rd Qu.: 4.261   3rd Qu.: 1.8000  \n",
       " Max.   :1.0000    Max.   :8.0000   Max.   :19.000   Max.   :10.0000  \n",
       "                                                                      \n",
       "  B_avg_TD_pct    B_avg_TOTAL_STR_att B_avg_TOTAL_STR_landed B_avg_opp_BODY_att\n",
       " Min.   :0.0000   Min.   :  0.00      Min.   :  0.00         Min.   : 0.000    \n",
       " 1st Qu.:0.1250   1st Qu.: 63.75      1st Qu.: 33.60         1st Qu.: 4.000    \n",
       " Median :0.3073   Median : 91.17      Median : 49.25         Median : 7.400    \n",
       " Mean   :0.3156   Mean   : 97.40      Mean   : 52.81         Mean   : 8.806    \n",
       " 3rd Qu.:0.4730   3rd Qu.:126.55      3rd Qu.: 68.11         3rd Qu.:12.000    \n",
       " Max.   :1.0000   Max.   :360.00      Max.   :230.00         Max.   :61.000    \n",
       "                                                                               \n",
       " B_avg_opp_BODY_landed B_avg_opp_CLINCH_att B_avg_opp_CLINCH_landed\n",
       " Min.   : 0.000        Min.   :  0.000      Min.   : 0.000         \n",
       " 1st Qu.: 2.667        1st Qu.:  3.000      1st Qu.: 2.000         \n",
       " Median : 5.000        Median :  6.000      Median : 3.867         \n",
       " Mean   : 5.928        Mean   :  7.585      Mean   : 5.026         \n",
       " 3rd Qu.: 8.000        3rd Qu.: 10.286      3rd Qu.: 6.750         \n",
       " Max.   :48.000        Max.   :105.000      Max.   :84.000         \n",
       "                                                                   \n",
       " B_avg_opp_DISTANCE_att B_avg_opp_DISTANCE_landed B_avg_opp_GROUND_att\n",
       " Min.   :  0.00         Min.   :  0.000           Min.   : 0.000      \n",
       " 1st Qu.: 26.67         1st Qu.:  8.667           1st Qu.: 1.750      \n",
       " Median : 48.00         Median : 16.000           Median : 4.750      \n",
       " Mean   : 55.71         Mean   : 19.623           Mean   : 6.987      \n",
       " 3rd Qu.: 74.67         3rd Qu.: 26.300           3rd Qu.: 9.333      \n",
       " Max.   :361.00         Max.   :150.000           Max.   :94.000      \n",
       "                                                                      \n",
       " B_avg_opp_GROUND_landed B_avg_opp_HEAD_att B_avg_opp_HEAD_landed\n",
       " Min.   : 0.000          Min.   :  0.00     Min.   :  0.00       \n",
       " 1st Qu.: 1.000          1st Qu.: 30.57     1st Qu.:  9.75       \n",
       " Median : 3.000          Median : 50.00     Median : 15.92       \n",
       " Mean   : 4.571          Mean   : 55.08     Mean   : 18.22       \n",
       " 3rd Qu.: 6.000          3rd Qu.: 71.62     3rd Qu.: 24.00       \n",
       " Max.   :84.000          Max.   :335.00     Max.   :126.00       \n",
       "                                                                 \n",
       "  B_avg_opp_KD    B_avg_opp_LEG_att B_avg_opp_LEG_landed B_avg_opp_PASS   \n",
       " Min.   :0.0000   Min.   : 0.000    Min.   : 0.000       Min.   : 0.0000  \n",
       " 1st Qu.:0.0000   1st Qu.: 2.632    1st Qu.: 2.000       1st Qu.: 0.1667  \n",
       " Median :0.0000   Median : 5.000    Median : 4.000       Median : 0.7143  \n",
       " Mean   :0.1544   Mean   : 6.397    Mean   : 5.069       Mean   : 1.0798  \n",
       " 3rd Qu.:0.2500   3rd Qu.: 8.400    3rd Qu.: 6.857       3rd Qu.: 1.5000  \n",
       " Max.   :3.0000   Max.   :57.000    Max.   :50.000       Max.   :19.0000  \n",
       "                                                                          \n",
       " B_avg_opp_REV    B_avg_opp_SIG_STR_att B_avg_opp_SIG_STR_landed\n",
       " Min.   :0.0000   Min.   :  0.50        Min.   :  0.00          \n",
       " 1st Qu.:0.0000   1st Qu.: 39.50        1st Qu.: 16.80          \n",
       " Median :0.0000   Median : 64.33        Median : 26.57          \n",
       " Mean   :0.1516   Mean   : 70.28        Mean   : 29.22          \n",
       " 3rd Qu.:0.2000   3rd Qu.: 90.44        3rd Qu.: 37.67          \n",
       " Max.   :3.0000   Max.   :401.00        Max.   :202.00          \n",
       "                                                                \n",
       " B_avg_opp_SIG_STR_pct B_avg_opp_SUB_ATT B_avg_opp_TD_att B_avg_opp_TD_landed\n",
       " Min.   :0.0000        Min.   :0.0000    Min.   : 0.000   Min.   : 0.0000    \n",
       " 1st Qu.:0.3550        1st Qu.:0.0000    1st Qu.: 1.143   1st Qu.: 0.3333    \n",
       " Median :0.4133        Median :0.2500    Median : 2.500   Median : 0.8889    \n",
       " Mean   :0.4244        Mean   :0.4395    Mean   : 2.982   Mean   : 1.1008    \n",
       " 3rd Qu.:0.4857        3rd Qu.:0.6667    3rd Qu.: 4.000   3rd Qu.: 1.5000    \n",
       " Max.   :1.0000        Max.   :7.0000    Max.   :20.000   Max.   :11.5000    \n",
       "                                                                             \n",
       " B_avg_opp_TD_pct B_avg_opp_TOTAL_STR_att B_avg_opp_TOTAL_STR_landed\n",
       " Min.   :0.0000   Min.   :  0.50          Min.   :  0.00            \n",
       " 1st Qu.:0.1000   1st Qu.: 57.82          1st Qu.: 31.00            \n",
       " Median :0.2400   Median : 86.33          Median : 44.32            \n",
       " Mean   :0.2719   Mean   : 90.63          Mean   : 47.37            \n",
       " 3rd Qu.:0.3750   3rd Qu.:115.33          3rd Qu.: 59.67            \n",
       " Max.   :1.0000   Max.   :404.00          Max.   :232.00            \n",
       "                                                                    \n",
       "  B_Height_cms    B_Reach_cms     B_Weight_lbs   R_avg_BODY_att  \n",
       " Min.   :152.4   Min.   :152.4   Min.   :115.0   Min.   : 0.000  \n",
       " 1st Qu.:172.7   1st Qu.:177.8   1st Qu.:145.0   1st Qu.: 4.400  \n",
       " Median :180.3   Median :182.9   Median :170.0   Median : 7.714  \n",
       " Mean   :179.1   Mean   :183.6   Mean   :169.4   Mean   : 9.283  \n",
       " 3rd Qu.:185.4   3rd Qu.:190.5   3rd Qu.:185.0   3rd Qu.:12.333  \n",
       " Max.   :210.8   Max.   :213.4   Max.   :265.0   Max.   :51.000  \n",
       "                                                                 \n",
       " R_avg_BODY_landed R_avg_CLINCH_att R_avg_CLINCH_landed R_avg_DISTANCE_att\n",
       " Min.   : 0.000    Min.   : 0.000   Min.   : 0.000      Min.   :  0.00    \n",
       " 1st Qu.: 3.000    1st Qu.: 4.000   1st Qu.: 2.333      1st Qu.: 29.00    \n",
       " Median : 5.333    Median : 6.833   Median : 4.500      Median : 49.57    \n",
       " Mean   : 6.399    Mean   : 8.265   Mean   : 5.579      Mean   : 57.04    \n",
       " 3rd Qu.: 8.667    3rd Qu.:10.812   3rd Qu.: 7.333      3rd Qu.: 78.41    \n",
       " Max.   :39.000    Max.   :72.000   Max.   :52.000      Max.   :287.50    \n",
       "                                                                          \n",
       " R_avg_DISTANCE_landed R_avg_GROUND_att R_avg_GROUND_landed R_avg_HEAD_att  \n",
       " Min.   :  0.00        Min.   : 0.000   Min.   : 0.000      Min.   :  0.00  \n",
       " 1st Qu.: 10.17        1st Qu.: 3.750   1st Qu.: 2.500      1st Qu.: 36.31  \n",
       " Median : 17.23        Median : 7.857   Median : 5.143      Median : 53.45  \n",
       " Mean   : 20.78        Mean   : 9.673   Mean   : 6.427      Mean   : 59.18  \n",
       " 3rd Qu.: 28.50        3rd Qu.:13.000   3rd Qu.: 8.706      3rd Qu.: 77.12  \n",
       " Max.   :131.00        Max.   :83.000   Max.   :53.000      Max.   :264.00  \n",
       "                                                                            \n",
       " R_avg_HEAD_landed    R_avg_KD      R_avg_LEG_att    R_avg_LEG_landed\n",
       " Min.   :  0.00    Min.   :0.0000   Min.   : 0.000   Min.   : 0.000  \n",
       " 1st Qu.: 13.70    1st Qu.:0.0000   1st Qu.: 2.316   1st Qu.: 2.000  \n",
       " Median : 19.00    Median :0.2000   Median : 5.154   Median : 4.077  \n",
       " Mean   : 21.25    Mean   :0.2741   Mean   : 6.517   Mean   : 5.140  \n",
       " 3rd Qu.: 27.00    3rd Qu.:0.4286   3rd Qu.: 9.000   3rd Qu.: 7.250  \n",
       " Max.   :119.00    Max.   :4.0000   Max.   :48.000   Max.   :37.000  \n",
       "                                                                     \n",
       "   R_avg_PASS       R_avg_REV      R_avg_SIG_STR_att R_avg_SIG_STR_landed\n",
       " Min.   : 0.000   Min.   :0.0000   Min.   :  0.00    Min.   :  0.00      \n",
       " 1st Qu.: 0.400   1st Qu.:0.0000   1st Qu.: 46.89    1st Qu.: 21.20      \n",
       " Median : 1.000   Median :0.0000   Median : 68.00    Median : 30.00      \n",
       " Mean   : 1.442   Mean   :0.1541   Mean   : 74.98    Mean   : 32.79      \n",
       " 3rd Qu.: 2.100   3rd Qu.:0.2143   3rd Qu.: 98.00    3rd Qu.: 42.60      \n",
       " Max.   :14.000   Max.   :3.0000   Max.   :298.50    Max.   :141.00      \n",
       "                                                                         \n",
       " R_avg_SIG_STR_pct R_avg_SUB_ATT     R_avg_TD_att    R_avg_TD_landed  \n",
       " Min.   :0.0000    Min.   :0.0000   Min.   : 0.000   Min.   : 0.0000  \n",
       " 1st Qu.:0.3940    1st Qu.:0.0000   1st Qu.: 1.000   1st Qu.: 0.4615  \n",
       " Median :0.4550    Median :0.4000   Median : 2.600   Median : 1.0000  \n",
       " Mean   :0.4616    Mean   :0.5497   Mean   : 3.141   Mean   : 1.3461  \n",
       " 3rd Qu.:0.5213    3rd Qu.:0.8333   3rd Qu.: 4.545   3rd Qu.: 2.0000  \n",
       " Max.   :1.0000    Max.   :9.0000   Max.   :22.500   Max.   :11.0000  \n",
       "                                                                      \n",
       "  R_avg_TD_pct    R_avg_TOTAL_STR_att R_avg_TOTAL_STR_landed R_avg_opp_BODY_att\n",
       " Min.   :0.0000   Min.   :  0.00      Min.   :  0.00         Min.   : 0.000    \n",
       " 1st Qu.:0.1786   1st Qu.: 66.00      1st Qu.: 36.50         1st Qu.: 4.182    \n",
       " Median :0.3233   Median : 92.50      Median : 49.36         Median : 7.556    \n",
       " Mean   :0.3333   Mean   : 97.11      Mean   : 52.49         Mean   : 8.580    \n",
       " 3rd Qu.:0.4710   3rd Qu.:122.00      3rd Qu.: 65.00         3rd Qu.:11.833    \n",
       " Max.   :1.0000   Max.   :325.50      Max.   :201.00         Max.   :75.000    \n",
       "                                                                               \n",
       " R_avg_opp_BODY_landed R_avg_opp_CLINCH_att R_avg_opp_CLINCH_landed\n",
       " Min.   : 0.000        Min.   : 0.000       Min.   : 0.000         \n",
       " 1st Qu.: 3.000        1st Qu.: 3.333       1st Qu.: 2.000         \n",
       " Median : 5.000        Median : 6.167       Median : 4.000         \n",
       " Mean   : 5.745        Mean   : 7.337       Mean   : 4.806         \n",
       " 3rd Qu.: 7.750        3rd Qu.: 9.700       3rd Qu.: 6.357         \n",
       " Max.   :41.000        Max.   :82.000       Max.   :41.000         \n",
       "                                                                   \n",
       " R_avg_opp_DISTANCE_att R_avg_opp_DISTANCE_landed R_avg_opp_GROUND_att\n",
       " Min.   :  0.00         Min.   :  0.00            Min.   :  0.000     \n",
       " 1st Qu.: 28.00         1st Qu.:  9.00            1st Qu.:  2.000     \n",
       " Median : 49.00         Median : 16.25            Median :  4.800     \n",
       " Mean   : 55.61         Mean   : 18.96            Mean   :  6.586     \n",
       " 3rd Qu.: 75.00         3rd Qu.: 25.82            3rd Qu.:  9.000     \n",
       " Max.   :440.00         Max.   :144.00            Max.   :104.000     \n",
       "                                                                      \n",
       " R_avg_opp_GROUND_landed R_avg_opp_HEAD_att R_avg_opp_HEAD_landed\n",
       " Min.   : 0.000          Min.   :  0.00     Min.   :  0.00       \n",
       " 1st Qu.: 1.176          1st Qu.: 31.80     1st Qu.: 10.00       \n",
       " Median : 3.083          Median : 49.40     Median : 15.33       \n",
       " Mean   : 4.272          Mean   : 54.68     Mean   : 17.44       \n",
       " 3rd Qu.: 5.857          3rd Qu.: 71.27     3rd Qu.: 23.00       \n",
       " Max.   :50.000          Max.   :400.00     Max.   :132.00       \n",
       "                                                                 \n",
       "  R_avg_opp_KD     R_avg_opp_LEG_att R_avg_opp_LEG_landed R_avg_opp_PASS   \n",
       " Min.   :0.00000   Min.   : 0.000    Min.   : 0.000       Min.   : 0.0000  \n",
       " 1st Qu.:0.00000   1st Qu.: 3.000    1st Qu.: 2.214       1st Qu.: 0.2500  \n",
       " Median :0.07692   Median : 5.200    Median : 4.000       Median : 0.6667  \n",
       " Mean   :0.15438   Mean   : 6.266    Mean   : 4.849       Mean   : 1.0128  \n",
       " 3rd Qu.:0.25000   3rd Qu.: 8.375    3rd Qu.: 6.556       3rd Qu.: 1.4000  \n",
       " Max.   :2.00000   Max.   :63.000    Max.   :41.000       Max.   :15.0000  \n",
       "                                                                           \n",
       " R_avg_opp_REV    R_avg_opp_SIG_STR_att R_avg_opp_SIG_STR_landed\n",
       " Min.   :0.0000   Min.   :  0.00        Min.   :  0.00          \n",
       " 1st Qu.:0.0000   1st Qu.: 41.44        1st Qu.: 17.27          \n",
       " Median :0.0000   Median : 64.00        Median : 25.89          \n",
       " Mean   :0.1603   Mean   : 69.53        Mean   : 28.03          \n",
       " 3rd Qu.:0.2381   3rd Qu.: 90.00        3rd Qu.: 36.00          \n",
       " Max.   :3.0000   Max.   :454.00        Max.   :151.00          \n",
       "                                                                \n",
       " R_avg_opp_SIG_STR_pct R_avg_opp_SUB_ATT R_avg_opp_TD_att R_avg_opp_TD_landed\n",
       " Min.   :0.0000        Min.   :0.0000    Min.   : 0.000   Min.   :0.0000     \n",
       " 1st Qu.:0.3433        1st Qu.:0.0000    1st Qu.: 1.333   1st Qu.:0.3333     \n",
       " Median :0.4050        Median :0.2941    Median : 2.500   Median :0.8182     \n",
       " Mean   :0.4112        Mean   :0.4464    Mean   : 2.919   Mean   :1.0341     \n",
       " 3rd Qu.:0.4650        3rd Qu.:0.6364    3rd Qu.: 4.000   3rd Qu.:1.5000     \n",
       " Max.   :1.0000        Max.   :8.0000    Max.   :16.000   Max.   :9.0000     \n",
       "                                                                             \n",
       " R_avg_opp_TD_pct R_avg_opp_TOTAL_STR_att R_avg_opp_TOTAL_STR_landed\n",
       " Min.   :0.0000   Min.   :  0.00          Min.   :  0.00            \n",
       " 1st Qu.:0.1100   1st Qu.: 59.25          1st Qu.: 31.50            \n",
       " Median :0.2287   Median : 85.25          Median : 43.00            \n",
       " Mean   :0.2547   Mean   : 88.82          Mean   : 45.28            \n",
       " 3rd Qu.:0.3550   3rd Qu.:111.80          3rd Qu.: 56.40            \n",
       " Max.   :1.0000   Max.   :461.00          Max.   :202.00            \n",
       "                                                                    \n",
       "  R_Height_cms    R_Reach_cms     R_Weight_lbs       B_age      \n",
       " Min.   :152.4   Min.   :152.4   Min.   :115.0   Min.   :20.00  \n",
       " 1st Qu.:172.7   1st Qu.:177.8   1st Qu.:145.0   1st Qu.:27.00  \n",
       " Median :180.3   Median :182.9   Median :170.0   Median :29.00  \n",
       " Mean   :179.0   Mean   :183.7   Mean   :169.7   Mean   :29.73  \n",
       " 3rd Qu.:185.4   3rd Qu.:190.5   3rd Qu.:185.0   3rd Qu.:32.00  \n",
       " Max.   :210.8   Max.   :213.4   Max.   :265.0   Max.   :47.00  \n",
       "                                                                \n",
       "     R_age                           win_by   \n",
       " Min.   :19.00   Decision - Unanimous   :982  \n",
       " 1st Qu.:27.00   KO/TKO                 :866  \n",
       " Median :30.00   Submission             :471  \n",
       " Mean   :30.04   Decision - Split       :280  \n",
       " 3rd Qu.:33.00   TKO - Doctor's Stoppage: 33  \n",
       " Max.   :46.00   Decision - Majority    : 24  \n",
       "                 (Other)                : 37  "
      ]
     },
     "metadata": {},
     "output_type": "display_data"
    }
   ],
   "source": [
    "# removed the columns that are not important to our question and columns that have no values\n",
    "data <- merge_data %>% \n",
    "    select(-c(\"date\", \"Referee\", \"title_bout\", \"weight_class\", \"no_of_rounds\", \n",
    "              \"location\", \"B_win_by_TKO_Doctor_Stoppage\", \"B_win_by_Submission\", \"B_win_by_KO.TKO\", \n",
    "              \"R_win_by_TKO_Doctor_Stoppage\", \"R_win_by_Submission\", \"R_win_by_KO.TKO\", \n",
    "              \"R_win_by_Submission\", \"R_win_by_KO.TKO\", \n",
    "              \"R_win_by_TKO_Doctor_Stoppage\", \"R_win_by_Submission\", \"R_win_by_KO.TKO\", \"B_draw\", \"R_draw\", \n",
    "              \"B_current_lose_streak\", \"B_current_win_streak\", \"R_current_lose_streak\", \"R_current_win_streak\",\n",
    "             \"B_longest_win_streak\", \"B_losses\", \"B_total_rounds_fought\", \"B_total_time_fought.seconds.\", \"B_total_title_bouts\",\n",
    "             \"B_win_by_Decision_Majority\", \"B_win_by_Decision_Unanimous\", \"B_win_by_Decision_Split\", \"B_wins\", \"B_Stance\",\n",
    "             \"R_longest_win_streak\", \"R_losses\", \"B_total_rounds_fought\", \"R_total_time_fought.seconds.\", \"R_total_title_bouts\",\n",
    "             \"R_win_by_Decision_Majority\", \"R_win_by_Decision_Unanimous\", \"R_win_by_Decision_Split\", \"R_wins\", \"R_Stance\", \n",
    "              \"R_total_rounds_fought\"))\n",
    "\n",
    "summary(data)"
   ]
  },
  {
   "cell_type": "code",
   "execution_count": 184,
   "metadata": {},
   "outputs": [],
   "source": [
    "# filter the data by matches that ended in a decision\n",
    "data <- data %>%\n",
    "    filter(win_by == \"Decision - Split\" | win_by ==  \"Decision - Unanimous\" | win_by ==  \"Decision - Majority\")"
   ]
  },
  {
   "cell_type": "code",
   "execution_count": 185,
   "metadata": {},
   "outputs": [
    {
     "data": {
      "text/html": [
       "1286"
      ],
      "text/latex": [
       "1286"
      ],
      "text/markdown": [
       "1286"
      ],
      "text/plain": [
       "[1] 1286"
      ]
     },
     "metadata": {},
     "output_type": "display_data"
    },
    {
     "data": {
      "text/html": [
       "108"
      ],
      "text/latex": [
       "108"
      ],
      "text/markdown": [
       "108"
      ],
      "text/plain": [
       "[1] 108"
      ]
     },
     "metadata": {},
     "output_type": "display_data"
    }
   ],
   "source": [
    "# make sure we are getting an adequate data sample.\n",
    "nrow(data)\n",
    "ncol(data)"
   ]
  },
  {
   "cell_type": "markdown",
   "metadata": {},
   "source": [
    "### 7/8. Make a plot/ try the easy solution"
   ]
  },
  {
   "cell_type": "code",
   "execution_count": 186,
   "metadata": {},
   "outputs": [
    {
     "data": {
      "image/png": "[encoded data removed]",
      "text/plain": [
       "plot without title"
      ]
     },
     "metadata": {
      "image/png": {
       "height": 420,
       "width": 420
      },
      "text/plain": {
       "height": 420,
       "width": 420
      }
     },
     "output_type": "display_data"
    }
   ],
   "source": [
    "# 7/8 Make a plot/ easy solution\n",
    "\n",
    "strike_scatterplot <- data %>% ggplot(aes(R_avg_SIG_STR_landed, B_avg_SIG_STR_landed, color=Winner)) +\n",
    "    geom_point(alpha=0.6) + \n",
    "    labs(title=\"Strikes Landed by Side\", x = \"Red Strikes Landed\", y = \"Blue Strikes Landed\") +\n",
    "    scale_color_manual(values = c(\"blue\", \"#56ddc5\", \"red\"))\n",
    "\n",
    "strike_scatterplot"
   ]
  },
  {
   "cell_type": "markdown",
   "metadata": {},
   "source": [
    "**Observations**\n",
    "\n",
    "- One of the first thoughts was that strikes would decide the outcome. I plotted the number of strikes landed from Red versus Blue \n",
    "and plotted with the colour of the winner. Surprisingly, there doesn't seem to be a correlation with the number and strikes and \n",
    "winner. This also validates that the spread of values is reasonable for the columns. "
   ]
  },
  {
   "cell_type": "markdown",
   "metadata": {},
   "source": [
    "### 8. Easy Solution/ 7. Make a Plot\n",
    "**The all the stats together at an equal value will predict a winner**"
   ]
  },
  {
   "cell_type": "code",
   "execution_count": 187,
   "metadata": {},
   "outputs": [
    {
     "data": {
      "text/plain": [
       " B_avg_BODY_att    B_avg_BODY_landed B_avg_CLINCH_att  B_avg_CLINCH_landed\n",
       " Min.   :-1.2993   Min.   :-1.2586   Min.   :-1.1769   Min.   :-1.0889    \n",
       " 1st Qu.:-0.7200   1st Qu.:-0.7042   1st Qu.:-0.6636   1st Qu.:-0.6893    \n",
       " Median :-0.2471   Median :-0.2730   Median :-0.2453   Median :-0.2352    \n",
       " Mean   : 0.0000   Mean   : 0.0000   Mean   : 0.0000   Mean   : 0.0000    \n",
       " 3rd Qu.: 0.4763   3rd Qu.: 0.4662   3rd Qu.: 0.4260   3rd Qu.: 0.4232    \n",
       " Max.   : 5.1454   Max.   : 5.9489   Max.   :10.4011   Max.   :11.2627    \n",
       " B_avg_DISTANCE_att B_avg_DISTANCE_landed B_avg_GROUND_att  B_avg_GROUND_landed\n",
       " Min.   :-1.4282    Min.   :-1.3366       Min.   :-1.0868   Min.   :-1.0707    \n",
       " 1st Qu.:-0.7528    1st Qu.:-0.7272       1st Qu.:-0.7237   1st Qu.:-0.7132    \n",
       " Median :-0.2148    Median :-0.2599       Median :-0.2396   Median :-0.2313    \n",
       " Mean   : 0.0000    Mean   : 0.0000       Mean   : 0.0000   Mean   : 0.0000    \n",
       " 3rd Qu.: 0.4993    3rd Qu.: 0.5108       3rd Qu.: 0.4309   3rd Qu.: 0.4039    \n",
       " Max.   : 4.9632    Max.   : 6.5862       Max.   : 6.7196   Max.   : 5.7213    \n",
       " B_avg_HEAD_att    B_avg_HEAD_landed    B_avg_KD       B_avg_LEG_att    \n",
       " Min.   :-1.6672   Min.   :-1.6419   Min.   :-0.7478   Min.   :-1.1268  \n",
       " 1st Qu.:-0.7126   1st Qu.:-0.6686   1st Qu.:-0.7478   1st Qu.:-0.7454  \n",
       " Median :-0.1613   Median :-0.1695   Median :-0.3498   Median :-0.2601  \n",
       " Mean   : 0.0000   Mean   : 0.0000   Mean   : 0.0000   Mean   : 0.0000  \n",
       " 3rd Qu.: 0.4840   3rd Qu.: 0.4694   3rd Qu.: 0.4462   3rd Qu.: 0.4332  \n",
       " Max.   : 5.7814   Max.   : 8.6150   Max.   : 8.8038   Max.   : 5.6332  \n",
       " B_avg_LEG_landed    B_avg_PASS        B_avg_REV       B_avg_SIG_STR_att\n",
       " Min.   :-1.1445   Min.   :-0.9287   Min.   :-0.5571   Min.   :-1.7545  \n",
       " 1st Qu.:-0.7023   1st Qu.:-0.7572   1st Qu.:-0.5571   1st Qu.:-0.7237  \n",
       " Median :-0.2600   Median :-0.2580   Median :-0.5571   Median :-0.1703  \n",
       " Mean   : 0.0000   Mean   : 0.0000   Mean   : 0.0000   Mean   : 0.0000  \n",
       " 3rd Qu.: 0.4034   3rd Qu.: 0.4127   3rd Qu.: 0.2486   3rd Qu.: 0.5485  \n",
       " Max.   : 5.6102   Max.   : 7.7905   Max.   : 7.4995   Max.   : 4.9386  \n",
       " B_avg_SIG_STR_landed B_avg_SIG_STR_pct  B_avg_SUB_ATT      B_avg_TD_att    \n",
       " Min.   :-1.8039      Min.   :-4.04198   Min.   :-0.7777   Min.   :-1.1078  \n",
       " 1st Qu.:-0.7074      1st Qu.:-0.58607   1st Qu.:-0.7777   1st Qu.:-0.7547  \n",
       " Median :-0.1551      Median :-0.01693   Median :-0.2971   Median :-0.2840  \n",
       " Mean   : 0.0000      Mean   : 0.00000   Mean   : 0.0000   Mean   : 0.0000  \n",
       " 3rd Qu.: 0.5462      3rd Qu.: 0.53598   3rd Qu.: 0.4000   3rd Qu.: 0.4809  \n",
       " Max.   : 6.3867      Max.   : 4.93442   Max.   : 7.8738   Max.   : 5.5999  \n",
       " B_avg_TD_landed    B_avg_TD_pct      B_avg_TOTAL_STR_att\n",
       " Min.   :-1.0088   Min.   :-1.34289   Min.   :-2.0421    \n",
       " 1st Qu.:-0.7540   1st Qu.:-0.75329   1st Qu.:-0.6826    \n",
       " Median :-0.2442   Median :-0.02377   Median :-0.1121    \n",
       " Mean   : 0.0000   Mean   : 0.00000   Mean   : 0.0000    \n",
       " 3rd Qu.: 0.5204   3rd Qu.: 0.71653   3rd Qu.: 0.5810    \n",
       " Max.   : 6.6375   Max.   : 2.80559   Max.   : 5.1118    \n",
       " B_avg_TOTAL_STR_landed  B_Height_cms       B_Reach_cms        B_Weight_lbs    \n",
       " Min.   :-1.9439        Min.   :-3.05738   Min.   :-3.03761   Min.   :-1.6093  \n",
       " 1st Qu.:-0.6705        1st Qu.:-0.60862   1st Qu.:-0.44615   1st Qu.:-0.6249  \n",
       " Median :-0.1359        Median : 0.00357   Median : 0.07214   Median :-0.2967  \n",
       " Mean   : 0.0000        Mean   : 0.00000   Mean   : 0.00000   Mean   : 0.0000  \n",
       " 3rd Qu.: 0.5910        3rd Qu.: 0.61576   3rd Qu.: 0.84958   3rd Qu.: 0.6876  \n",
       " Max.   : 6.1047        Max.   : 3.06452   Max.   : 2.66360   Max.   : 3.3127  \n",
       "     B_age        \n",
       " Min.   :-2.5174  \n",
       " 1st Qu.:-0.6608  \n",
       " Median :-0.1303  \n",
       " Mean   : 0.0000  \n",
       " 3rd Qu.: 0.6653  \n",
       " Max.   : 4.3785  "
      ]
     },
     "metadata": {},
     "output_type": "display_data"
    }
   ],
   "source": [
    "# Extract the stats for each match and the winner\n",
    "numer_values <- data.frame(scale(data[4:107]), data[108], data[3])\n",
    "\n",
    "B_value <- numer_values %>%\n",
    "    select(., starts_with(\"B\")) %>%\n",
    "    select(., -contains(\"opp\"))\n",
    "\n",
    "summary(B_value)"
   ]
  },
  {
   "cell_type": "code",
   "execution_count": 188,
   "metadata": {},
   "outputs": [
    {
     "data": {
      "text/html": [
       "<table>\n",
       "<caption>A data.frame: 6 × 108</caption>\n",
       "<thead>\n",
       "\t<tr><th scope=col>B_avg_BODY_att</th><th scope=col>B_avg_BODY_landed</th><th scope=col>B_avg_CLINCH_att</th><th scope=col>B_avg_CLINCH_landed</th><th scope=col>B_avg_DISTANCE_att</th><th scope=col>B_avg_DISTANCE_landed</th><th scope=col>B_avg_GROUND_att</th><th scope=col>B_avg_GROUND_landed</th><th scope=col>B_avg_HEAD_att</th><th scope=col>B_avg_HEAD_landed</th><th scope=col>...</th><th scope=col>R_avg_opp_TOTAL_STR_landed</th><th scope=col>R_Height_cms</th><th scope=col>R_Reach_cms</th><th scope=col>R_Weight_lbs</th><th scope=col>B_age</th><th scope=col>R_age</th><th scope=col>win_by</th><th scope=col>Winner</th><th scope=col>B_avg</th><th scope=col>R_avg</th></tr>\n",
       "\t<tr><th scope=col>&lt;dbl&gt;</th><th scope=col>&lt;dbl&gt;</th><th scope=col>&lt;dbl&gt;</th><th scope=col>&lt;dbl&gt;</th><th scope=col>&lt;dbl&gt;</th><th scope=col>&lt;dbl&gt;</th><th scope=col>&lt;dbl&gt;</th><th scope=col>&lt;dbl&gt;</th><th scope=col>&lt;dbl&gt;</th><th scope=col>&lt;dbl&gt;</th><th scope=col>...</th><th scope=col>&lt;dbl&gt;</th><th scope=col>&lt;dbl&gt;</th><th scope=col>&lt;dbl&gt;</th><th scope=col>&lt;dbl&gt;</th><th scope=col>&lt;dbl&gt;</th><th scope=col>&lt;dbl&gt;</th><th scope=col>&lt;fct&gt;</th><th scope=col>&lt;fct&gt;</th><th scope=col>&lt;dbl&gt;</th><th scope=col>&lt;dbl&gt;</th></tr>\n",
       "</thead>\n",
       "<tbody>\n",
       "\t<tr><td> 0.5858965</td><td> 0.5278471</td><td>-0.6445574</td><td>-0.6045439</td><td> 2.1173273</td><td> 2.2184881</td><td>-0.7236956</td><td>-0.5940598</td><td> 1.9629950</td><td> 1.9767201</td><td>...</td><td>-0.1159232</td><td> 0.6073499</td><td> 0.81714307</td><td>-0.3070173</td><td>-0.6607918</td><td> 1.0151074</td><td>Decision - Majority </td><td>Draw</td><td> 15.221374</td><td>-9.115919</td></tr>\n",
       "\t<tr><td>-1.2006374</td><td>-1.1200415</td><td>-1.1768760</td><td>-1.0889216</td><td>-1.2100311</td><td>-1.1994736</td><td> 1.4245850</td><td> 0.8954174</td><td>-0.9008359</td><td>-0.7434741</td><td>...</td><td> 0.1935613</td><td>-1.1691140</td><td>-0.90474876</td><td>-0.6356815</td><td>-1.4564644</td><td>-1.7352679</td><td>Decision - Unanimous</td><td>Red </td><td> -9.436106</td><td>-4.540784</td></tr>\n",
       "\t<tr><td>-1.1677564</td><td>-1.2586489</td><td>-1.0437963</td><td>-0.9072799</td><td>-0.5791498</td><td>-0.7271550</td><td>-0.9657554</td><td>-1.0706925</td><td>-0.9680620</td><td>-1.2675482</td><td>...</td><td> 0.3173551</td><td>-1.1691140</td><td>-1.39671786</td><td>-0.9643456</td><td> 0.9305533</td><td> 1.5151756</td><td>Decision - Split    </td><td>Blue</td><td>-24.946930</td><td>20.705759</td></tr>\n",
       "\t<tr><td>-0.9047084</td><td>-0.8520671</td><td>-0.3517821</td><td>-0.1807135</td><td>-0.8998969</td><td>-0.9221768</td><td>-0.9173435</td><td>-0.8919552</td><td>-1.0971360</td><td>-1.2076540</td><td>...</td><td>-0.9264777</td><td> 1.1995045</td><td> 0.81714307</td><td> 0.1859789</td><td>-0.6607918</td><td>-1.2351996</td><td>Decision - Unanimous</td><td>Red </td><td>-13.609031</td><td> 3.554606</td></tr>\n",
       "\t<tr><td> 0.7612618</td><td> 0.8974670</td><td>-0.2896783</td><td>-0.1807135</td><td> 0.7258508</td><td> 0.9386570</td><td> 1.6969022</td><td> 1.1933128</td><td> 0.7977430</td><td> 0.6291010</td><td>...</td><td>-0.7348921</td><td>-0.5769594</td><td>-0.16679512</td><td>-0.6356815</td><td>-0.3955676</td><td>-0.4850973</td><td>Decision - Unanimous</td><td>Blue</td><td> 16.874796</td><td>-6.879123</td></tr>\n",
       "\t<tr><td> 3.1396535</td><td> 2.7609672</td><td> 2.1501153</td><td> 1.4540609</td><td> 0.7769502</td><td> 0.6288566</td><td> 1.6061298</td><td> 1.5656821</td><td> 1.0151073</td><td> 0.8848991</td><td>...</td><td>-0.4696197</td><td> 0.9034272</td><td> 0.07918943</td><td> 0.1859789</td><td> 0.4001049</td><td> 1.7652098</td><td>Decision - Unanimous</td><td>Red </td><td> 34.015037</td><td>-1.764400</td></tr>\n",
       "</tbody>\n",
       "</table>\n"
      ],
      "text/latex": [
       "A data.frame: 6 × 108\n",
       "\\begin{tabular}{r|llllllllllllllllllllllllllllllllllllllllllllllllllllllllllllllllllllllllllllllllllllllllllllllllllllllllllll}\n",
       " B\\_avg\\_BODY\\_att & B\\_avg\\_BODY\\_landed & B\\_avg\\_CLINCH\\_att & B\\_avg\\_CLINCH\\_landed & B\\_avg\\_DISTANCE\\_att & B\\_avg\\_DISTANCE\\_landed & B\\_avg\\_GROUND\\_att & B\\_avg\\_GROUND\\_landed & B\\_avg\\_HEAD\\_att & B\\_avg\\_HEAD\\_landed & B\\_avg\\_KD & B\\_avg\\_LEG\\_att & B\\_avg\\_LEG\\_landed & B\\_avg\\_PASS & B\\_avg\\_REV & B\\_avg\\_SIG\\_STR\\_att & B\\_avg\\_SIG\\_STR\\_landed & B\\_avg\\_SIG\\_STR\\_pct & B\\_avg\\_SUB\\_ATT & B\\_avg\\_TD\\_att & B\\_avg\\_TD\\_landed & B\\_avg\\_TD\\_pct & B\\_avg\\_TOTAL\\_STR\\_att & B\\_avg\\_TOTAL\\_STR\\_landed & B\\_avg\\_opp\\_BODY\\_att & B\\_avg\\_opp\\_BODY\\_landed & B\\_avg\\_opp\\_CLINCH\\_att & B\\_avg\\_opp\\_CLINCH\\_landed & B\\_avg\\_opp\\_DISTANCE\\_att & B\\_avg\\_opp\\_DISTANCE\\_landed & B\\_avg\\_opp\\_GROUND\\_att & B\\_avg\\_opp\\_GROUND\\_landed & B\\_avg\\_opp\\_HEAD\\_att & B\\_avg\\_opp\\_HEAD\\_landed & B\\_avg\\_opp\\_KD & B\\_avg\\_opp\\_LEG\\_att & B\\_avg\\_opp\\_LEG\\_landed & B\\_avg\\_opp\\_PASS & B\\_avg\\_opp\\_REV & B\\_avg\\_opp\\_SIG\\_STR\\_att & B\\_avg\\_opp\\_SIG\\_STR\\_landed & B\\_avg\\_opp\\_SIG\\_STR\\_pct & B\\_avg\\_opp\\_SUB\\_ATT & B\\_avg\\_opp\\_TD\\_att & B\\_avg\\_opp\\_TD\\_landed & B\\_avg\\_opp\\_TD\\_pct & B\\_avg\\_opp\\_TOTAL\\_STR\\_att & B\\_avg\\_opp\\_TOTAL\\_STR\\_landed & B\\_Height\\_cms & B\\_Reach\\_cms & B\\_Weight\\_lbs & R\\_avg\\_BODY\\_att & R\\_avg\\_BODY\\_landed & R\\_avg\\_CLINCH\\_att & R\\_avg\\_CLINCH\\_landed & R\\_avg\\_DISTANCE\\_att & R\\_avg\\_DISTANCE\\_landed & R\\_avg\\_GROUND\\_att & R\\_avg\\_GROUND\\_landed & R\\_avg\\_HEAD\\_att & R\\_avg\\_HEAD\\_landed & R\\_avg\\_KD & R\\_avg\\_LEG\\_att & R\\_avg\\_LEG\\_landed & R\\_avg\\_PASS & R\\_avg\\_REV & R\\_avg\\_SIG\\_STR\\_att & R\\_avg\\_SIG\\_STR\\_landed & R\\_avg\\_SIG\\_STR\\_pct & R\\_avg\\_SUB\\_ATT & R\\_avg\\_TD\\_att & R\\_avg\\_TD\\_landed & R\\_avg\\_TD\\_pct & R\\_avg\\_TOTAL\\_STR\\_att & R\\_avg\\_TOTAL\\_STR\\_landed & R\\_avg\\_opp\\_BODY\\_att & R\\_avg\\_opp\\_BODY\\_landed & R\\_avg\\_opp\\_CLINCH\\_att & R\\_avg\\_opp\\_CLINCH\\_landed & R\\_avg\\_opp\\_DISTANCE\\_att & R\\_avg\\_opp\\_DISTANCE\\_landed & R\\_avg\\_opp\\_GROUND\\_att & R\\_avg\\_opp\\_GROUND\\_landed & R\\_avg\\_opp\\_HEAD\\_att & R\\_avg\\_opp\\_HEAD\\_landed & R\\_avg\\_opp\\_KD & R\\_avg\\_opp\\_LEG\\_att & R\\_avg\\_opp\\_LEG\\_landed & R\\_avg\\_opp\\_PASS & R\\_avg\\_opp\\_REV & R\\_avg\\_opp\\_SIG\\_STR\\_att & R\\_avg\\_opp\\_SIG\\_STR\\_landed & R\\_avg\\_opp\\_SIG\\_STR\\_pct & R\\_avg\\_opp\\_SUB\\_ATT & R\\_avg\\_opp\\_TD\\_att & R\\_avg\\_opp\\_TD\\_landed & R\\_avg\\_opp\\_TD\\_pct & R\\_avg\\_opp\\_TOTAL\\_STR\\_att & R\\_avg\\_opp\\_TOTAL\\_STR\\_landed & R\\_Height\\_cms & R\\_Reach\\_cms & R\\_Weight\\_lbs & B\\_age & R\\_age & win\\_by & Winner & B\\_avg & R\\_avg\\\\\n",
       " <dbl> & <dbl> & <dbl> & <dbl> & <dbl> & <dbl> & <dbl> & <dbl> & <dbl> & <dbl> & <dbl> & <dbl> & <dbl> & <dbl> & <dbl> & <dbl> & <dbl> & <dbl> & <dbl> & <dbl> & <dbl> & <dbl> & <dbl> & <dbl> & <dbl> & <dbl> & <dbl> & <dbl> & <dbl> & <dbl> & <dbl> & <dbl> & <dbl> & <dbl> & <dbl> & <dbl> & <dbl> & <dbl> & <dbl> & <dbl> & <dbl> & <dbl> & <dbl> & <dbl> & <dbl> & <dbl> & <dbl> & <dbl> & <dbl> & <dbl> & <dbl> & <dbl> & <dbl> & <dbl> & <dbl> & <dbl> & <dbl> & <dbl> & <dbl> & <dbl> & <dbl> & <dbl> & <dbl> & <dbl> & <dbl> & <dbl> & <dbl> & <dbl> & <dbl> & <dbl> & <dbl> & <dbl> & <dbl> & <dbl> & <dbl> & <dbl> & <dbl> & <dbl> & <dbl> & <dbl> & <dbl> & <dbl> & <dbl> & <dbl> & <dbl> & <dbl> & <dbl> & <dbl> & <dbl> & <dbl> & <dbl> & <dbl> & <dbl> & <dbl> & <dbl> & <dbl> & <dbl> & <dbl> & <dbl> & <dbl> & <dbl> & <dbl> & <dbl> & <dbl> & <fct> & <fct> & <dbl> & <dbl>\\\\\n",
       "\\hline\n",
       "\t  0.5858965 &  0.5278471 & -0.6445574 & -0.6045439 &  2.1173273 &  2.2184881 & -0.7236956 & -0.5940598 &  1.9629950 &  1.9767201 & -0.74779858 &  0.2599115 &  0.10858003 &  1.3069618 &  0.5171264 &  1.7673864 &  1.582276 & -0.2419736 & -0.77772768 &  1.5988338 &  1.2850556 &  1.1600261 &  1.2036612 &  0.47066093 &  0.9611268 &  0.6080832 & -0.34487447 & -0.54711627 &  1.9866384 &  2.0203096 & -0.7980617 & -0.7431382 &  1.4271182 &  0.6233052 & -0.5955137 &  2.7436625 &  2.9961031 & -0.55914139 & -0.5086415 &  1.6800887 &  1.333504500 & -0.5413011 & -0.7055464 & -0.4381634 & -0.7406912 & -0.8734217 &  1.3431346 &  0.58269736 &  0.309665452 & -0.4461506 & -0.2967463 & -0.6897723 & -0.5659174 & -0.95921642 & -0.76079086 & -0.5707447 & -0.3436699 & -0.55696534 & -0.60158649 & -0.72802198 & -0.5362800 & -0.8123769838 & -0.8547579 & -0.7662378 &  0.3550675 & -0.589764927 & -0.8302965 & -0.73091653 &  0.173051530 &  0.7390936 &  1.3144579 & -0.3318964 & -0.88287065 & -0.88493990 & -0.83314974 & -0.3670963 &  0.1939122 &  0.5675681 &  1.1794574 & -0.8225467 & -0.4554049 &  1.63084082 &  1.4688459 & -0.4279575 &  0.2992669 & -0.6481604 & -0.13776156 &  0.1842622276 & -0.86034197 & -0.5938235 & -0.42791151 &  0.3082854 &  1.9494719 & -0.8116785 &  0.4458996 &  0.9762714 &  1.2357562 & -0.6202809 & -0.1159232 &  0.6073499 &  0.81714307 & -0.3070173 & -0.6607918 &  1.0151074 & Decision - Majority  & Draw &  15.221374 & -9.115919\\\\\n",
       "\t -1.2006374 & -1.1200415 & -1.1768760 & -1.0889216 & -1.2100311 & -1.1994736 &  1.4245850 &  0.8954174 & -0.9008359 & -0.7434741 & -0.74779858 & -0.9967527 & -1.03396416 &  1.9217773 &  0.2485740 & -1.0829747 & -1.099172 & -0.3841000 &  0.30371663 &  0.5691435 &  1.2850556 &  0.2439039 & -0.4573158 &  0.05073488 & -0.9062492 & -0.9587960 & -1.15877874 & -1.07061997 & -0.9300633 & -0.8527827 &  0.5907985 &  0.2040241 & -0.8667573 & -0.7617458 & -0.5955137 & -0.6081497 & -0.5735780 & -0.62132129 &  0.2838181 & -0.9308816 & -0.924721614 & -0.9457239 & -0.3003074 & -0.9311034 & -0.8160203 & -0.1107181 & -0.1523895 &  0.53855012 &  0.003570317 & -0.1870044 & -0.2967463 & -0.1971865 &  0.1080030 & -0.06755347 &  0.11603418 & -0.3175840 & -0.3922516 &  0.01356508 &  0.03695928 & -0.32818444 & -0.5362800 & -0.8123769838 & -0.1226879 &  0.1111351 & -0.8323500 &  0.351183344 & -0.3180515 & -0.30786743 & -1.130009442 &  2.3466783 &  0.1430841 &  0.4448863 &  1.68341299 & -0.13669738 &  0.04816681 & -0.2447607 &  0.1939122 &  0.5250520 &  0.7635143 & -0.9434757 & -0.9588366 &  0.91539651 &  1.1398537 & -0.5966507 & -0.1445504 & -0.6481604 & -1.07296811 & -1.1007772943 &  2.46008052 &  2.2057915 & -0.67139928 & -0.3262948 &  0.5970500 &  1.9342887 &  2.9189735 &  3.0571717 &  0.2946608 & -0.3997733 &  0.1935613 & -1.1691140 & -0.90474876 & -0.6356815 & -1.4564644 & -1.7352679 & Decision - Unanimous & Red  &  -9.436106 & -4.540784\\\\\n",
       "\t -1.1677564 & -1.2586489 & -1.0437963 & -0.9072799 & -0.5791498 & -0.7271550 & -0.9657554 & -1.0706925 & -0.9680620 & -1.2675482 & -0.74779858 &  0.7799105 &  0.18229256 & -0.9287310 & -0.5570833 & -0.9038944 & -1.218840 & -1.5285914 & -0.77772768 & -1.1077807 & -1.0088493 & -1.3428890 & -1.2869763 & -1.55898165 & -1.0942401 & -1.1208869 & -1.23754367 & -1.12477553 & -0.4757422 & -0.6788157 & -0.5758441 & -0.5852778 & -0.5746448 & -0.8372940 &  3.3877098 & -0.8239316 & -0.7383325 & -0.80786099 & -0.5086415 & -0.7455869 & -1.059675366 & -1.4530908 & -0.7055464 & -1.2268674 & -1.0420074 & -1.1507684 & -1.1068707 & -1.44807580 & -1.220810226 & -1.7418816 & -0.9530074 &  1.5620488 &  1.0514914 &  3.11271103 &  3.03534577 &  0.6888840 &  0.6927392 &  0.28741968 &  0.07952900 &  0.76470484 &  0.6717889 & -0.8123769838 &  2.4869264 &  2.8309909 & -0.4591617 &  0.915752307 &  1.2379680 &  1.50978492 &  0.002469002 & -0.5469741 &  0.6656970 &  0.4448863 &  0.03059066 &  1.26475539 &  1.20279052 &  0.8399483 &  1.3936857 &  1.1117748 &  1.4171392 &  0.4096560 &  0.8500457 & -0.60134542 & -0.5489728 &  0.4580481 &  0.9417452 &  0.2091953 & -0.43702766 & -0.3052766379 & -0.19625748 & -0.5938235 &  0.44864444 &  0.9489092 &  0.8095734 & -0.8116785 &  1.0754093 &  0.3520013 & -0.2900732 &  0.1803313 &  0.3173551 & -1.1691140 & -1.39671786 & -0.9643456 &  0.9305533 &  1.5151756 & Decision - Split     & Blue & -24.946930 & 20.705759\\\\\n",
       "\t -0.9047084 & -0.8520671 & -0.3517821 & -0.1807135 & -0.8998969 & -0.9221768 & -0.9173435 & -0.8919552 & -1.0971360 & -1.2076540 &  0.52575287 & -0.1214210 & -0.08307254 & -0.3921647 & -0.5570833 & -1.0829747 & -1.123106 &  0.5718870 & -0.20095738 & -0.6135293 & -0.5500683 & -0.9944168 & -1.3147972 & -1.27203218 & -1.0641615 & -1.1208869 & -0.32387049 & -0.04166442 & -1.1271324 & -1.1216409 & -0.6647311 & -0.5852778 & -1.2485415 & -1.1092677 & -0.5955137 & -0.4786806 & -0.3868562 & -0.65862923 & -0.5086415 & -1.2531820 & -1.167638368 & -0.5530661 & -0.7055464 & -0.9113858 & -0.8612177 & -0.3187281 & -1.5233716 & -1.44050771 &  0.921855723 &  1.3678727 &  0.1954494 & -0.8305112 & -0.5659174 & -0.41431129 & -0.07308495 & -0.4143202 & -0.7107314 &  0.88837838 &  0.93092336 & -0.09617994 & -0.1109037 & -0.8123769838 & -0.4528371 & -0.4006658 &  3.2953392 & -0.589764927 & -0.2839018 & -0.34190586 & -0.553503679 & -0.3326295 &  0.8338943 &  1.7395241 &  1.57412926 &  0.03261297 &  0.27592277 & -0.9651814 & -1.0058613 &  0.5675681 &  1.1794574 & -0.2539683 & -0.8488918 & -0.94475868 & -0.9437635 & -0.4181782 & -1.1660345 & -0.6481604 &  1.29622182 &  1.5712890131 & -0.86034197 &  0.6504498 & -0.32240015 & -0.6989847 & -0.8519736 & -0.2014636 & -0.4534001 & -1.1046290 & -1.2738315 & -0.5448937 & -0.9264777 &  1.1995045 &  0.81714307 &  0.1859789 & -0.6607918 & -1.2351996 & Decision - Unanimous & Red  & -13.609031 &  3.554606\\\\\n",
       "\t  0.7612618 &  0.8974670 & -0.2896783 & -0.1807135 &  0.7258508 &  0.9386570 &  1.6969022 &  1.1933128 &  0.7977430 &  0.6291010 & -0.74779858 &  1.2421319 &  1.73025566 & -0.4815924 & -0.5570833 &  0.9540635 &  1.121333 &  0.2068466 & -0.77772768 &  2.4225860 &  2.3045689 &  0.3718153 &  2.0647858 &  2.23201741 & -0.5929311 & -0.6166040 & -0.34487447 & -0.33049405 &  0.6964454 &  0.1224872 & -0.7610254 & -0.6905181 &  0.5575741 & -0.3084563 & -0.5955137 &  0.6721562 &  0.6529278 & -0.55914139 & -0.5086415 &  0.4597643 & -0.213965188 & -1.3354405 & -0.7055464 & -0.8325154 & -0.7406912 & -0.6931463 &  0.1521598 & -0.62819844 & -0.914715090 & -0.4461506 & -0.6248768 &  0.6472464 &  0.7300833 & -0.73630068 & -0.81236880 &  0.1208162 &  0.4336369 & -0.78517750 & -0.68672592 & -0.49848562 & -0.7915059 &  0.0002561964 &  0.9108227 &  0.9885079 & -0.8323500 & -0.589764927 & -0.1673912 & -0.07446103 & -0.182328735 &  1.9447821 & -1.2085011 & -1.1086790 & -1.51596266 & -0.39339372 & -0.40734511 & -0.6117675 & -0.6459292 & -0.6654001 & -0.7219969 &  0.2276261 & -0.1950092 & -0.44394767 & -0.5051072 &  0.1808046 & -0.4615627 &  0.4235342 & -0.09100123 &  0.0006851531 & -0.03023635 & -0.5938235 &  0.04688963 & -0.4924943 & -0.6587704 & -0.8116785 &  0.5583120 &  0.9762714 &  0.9722495 & -0.1509955 & -0.7348921 & -0.5769594 & -0.16679512 & -0.6356815 & -0.3955676 & -0.4850973 & Decision - Unanimous & Blue &  16.874796 & -6.879123\\\\\n",
       "\t  3.1396535 &  2.7609672 &  2.1501153 &  1.4540609 &  0.7769502 &  0.6288566 &  1.6061298 &  1.5656821 &  1.0151073 &  0.8848991 &  0.04817107 &  0.1299118 &  0.07172377 &  2.4248082 &  2.6655460 &  1.3961679 &  1.440447 &  0.0647202 & -0.05676481 &  1.7165127 &  2.6231668 &  1.1358267 &  1.2864616 &  0.97807157 &  0.6728741 &  0.2298710 & -0.05606973 & -0.25828664 &  0.4210993 &  0.2859108 & -0.4925125 & -0.5063476 &  0.1862063 & -0.1195858 &  1.3960980 &  0.2981343 &  0.1403582 & -0.06170219 & -0.5086415 &  0.2931862 &  0.006459273 & -0.3060005 &  0.1049315 & -0.2409875 &  0.3139154 &  0.5757152 &  0.2508406 & -0.04797754 &  0.921855723 &  0.5904342 &  0.1954494 & -0.5934774 & -0.5768311 & -0.50556334 & -0.56533760 & -0.7007373 & -0.8482374 &  0.27781074 &  0.37527651 & -0.60643396 & -0.6079224 & -0.6412963143 & -0.8003626 & -0.8124153 &  0.7836091 &  0.004518192 & -0.7072308 & -0.79541040 &  0.347624291 &  0.5698742 &  1.4851844 &  0.6493028 &  0.12626848 & -0.37787121 & -0.17854679 & -0.6332298 & -0.7153898 & -0.8018994 & -0.7970543 & -0.3066724 & -0.2945991 & -0.06363254 & -0.1010817 & -0.4001637 & -0.4437655 & -0.1969206 &  0.05912403 &  0.0425536087 & -0.37975451 &  0.5849618 & -0.41894091 & -0.4869278 &  0.4292683 & -0.2335801 & -0.6190605 & -0.5570236 & -0.5711470 & -0.4441129 & -0.4696197 &  0.9034272 &  0.07918943 &  0.1859789 &  0.4001049 &  1.7652098 & Decision - Unanimous & Red  &  34.015037 & -1.764400\\\\\n",
       "\\end{tabular}\n"
      ],
      "text/markdown": [
       "\n",
       "A data.frame: 6 × 108\n",
       "\n",
       "| B_avg_BODY_att &lt;dbl&gt; | B_avg_BODY_landed &lt;dbl&gt; | B_avg_CLINCH_att &lt;dbl&gt; | B_avg_CLINCH_landed &lt;dbl&gt; | B_avg_DISTANCE_att &lt;dbl&gt; | B_avg_DISTANCE_landed &lt;dbl&gt; | B_avg_GROUND_att &lt;dbl&gt; | B_avg_GROUND_landed &lt;dbl&gt; | B_avg_HEAD_att &lt;dbl&gt; | B_avg_HEAD_landed &lt;dbl&gt; | ... ... | R_avg_opp_TOTAL_STR_landed &lt;dbl&gt; | R_Height_cms &lt;dbl&gt; | R_Reach_cms &lt;dbl&gt; | R_Weight_lbs &lt;dbl&gt; | B_age &lt;dbl&gt; | R_age &lt;dbl&gt; | win_by &lt;fct&gt; | Winner &lt;fct&gt; | B_avg &lt;dbl&gt; | R_avg &lt;dbl&gt; |\n",
       "|---|---|---|---|---|---|---|---|---|---|---|---|---|---|---|---|---|---|---|---|---|\n",
       "|  0.5858965 |  0.5278471 | -0.6445574 | -0.6045439 |  2.1173273 |  2.2184881 | -0.7236956 | -0.5940598 |  1.9629950 |  1.9767201 | ... | -0.1159232 |  0.6073499 |  0.81714307 | -0.3070173 | -0.6607918 |  1.0151074 | Decision - Majority  | Draw |  15.221374 | -9.115919 |\n",
       "| -1.2006374 | -1.1200415 | -1.1768760 | -1.0889216 | -1.2100311 | -1.1994736 |  1.4245850 |  0.8954174 | -0.9008359 | -0.7434741 | ... |  0.1935613 | -1.1691140 | -0.90474876 | -0.6356815 | -1.4564644 | -1.7352679 | Decision - Unanimous | Red  |  -9.436106 | -4.540784 |\n",
       "| -1.1677564 | -1.2586489 | -1.0437963 | -0.9072799 | -0.5791498 | -0.7271550 | -0.9657554 | -1.0706925 | -0.9680620 | -1.2675482 | ... |  0.3173551 | -1.1691140 | -1.39671786 | -0.9643456 |  0.9305533 |  1.5151756 | Decision - Split     | Blue | -24.946930 | 20.705759 |\n",
       "| -0.9047084 | -0.8520671 | -0.3517821 | -0.1807135 | -0.8998969 | -0.9221768 | -0.9173435 | -0.8919552 | -1.0971360 | -1.2076540 | ... | -0.9264777 |  1.1995045 |  0.81714307 |  0.1859789 | -0.6607918 | -1.2351996 | Decision - Unanimous | Red  | -13.609031 |  3.554606 |\n",
       "|  0.7612618 |  0.8974670 | -0.2896783 | -0.1807135 |  0.7258508 |  0.9386570 |  1.6969022 |  1.1933128 |  0.7977430 |  0.6291010 | ... | -0.7348921 | -0.5769594 | -0.16679512 | -0.6356815 | -0.3955676 | -0.4850973 | Decision - Unanimous | Blue |  16.874796 | -6.879123 |\n",
       "|  3.1396535 |  2.7609672 |  2.1501153 |  1.4540609 |  0.7769502 |  0.6288566 |  1.6061298 |  1.5656821 |  1.0151073 |  0.8848991 | ... | -0.4696197 |  0.9034272 |  0.07918943 |  0.1859789 |  0.4001049 |  1.7652098 | Decision - Unanimous | Red  |  34.015037 | -1.764400 |\n",
       "\n"
      ],
      "text/plain": [
       "  B_avg_BODY_att B_avg_BODY_landed B_avg_CLINCH_att B_avg_CLINCH_landed\n",
       "1  0.5858965      0.5278471        -0.6445574       -0.6045439         \n",
       "2 -1.2006374     -1.1200415        -1.1768760       -1.0889216         \n",
       "3 -1.1677564     -1.2586489        -1.0437963       -0.9072799         \n",
       "4 -0.9047084     -0.8520671        -0.3517821       -0.1807135         \n",
       "5  0.7612618      0.8974670        -0.2896783       -0.1807135         \n",
       "6  3.1396535      2.7609672         2.1501153        1.4540609         \n",
       "  B_avg_DISTANCE_att B_avg_DISTANCE_landed B_avg_GROUND_att B_avg_GROUND_landed\n",
       "1  2.1173273          2.2184881            -0.7236956       -0.5940598         \n",
       "2 -1.2100311         -1.1994736             1.4245850        0.8954174         \n",
       "3 -0.5791498         -0.7271550            -0.9657554       -1.0706925         \n",
       "4 -0.8998969         -0.9221768            -0.9173435       -0.8919552         \n",
       "5  0.7258508          0.9386570             1.6969022        1.1933128         \n",
       "6  0.7769502          0.6288566             1.6061298        1.5656821         \n",
       "  B_avg_HEAD_att B_avg_HEAD_landed ... R_avg_opp_TOTAL_STR_landed R_Height_cms\n",
       "1  1.9629950      1.9767201        ... -0.1159232                  0.6073499  \n",
       "2 -0.9008359     -0.7434741        ...  0.1935613                 -1.1691140  \n",
       "3 -0.9680620     -1.2675482        ...  0.3173551                 -1.1691140  \n",
       "4 -1.0971360     -1.2076540        ... -0.9264777                  1.1995045  \n",
       "5  0.7977430      0.6291010        ... -0.7348921                 -0.5769594  \n",
       "6  1.0151073      0.8848991        ... -0.4696197                  0.9034272  \n",
       "  R_Reach_cms R_Weight_lbs B_age      R_age      win_by               Winner\n",
       "1  0.81714307 -0.3070173   -0.6607918  1.0151074 Decision - Majority  Draw  \n",
       "2 -0.90474876 -0.6356815   -1.4564644 -1.7352679 Decision - Unanimous Red   \n",
       "3 -1.39671786 -0.9643456    0.9305533  1.5151756 Decision - Split     Blue  \n",
       "4  0.81714307  0.1859789   -0.6607918 -1.2351996 Decision - Unanimous Red   \n",
       "5 -0.16679512 -0.6356815   -0.3955676 -0.4850973 Decision - Unanimous Blue  \n",
       "6  0.07918943  0.1859789    0.4001049  1.7652098 Decision - Unanimous Red   \n",
       "  B_avg      R_avg    \n",
       "1  15.221374 -9.115919\n",
       "2  -9.436106 -4.540784\n",
       "3 -24.946930 20.705759\n",
       "4 -13.609031  3.554606\n",
       "5  16.874796 -6.879123\n",
       "6  34.015037 -1.764400"
      ]
     },
     "metadata": {},
     "output_type": "display_data"
    }
   ],
   "source": [
    "# Calculate a total score for the B fighter and R fighter\n",
    "\n",
    "B_data <- numer_values %>%\n",
    "    mutate(B_avg = select(., c(starts_with(\"B\"))) %>%\n",
    "                    select(., -contains(\"opp\")) %>%\n",
    "                    rowSums) %>%\n",
    "    mutate(R_avg = select(., c(starts_with(\"R\"))) %>%\n",
    "                    select(., -contains(\"opp\")) %>%\n",
    "                    rowSums)\n",
    "head(B_data)"
   ]
  },
  {
   "cell_type": "code",
   "execution_count": 189,
   "metadata": {},
   "outputs": [
    {
     "data": {
      "image/png": "[encoded data removed]",
      "text/plain": [
       "plot without title"
      ]
     },
     "metadata": {
      "image/png": {
       "height": 420,
       "width": 420
      },
      "text/plain": {
       "height": 420,
       "width": 420
      }
     },
     "output_type": "display_data"
    }
   ],
   "source": [
    "# plot the data for the total score of the blue and red fighter when they landed a punch\n",
    "B_data %>%\n",
    " ggplot(aes(x=R_avg, y=B_avg, color=Winner)) +\n",
    "   geom_point(alpha=0.6)+\n",
    "    labs(title=\"Scaled Total Score by Fighter\", x = \"Red Total Score\", y = \"Blue Total Score\") +\n",
    "     scale_color_manual(values = c(\"blue\", \"green\", \"red\"))"
   ]
  },
  {
   "cell_type": "markdown",
   "metadata": {},
   "source": [
    "**Observations**\n",
    "\n",
    "- I find this chart very interesting as the total score (not including damage (ex. any column with opp) meaning having a higher overall stat did not predict the winner. The score was calculated using a scale to adjust all values in a column to the mean. We can try other measures, but this was meant to be the \"easy solution\". \n",
    "- There seems to be no relationship between the total score and the winner. For example, the red dot at (0, 50) is predicting the red person to win although they are behind by 50 points.  \n",
    "- I think that this does end up weighting certain attributes in a match to getting a higher score. This also makes me excited for the project!"
   ]
  },
  {
   "cell_type": "code",
   "execution_count": null,
   "metadata": {},
   "outputs": [],
   "source": []
  }
 ],
 "metadata": {
  "kernelspec": {
   "display_name": "R",
   "language": "R",
   "name": "ir"
  },
  "language_info": {
   "codemirror_mode": "r",
   "file_extension": ".r",
   "mimetype": "text/x-r-source",
   "name": "R",
   "pygments_lexer": "r",
   "version": "3.6.1"
  }
 },
 "nbformat": 4,
 "nbformat_minor": 4
}
